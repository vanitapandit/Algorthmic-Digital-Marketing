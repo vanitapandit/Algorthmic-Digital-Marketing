{
 "cells": [
  {
   "cell_type": "markdown",
   "metadata": {},
   "source": [
    "### Get Data"
   ]
  },
  {
   "cell_type": "code",
   "execution_count": 9,
   "metadata": {},
   "outputs": [
    {
     "name": "stderr",
     "output_type": "stream",
     "text": [
      "<ipython-input-9-fa1325bdb216>:8: FutureWarning: The pandas.datetime class is deprecated and will be removed from pandas in a future version. Import from datetime module instead.\n",
      "  parse_date = lambda val : pd.datetime.strptime(val, '%y%m%d%H')\n"
     ]
    }
   ],
   "source": [
    "import numpy as n\n",
    "import random\n",
    "import pandas as pd\n",
    "import gzip\n",
    "n = 40428967  #total number of records in the clickstream data \n",
    "sample_size = 100000\n",
    "skip_values = sorted(random.sample(range(1,n), n-sample_size))\n",
    "parse_date = lambda val : pd.datetime.strptime(val, '%y%m%d%H')\n",
    "with gzip.open('train.gz') as f:\n",
    "    all_data = pd.read_csv(f, parse_dates = ['hour'], date_parser = parse_date, skiprows = skip_values)"
   ]
  },
  {
   "cell_type": "code",
   "execution_count": 10,
   "metadata": {},
   "outputs": [
    {
     "data": {
      "text/html": [
       "<div>\n",
       "<style scoped>\n",
       "    .dataframe tbody tr th:only-of-type {\n",
       "        vertical-align: middle;\n",
       "    }\n",
       "\n",
       "    .dataframe tbody tr th {\n",
       "        vertical-align: top;\n",
       "    }\n",
       "\n",
       "    .dataframe thead th {\n",
       "        text-align: right;\n",
       "    }\n",
       "</style>\n",
       "<table border=\"1\" class=\"dataframe\">\n",
       "  <thead>\n",
       "    <tr style=\"text-align: right;\">\n",
       "      <th></th>\n",
       "      <th>id</th>\n",
       "      <th>click</th>\n",
       "      <th>hour</th>\n",
       "      <th>C1</th>\n",
       "      <th>banner_pos</th>\n",
       "      <th>site_id</th>\n",
       "      <th>site_domain</th>\n",
       "      <th>site_category</th>\n",
       "      <th>app_id</th>\n",
       "      <th>app_domain</th>\n",
       "      <th>...</th>\n",
       "      <th>device_type</th>\n",
       "      <th>device_conn_type</th>\n",
       "      <th>C14</th>\n",
       "      <th>C15</th>\n",
       "      <th>C16</th>\n",
       "      <th>C17</th>\n",
       "      <th>C18</th>\n",
       "      <th>C19</th>\n",
       "      <th>C20</th>\n",
       "      <th>C21</th>\n",
       "    </tr>\n",
       "  </thead>\n",
       "  <tbody>\n",
       "    <tr>\n",
       "      <th>0</th>\n",
       "      <td>10018930650935227325</td>\n",
       "      <td>0</td>\n",
       "      <td>2014-10-21</td>\n",
       "      <td>1005</td>\n",
       "      <td>1</td>\n",
       "      <td>5ee41ff2</td>\n",
       "      <td>17d996e6</td>\n",
       "      <td>f028772b</td>\n",
       "      <td>ecad2386</td>\n",
       "      <td>7801e8d9</td>\n",
       "      <td>...</td>\n",
       "      <td>1</td>\n",
       "      <td>0</td>\n",
       "      <td>20596</td>\n",
       "      <td>320</td>\n",
       "      <td>50</td>\n",
       "      <td>2161</td>\n",
       "      <td>0</td>\n",
       "      <td>35</td>\n",
       "      <td>-1</td>\n",
       "      <td>157</td>\n",
       "    </tr>\n",
       "    <tr>\n",
       "      <th>1</th>\n",
       "      <td>10053027485503883989</td>\n",
       "      <td>0</td>\n",
       "      <td>2014-10-21</td>\n",
       "      <td>1005</td>\n",
       "      <td>0</td>\n",
       "      <td>1fbe01fe</td>\n",
       "      <td>f3845767</td>\n",
       "      <td>28905ebd</td>\n",
       "      <td>ecad2386</td>\n",
       "      <td>7801e8d9</td>\n",
       "      <td>...</td>\n",
       "      <td>1</td>\n",
       "      <td>0</td>\n",
       "      <td>15705</td>\n",
       "      <td>320</td>\n",
       "      <td>50</td>\n",
       "      <td>1722</td>\n",
       "      <td>0</td>\n",
       "      <td>35</td>\n",
       "      <td>100084</td>\n",
       "      <td>79</td>\n",
       "    </tr>\n",
       "    <tr>\n",
       "      <th>2</th>\n",
       "      <td>10148883107770136853</td>\n",
       "      <td>0</td>\n",
       "      <td>2014-10-21</td>\n",
       "      <td>1005</td>\n",
       "      <td>0</td>\n",
       "      <td>543a539e</td>\n",
       "      <td>c7ca3108</td>\n",
       "      <td>3e814130</td>\n",
       "      <td>ecad2386</td>\n",
       "      <td>7801e8d9</td>\n",
       "      <td>...</td>\n",
       "      <td>1</td>\n",
       "      <td>0</td>\n",
       "      <td>20366</td>\n",
       "      <td>320</td>\n",
       "      <td>50</td>\n",
       "      <td>2333</td>\n",
       "      <td>0</td>\n",
       "      <td>39</td>\n",
       "      <td>-1</td>\n",
       "      <td>157</td>\n",
       "    </tr>\n",
       "    <tr>\n",
       "      <th>3</th>\n",
       "      <td>1018689453842445174</td>\n",
       "      <td>0</td>\n",
       "      <td>2014-10-21</td>\n",
       "      <td>1002</td>\n",
       "      <td>0</td>\n",
       "      <td>f528e1e7</td>\n",
       "      <td>0f095819</td>\n",
       "      <td>50e219e0</td>\n",
       "      <td>ecad2386</td>\n",
       "      <td>7801e8d9</td>\n",
       "      <td>...</td>\n",
       "      <td>0</td>\n",
       "      <td>0</td>\n",
       "      <td>20077</td>\n",
       "      <td>300</td>\n",
       "      <td>50</td>\n",
       "      <td>2292</td>\n",
       "      <td>0</td>\n",
       "      <td>559</td>\n",
       "      <td>100105</td>\n",
       "      <td>70</td>\n",
       "    </tr>\n",
       "    <tr>\n",
       "      <th>4</th>\n",
       "      <td>10209096537168357791</td>\n",
       "      <td>0</td>\n",
       "      <td>2014-10-21</td>\n",
       "      <td>1005</td>\n",
       "      <td>0</td>\n",
       "      <td>1fbe01fe</td>\n",
       "      <td>f3845767</td>\n",
       "      <td>28905ebd</td>\n",
       "      <td>ecad2386</td>\n",
       "      <td>7801e8d9</td>\n",
       "      <td>...</td>\n",
       "      <td>1</td>\n",
       "      <td>0</td>\n",
       "      <td>15703</td>\n",
       "      <td>320</td>\n",
       "      <td>50</td>\n",
       "      <td>1722</td>\n",
       "      <td>0</td>\n",
       "      <td>35</td>\n",
       "      <td>-1</td>\n",
       "      <td>79</td>\n",
       "    </tr>\n",
       "  </tbody>\n",
       "</table>\n",
       "<p>5 rows × 24 columns</p>\n",
       "</div>"
      ],
      "text/plain": [
       "                     id  click       hour    C1  banner_pos   site_id  \\\n",
       "0  10018930650935227325      0 2014-10-21  1005           1  5ee41ff2   \n",
       "1  10053027485503883989      0 2014-10-21  1005           0  1fbe01fe   \n",
       "2  10148883107770136853      0 2014-10-21  1005           0  543a539e   \n",
       "3   1018689453842445174      0 2014-10-21  1002           0  f528e1e7   \n",
       "4  10209096537168357791      0 2014-10-21  1005           0  1fbe01fe   \n",
       "\n",
       "  site_domain site_category    app_id app_domain  ... device_type  \\\n",
       "0    17d996e6      f028772b  ecad2386   7801e8d9  ...           1   \n",
       "1    f3845767      28905ebd  ecad2386   7801e8d9  ...           1   \n",
       "2    c7ca3108      3e814130  ecad2386   7801e8d9  ...           1   \n",
       "3    0f095819      50e219e0  ecad2386   7801e8d9  ...           0   \n",
       "4    f3845767      28905ebd  ecad2386   7801e8d9  ...           1   \n",
       "\n",
       "  device_conn_type    C14  C15  C16   C17  C18  C19     C20  C21  \n",
       "0                0  20596  320   50  2161    0   35      -1  157  \n",
       "1                0  15705  320   50  1722    0   35  100084   79  \n",
       "2                0  20366  320   50  2333    0   39      -1  157  \n",
       "3                0  20077  300   50  2292    0  559  100105   70  \n",
       "4                0  15703  320   50  1722    0   35      -1   79  \n",
       "\n",
       "[5 rows x 24 columns]"
      ]
     },
     "execution_count": 10,
     "metadata": {},
     "output_type": "execute_result"
    }
   ],
   "source": [
    "all_data.head()"
   ]
  },
  {
   "cell_type": "code",
   "execution_count": 21,
   "metadata": {},
   "outputs": [],
   "source": [
    "# saving to csv file\n",
    "all_data.to_csv (r'C:\\Users\\kaviy\\Desktop\\Assignment4\\Part2\\final_snack_data.csv', index = False, header=True)"
   ]
  },
  {
   "cell_type": "code",
   "execution_count": 49,
   "metadata": {},
   "outputs": [
    {
     "data": {
      "text/html": [
       "<div>\n",
       "<style scoped>\n",
       "    .dataframe tbody tr th:only-of-type {\n",
       "        vertical-align: middle;\n",
       "    }\n",
       "\n",
       "    .dataframe tbody tr th {\n",
       "        vertical-align: top;\n",
       "    }\n",
       "\n",
       "    .dataframe thead th {\n",
       "        text-align: right;\n",
       "    }\n",
       "</style>\n",
       "<table border=\"1\" class=\"dataframe\">\n",
       "  <thead>\n",
       "    <tr style=\"text-align: right;\">\n",
       "      <th></th>\n",
       "      <th>user_id</th>\n",
       "      <th>Item_id</th>\n",
       "      <th>Rating</th>\n",
       "      <th>click</th>\n",
       "      <th>I1</th>\n",
       "      <th>I2</th>\n",
       "      <th>I3</th>\n",
       "      <th>I4</th>\n",
       "      <th>I5</th>\n",
       "      <th>I6</th>\n",
       "      <th>...</th>\n",
       "      <th>I12</th>\n",
       "      <th>C1</th>\n",
       "      <th>C2</th>\n",
       "      <th>C3</th>\n",
       "      <th>C4</th>\n",
       "      <th>C5</th>\n",
       "      <th>C6</th>\n",
       "      <th>C7</th>\n",
       "      <th>C8</th>\n",
       "      <th>C9</th>\n",
       "    </tr>\n",
       "  </thead>\n",
       "  <tbody>\n",
       "    <tr>\n",
       "      <th>0</th>\n",
       "      <td>50</td>\n",
       "      <td>4</td>\n",
       "      <td>3</td>\n",
       "      <td>0</td>\n",
       "      <td>1005</td>\n",
       "      <td>1</td>\n",
       "      <td>1</td>\n",
       "      <td>0</td>\n",
       "      <td>20596</td>\n",
       "      <td>320</td>\n",
       "      <td>...</td>\n",
       "      <td>157</td>\n",
       "      <td>5ee41ff2</td>\n",
       "      <td>17d996e6</td>\n",
       "      <td>f028772b</td>\n",
       "      <td>ecad2386</td>\n",
       "      <td>7801e8d9</td>\n",
       "      <td>07d7df22</td>\n",
       "      <td>a99f214a</td>\n",
       "      <td>224d24e9</td>\n",
       "      <td>d14c4241</td>\n",
       "    </tr>\n",
       "    <tr>\n",
       "      <th>1</th>\n",
       "      <td>39</td>\n",
       "      <td>1</td>\n",
       "      <td>2</td>\n",
       "      <td>0</td>\n",
       "      <td>1005</td>\n",
       "      <td>0</td>\n",
       "      <td>1</td>\n",
       "      <td>0</td>\n",
       "      <td>15705</td>\n",
       "      <td>320</td>\n",
       "      <td>...</td>\n",
       "      <td>79</td>\n",
       "      <td>1fbe01fe</td>\n",
       "      <td>f3845767</td>\n",
       "      <td>28905ebd</td>\n",
       "      <td>ecad2386</td>\n",
       "      <td>7801e8d9</td>\n",
       "      <td>07d7df22</td>\n",
       "      <td>a99f214a</td>\n",
       "      <td>afa320bb</td>\n",
       "      <td>8a4875bd</td>\n",
       "    </tr>\n",
       "    <tr>\n",
       "      <th>2</th>\n",
       "      <td>18</td>\n",
       "      <td>13</td>\n",
       "      <td>2</td>\n",
       "      <td>0</td>\n",
       "      <td>1005</td>\n",
       "      <td>0</td>\n",
       "      <td>1</td>\n",
       "      <td>0</td>\n",
       "      <td>20366</td>\n",
       "      <td>320</td>\n",
       "      <td>...</td>\n",
       "      <td>157</td>\n",
       "      <td>543a539e</td>\n",
       "      <td>c7ca3108</td>\n",
       "      <td>3e814130</td>\n",
       "      <td>ecad2386</td>\n",
       "      <td>7801e8d9</td>\n",
       "      <td>07d7df22</td>\n",
       "      <td>a99f214a</td>\n",
       "      <td>67287d76</td>\n",
       "      <td>24f6b932</td>\n",
       "    </tr>\n",
       "    <tr>\n",
       "      <th>3</th>\n",
       "      <td>40</td>\n",
       "      <td>10</td>\n",
       "      <td>2</td>\n",
       "      <td>0</td>\n",
       "      <td>1002</td>\n",
       "      <td>0</td>\n",
       "      <td>0</td>\n",
       "      <td>0</td>\n",
       "      <td>20077</td>\n",
       "      <td>300</td>\n",
       "      <td>...</td>\n",
       "      <td>70</td>\n",
       "      <td>f528e1e7</td>\n",
       "      <td>0f095819</td>\n",
       "      <td>50e219e0</td>\n",
       "      <td>ecad2386</td>\n",
       "      <td>7801e8d9</td>\n",
       "      <td>07d7df22</td>\n",
       "      <td>465ead49</td>\n",
       "      <td>b888c4b6</td>\n",
       "      <td>021b641d</td>\n",
       "    </tr>\n",
       "    <tr>\n",
       "      <th>4</th>\n",
       "      <td>46</td>\n",
       "      <td>15</td>\n",
       "      <td>2</td>\n",
       "      <td>0</td>\n",
       "      <td>1005</td>\n",
       "      <td>0</td>\n",
       "      <td>1</td>\n",
       "      <td>0</td>\n",
       "      <td>15703</td>\n",
       "      <td>320</td>\n",
       "      <td>...</td>\n",
       "      <td>79</td>\n",
       "      <td>1fbe01fe</td>\n",
       "      <td>f3845767</td>\n",
       "      <td>28905ebd</td>\n",
       "      <td>ecad2386</td>\n",
       "      <td>7801e8d9</td>\n",
       "      <td>07d7df22</td>\n",
       "      <td>a99f214a</td>\n",
       "      <td>c64f8ed3</td>\n",
       "      <td>a5bce124</td>\n",
       "    </tr>\n",
       "  </tbody>\n",
       "</table>\n",
       "<p>5 rows × 25 columns</p>\n",
       "</div>"
      ],
      "text/plain": [
       "   user_id  Item_id  Rating  click    I1  I2  I3  I4     I5   I6  ...  I12  \\\n",
       "0       50        4       3      0  1005   1   1   0  20596  320  ...  157   \n",
       "1       39        1       2      0  1005   0   1   0  15705  320  ...   79   \n",
       "2       18       13       2      0  1005   0   1   0  20366  320  ...  157   \n",
       "3       40       10       2      0  1002   0   0   0  20077  300  ...   70   \n",
       "4       46       15       2      0  1005   0   1   0  15703  320  ...   79   \n",
       "\n",
       "         C1        C2        C3        C4        C5        C6        C7  \\\n",
       "0  5ee41ff2  17d996e6  f028772b  ecad2386  7801e8d9  07d7df22  a99f214a   \n",
       "1  1fbe01fe  f3845767  28905ebd  ecad2386  7801e8d9  07d7df22  a99f214a   \n",
       "2  543a539e  c7ca3108  3e814130  ecad2386  7801e8d9  07d7df22  a99f214a   \n",
       "3  f528e1e7  0f095819  50e219e0  ecad2386  7801e8d9  07d7df22  465ead49   \n",
       "4  1fbe01fe  f3845767  28905ebd  ecad2386  7801e8d9  07d7df22  a99f214a   \n",
       "\n",
       "         C8        C9  \n",
       "0  224d24e9  d14c4241  \n",
       "1  afa320bb  8a4875bd  \n",
       "2  67287d76  24f6b932  \n",
       "3  b888c4b6  021b641d  \n",
       "4  c64f8ed3  a5bce124  \n",
       "\n",
       "[5 rows x 25 columns]"
      ]
     },
     "execution_count": 49,
     "metadata": {},
     "output_type": "execute_result"
    }
   ],
   "source": [
    "all_data = pd.read_csv(\"final_snack_data.csv\")\n",
    "all_data.head()"
   ]
  },
  {
   "cell_type": "code",
   "execution_count": 50,
   "metadata": {},
   "outputs": [],
   "source": [
    "nume_cols = [\"I\" + str(i) for i in range(1, 12)]\n",
    "cate_cols = [\"C\" + str(i) for i in range(1, 10)]\n",
    "label_col = \"click\"\n",
    "\n"
   ]
  },
  {
   "cell_type": "code",
   "execution_count": 54,
   "metadata": {},
   "outputs": [
    {
     "name": "stdout",
     "output_type": "stream",
     "text": [
      "System version: 3.8.3 (default, Jul  2 2020, 17:30:36) [MSC v.1916 64 bit (AMD64)]\n",
      "LightGBM version: 3.0.0\n"
     ]
    }
   ],
   "source": [
    "import sys, os\n",
    "sys.path.append(\"../../\")\n",
    "import numpy as np\n",
    "import lightgbm as lgb\n",
    "import papermill as pm\n",
    "import pandas as pd\n",
    "import category_encoders as ce\n",
    "from tempfile import TemporaryDirectory\n",
    "from sklearn.metrics import roc_auc_score, log_loss\n",
    "\n",
    "import import_ipynb\n",
    "import lightgbm_utils as lgb_utils\n",
    "#import reco_utils.dataset.criteo as criteo\n",
    "\n",
    "print(\"System version: {}\".format(sys.version))\n",
    "print(\"LightGBM version: {}\".format(lgb.__version__))"
   ]
  },
  {
   "cell_type": "markdown",
   "metadata": {},
   "source": [
    "### Parameter Setting"
   ]
  },
  {
   "cell_type": "code",
   "execution_count": 55,
   "metadata": {},
   "outputs": [],
   "source": [
    "MAX_LEAF = 64\n",
    "MIN_DATA = 20\n",
    "NUM_OF_TREES = 100\n",
    "TREE_LEARNING_RATE = 0.15\n",
    "EARLY_STOPPING_ROUNDS = 20\n",
    "METRIC = \"auc\"\n",
    "SIZE = \"sample\""
   ]
  },
  {
   "cell_type": "code",
   "execution_count": 56,
   "metadata": {},
   "outputs": [],
   "source": [
    "params = {\n",
    "    'task': 'train',\n",
    "    'boosting_type': 'gbdt',\n",
    "    'num_class': 1,\n",
    "    'objective': \"binary\",\n",
    "    'metric': METRIC,\n",
    "    'num_leaves': MAX_LEAF,\n",
    "    'min_data': MIN_DATA,\n",
    "    'boost_from_average': True,\n",
    "    #set it according to your cpu cores.\n",
    "    'num_threads': 20,\n",
    "    'feature_fraction': 0.8,\n",
    "    'learning_rate': TREE_LEARNING_RATE,\n",
    "}"
   ]
  },
  {
   "cell_type": "markdown",
   "metadata": {},
   "source": [
    "### Data Preparation"
   ]
  },
  {
   "cell_type": "code",
   "execution_count": 57,
   "metadata": {},
   "outputs": [],
   "source": [
    "# split data to 3 sets    \n",
    "length = len(all_data)\n",
    "train_data = all_data.loc[:0.8*length-1]\n",
    "valid_data = all_data.loc[0.8*length:0.9*length-1]\n",
    "test_data = all_data.loc[0.9*length:]"
   ]
  },
  {
   "cell_type": "markdown",
   "metadata": {},
   "source": [
    "### Ordinal Encoding"
   ]
  },
  {
   "cell_type": "code",
   "execution_count": 58,
   "metadata": {},
   "outputs": [
    {
     "name": "stdout",
     "output_type": "stream",
     "text": [
      "Train Data Shape: X: (80000, 24); Y: (80000,).\n",
      "Valid Data Shape: X: (10000, 24); Y: (10000,).\n",
      "Test Data Shape: X: (10000, 24); Y: (10000,).\n",
      "\n"
     ]
    },
    {
     "data": {
      "text/html": [
       "<div>\n",
       "<style scoped>\n",
       "    .dataframe tbody tr th:only-of-type {\n",
       "        vertical-align: middle;\n",
       "    }\n",
       "\n",
       "    .dataframe tbody tr th {\n",
       "        vertical-align: top;\n",
       "    }\n",
       "\n",
       "    .dataframe thead th {\n",
       "        text-align: right;\n",
       "    }\n",
       "</style>\n",
       "<table border=\"1\" class=\"dataframe\">\n",
       "  <thead>\n",
       "    <tr style=\"text-align: right;\">\n",
       "      <th></th>\n",
       "      <th>user_id</th>\n",
       "      <th>Item_id</th>\n",
       "      <th>Rating</th>\n",
       "      <th>I1</th>\n",
       "      <th>I2</th>\n",
       "      <th>I3</th>\n",
       "      <th>I4</th>\n",
       "      <th>I5</th>\n",
       "      <th>I6</th>\n",
       "      <th>I7</th>\n",
       "      <th>...</th>\n",
       "      <th>I12</th>\n",
       "      <th>C1</th>\n",
       "      <th>C2</th>\n",
       "      <th>C3</th>\n",
       "      <th>C4</th>\n",
       "      <th>C5</th>\n",
       "      <th>C6</th>\n",
       "      <th>C7</th>\n",
       "      <th>C8</th>\n",
       "      <th>C9</th>\n",
       "    </tr>\n",
       "  </thead>\n",
       "  <tbody>\n",
       "    <tr>\n",
       "      <th>0</th>\n",
       "      <td>50</td>\n",
       "      <td>4</td>\n",
       "      <td>3</td>\n",
       "      <td>1005</td>\n",
       "      <td>1</td>\n",
       "      <td>1</td>\n",
       "      <td>0</td>\n",
       "      <td>20596</td>\n",
       "      <td>320</td>\n",
       "      <td>50</td>\n",
       "      <td>...</td>\n",
       "      <td>157</td>\n",
       "      <td>1</td>\n",
       "      <td>1</td>\n",
       "      <td>1</td>\n",
       "      <td>1</td>\n",
       "      <td>1</td>\n",
       "      <td>1</td>\n",
       "      <td>1</td>\n",
       "      <td>1</td>\n",
       "      <td>1</td>\n",
       "    </tr>\n",
       "    <tr>\n",
       "      <th>1</th>\n",
       "      <td>39</td>\n",
       "      <td>1</td>\n",
       "      <td>2</td>\n",
       "      <td>1005</td>\n",
       "      <td>0</td>\n",
       "      <td>1</td>\n",
       "      <td>0</td>\n",
       "      <td>15705</td>\n",
       "      <td>320</td>\n",
       "      <td>50</td>\n",
       "      <td>...</td>\n",
       "      <td>79</td>\n",
       "      <td>2</td>\n",
       "      <td>2</td>\n",
       "      <td>2</td>\n",
       "      <td>1</td>\n",
       "      <td>1</td>\n",
       "      <td>1</td>\n",
       "      <td>1</td>\n",
       "      <td>2</td>\n",
       "      <td>2</td>\n",
       "    </tr>\n",
       "    <tr>\n",
       "      <th>2</th>\n",
       "      <td>18</td>\n",
       "      <td>13</td>\n",
       "      <td>2</td>\n",
       "      <td>1005</td>\n",
       "      <td>0</td>\n",
       "      <td>1</td>\n",
       "      <td>0</td>\n",
       "      <td>20366</td>\n",
       "      <td>320</td>\n",
       "      <td>50</td>\n",
       "      <td>...</td>\n",
       "      <td>157</td>\n",
       "      <td>3</td>\n",
       "      <td>3</td>\n",
       "      <td>3</td>\n",
       "      <td>1</td>\n",
       "      <td>1</td>\n",
       "      <td>1</td>\n",
       "      <td>1</td>\n",
       "      <td>3</td>\n",
       "      <td>3</td>\n",
       "    </tr>\n",
       "    <tr>\n",
       "      <th>3</th>\n",
       "      <td>40</td>\n",
       "      <td>10</td>\n",
       "      <td>2</td>\n",
       "      <td>1002</td>\n",
       "      <td>0</td>\n",
       "      <td>0</td>\n",
       "      <td>0</td>\n",
       "      <td>20077</td>\n",
       "      <td>300</td>\n",
       "      <td>50</td>\n",
       "      <td>...</td>\n",
       "      <td>70</td>\n",
       "      <td>4</td>\n",
       "      <td>4</td>\n",
       "      <td>4</td>\n",
       "      <td>1</td>\n",
       "      <td>1</td>\n",
       "      <td>1</td>\n",
       "      <td>2</td>\n",
       "      <td>4</td>\n",
       "      <td>4</td>\n",
       "    </tr>\n",
       "    <tr>\n",
       "      <th>4</th>\n",
       "      <td>46</td>\n",
       "      <td>15</td>\n",
       "      <td>2</td>\n",
       "      <td>1005</td>\n",
       "      <td>0</td>\n",
       "      <td>1</td>\n",
       "      <td>0</td>\n",
       "      <td>15703</td>\n",
       "      <td>320</td>\n",
       "      <td>50</td>\n",
       "      <td>...</td>\n",
       "      <td>79</td>\n",
       "      <td>2</td>\n",
       "      <td>2</td>\n",
       "      <td>2</td>\n",
       "      <td>1</td>\n",
       "      <td>1</td>\n",
       "      <td>1</td>\n",
       "      <td>1</td>\n",
       "      <td>5</td>\n",
       "      <td>5</td>\n",
       "    </tr>\n",
       "  </tbody>\n",
       "</table>\n",
       "<p>5 rows × 24 columns</p>\n",
       "</div>"
      ],
      "text/plain": [
       "   user_id  Item_id  Rating    I1  I2  I3  I4     I5   I6  I7  ...  I12  C1  \\\n",
       "0       50        4       3  1005   1   1   0  20596  320  50  ...  157   1   \n",
       "1       39        1       2  1005   0   1   0  15705  320  50  ...   79   2   \n",
       "2       18       13       2  1005   0   1   0  20366  320  50  ...  157   3   \n",
       "3       40       10       2  1002   0   0   0  20077  300  50  ...   70   4   \n",
       "4       46       15       2  1005   0   1   0  15703  320  50  ...   79   2   \n",
       "\n",
       "   C2  C3  C4  C5  C6  C7  C8  C9  \n",
       "0   1   1   1   1   1   1   1   1  \n",
       "1   2   2   1   1   1   1   2   2  \n",
       "2   3   3   1   1   1   1   3   3  \n",
       "3   4   4   1   1   1   2   4   4  \n",
       "4   2   2   1   1   1   1   5   5  \n",
       "\n",
       "[5 rows x 24 columns]"
      ]
     },
     "execution_count": 58,
     "metadata": {},
     "output_type": "execute_result"
    }
   ],
   "source": [
    "ord_encoder = ce.ordinal.OrdinalEncoder(cols=cate_cols)\n",
    "\n",
    "def encode_csv(df, encoder, label_col, typ='fit'):\n",
    "    if typ == 'fit':\n",
    "        df = encoder.fit_transform(df)\n",
    "    else:\n",
    "        df = encoder.transform(df)\n",
    "    y = df[label_col].values\n",
    "    del df[label_col]\n",
    "    return df, y\n",
    "\n",
    "train_x, train_y = encode_csv(train_data, ord_encoder, label_col)\n",
    "valid_x, valid_y = encode_csv(valid_data, ord_encoder, label_col, 'transform')\n",
    "test_x, test_y = encode_csv(test_data, ord_encoder, label_col, 'transform')\n",
    "\n",
    "print('Train Data Shape: X: {trn_x_shape}; Y: {trn_y_shape}.\\nValid Data Shape: X: {vld_x_shape}; Y: {vld_y_shape}.\\nTest Data Shape: X: {tst_x_shape}; Y: {tst_y_shape}.\\n'\n",
    "      .format(trn_x_shape=train_x.shape,\n",
    "              trn_y_shape=train_y.shape,\n",
    "              vld_x_shape=valid_x.shape,\n",
    "              vld_y_shape=valid_y.shape,\n",
    "              tst_x_shape=test_x.shape,\n",
    "              tst_y_shape=test_y.shape,))\n",
    "train_x.head()"
   ]
  },
  {
   "cell_type": "markdown",
   "metadata": {},
   "source": [
    "### Create model"
   ]
  },
  {
   "cell_type": "code",
   "execution_count": 59,
   "metadata": {},
   "outputs": [
    {
     "name": "stdout",
     "output_type": "stream",
     "text": [
      "[LightGBM] [Info] Number of positive: 13825, number of negative: 66175\n",
      "[LightGBM] [Warning] Auto-choosing col-wise multi-threading, the overhead of testing was 0.024402 seconds.\n",
      "You can set `force_col_wise=true` to remove the overhead.\n",
      "[LightGBM] [Info] Total Bins 6515\n",
      "[LightGBM] [Info] Number of data points in the train set: 80000, number of used features: 24\n",
      "[LightGBM] [Info] [binary:BoostFromScore]: pavg=0.172813 -> initscore=-1.565824\n",
      "[LightGBM] [Info] Start training from score -1.565824\n",
      "[1]\tvalid_0's auc: 0.706187\n",
      "Training until validation scores don't improve for 20 rounds\n",
      "[2]\tvalid_0's auc: 0.712593\n",
      "[3]\tvalid_0's auc: 0.713858\n",
      "[4]\tvalid_0's auc: 0.713892\n",
      "[5]\tvalid_0's auc: 0.712629\n",
      "[6]\tvalid_0's auc: 0.715988"
     ]
    },
    {
     "name": "stderr",
     "output_type": "stream",
     "text": [
      "C:\\Users\\kaviy\\anaconda3\\lib\\site-packages\\lightgbm\\basic.py:1286: UserWarning: Overriding the parameters from Reference Dataset.\n",
      "  warnings.warn('Overriding the parameters from Reference Dataset.')\n",
      "C:\\Users\\kaviy\\anaconda3\\lib\\site-packages\\lightgbm\\basic.py:1098: UserWarning: categorical_column in param dict is overridden.\n",
      "  warnings.warn('{} in param dict is overridden.'.format(cat_alias))\n"
     ]
    },
    {
     "name": "stdout",
     "output_type": "stream",
     "text": [
      "\n",
      "[7]\tvalid_0's auc: 0.71639\n",
      "[8]\tvalid_0's auc: 0.717269\n",
      "[9]\tvalid_0's auc: 0.717081\n",
      "[10]\tvalid_0's auc: 0.717625\n",
      "[11]\tvalid_0's auc: 0.717473\n",
      "[12]\tvalid_0's auc: 0.717279\n",
      "[13]\tvalid_0's auc: 0.716761\n",
      "[14]\tvalid_0's auc: 0.716131\n",
      "[15]\tvalid_0's auc: 0.716303\n",
      "[16]\tvalid_0's auc: 0.716146\n",
      "[17]\tvalid_0's auc: 0.715542\n",
      "[18]\tvalid_0's auc: 0.715703\n",
      "[19]\tvalid_0's auc: 0.715307\n",
      "[20]\tvalid_0's auc: 0.714594\n",
      "[21]\tvalid_0's auc: 0.71427\n",
      "[22]\tvalid_0's auc: 0.714186\n",
      "[23]\tvalid_0's auc: 0.714107\n",
      "[24]\tvalid_0's auc: 0.713746\n",
      "[25]\tvalid_0's auc: 0.713907\n",
      "[26]\tvalid_0's auc: 0.713829\n",
      "[27]\tvalid_0's auc: 0.713578\n",
      "[28]\tvalid_0's auc: 0.713544\n",
      "[29]\tvalid_0's auc: 0.713613\n",
      "[30]\tvalid_0's auc: 0.714192\n",
      "Early stopping, best iteration is:\n",
      "[10]\tvalid_0's auc: 0.717625\n"
     ]
    }
   ],
   "source": [
    "lgb_train = lgb.Dataset(train_x, train_y.reshape(-1), params=params, categorical_feature=cate_cols)\n",
    "lgb_valid = lgb.Dataset(valid_x, valid_y.reshape(-1), reference=lgb_train, categorical_feature=cate_cols)\n",
    "lgb_test = lgb.Dataset(test_x, test_y.reshape(-1), reference=lgb_train, categorical_feature=cate_cols)\n",
    "lgb_model = lgb.train(params,\n",
    "                      lgb_train,\n",
    "                      num_boost_round=NUM_OF_TREES,\n",
    "                      early_stopping_rounds=EARLY_STOPPING_ROUNDS,\n",
    "                      valid_sets=lgb_valid,\n",
    "                      categorical_feature=cate_cols)"
   ]
  },
  {
   "cell_type": "code",
   "execution_count": 60,
   "metadata": {},
   "outputs": [
    {
     "name": "stdout",
     "output_type": "stream",
     "text": [
      "{'auc': 0.7010325213552482, 'logloss': 0.4118437130725082}\n"
     ]
    }
   ],
   "source": [
    "test_preds = lgb_model.predict(test_x)\n",
    "auc = roc_auc_score(np.asarray(test_y.reshape(-1)), np.asarray(test_preds))\n",
    "logloss = log_loss(np.asarray(test_y.reshape(-1)), np.asarray(test_preds), eps=1e-12)\n",
    "res_basic = {\"auc\": auc, \"logloss\": logloss}\n",
    "print(res_basic)"
   ]
  },
  {
   "cell_type": "markdown",
   "metadata": {},
   "source": [
    "### Label-encoding and Binary-encoding"
   ]
  },
  {
   "cell_type": "code",
   "execution_count": 61,
   "metadata": {},
   "outputs": [
    {
     "name": "stderr",
     "output_type": "stream",
     "text": [
      "2020-11-16 16:38:54,977 [INFO] Filtering and fillna features\n",
      "100%|████████████████████████████████████████████████████████████████████████████████████| 9/9 [00:08<00:00,  1.03it/s]\n",
      "100%|█████████████████████████████████████████████████████████████████████████████████| 11/11 [00:00<00:00, 423.98it/s]\n",
      "2020-11-16 16:39:03,804 [INFO] Ordinal encoding cate features\n",
      "2020-11-16 16:39:04,206 [INFO] Target encoding cate features\n",
      "100%|████████████████████████████████████████████████████████████████████████████████████| 9/9 [00:03<00:00,  2.41it/s]\n",
      "2020-11-16 16:39:07,954 [INFO] Start manual binary encoding\n",
      "100%|██████████████████████████████████████████████████████████████████████████████████| 29/29 [00:12<00:00,  2.29it/s]\n",
      "100%|████████████████████████████████████████████████████████████████████████████████████| 9/9 [00:04<00:00,  2.11it/s]\n",
      "2020-11-16 16:39:25,493 [INFO] Filtering and fillna features\n",
      "100%|███████████████████████████████████████████████████████████████████████████████████| 9/9 [00:00<00:00, 122.01it/s]\n",
      "100%|████████████████████████████████████████████████████████████████████████████████| 11/11 [00:00<00:00, 1233.98it/s]\n",
      "2020-11-16 16:39:25,593 [INFO] Ordinal encoding cate features\n",
      "2020-11-16 16:39:25,628 [INFO] Target encoding cate features\n",
      "100%|████████████████████████████████████████████████████████████████████████████████████| 9/9 [00:00<00:00, 20.07it/s]\n",
      "2020-11-16 16:39:26,086 [INFO] Start manual binary encoding\n",
      "100%|██████████████████████████████████████████████████████████████████████████████████| 29/29 [00:13<00:00,  2.23it/s]\n",
      "100%|████████████████████████████████████████████████████████████████████████████████████| 9/9 [00:04<00:00,  2.11it/s]\n",
      "2020-11-16 16:39:43,862 [INFO] Filtering and fillna features\n",
      "100%|████████████████████████████████████████████████████████████████████████████████████| 9/9 [00:00<00:00, 98.46it/s]\n",
      "100%|████████████████████████████████████████████████████████████████████████████████| 11/11 [00:00<00:00, 3750.09it/s]\n",
      "2020-11-16 16:39:43,965 [INFO] Ordinal encoding cate features\n",
      "2020-11-16 16:39:44,008 [INFO] Target encoding cate features\n",
      "100%|████████████████████████████████████████████████████████████████████████████████████| 9/9 [00:00<00:00, 17.54it/s]\n",
      "2020-11-16 16:39:44,528 [INFO] Start manual binary encoding\n",
      "100%|██████████████████████████████████████████████████████████████████████████████████| 29/29 [00:12<00:00,  2.25it/s]\n",
      "100%|████████████████████████████████████████████████████████████████████████████████████| 9/9 [00:04<00:00,  2.24it/s]\n"
     ]
    },
    {
     "name": "stdout",
     "output_type": "stream",
     "text": [
      "Train Data Shape: X: (80000, 89); Y: (80000, 1).\n",
      "Valid Data Shape: X: (10000, 89); Y: (10000, 1).\n",
      "Test Data Shape: X: (10000, 89); Y: (10000, 1).\n",
      "\n"
     ]
    }
   ],
   "source": [
    "label_col = 'click'\n",
    "num_encoder = lgb_utils.NumEncoder(cate_cols, nume_cols, label_col)\n",
    "train_x, train_y = num_encoder.fit_transform(train_data)\n",
    "valid_x, valid_y = num_encoder.transform(valid_data)\n",
    "test_x, test_y = num_encoder.transform(test_data)\n",
    "del num_encoder\n",
    "print('Train Data Shape: X: {trn_x_shape}; Y: {trn_y_shape}.\\nValid Data Shape: X: {vld_x_shape}; Y: {vld_y_shape}.\\nTest Data Shape: X: {tst_x_shape}; Y: {tst_y_shape}.\\n'\n",
    "      .format(trn_x_shape=train_x.shape,\n",
    "              trn_y_shape=train_y.shape,\n",
    "              vld_x_shape=valid_x.shape,\n",
    "              vld_y_shape=valid_y.shape,\n",
    "              tst_x_shape=test_x.shape,\n",
    "              tst_y_shape=test_y.shape,))"
   ]
  },
  {
   "cell_type": "markdown",
   "metadata": {},
   "source": [
    "### Training and Evaluation"
   ]
  },
  {
   "cell_type": "code",
   "execution_count": 62,
   "metadata": {},
   "outputs": [
    {
     "name": "stdout",
     "output_type": "stream",
     "text": [
      "[LightGBM] [Info] Number of positive: 13825, number of negative: 66175\n",
      "[LightGBM] [Warning] Auto-choosing row-wise multi-threading, the overhead of testing was 0.022837 seconds.\n",
      "You can set `force_row_wise=true` to remove the overhead.\n",
      "And if memory is not enough, you can set `force_col_wise=true`.\n",
      "[LightGBM] [Info] Total Bins 5396\n",
      "[LightGBM] [Info] Number of data points in the train set: 80000, number of used features: 88\n",
      "[LightGBM] [Info] [binary:BoostFromScore]: pavg=0.172813 -> initscore=-1.565824\n",
      "[LightGBM] [Info] Start training from score -1.565824\n",
      "[1]\tvalid_0's auc: 0.69365\n",
      "Training until validation scores don't improve for 20 rounds\n",
      "[2]\tvalid_0's auc: 0.706211\n",
      "[3]\tvalid_0's auc: 0.708387\n",
      "[4]\tvalid_0's auc: 0.704442\n",
      "[5]\tvalid_0's auc: 0.708082\n",
      "[6]\tvalid_0's auc: 0.70958\n",
      "[7]\tvalid_0's auc: 0.711481\n",
      "[8]\tvalid_0's auc: 0.712681\n",
      "[9]\tvalid_0's auc: 0.713387\n",
      "[10]\tvalid_0's auc: 0.714057\n",
      "[11]\tvalid_0's auc: 0.714224\n",
      "[12]\tvalid_0's auc: 0.714209\n",
      "[13]\tvalid_0's auc: 0.715378\n",
      "[14]\tvalid_0's auc: 0.71482\n",
      "[15]\tvalid_0's auc: 0.715006\n",
      "[16]\tvalid_0's auc: 0.714864\n",
      "[17]\tvalid_0's auc: 0.716397\n",
      "[18]\tvalid_0's auc: 0.717227\n",
      "[19]\tvalid_0's auc: 0.716579\n",
      "[20]\tvalid_0's auc: 0.715488\n",
      "[21]\tvalid_0's auc: 0.715584\n",
      "[22]\tvalid_0's auc: 0.715605\n",
      "[23]\tvalid_0's auc: 0.71645\n",
      "[24]\tvalid_0's auc: 0.716569\n",
      "[25]\tvalid_0's auc: 0.716037\n",
      "[26]\tvalid_0's auc: 0.716257\n",
      "[27]\tvalid_0's auc: 0.716299\n",
      "[28]\tvalid_0's auc: 0.716361\n",
      "[29]\tvalid_0's auc: 0.716361\n",
      "[30]\tvalid_0's auc: 0.716084\n",
      "[31]\tvalid_0's auc: 0.716045\n",
      "[32]\tvalid_0's auc: 0.714702\n",
      "[33]\tvalid_0's auc: 0.714724\n",
      "[34]\tvalid_0's auc: 0.714648\n",
      "[35]\tvalid_0's auc: 0.714899\n",
      "[36]\tvalid_0's auc: 0.71479\n",
      "[37]\tvalid_0's auc: 0.714907\n",
      "[38]\tvalid_0's auc: 0.714806\n",
      "Early stopping, best iteration is:\n",
      "[18]\tvalid_0's auc: 0.717227\n"
     ]
    }
   ],
   "source": [
    "lgb_train = lgb.Dataset(train_x, train_y.reshape(-1), params=params)\n",
    "lgb_valid = lgb.Dataset(valid_x, valid_y.reshape(-1), reference=lgb_train)\n",
    "lgb_model = lgb.train(params,\n",
    "                      lgb_train,\n",
    "                      num_boost_round=NUM_OF_TREES,\n",
    "                      early_stopping_rounds=EARLY_STOPPING_ROUNDS,\n",
    "                      valid_sets=lgb_valid)"
   ]
  },
  {
   "cell_type": "markdown",
   "metadata": {},
   "source": [
    "### save model"
   ]
  },
  {
   "cell_type": "code",
   "execution_count": 85,
   "metadata": {},
   "outputs": [],
   "source": [
    "with TemporaryDirectory() as tmp:\n",
    "    save_file = os.path.join(tmp, r'finished.model')\n",
    "    lgb_model.save_model(save_file)\n",
    "    loaded_model = lgb.Booster(model_file=save_file)\n",
    "\n"
   ]
  },
  {
   "cell_type": "code",
   "execution_count": 86,
   "metadata": {},
   "outputs": [],
   "source": [
    "import pickle\n",
    "filename = 'finalized_model.sav'\n",
    "pickle.dump(loaded_model, open(filename, 'wb'))\n",
    " "
   ]
  },
  {
   "cell_type": "markdown",
   "metadata": {},
   "source": [
    "### Evaluate the performance"
   ]
  },
  {
   "cell_type": "code",
   "execution_count": 87,
   "metadata": {},
   "outputs": [
    {
     "name": "stdout",
     "output_type": "stream",
     "text": [
      "{'auc': 0.6996802664109787, 'logloss': 0.4117443455842336}\n"
     ]
    }
   ],
   "source": [
    "# eval the performance again\n",
    "test_preds = loaded_model.predict(test_x)\n",
    "\n",
    "auc = roc_auc_score(np.asarray(test_y.reshape(-1)), np.asarray(test_preds))\n",
    "logloss = log_loss(np.asarray(test_y.reshape(-1)), np.asarray(test_preds), eps=1e-12)\n",
    "print({\"auc\": auc, \"logloss\": logloss})    "
   ]
  },
  {
   "cell_type": "code",
   "execution_count": null,
   "metadata": {},
   "outputs": [],
   "source": []
  },
  {
   "cell_type": "code",
   "execution_count": 88,
   "metadata": {},
   "outputs": [
    {
     "name": "stderr",
     "output_type": "stream",
     "text": [
      "C:\\Users\\kaviy\\anaconda3\\lib\\site-packages\\sklearn\\utils\\validation.py:73: DataConversionWarning: A column-vector y was passed when a 1d array was expected. Please change the shape of y to (n_samples, ), for example using ravel().\n",
      "  return f(**kwargs)\n"
     ]
    },
    {
     "name": "stdout",
     "output_type": "stream",
     "text": [
      "[1]\tvalid_0's auc: 0.694931\tvalid_0's binary_logloss: 0.440021\tvalid_0's l1: 0.277667\n",
      "Training until validation scores don't improve for 5 rounds\n",
      "[2]\tvalid_0's auc: 0.697752\tvalid_0's binary_logloss: 0.434617\tvalid_0's l1: 0.2752\n",
      "[3]\tvalid_0's auc: 0.697884\tvalid_0's binary_logloss: 0.430173\tvalid_0's l1: 0.273295\n",
      "[4]\tvalid_0's auc: 0.697667\tvalid_0's binary_logloss: 0.426511\tvalid_0's l1: 0.271321\n",
      "[5]\tvalid_0's auc: 0.698573\tvalid_0's binary_logloss: 0.423506\tvalid_0's l1: 0.269429\n",
      "[6]\tvalid_0's auc: 0.699679\tvalid_0's binary_logloss: 0.420941\tvalid_0's l1: 0.268026\n",
      "[7]\tvalid_0's auc: 0.700989\tvalid_0's binary_logloss: 0.418805\tvalid_0's l1: 0.266563\n",
      "[8]\tvalid_0's auc: 0.702858\tvalid_0's binary_logloss: 0.41704\tvalid_0's l1: 0.265058\n",
      "[9]\tvalid_0's auc: 0.701492\tvalid_0's binary_logloss: 0.415733\tvalid_0's l1: 0.263919\n",
      "[10]\tvalid_0's auc: 0.702036\tvalid_0's binary_logloss: 0.414534\tvalid_0's l1: 0.262901\n",
      "[11]\tvalid_0's auc: 0.703516\tvalid_0's binary_logloss: 0.413511\tvalid_0's l1: 0.261835\n",
      "[12]\tvalid_0's auc: 0.703991\tvalid_0's binary_logloss: 0.412767\tvalid_0's l1: 0.261034\n",
      "[13]\tvalid_0's auc: 0.703537\tvalid_0's binary_logloss: 0.412171\tvalid_0's l1: 0.260386\n",
      "[14]\tvalid_0's auc: 0.703512\tvalid_0's binary_logloss: 0.411774\tvalid_0's l1: 0.259394\n",
      "[15]\tvalid_0's auc: 0.703711\tvalid_0's binary_logloss: 0.411624\tvalid_0's l1: 0.258418\n",
      "[16]\tvalid_0's auc: 0.703076\tvalid_0's binary_logloss: 0.411652\tvalid_0's l1: 0.256609\n",
      "[17]\tvalid_0's auc: 0.702389\tvalid_0's binary_logloss: 0.411551\tvalid_0's l1: 0.255773\n",
      "Early stopping, best iteration is:\n",
      "[12]\tvalid_0's auc: 0.703991\tvalid_0's binary_logloss: 0.412767\tvalid_0's l1: 0.261034\n"
     ]
    },
    {
     "name": "stderr",
     "output_type": "stream",
     "text": [
      "C:\\Users\\kaviy\\anaconda3\\lib\\site-packages\\sklearn\\utils\\validation.py:73: DataConversionWarning: A column-vector y was passed when a 1d array was expected. Please change the shape of y to (n_samples, ), for example using ravel().\n",
      "  return f(**kwargs)\n"
     ]
    },
    {
     "name": "stdout",
     "output_type": "stream",
     "text": [
      "[1]\tvalid_0's auc: 0.675029\tvalid_0's binary_logloss: 0.440601\tvalid_0's l1: 0.277054\n",
      "Training until validation scores don't improve for 5 rounds\n",
      "[2]\tvalid_0's auc: 0.699015\tvalid_0's binary_logloss: 0.434556\tvalid_0's l1: 0.275434\n",
      "[3]\tvalid_0's auc: 0.699011\tvalid_0's binary_logloss: 0.429971\tvalid_0's l1: 0.273395\n",
      "[4]\tvalid_0's auc: 0.696643\tvalid_0's binary_logloss: 0.426797\tvalid_0's l1: 0.27125\n",
      "[5]\tvalid_0's auc: 0.698377\tvalid_0's binary_logloss: 0.42361\tvalid_0's l1: 0.269226\n",
      "[6]\tvalid_0's auc: 0.699342\tvalid_0's binary_logloss: 0.421077\tvalid_0's l1: 0.267544\n",
      "[7]\tvalid_0's auc: 0.700188\tvalid_0's binary_logloss: 0.419199\tvalid_0's l1: 0.266303\n",
      "[8]\tvalid_0's auc: 0.700458\tvalid_0's binary_logloss: 0.417632\tvalid_0's l1: 0.265444\n",
      "[9]\tvalid_0's auc: 0.699803\tvalid_0's binary_logloss: 0.416241\tvalid_0's l1: 0.263978\n",
      "[10]\tvalid_0's auc: 0.70028\tvalid_0's binary_logloss: 0.415053\tvalid_0's l1: 0.262631\n",
      "[11]\tvalid_0's auc: 0.701017\tvalid_0's binary_logloss: 0.414177\tvalid_0's l1: 0.261585\n",
      "[12]\tvalid_0's auc: 0.701673\tvalid_0's binary_logloss: 0.413435\tvalid_0's l1: 0.260879\n",
      "[13]\tvalid_0's auc: 0.70165\tvalid_0's binary_logloss: 0.412705\tvalid_0's l1: 0.259812\n",
      "[14]\tvalid_0's auc: 0.702591\tvalid_0's binary_logloss: 0.412072\tvalid_0's l1: 0.259136\n",
      "[15]\tvalid_0's auc: 0.70211\tvalid_0's binary_logloss: 0.411646\tvalid_0's l1: 0.258319\n",
      "[16]\tvalid_0's auc: 0.702496\tvalid_0's binary_logloss: 0.411245\tvalid_0's l1: 0.257722\n",
      "[17]\tvalid_0's auc: 0.70284\tvalid_0's binary_logloss: 0.410905\tvalid_0's l1: 0.257209\n",
      "[18]\tvalid_0's auc: 0.701672\tvalid_0's binary_logloss: 0.411519\tvalid_0's l1: 0.257528\n",
      "[19]\tvalid_0's auc: 0.701455\tvalid_0's binary_logloss: 0.411458\tvalid_0's l1: 0.257223\n",
      "[20]\tvalid_0's auc: 0.70143\tvalid_0's binary_logloss: 0.411351\tvalid_0's l1: 0.256651\n",
      "[21]\tvalid_0's auc: 0.701782\tvalid_0's binary_logloss: 0.411211\tvalid_0's l1: 0.256477\n",
      "[22]\tvalid_0's auc: 0.701626\tvalid_0's binary_logloss: 0.411165\tvalid_0's l1: 0.256328\n",
      "Early stopping, best iteration is:\n",
      "[17]\tvalid_0's auc: 0.70284\tvalid_0's binary_logloss: 0.410905\tvalid_0's l1: 0.257209\n"
     ]
    },
    {
     "name": "stderr",
     "output_type": "stream",
     "text": [
      "C:\\Users\\kaviy\\anaconda3\\lib\\site-packages\\sklearn\\utils\\validation.py:73: DataConversionWarning: A column-vector y was passed when a 1d array was expected. Please change the shape of y to (n_samples, ), for example using ravel().\n",
      "  return f(**kwargs)\n"
     ]
    },
    {
     "name": "stdout",
     "output_type": "stream",
     "text": [
      "[1]\tvalid_0's auc: 0.694609\tvalid_0's binary_logloss: 0.44033\tvalid_0's l1: 0.278039\n",
      "Training until validation scores don't improve for 5 rounds\n",
      "[2]\tvalid_0's auc: 0.700862\tvalid_0's binary_logloss: 0.434473\tvalid_0's l1: 0.275845\n",
      "[3]\tvalid_0's auc: 0.70233\tvalid_0's binary_logloss: 0.429807\tvalid_0's l1: 0.273446\n",
      "[4]\tvalid_0's auc: 0.702301\tvalid_0's binary_logloss: 0.426199\tvalid_0's l1: 0.271584\n",
      "[5]\tvalid_0's auc: 0.701809\tvalid_0's binary_logloss: 0.423428\tvalid_0's l1: 0.26984\n",
      "[6]\tvalid_0's auc: 0.703847\tvalid_0's binary_logloss: 0.420667\tvalid_0's l1: 0.267884\n",
      "[7]\tvalid_0's auc: 0.703665\tvalid_0's binary_logloss: 0.418464\tvalid_0's l1: 0.26646\n",
      "[8]\tvalid_0's auc: 0.704031\tvalid_0's binary_logloss: 0.416722\tvalid_0's l1: 0.265085\n",
      "[9]\tvalid_0's auc: 0.703999\tvalid_0's binary_logloss: 0.415268\tvalid_0's l1: 0.26382\n",
      "[10]\tvalid_0's auc: 0.704175\tvalid_0's binary_logloss: 0.414176\tvalid_0's l1: 0.26263\n",
      "[11]\tvalid_0's auc: 0.70415\tvalid_0's binary_logloss: 0.413415\tvalid_0's l1: 0.261287\n",
      "[12]\tvalid_0's auc: 0.704436\tvalid_0's binary_logloss: 0.412722\tvalid_0's l1: 0.260551\n",
      "[13]\tvalid_0's auc: 0.70458\tvalid_0's binary_logloss: 0.412084\tvalid_0's l1: 0.259733\n",
      "[14]\tvalid_0's auc: 0.704276\tvalid_0's binary_logloss: 0.411533\tvalid_0's l1: 0.258937\n",
      "[15]\tvalid_0's auc: 0.703926\tvalid_0's binary_logloss: 0.411163\tvalid_0's l1: 0.257681\n",
      "[16]\tvalid_0's auc: 0.703581\tvalid_0's binary_logloss: 0.410944\tvalid_0's l1: 0.257192\n",
      "[17]\tvalid_0's auc: 0.703519\tvalid_0's binary_logloss: 0.410666\tvalid_0's l1: 0.256408\n",
      "[18]\tvalid_0's auc: 0.703293\tvalid_0's binary_logloss: 0.410538\tvalid_0's l1: 0.255653\n",
      "Early stopping, best iteration is:\n",
      "[13]\tvalid_0's auc: 0.70458\tvalid_0's binary_logloss: 0.412084\tvalid_0's l1: 0.259733\n"
     ]
    },
    {
     "name": "stderr",
     "output_type": "stream",
     "text": [
      "C:\\Users\\kaviy\\anaconda3\\lib\\site-packages\\sklearn\\utils\\validation.py:73: DataConversionWarning: A column-vector y was passed when a 1d array was expected. Please change the shape of y to (n_samples, ), for example using ravel().\n",
      "  return f(**kwargs)\n"
     ]
    },
    {
     "name": "stdout",
     "output_type": "stream",
     "text": [
      "[1]\tvalid_0's auc: 0.699268\tvalid_0's binary_logloss: 0.440319\tvalid_0's l1: 0.278131\n",
      "Training until validation scores don't improve for 5 rounds\n",
      "[2]\tvalid_0's auc: 0.700579\tvalid_0's binary_logloss: 0.434863\tvalid_0's l1: 0.275704\n",
      "[3]\tvalid_0's auc: 0.700027\tvalid_0's binary_logloss: 0.430348\tvalid_0's l1: 0.274014\n",
      "[4]\tvalid_0's auc: 0.700157\tvalid_0's binary_logloss: 0.426701\tvalid_0's l1: 0.271778\n",
      "[5]\tvalid_0's auc: 0.700318\tvalid_0's binary_logloss: 0.423924\tvalid_0's l1: 0.270305\n",
      "[6]\tvalid_0's auc: 0.699871\tvalid_0's binary_logloss: 0.421737\tvalid_0's l1: 0.268414\n",
      "[7]\tvalid_0's auc: 0.700138\tvalid_0's binary_logloss: 0.419774\tvalid_0's l1: 0.267111\n",
      "Early stopping, best iteration is:\n",
      "[2]\tvalid_0's auc: 0.700579\tvalid_0's binary_logloss: 0.434863\tvalid_0's l1: 0.275704\n"
     ]
    },
    {
     "name": "stderr",
     "output_type": "stream",
     "text": [
      "C:\\Users\\kaviy\\anaconda3\\lib\\site-packages\\sklearn\\utils\\validation.py:73: DataConversionWarning: A column-vector y was passed when a 1d array was expected. Please change the shape of y to (n_samples, ), for example using ravel().\n",
      "  return f(**kwargs)\n"
     ]
    },
    {
     "name": "stdout",
     "output_type": "stream",
     "text": [
      "[1]\tvalid_0's auc: 0.630879\tvalid_0's binary_logloss: 0.441577\tvalid_0's l1: 0.276984\n",
      "Training until validation scores don't improve for 5 rounds\n",
      "[2]\tvalid_0's auc: 0.688861\tvalid_0's binary_logloss: 0.435726\tvalid_0's l1: 0.275205\n",
      "[3]\tvalid_0's auc: 0.695978\tvalid_0's binary_logloss: 0.431454\tvalid_0's l1: 0.273407\n",
      "[4]\tvalid_0's auc: 0.692283\tvalid_0's binary_logloss: 0.428545\tvalid_0's l1: 0.271008\n",
      "[5]\tvalid_0's auc: 0.696107\tvalid_0's binary_logloss: 0.425367\tvalid_0's l1: 0.269034\n",
      "[6]\tvalid_0's auc: 0.696276\tvalid_0's binary_logloss: 0.423289\tvalid_0's l1: 0.267789\n",
      "[7]\tvalid_0's auc: 0.693483\tvalid_0's binary_logloss: 0.421386\tvalid_0's l1: 0.267239\n",
      "[8]\tvalid_0's auc: 0.694393\tvalid_0's binary_logloss: 0.419705\tvalid_0's l1: 0.265628\n",
      "[9]\tvalid_0's auc: 0.695004\tvalid_0's binary_logloss: 0.418593\tvalid_0's l1: 0.264147\n",
      "[10]\tvalid_0's auc: 0.693111\tvalid_0's binary_logloss: 0.418316\tvalid_0's l1: 0.261892\n",
      "[11]\tvalid_0's auc: 0.693777\tvalid_0's binary_logloss: 0.417197\tvalid_0's l1: 0.260552\n",
      "Early stopping, best iteration is:\n",
      "[6]\tvalid_0's auc: 0.696276\tvalid_0's binary_logloss: 0.423289\tvalid_0's l1: 0.267789\n"
     ]
    },
    {
     "name": "stderr",
     "output_type": "stream",
     "text": [
      "C:\\Users\\kaviy\\anaconda3\\lib\\site-packages\\sklearn\\utils\\validation.py:73: DataConversionWarning: A column-vector y was passed when a 1d array was expected. Please change the shape of y to (n_samples, ), for example using ravel().\n",
      "  return f(**kwargs)\n"
     ]
    },
    {
     "name": "stdout",
     "output_type": "stream",
     "text": [
      "[1]\tvalid_0's auc: 0.694931\tvalid_0's binary_logloss: 0.440021\tvalid_0's l1: 0.277667\n",
      "Training until validation scores don't improve for 5 rounds\n",
      "[2]\tvalid_0's auc: 0.697752\tvalid_0's binary_logloss: 0.434617\tvalid_0's l1: 0.2752\n",
      "[3]\tvalid_0's auc: 0.697884\tvalid_0's binary_logloss: 0.430173\tvalid_0's l1: 0.273295\n",
      "[4]\tvalid_0's auc: 0.697667\tvalid_0's binary_logloss: 0.426511\tvalid_0's l1: 0.271321\n",
      "[5]\tvalid_0's auc: 0.698573\tvalid_0's binary_logloss: 0.423506\tvalid_0's l1: 0.269429\n",
      "[6]\tvalid_0's auc: 0.699679\tvalid_0's binary_logloss: 0.420941\tvalid_0's l1: 0.268026\n",
      "[7]\tvalid_0's auc: 0.700989\tvalid_0's binary_logloss: 0.418805\tvalid_0's l1: 0.266563\n",
      "[8]\tvalid_0's auc: 0.702858\tvalid_0's binary_logloss: 0.41704\tvalid_0's l1: 0.265058\n",
      "[9]\tvalid_0's auc: 0.701492\tvalid_0's binary_logloss: 0.415733\tvalid_0's l1: 0.263919\n",
      "[10]\tvalid_0's auc: 0.702036\tvalid_0's binary_logloss: 0.414534\tvalid_0's l1: 0.262901\n",
      "[11]\tvalid_0's auc: 0.703516\tvalid_0's binary_logloss: 0.413511\tvalid_0's l1: 0.261835\n",
      "[12]\tvalid_0's auc: 0.703991\tvalid_0's binary_logloss: 0.412767\tvalid_0's l1: 0.261034\n",
      "[13]\tvalid_0's auc: 0.703537\tvalid_0's binary_logloss: 0.412171\tvalid_0's l1: 0.260386\n",
      "[14]\tvalid_0's auc: 0.703512\tvalid_0's binary_logloss: 0.411774\tvalid_0's l1: 0.259394\n",
      "[15]\tvalid_0's auc: 0.703711\tvalid_0's binary_logloss: 0.411624\tvalid_0's l1: 0.258418\n",
      "[16]\tvalid_0's auc: 0.703076\tvalid_0's binary_logloss: 0.411652\tvalid_0's l1: 0.256609\n",
      "[17]\tvalid_0's auc: 0.702389\tvalid_0's binary_logloss: 0.411551\tvalid_0's l1: 0.255773\n",
      "Early stopping, best iteration is:\n",
      "[12]\tvalid_0's auc: 0.703991\tvalid_0's binary_logloss: 0.412767\tvalid_0's l1: 0.261034\n"
     ]
    },
    {
     "name": "stderr",
     "output_type": "stream",
     "text": [
      "C:\\Users\\kaviy\\anaconda3\\lib\\site-packages\\sklearn\\utils\\validation.py:73: DataConversionWarning: A column-vector y was passed when a 1d array was expected. Please change the shape of y to (n_samples, ), for example using ravel().\n",
      "  return f(**kwargs)\n"
     ]
    },
    {
     "name": "stdout",
     "output_type": "stream",
     "text": [
      "[1]\tvalid_0's auc: 0.675029\tvalid_0's binary_logloss: 0.440601\tvalid_0's l1: 0.277054\n",
      "Training until validation scores don't improve for 5 rounds\n",
      "[2]\tvalid_0's auc: 0.699015\tvalid_0's binary_logloss: 0.434556\tvalid_0's l1: 0.275434\n",
      "[3]\tvalid_0's auc: 0.699011\tvalid_0's binary_logloss: 0.429971\tvalid_0's l1: 0.273395\n",
      "[4]\tvalid_0's auc: 0.696643\tvalid_0's binary_logloss: 0.426797\tvalid_0's l1: 0.27125\n",
      "[5]\tvalid_0's auc: 0.698377\tvalid_0's binary_logloss: 0.42361\tvalid_0's l1: 0.269226\n",
      "[6]\tvalid_0's auc: 0.699342\tvalid_0's binary_logloss: 0.421077\tvalid_0's l1: 0.267544\n",
      "[7]\tvalid_0's auc: 0.700188\tvalid_0's binary_logloss: 0.419199\tvalid_0's l1: 0.266303\n",
      "[8]\tvalid_0's auc: 0.700458\tvalid_0's binary_logloss: 0.417632\tvalid_0's l1: 0.265444\n",
      "[9]\tvalid_0's auc: 0.699803\tvalid_0's binary_logloss: 0.416241\tvalid_0's l1: 0.263978\n",
      "[10]\tvalid_0's auc: 0.70028\tvalid_0's binary_logloss: 0.415053\tvalid_0's l1: 0.262631\n",
      "[11]\tvalid_0's auc: 0.701017\tvalid_0's binary_logloss: 0.414177\tvalid_0's l1: 0.261585\n",
      "[12]\tvalid_0's auc: 0.701673\tvalid_0's binary_logloss: 0.413435\tvalid_0's l1: 0.260879\n",
      "[13]\tvalid_0's auc: 0.70165\tvalid_0's binary_logloss: 0.412705\tvalid_0's l1: 0.259812\n",
      "[14]\tvalid_0's auc: 0.702591\tvalid_0's binary_logloss: 0.412072\tvalid_0's l1: 0.259136\n",
      "[15]\tvalid_0's auc: 0.70211\tvalid_0's binary_logloss: 0.411646\tvalid_0's l1: 0.258319\n",
      "[16]\tvalid_0's auc: 0.702496\tvalid_0's binary_logloss: 0.411245\tvalid_0's l1: 0.257722\n",
      "[17]\tvalid_0's auc: 0.70284\tvalid_0's binary_logloss: 0.410905\tvalid_0's l1: 0.257209\n",
      "[18]\tvalid_0's auc: 0.701672\tvalid_0's binary_logloss: 0.411519\tvalid_0's l1: 0.257528\n",
      "[19]\tvalid_0's auc: 0.701455\tvalid_0's binary_logloss: 0.411458\tvalid_0's l1: 0.257223\n",
      "[20]\tvalid_0's auc: 0.70143\tvalid_0's binary_logloss: 0.411351\tvalid_0's l1: 0.256651\n",
      "[21]\tvalid_0's auc: 0.701782\tvalid_0's binary_logloss: 0.411211\tvalid_0's l1: 0.256477\n",
      "[22]\tvalid_0's auc: 0.701626\tvalid_0's binary_logloss: 0.411165\tvalid_0's l1: 0.256328\n",
      "Early stopping, best iteration is:\n",
      "[17]\tvalid_0's auc: 0.70284\tvalid_0's binary_logloss: 0.410905\tvalid_0's l1: 0.257209\n"
     ]
    },
    {
     "name": "stderr",
     "output_type": "stream",
     "text": [
      "C:\\Users\\kaviy\\anaconda3\\lib\\site-packages\\sklearn\\utils\\validation.py:73: DataConversionWarning: A column-vector y was passed when a 1d array was expected. Please change the shape of y to (n_samples, ), for example using ravel().\n",
      "  return f(**kwargs)\n"
     ]
    },
    {
     "name": "stdout",
     "output_type": "stream",
     "text": [
      "[1]\tvalid_0's auc: 0.694609\tvalid_0's binary_logloss: 0.44033\tvalid_0's l1: 0.278039\n",
      "Training until validation scores don't improve for 5 rounds\n",
      "[2]\tvalid_0's auc: 0.700862\tvalid_0's binary_logloss: 0.434473\tvalid_0's l1: 0.275845\n",
      "[3]\tvalid_0's auc: 0.70233\tvalid_0's binary_logloss: 0.429807\tvalid_0's l1: 0.273446\n",
      "[4]\tvalid_0's auc: 0.702301\tvalid_0's binary_logloss: 0.426199\tvalid_0's l1: 0.271584\n",
      "[5]\tvalid_0's auc: 0.701809\tvalid_0's binary_logloss: 0.423428\tvalid_0's l1: 0.26984\n",
      "[6]\tvalid_0's auc: 0.703847\tvalid_0's binary_logloss: 0.420667\tvalid_0's l1: 0.267884\n",
      "[7]\tvalid_0's auc: 0.703665\tvalid_0's binary_logloss: 0.418464\tvalid_0's l1: 0.26646\n",
      "[8]\tvalid_0's auc: 0.704031\tvalid_0's binary_logloss: 0.416722\tvalid_0's l1: 0.265085\n",
      "[9]\tvalid_0's auc: 0.703999\tvalid_0's binary_logloss: 0.415268\tvalid_0's l1: 0.26382\n",
      "[10]\tvalid_0's auc: 0.704175\tvalid_0's binary_logloss: 0.414176\tvalid_0's l1: 0.26263\n",
      "[11]\tvalid_0's auc: 0.70415\tvalid_0's binary_logloss: 0.413415\tvalid_0's l1: 0.261287\n",
      "[12]\tvalid_0's auc: 0.704436\tvalid_0's binary_logloss: 0.412722\tvalid_0's l1: 0.260551\n",
      "[13]\tvalid_0's auc: 0.70458\tvalid_0's binary_logloss: 0.412084\tvalid_0's l1: 0.259733\n",
      "[14]\tvalid_0's auc: 0.704276\tvalid_0's binary_logloss: 0.411533\tvalid_0's l1: 0.258937\n",
      "[15]\tvalid_0's auc: 0.703926\tvalid_0's binary_logloss: 0.411163\tvalid_0's l1: 0.257681\n",
      "[16]\tvalid_0's auc: 0.703581\tvalid_0's binary_logloss: 0.410944\tvalid_0's l1: 0.257192\n",
      "[17]\tvalid_0's auc: 0.703519\tvalid_0's binary_logloss: 0.410666\tvalid_0's l1: 0.256408\n",
      "[18]\tvalid_0's auc: 0.703293\tvalid_0's binary_logloss: 0.410538\tvalid_0's l1: 0.255653\n",
      "Early stopping, best iteration is:\n",
      "[13]\tvalid_0's auc: 0.70458\tvalid_0's binary_logloss: 0.412084\tvalid_0's l1: 0.259733\n"
     ]
    },
    {
     "name": "stderr",
     "output_type": "stream",
     "text": [
      "C:\\Users\\kaviy\\anaconda3\\lib\\site-packages\\sklearn\\utils\\validation.py:73: DataConversionWarning: A column-vector y was passed when a 1d array was expected. Please change the shape of y to (n_samples, ), for example using ravel().\n",
      "  return f(**kwargs)\n"
     ]
    },
    {
     "name": "stdout",
     "output_type": "stream",
     "text": [
      "[1]\tvalid_0's auc: 0.699268\tvalid_0's binary_logloss: 0.440319\tvalid_0's l1: 0.278131\n",
      "Training until validation scores don't improve for 5 rounds\n",
      "[2]\tvalid_0's auc: 0.700579\tvalid_0's binary_logloss: 0.434863\tvalid_0's l1: 0.275704\n",
      "[3]\tvalid_0's auc: 0.700027\tvalid_0's binary_logloss: 0.430348\tvalid_0's l1: 0.274014\n",
      "[4]\tvalid_0's auc: 0.700157\tvalid_0's binary_logloss: 0.426701\tvalid_0's l1: 0.271778\n",
      "[5]\tvalid_0's auc: 0.700318\tvalid_0's binary_logloss: 0.423924\tvalid_0's l1: 0.270305\n",
      "[6]\tvalid_0's auc: 0.699871\tvalid_0's binary_logloss: 0.421737\tvalid_0's l1: 0.268414\n",
      "[7]\tvalid_0's auc: 0.700138\tvalid_0's binary_logloss: 0.419774\tvalid_0's l1: 0.267111\n",
      "Early stopping, best iteration is:\n",
      "[2]\tvalid_0's auc: 0.700579\tvalid_0's binary_logloss: 0.434863\tvalid_0's l1: 0.275704\n"
     ]
    },
    {
     "name": "stderr",
     "output_type": "stream",
     "text": [
      "C:\\Users\\kaviy\\anaconda3\\lib\\site-packages\\sklearn\\utils\\validation.py:73: DataConversionWarning: A column-vector y was passed when a 1d array was expected. Please change the shape of y to (n_samples, ), for example using ravel().\n",
      "  return f(**kwargs)\n"
     ]
    },
    {
     "name": "stdout",
     "output_type": "stream",
     "text": [
      "[1]\tvalid_0's auc: 0.630879\tvalid_0's binary_logloss: 0.441577\tvalid_0's l1: 0.276984\n",
      "Training until validation scores don't improve for 5 rounds\n",
      "[2]\tvalid_0's auc: 0.688861\tvalid_0's binary_logloss: 0.435726\tvalid_0's l1: 0.275205\n",
      "[3]\tvalid_0's auc: 0.695978\tvalid_0's binary_logloss: 0.431454\tvalid_0's l1: 0.273407\n",
      "[4]\tvalid_0's auc: 0.692283\tvalid_0's binary_logloss: 0.428545\tvalid_0's l1: 0.271008\n",
      "[5]\tvalid_0's auc: 0.696107\tvalid_0's binary_logloss: 0.425367\tvalid_0's l1: 0.269034\n",
      "[6]\tvalid_0's auc: 0.696276\tvalid_0's binary_logloss: 0.423289\tvalid_0's l1: 0.267789\n",
      "[7]\tvalid_0's auc: 0.693483\tvalid_0's binary_logloss: 0.421386\tvalid_0's l1: 0.267239\n",
      "[8]\tvalid_0's auc: 0.694393\tvalid_0's binary_logloss: 0.419705\tvalid_0's l1: 0.265628\n",
      "[9]\tvalid_0's auc: 0.695004\tvalid_0's binary_logloss: 0.418593\tvalid_0's l1: 0.264147\n",
      "[10]\tvalid_0's auc: 0.693111\tvalid_0's binary_logloss: 0.418316\tvalid_0's l1: 0.261892\n",
      "[11]\tvalid_0's auc: 0.693777\tvalid_0's binary_logloss: 0.417197\tvalid_0's l1: 0.260552\n",
      "Early stopping, best iteration is:\n",
      "[6]\tvalid_0's auc: 0.696276\tvalid_0's binary_logloss: 0.423289\tvalid_0's l1: 0.267789\n"
     ]
    },
    {
     "name": "stderr",
     "output_type": "stream",
     "text": [
      "C:\\Users\\kaviy\\anaconda3\\lib\\site-packages\\sklearn\\utils\\validation.py:73: DataConversionWarning: A column-vector y was passed when a 1d array was expected. Please change the shape of y to (n_samples, ), for example using ravel().\n",
      "  return f(**kwargs)\n"
     ]
    },
    {
     "name": "stdout",
     "output_type": "stream",
     "text": [
      "[1]\tvalid_0's auc: 0.694931\tvalid_0's binary_logloss: 0.440021\tvalid_0's l1: 0.277667\n",
      "Training until validation scores don't improve for 5 rounds\n",
      "[2]\tvalid_0's auc: 0.697752\tvalid_0's binary_logloss: 0.434617\tvalid_0's l1: 0.2752\n",
      "[3]\tvalid_0's auc: 0.697884\tvalid_0's binary_logloss: 0.430173\tvalid_0's l1: 0.273295\n",
      "[4]\tvalid_0's auc: 0.697667\tvalid_0's binary_logloss: 0.426511\tvalid_0's l1: 0.271321\n",
      "[5]\tvalid_0's auc: 0.698573\tvalid_0's binary_logloss: 0.423506\tvalid_0's l1: 0.269429\n",
      "[6]\tvalid_0's auc: 0.699679\tvalid_0's binary_logloss: 0.420941\tvalid_0's l1: 0.268026\n",
      "[7]\tvalid_0's auc: 0.700989\tvalid_0's binary_logloss: 0.418805\tvalid_0's l1: 0.266563\n",
      "[8]\tvalid_0's auc: 0.702858\tvalid_0's binary_logloss: 0.41704\tvalid_0's l1: 0.265058\n",
      "[9]\tvalid_0's auc: 0.701492\tvalid_0's binary_logloss: 0.415733\tvalid_0's l1: 0.263919\n",
      "[10]\tvalid_0's auc: 0.702036\tvalid_0's binary_logloss: 0.414534\tvalid_0's l1: 0.262901\n",
      "[11]\tvalid_0's auc: 0.703516\tvalid_0's binary_logloss: 0.413511\tvalid_0's l1: 0.261835\n",
      "[12]\tvalid_0's auc: 0.703991\tvalid_0's binary_logloss: 0.412767\tvalid_0's l1: 0.261034\n",
      "[13]\tvalid_0's auc: 0.703537\tvalid_0's binary_logloss: 0.412171\tvalid_0's l1: 0.260386\n",
      "[14]\tvalid_0's auc: 0.703512\tvalid_0's binary_logloss: 0.411774\tvalid_0's l1: 0.259394\n",
      "[15]\tvalid_0's auc: 0.703711\tvalid_0's binary_logloss: 0.411624\tvalid_0's l1: 0.258418\n",
      "[16]\tvalid_0's auc: 0.703076\tvalid_0's binary_logloss: 0.411652\tvalid_0's l1: 0.256609\n",
      "[17]\tvalid_0's auc: 0.702389\tvalid_0's binary_logloss: 0.411551\tvalid_0's l1: 0.255773\n",
      "Early stopping, best iteration is:\n",
      "[12]\tvalid_0's auc: 0.703991\tvalid_0's binary_logloss: 0.412767\tvalid_0's l1: 0.261034\n"
     ]
    },
    {
     "name": "stderr",
     "output_type": "stream",
     "text": [
      "C:\\Users\\kaviy\\anaconda3\\lib\\site-packages\\sklearn\\utils\\validation.py:73: DataConversionWarning: A column-vector y was passed when a 1d array was expected. Please change the shape of y to (n_samples, ), for example using ravel().\n",
      "  return f(**kwargs)\n"
     ]
    },
    {
     "name": "stdout",
     "output_type": "stream",
     "text": [
      "[1]\tvalid_0's auc: 0.675029\tvalid_0's binary_logloss: 0.440601\tvalid_0's l1: 0.277054\n",
      "Training until validation scores don't improve for 5 rounds\n",
      "[2]\tvalid_0's auc: 0.699015\tvalid_0's binary_logloss: 0.434556\tvalid_0's l1: 0.275434\n",
      "[3]\tvalid_0's auc: 0.699011\tvalid_0's binary_logloss: 0.429971\tvalid_0's l1: 0.273395\n",
      "[4]\tvalid_0's auc: 0.696643\tvalid_0's binary_logloss: 0.426797\tvalid_0's l1: 0.27125\n",
      "[5]\tvalid_0's auc: 0.698377\tvalid_0's binary_logloss: 0.42361\tvalid_0's l1: 0.269226\n",
      "[6]\tvalid_0's auc: 0.699342\tvalid_0's binary_logloss: 0.421077\tvalid_0's l1: 0.267544\n",
      "[7]\tvalid_0's auc: 0.700188\tvalid_0's binary_logloss: 0.419199\tvalid_0's l1: 0.266303\n",
      "[8]\tvalid_0's auc: 0.700458\tvalid_0's binary_logloss: 0.417632\tvalid_0's l1: 0.265444\n",
      "[9]\tvalid_0's auc: 0.699803\tvalid_0's binary_logloss: 0.416241\tvalid_0's l1: 0.263978\n",
      "[10]\tvalid_0's auc: 0.70028\tvalid_0's binary_logloss: 0.415053\tvalid_0's l1: 0.262631\n",
      "[11]\tvalid_0's auc: 0.701017\tvalid_0's binary_logloss: 0.414177\tvalid_0's l1: 0.261585\n",
      "[12]\tvalid_0's auc: 0.701673\tvalid_0's binary_logloss: 0.413435\tvalid_0's l1: 0.260879\n",
      "[13]\tvalid_0's auc: 0.70165\tvalid_0's binary_logloss: 0.412705\tvalid_0's l1: 0.259812\n",
      "[14]\tvalid_0's auc: 0.702591\tvalid_0's binary_logloss: 0.412072\tvalid_0's l1: 0.259136\n",
      "[15]\tvalid_0's auc: 0.70211\tvalid_0's binary_logloss: 0.411646\tvalid_0's l1: 0.258319\n",
      "[16]\tvalid_0's auc: 0.702496\tvalid_0's binary_logloss: 0.411245\tvalid_0's l1: 0.257722\n",
      "[17]\tvalid_0's auc: 0.70284\tvalid_0's binary_logloss: 0.410905\tvalid_0's l1: 0.257209\n",
      "[18]\tvalid_0's auc: 0.701672\tvalid_0's binary_logloss: 0.411519\tvalid_0's l1: 0.257528\n",
      "[19]\tvalid_0's auc: 0.701455\tvalid_0's binary_logloss: 0.411458\tvalid_0's l1: 0.257223\n",
      "[20]\tvalid_0's auc: 0.70143\tvalid_0's binary_logloss: 0.411351\tvalid_0's l1: 0.256651\n",
      "[21]\tvalid_0's auc: 0.701782\tvalid_0's binary_logloss: 0.411211\tvalid_0's l1: 0.256477\n",
      "[22]\tvalid_0's auc: 0.701626\tvalid_0's binary_logloss: 0.411165\tvalid_0's l1: 0.256328\n",
      "Early stopping, best iteration is:\n",
      "[17]\tvalid_0's auc: 0.70284\tvalid_0's binary_logloss: 0.410905\tvalid_0's l1: 0.257209\n"
     ]
    },
    {
     "name": "stderr",
     "output_type": "stream",
     "text": [
      "C:\\Users\\kaviy\\anaconda3\\lib\\site-packages\\sklearn\\utils\\validation.py:73: DataConversionWarning: A column-vector y was passed when a 1d array was expected. Please change the shape of y to (n_samples, ), for example using ravel().\n",
      "  return f(**kwargs)\n"
     ]
    },
    {
     "name": "stdout",
     "output_type": "stream",
     "text": [
      "[1]\tvalid_0's auc: 0.694609\tvalid_0's binary_logloss: 0.44033\tvalid_0's l1: 0.278039\n",
      "Training until validation scores don't improve for 5 rounds\n",
      "[2]\tvalid_0's auc: 0.700862\tvalid_0's binary_logloss: 0.434473\tvalid_0's l1: 0.275845\n",
      "[3]\tvalid_0's auc: 0.70233\tvalid_0's binary_logloss: 0.429807\tvalid_0's l1: 0.273446\n",
      "[4]\tvalid_0's auc: 0.702301\tvalid_0's binary_logloss: 0.426199\tvalid_0's l1: 0.271584\n",
      "[5]\tvalid_0's auc: 0.701809\tvalid_0's binary_logloss: 0.423428\tvalid_0's l1: 0.26984\n",
      "[6]\tvalid_0's auc: 0.703847\tvalid_0's binary_logloss: 0.420667\tvalid_0's l1: 0.267884\n",
      "[7]\tvalid_0's auc: 0.703665\tvalid_0's binary_logloss: 0.418464\tvalid_0's l1: 0.26646\n",
      "[8]\tvalid_0's auc: 0.704031\tvalid_0's binary_logloss: 0.416722\tvalid_0's l1: 0.265085\n",
      "[9]\tvalid_0's auc: 0.703999\tvalid_0's binary_logloss: 0.415268\tvalid_0's l1: 0.26382\n",
      "[10]\tvalid_0's auc: 0.704175\tvalid_0's binary_logloss: 0.414176\tvalid_0's l1: 0.26263\n",
      "[11]\tvalid_0's auc: 0.70415\tvalid_0's binary_logloss: 0.413415\tvalid_0's l1: 0.261287\n",
      "[12]\tvalid_0's auc: 0.704436\tvalid_0's binary_logloss: 0.412722\tvalid_0's l1: 0.260551\n",
      "[13]\tvalid_0's auc: 0.70458\tvalid_0's binary_logloss: 0.412084\tvalid_0's l1: 0.259733\n",
      "[14]\tvalid_0's auc: 0.704276\tvalid_0's binary_logloss: 0.411533\tvalid_0's l1: 0.258937\n",
      "[15]\tvalid_0's auc: 0.703926\tvalid_0's binary_logloss: 0.411163\tvalid_0's l1: 0.257681\n",
      "[16]\tvalid_0's auc: 0.703581\tvalid_0's binary_logloss: 0.410944\tvalid_0's l1: 0.257192\n",
      "[17]\tvalid_0's auc: 0.703519\tvalid_0's binary_logloss: 0.410666\tvalid_0's l1: 0.256408\n",
      "[18]\tvalid_0's auc: 0.703293\tvalid_0's binary_logloss: 0.410538\tvalid_0's l1: 0.255653\n",
      "Early stopping, best iteration is:\n",
      "[13]\tvalid_0's auc: 0.70458\tvalid_0's binary_logloss: 0.412084\tvalid_0's l1: 0.259733\n"
     ]
    },
    {
     "name": "stderr",
     "output_type": "stream",
     "text": [
      "C:\\Users\\kaviy\\anaconda3\\lib\\site-packages\\sklearn\\utils\\validation.py:73: DataConversionWarning: A column-vector y was passed when a 1d array was expected. Please change the shape of y to (n_samples, ), for example using ravel().\n",
      "  return f(**kwargs)\n"
     ]
    },
    {
     "name": "stdout",
     "output_type": "stream",
     "text": [
      "[1]\tvalid_0's auc: 0.699268\tvalid_0's binary_logloss: 0.440319\tvalid_0's l1: 0.278131\n",
      "Training until validation scores don't improve for 5 rounds\n",
      "[2]\tvalid_0's auc: 0.700579\tvalid_0's binary_logloss: 0.434863\tvalid_0's l1: 0.275704\n",
      "[3]\tvalid_0's auc: 0.700027\tvalid_0's binary_logloss: 0.430348\tvalid_0's l1: 0.274014\n",
      "[4]\tvalid_0's auc: 0.700157\tvalid_0's binary_logloss: 0.426701\tvalid_0's l1: 0.271778\n",
      "[5]\tvalid_0's auc: 0.700318\tvalid_0's binary_logloss: 0.423924\tvalid_0's l1: 0.270305\n",
      "[6]\tvalid_0's auc: 0.699871\tvalid_0's binary_logloss: 0.421737\tvalid_0's l1: 0.268414\n",
      "[7]\tvalid_0's auc: 0.700138\tvalid_0's binary_logloss: 0.419774\tvalid_0's l1: 0.267111\n",
      "Early stopping, best iteration is:\n",
      "[2]\tvalid_0's auc: 0.700579\tvalid_0's binary_logloss: 0.434863\tvalid_0's l1: 0.275704\n"
     ]
    },
    {
     "name": "stderr",
     "output_type": "stream",
     "text": [
      "C:\\Users\\kaviy\\anaconda3\\lib\\site-packages\\sklearn\\utils\\validation.py:73: DataConversionWarning: A column-vector y was passed when a 1d array was expected. Please change the shape of y to (n_samples, ), for example using ravel().\n",
      "  return f(**kwargs)\n"
     ]
    },
    {
     "name": "stdout",
     "output_type": "stream",
     "text": [
      "[1]\tvalid_0's auc: 0.630879\tvalid_0's binary_logloss: 0.441577\tvalid_0's l1: 0.276984\n",
      "Training until validation scores don't improve for 5 rounds\n",
      "[2]\tvalid_0's auc: 0.688861\tvalid_0's binary_logloss: 0.435726\tvalid_0's l1: 0.275205\n",
      "[3]\tvalid_0's auc: 0.695978\tvalid_0's binary_logloss: 0.431454\tvalid_0's l1: 0.273407\n",
      "[4]\tvalid_0's auc: 0.692283\tvalid_0's binary_logloss: 0.428545\tvalid_0's l1: 0.271008\n",
      "[5]\tvalid_0's auc: 0.696107\tvalid_0's binary_logloss: 0.425367\tvalid_0's l1: 0.269034\n",
      "[6]\tvalid_0's auc: 0.696276\tvalid_0's binary_logloss: 0.423289\tvalid_0's l1: 0.267789\n",
      "[7]\tvalid_0's auc: 0.693483\tvalid_0's binary_logloss: 0.421386\tvalid_0's l1: 0.267239\n",
      "[8]\tvalid_0's auc: 0.694393\tvalid_0's binary_logloss: 0.419705\tvalid_0's l1: 0.265628\n",
      "[9]\tvalid_0's auc: 0.695004\tvalid_0's binary_logloss: 0.418593\tvalid_0's l1: 0.264147\n",
      "[10]\tvalid_0's auc: 0.693111\tvalid_0's binary_logloss: 0.418316\tvalid_0's l1: 0.261892\n",
      "[11]\tvalid_0's auc: 0.693777\tvalid_0's binary_logloss: 0.417197\tvalid_0's l1: 0.260552\n",
      "Early stopping, best iteration is:\n",
      "[6]\tvalid_0's auc: 0.696276\tvalid_0's binary_logloss: 0.423289\tvalid_0's l1: 0.267789\n"
     ]
    },
    {
     "name": "stderr",
     "output_type": "stream",
     "text": [
      "C:\\Users\\kaviy\\anaconda3\\lib\\site-packages\\sklearn\\utils\\validation.py:73: DataConversionWarning: A column-vector y was passed when a 1d array was expected. Please change the shape of y to (n_samples, ), for example using ravel().\n",
      "  return f(**kwargs)\n"
     ]
    },
    {
     "name": "stdout",
     "output_type": "stream",
     "text": [
      "[1]\tvalid_0's auc: 0.694931\tvalid_0's binary_logloss: 0.440021\tvalid_0's l1: 0.277667\n",
      "Training until validation scores don't improve for 5 rounds\n",
      "[2]\tvalid_0's auc: 0.697752\tvalid_0's binary_logloss: 0.434617\tvalid_0's l1: 0.2752\n",
      "[3]\tvalid_0's auc: 0.697884\tvalid_0's binary_logloss: 0.430173\tvalid_0's l1: 0.273295\n",
      "[4]\tvalid_0's auc: 0.697667\tvalid_0's binary_logloss: 0.426511\tvalid_0's l1: 0.271321\n",
      "[5]\tvalid_0's auc: 0.698573\tvalid_0's binary_logloss: 0.423506\tvalid_0's l1: 0.269429\n",
      "[6]\tvalid_0's auc: 0.699679\tvalid_0's binary_logloss: 0.420941\tvalid_0's l1: 0.268026\n",
      "[7]\tvalid_0's auc: 0.700989\tvalid_0's binary_logloss: 0.418805\tvalid_0's l1: 0.266563\n",
      "[8]\tvalid_0's auc: 0.702858\tvalid_0's binary_logloss: 0.41704\tvalid_0's l1: 0.265058\n",
      "[9]\tvalid_0's auc: 0.701492\tvalid_0's binary_logloss: 0.415733\tvalid_0's l1: 0.263919\n",
      "[10]\tvalid_0's auc: 0.702036\tvalid_0's binary_logloss: 0.414534\tvalid_0's l1: 0.262901\n",
      "[11]\tvalid_0's auc: 0.703516\tvalid_0's binary_logloss: 0.413511\tvalid_0's l1: 0.261835\n",
      "[12]\tvalid_0's auc: 0.703991\tvalid_0's binary_logloss: 0.412767\tvalid_0's l1: 0.261034\n",
      "[13]\tvalid_0's auc: 0.703537\tvalid_0's binary_logloss: 0.412171\tvalid_0's l1: 0.260386\n",
      "[14]\tvalid_0's auc: 0.703512\tvalid_0's binary_logloss: 0.411774\tvalid_0's l1: 0.259394\n",
      "[15]\tvalid_0's auc: 0.703711\tvalid_0's binary_logloss: 0.411624\tvalid_0's l1: 0.258418\n",
      "[16]\tvalid_0's auc: 0.703076\tvalid_0's binary_logloss: 0.411652\tvalid_0's l1: 0.256609\n",
      "[17]\tvalid_0's auc: 0.702389\tvalid_0's binary_logloss: 0.411551\tvalid_0's l1: 0.255773\n",
      "Early stopping, best iteration is:\n",
      "[12]\tvalid_0's auc: 0.703991\tvalid_0's binary_logloss: 0.412767\tvalid_0's l1: 0.261034\n"
     ]
    },
    {
     "name": "stderr",
     "output_type": "stream",
     "text": [
      "C:\\Users\\kaviy\\anaconda3\\lib\\site-packages\\sklearn\\utils\\validation.py:73: DataConversionWarning: A column-vector y was passed when a 1d array was expected. Please change the shape of y to (n_samples, ), for example using ravel().\n",
      "  return f(**kwargs)\n"
     ]
    },
    {
     "name": "stdout",
     "output_type": "stream",
     "text": [
      "[1]\tvalid_0's auc: 0.675029\tvalid_0's binary_logloss: 0.440601\tvalid_0's l1: 0.277054\n",
      "Training until validation scores don't improve for 5 rounds\n",
      "[2]\tvalid_0's auc: 0.699015\tvalid_0's binary_logloss: 0.434556\tvalid_0's l1: 0.275434\n",
      "[3]\tvalid_0's auc: 0.699011\tvalid_0's binary_logloss: 0.429971\tvalid_0's l1: 0.273395\n",
      "[4]\tvalid_0's auc: 0.696643\tvalid_0's binary_logloss: 0.426797\tvalid_0's l1: 0.27125\n",
      "[5]\tvalid_0's auc: 0.698377\tvalid_0's binary_logloss: 0.42361\tvalid_0's l1: 0.269226\n",
      "[6]\tvalid_0's auc: 0.699342\tvalid_0's binary_logloss: 0.421077\tvalid_0's l1: 0.267544\n",
      "[7]\tvalid_0's auc: 0.700188\tvalid_0's binary_logloss: 0.419199\tvalid_0's l1: 0.266303\n",
      "[8]\tvalid_0's auc: 0.700458\tvalid_0's binary_logloss: 0.417632\tvalid_0's l1: 0.265444\n",
      "[9]\tvalid_0's auc: 0.699803\tvalid_0's binary_logloss: 0.416241\tvalid_0's l1: 0.263978\n",
      "[10]\tvalid_0's auc: 0.70028\tvalid_0's binary_logloss: 0.415053\tvalid_0's l1: 0.262631\n",
      "[11]\tvalid_0's auc: 0.701017\tvalid_0's binary_logloss: 0.414177\tvalid_0's l1: 0.261585\n",
      "[12]\tvalid_0's auc: 0.701673\tvalid_0's binary_logloss: 0.413435\tvalid_0's l1: 0.260879\n",
      "[13]\tvalid_0's auc: 0.70165\tvalid_0's binary_logloss: 0.412705\tvalid_0's l1: 0.259812\n",
      "[14]\tvalid_0's auc: 0.702591\tvalid_0's binary_logloss: 0.412072\tvalid_0's l1: 0.259136\n",
      "[15]\tvalid_0's auc: 0.70211\tvalid_0's binary_logloss: 0.411646\tvalid_0's l1: 0.258319\n",
      "[16]\tvalid_0's auc: 0.702496\tvalid_0's binary_logloss: 0.411245\tvalid_0's l1: 0.257722\n",
      "[17]\tvalid_0's auc: 0.70284\tvalid_0's binary_logloss: 0.410905\tvalid_0's l1: 0.257209\n",
      "[18]\tvalid_0's auc: 0.701672\tvalid_0's binary_logloss: 0.411519\tvalid_0's l1: 0.257528\n",
      "[19]\tvalid_0's auc: 0.701455\tvalid_0's binary_logloss: 0.411458\tvalid_0's l1: 0.257223\n",
      "[20]\tvalid_0's auc: 0.70143\tvalid_0's binary_logloss: 0.411351\tvalid_0's l1: 0.256651\n",
      "[21]\tvalid_0's auc: 0.701782\tvalid_0's binary_logloss: 0.411211\tvalid_0's l1: 0.256477\n",
      "[22]\tvalid_0's auc: 0.701626\tvalid_0's binary_logloss: 0.411165\tvalid_0's l1: 0.256328\n",
      "Early stopping, best iteration is:\n",
      "[17]\tvalid_0's auc: 0.70284\tvalid_0's binary_logloss: 0.410905\tvalid_0's l1: 0.257209\n"
     ]
    },
    {
     "name": "stderr",
     "output_type": "stream",
     "text": [
      "C:\\Users\\kaviy\\anaconda3\\lib\\site-packages\\sklearn\\utils\\validation.py:73: DataConversionWarning: A column-vector y was passed when a 1d array was expected. Please change the shape of y to (n_samples, ), for example using ravel().\n",
      "  return f(**kwargs)\n"
     ]
    },
    {
     "name": "stdout",
     "output_type": "stream",
     "text": [
      "[1]\tvalid_0's auc: 0.694609\tvalid_0's binary_logloss: 0.44033\tvalid_0's l1: 0.278039\n",
      "Training until validation scores don't improve for 5 rounds\n",
      "[2]\tvalid_0's auc: 0.700862\tvalid_0's binary_logloss: 0.434473\tvalid_0's l1: 0.275845\n",
      "[3]\tvalid_0's auc: 0.70233\tvalid_0's binary_logloss: 0.429807\tvalid_0's l1: 0.273446\n",
      "[4]\tvalid_0's auc: 0.702301\tvalid_0's binary_logloss: 0.426199\tvalid_0's l1: 0.271584\n",
      "[5]\tvalid_0's auc: 0.701809\tvalid_0's binary_logloss: 0.423428\tvalid_0's l1: 0.26984\n",
      "[6]\tvalid_0's auc: 0.703847\tvalid_0's binary_logloss: 0.420667\tvalid_0's l1: 0.267884\n",
      "[7]\tvalid_0's auc: 0.703665\tvalid_0's binary_logloss: 0.418464\tvalid_0's l1: 0.26646\n",
      "[8]\tvalid_0's auc: 0.704031\tvalid_0's binary_logloss: 0.416722\tvalid_0's l1: 0.265085\n",
      "[9]\tvalid_0's auc: 0.703999\tvalid_0's binary_logloss: 0.415268\tvalid_0's l1: 0.26382\n",
      "[10]\tvalid_0's auc: 0.704175\tvalid_0's binary_logloss: 0.414176\tvalid_0's l1: 0.26263\n",
      "[11]\tvalid_0's auc: 0.70415\tvalid_0's binary_logloss: 0.413415\tvalid_0's l1: 0.261287\n",
      "[12]\tvalid_0's auc: 0.704436\tvalid_0's binary_logloss: 0.412722\tvalid_0's l1: 0.260551\n",
      "[13]\tvalid_0's auc: 0.70458\tvalid_0's binary_logloss: 0.412084\tvalid_0's l1: 0.259733\n",
      "[14]\tvalid_0's auc: 0.704276\tvalid_0's binary_logloss: 0.411533\tvalid_0's l1: 0.258937\n",
      "[15]\tvalid_0's auc: 0.703926\tvalid_0's binary_logloss: 0.411163\tvalid_0's l1: 0.257681\n",
      "[16]\tvalid_0's auc: 0.703581\tvalid_0's binary_logloss: 0.410944\tvalid_0's l1: 0.257192\n",
      "[17]\tvalid_0's auc: 0.703519\tvalid_0's binary_logloss: 0.410666\tvalid_0's l1: 0.256408\n",
      "[18]\tvalid_0's auc: 0.703293\tvalid_0's binary_logloss: 0.410538\tvalid_0's l1: 0.255653\n",
      "Early stopping, best iteration is:\n",
      "[13]\tvalid_0's auc: 0.70458\tvalid_0's binary_logloss: 0.412084\tvalid_0's l1: 0.259733\n"
     ]
    },
    {
     "name": "stderr",
     "output_type": "stream",
     "text": [
      "C:\\Users\\kaviy\\anaconda3\\lib\\site-packages\\sklearn\\utils\\validation.py:73: DataConversionWarning: A column-vector y was passed when a 1d array was expected. Please change the shape of y to (n_samples, ), for example using ravel().\n",
      "  return f(**kwargs)\n"
     ]
    },
    {
     "name": "stdout",
     "output_type": "stream",
     "text": [
      "[1]\tvalid_0's auc: 0.699268\tvalid_0's binary_logloss: 0.440319\tvalid_0's l1: 0.278131\n",
      "Training until validation scores don't improve for 5 rounds\n",
      "[2]\tvalid_0's auc: 0.700579\tvalid_0's binary_logloss: 0.434863\tvalid_0's l1: 0.275704\n",
      "[3]\tvalid_0's auc: 0.700027\tvalid_0's binary_logloss: 0.430348\tvalid_0's l1: 0.274014\n",
      "[4]\tvalid_0's auc: 0.700157\tvalid_0's binary_logloss: 0.426701\tvalid_0's l1: 0.271778\n",
      "[5]\tvalid_0's auc: 0.700318\tvalid_0's binary_logloss: 0.423924\tvalid_0's l1: 0.270305\n",
      "[6]\tvalid_0's auc: 0.699871\tvalid_0's binary_logloss: 0.421737\tvalid_0's l1: 0.268414\n",
      "[7]\tvalid_0's auc: 0.700138\tvalid_0's binary_logloss: 0.419774\tvalid_0's l1: 0.267111\n",
      "Early stopping, best iteration is:\n",
      "[2]\tvalid_0's auc: 0.700579\tvalid_0's binary_logloss: 0.434863\tvalid_0's l1: 0.275704\n"
     ]
    },
    {
     "name": "stderr",
     "output_type": "stream",
     "text": [
      "C:\\Users\\kaviy\\anaconda3\\lib\\site-packages\\sklearn\\utils\\validation.py:73: DataConversionWarning: A column-vector y was passed when a 1d array was expected. Please change the shape of y to (n_samples, ), for example using ravel().\n",
      "  return f(**kwargs)\n"
     ]
    },
    {
     "name": "stdout",
     "output_type": "stream",
     "text": [
      "[1]\tvalid_0's auc: 0.630879\tvalid_0's binary_logloss: 0.441577\tvalid_0's l1: 0.276984\n",
      "Training until validation scores don't improve for 5 rounds\n",
      "[2]\tvalid_0's auc: 0.688861\tvalid_0's binary_logloss: 0.435726\tvalid_0's l1: 0.275205\n",
      "[3]\tvalid_0's auc: 0.695978\tvalid_0's binary_logloss: 0.431454\tvalid_0's l1: 0.273407\n",
      "[4]\tvalid_0's auc: 0.692283\tvalid_0's binary_logloss: 0.428545\tvalid_0's l1: 0.271008\n",
      "[5]\tvalid_0's auc: 0.696107\tvalid_0's binary_logloss: 0.425367\tvalid_0's l1: 0.269034\n",
      "[6]\tvalid_0's auc: 0.696276\tvalid_0's binary_logloss: 0.423289\tvalid_0's l1: 0.267789\n",
      "[7]\tvalid_0's auc: 0.693483\tvalid_0's binary_logloss: 0.421386\tvalid_0's l1: 0.267239\n",
      "[8]\tvalid_0's auc: 0.694393\tvalid_0's binary_logloss: 0.419705\tvalid_0's l1: 0.265628\n",
      "[9]\tvalid_0's auc: 0.695004\tvalid_0's binary_logloss: 0.418593\tvalid_0's l1: 0.264147\n",
      "[10]\tvalid_0's auc: 0.693111\tvalid_0's binary_logloss: 0.418316\tvalid_0's l1: 0.261892\n",
      "[11]\tvalid_0's auc: 0.693777\tvalid_0's binary_logloss: 0.417197\tvalid_0's l1: 0.260552\n",
      "Early stopping, best iteration is:\n",
      "[6]\tvalid_0's auc: 0.696276\tvalid_0's binary_logloss: 0.423289\tvalid_0's l1: 0.267789\n"
     ]
    },
    {
     "name": "stderr",
     "output_type": "stream",
     "text": [
      "C:\\Users\\kaviy\\anaconda3\\lib\\site-packages\\sklearn\\utils\\validation.py:73: DataConversionWarning: A column-vector y was passed when a 1d array was expected. Please change the shape of y to (n_samples, ), for example using ravel().\n",
      "  return f(**kwargs)\n"
     ]
    },
    {
     "name": "stdout",
     "output_type": "stream",
     "text": [
      "[1]\tvalid_0's auc: 0.694931\tvalid_0's binary_logloss: 0.440021\tvalid_0's l1: 0.277667\n",
      "Training until validation scores don't improve for 5 rounds\n",
      "[2]\tvalid_0's auc: 0.697752\tvalid_0's binary_logloss: 0.434617\tvalid_0's l1: 0.2752\n",
      "[3]\tvalid_0's auc: 0.697884\tvalid_0's binary_logloss: 0.430173\tvalid_0's l1: 0.273295\n",
      "[4]\tvalid_0's auc: 0.697667\tvalid_0's binary_logloss: 0.426511\tvalid_0's l1: 0.271321\n",
      "[5]\tvalid_0's auc: 0.698573\tvalid_0's binary_logloss: 0.423506\tvalid_0's l1: 0.269429\n",
      "[6]\tvalid_0's auc: 0.699679\tvalid_0's binary_logloss: 0.420941\tvalid_0's l1: 0.268026\n",
      "[7]\tvalid_0's auc: 0.700989\tvalid_0's binary_logloss: 0.418805\tvalid_0's l1: 0.266563\n",
      "[8]\tvalid_0's auc: 0.702858\tvalid_0's binary_logloss: 0.41704\tvalid_0's l1: 0.265058\n",
      "[9]\tvalid_0's auc: 0.701492\tvalid_0's binary_logloss: 0.415733\tvalid_0's l1: 0.263919\n",
      "[10]\tvalid_0's auc: 0.702036\tvalid_0's binary_logloss: 0.414534\tvalid_0's l1: 0.262901\n",
      "[11]\tvalid_0's auc: 0.703516\tvalid_0's binary_logloss: 0.413511\tvalid_0's l1: 0.261835\n",
      "[12]\tvalid_0's auc: 0.703991\tvalid_0's binary_logloss: 0.412767\tvalid_0's l1: 0.261034\n",
      "[13]\tvalid_0's auc: 0.703537\tvalid_0's binary_logloss: 0.412171\tvalid_0's l1: 0.260386\n",
      "[14]\tvalid_0's auc: 0.703512\tvalid_0's binary_logloss: 0.411774\tvalid_0's l1: 0.259394\n",
      "[15]\tvalid_0's auc: 0.703711\tvalid_0's binary_logloss: 0.411624\tvalid_0's l1: 0.258418\n",
      "[16]\tvalid_0's auc: 0.703076\tvalid_0's binary_logloss: 0.411652\tvalid_0's l1: 0.256609\n",
      "[17]\tvalid_0's auc: 0.702389\tvalid_0's binary_logloss: 0.411551\tvalid_0's l1: 0.255773\n",
      "Early stopping, best iteration is:\n",
      "[12]\tvalid_0's auc: 0.703991\tvalid_0's binary_logloss: 0.412767\tvalid_0's l1: 0.261034\n"
     ]
    },
    {
     "name": "stderr",
     "output_type": "stream",
     "text": [
      "C:\\Users\\kaviy\\anaconda3\\lib\\site-packages\\sklearn\\utils\\validation.py:73: DataConversionWarning: A column-vector y was passed when a 1d array was expected. Please change the shape of y to (n_samples, ), for example using ravel().\n",
      "  return f(**kwargs)\n"
     ]
    },
    {
     "name": "stdout",
     "output_type": "stream",
     "text": [
      "[1]\tvalid_0's auc: 0.675029\tvalid_0's binary_logloss: 0.440601\tvalid_0's l1: 0.277054\n",
      "Training until validation scores don't improve for 5 rounds\n",
      "[2]\tvalid_0's auc: 0.699015\tvalid_0's binary_logloss: 0.434556\tvalid_0's l1: 0.275434\n",
      "[3]\tvalid_0's auc: 0.699011\tvalid_0's binary_logloss: 0.429971\tvalid_0's l1: 0.273395\n",
      "[4]\tvalid_0's auc: 0.696643\tvalid_0's binary_logloss: 0.426797\tvalid_0's l1: 0.27125\n",
      "[5]\tvalid_0's auc: 0.698377\tvalid_0's binary_logloss: 0.42361\tvalid_0's l1: 0.269226\n",
      "[6]\tvalid_0's auc: 0.699342\tvalid_0's binary_logloss: 0.421077\tvalid_0's l1: 0.267544\n",
      "[7]\tvalid_0's auc: 0.700188\tvalid_0's binary_logloss: 0.419199\tvalid_0's l1: 0.266303\n",
      "[8]\tvalid_0's auc: 0.700458\tvalid_0's binary_logloss: 0.417632\tvalid_0's l1: 0.265444\n",
      "[9]\tvalid_0's auc: 0.699803\tvalid_0's binary_logloss: 0.416241\tvalid_0's l1: 0.263978\n",
      "[10]\tvalid_0's auc: 0.70028\tvalid_0's binary_logloss: 0.415053\tvalid_0's l1: 0.262631\n",
      "[11]\tvalid_0's auc: 0.701017\tvalid_0's binary_logloss: 0.414177\tvalid_0's l1: 0.261585\n",
      "[12]\tvalid_0's auc: 0.701673\tvalid_0's binary_logloss: 0.413435\tvalid_0's l1: 0.260879\n",
      "[13]\tvalid_0's auc: 0.70165\tvalid_0's binary_logloss: 0.412705\tvalid_0's l1: 0.259812\n",
      "[14]\tvalid_0's auc: 0.702591\tvalid_0's binary_logloss: 0.412072\tvalid_0's l1: 0.259136\n",
      "[15]\tvalid_0's auc: 0.70211\tvalid_0's binary_logloss: 0.411646\tvalid_0's l1: 0.258319\n",
      "[16]\tvalid_0's auc: 0.702496\tvalid_0's binary_logloss: 0.411245\tvalid_0's l1: 0.257722\n",
      "[17]\tvalid_0's auc: 0.70284\tvalid_0's binary_logloss: 0.410905\tvalid_0's l1: 0.257209\n",
      "[18]\tvalid_0's auc: 0.701672\tvalid_0's binary_logloss: 0.411519\tvalid_0's l1: 0.257528\n",
      "[19]\tvalid_0's auc: 0.701455\tvalid_0's binary_logloss: 0.411458\tvalid_0's l1: 0.257223\n",
      "[20]\tvalid_0's auc: 0.70143\tvalid_0's binary_logloss: 0.411351\tvalid_0's l1: 0.256651\n",
      "[21]\tvalid_0's auc: 0.701782\tvalid_0's binary_logloss: 0.411211\tvalid_0's l1: 0.256477\n",
      "[22]\tvalid_0's auc: 0.701626\tvalid_0's binary_logloss: 0.411165\tvalid_0's l1: 0.256328\n",
      "Early stopping, best iteration is:\n",
      "[17]\tvalid_0's auc: 0.70284\tvalid_0's binary_logloss: 0.410905\tvalid_0's l1: 0.257209\n"
     ]
    },
    {
     "name": "stderr",
     "output_type": "stream",
     "text": [
      "C:\\Users\\kaviy\\anaconda3\\lib\\site-packages\\sklearn\\utils\\validation.py:73: DataConversionWarning: A column-vector y was passed when a 1d array was expected. Please change the shape of y to (n_samples, ), for example using ravel().\n",
      "  return f(**kwargs)\n"
     ]
    },
    {
     "name": "stdout",
     "output_type": "stream",
     "text": [
      "[1]\tvalid_0's auc: 0.694609\tvalid_0's binary_logloss: 0.44033\tvalid_0's l1: 0.278039\n",
      "Training until validation scores don't improve for 5 rounds\n",
      "[2]\tvalid_0's auc: 0.700862\tvalid_0's binary_logloss: 0.434473\tvalid_0's l1: 0.275845\n",
      "[3]\tvalid_0's auc: 0.70233\tvalid_0's binary_logloss: 0.429807\tvalid_0's l1: 0.273446\n",
      "[4]\tvalid_0's auc: 0.702301\tvalid_0's binary_logloss: 0.426199\tvalid_0's l1: 0.271584\n",
      "[5]\tvalid_0's auc: 0.701809\tvalid_0's binary_logloss: 0.423428\tvalid_0's l1: 0.26984\n",
      "[6]\tvalid_0's auc: 0.703847\tvalid_0's binary_logloss: 0.420667\tvalid_0's l1: 0.267884\n",
      "[7]\tvalid_0's auc: 0.703665\tvalid_0's binary_logloss: 0.418464\tvalid_0's l1: 0.26646\n",
      "[8]\tvalid_0's auc: 0.704031\tvalid_0's binary_logloss: 0.416722\tvalid_0's l1: 0.265085\n",
      "[9]\tvalid_0's auc: 0.703999\tvalid_0's binary_logloss: 0.415268\tvalid_0's l1: 0.26382\n",
      "[10]\tvalid_0's auc: 0.704175\tvalid_0's binary_logloss: 0.414176\tvalid_0's l1: 0.26263\n",
      "[11]\tvalid_0's auc: 0.70415\tvalid_0's binary_logloss: 0.413415\tvalid_0's l1: 0.261287\n",
      "[12]\tvalid_0's auc: 0.704436\tvalid_0's binary_logloss: 0.412722\tvalid_0's l1: 0.260551\n",
      "[13]\tvalid_0's auc: 0.70458\tvalid_0's binary_logloss: 0.412084\tvalid_0's l1: 0.259733\n",
      "[14]\tvalid_0's auc: 0.704276\tvalid_0's binary_logloss: 0.411533\tvalid_0's l1: 0.258937\n",
      "[15]\tvalid_0's auc: 0.703926\tvalid_0's binary_logloss: 0.411163\tvalid_0's l1: 0.257681\n",
      "[16]\tvalid_0's auc: 0.703581\tvalid_0's binary_logloss: 0.410944\tvalid_0's l1: 0.257192\n",
      "[17]\tvalid_0's auc: 0.703519\tvalid_0's binary_logloss: 0.410666\tvalid_0's l1: 0.256408\n",
      "[18]\tvalid_0's auc: 0.703293\tvalid_0's binary_logloss: 0.410538\tvalid_0's l1: 0.255653\n",
      "Early stopping, best iteration is:\n",
      "[13]\tvalid_0's auc: 0.70458\tvalid_0's binary_logloss: 0.412084\tvalid_0's l1: 0.259733\n"
     ]
    },
    {
     "name": "stderr",
     "output_type": "stream",
     "text": [
      "C:\\Users\\kaviy\\anaconda3\\lib\\site-packages\\sklearn\\utils\\validation.py:73: DataConversionWarning: A column-vector y was passed when a 1d array was expected. Please change the shape of y to (n_samples, ), for example using ravel().\n",
      "  return f(**kwargs)\n"
     ]
    },
    {
     "name": "stdout",
     "output_type": "stream",
     "text": [
      "[1]\tvalid_0's auc: 0.699268\tvalid_0's binary_logloss: 0.440319\tvalid_0's l1: 0.278131\n",
      "Training until validation scores don't improve for 5 rounds\n",
      "[2]\tvalid_0's auc: 0.700579\tvalid_0's binary_logloss: 0.434863\tvalid_0's l1: 0.275704\n",
      "[3]\tvalid_0's auc: 0.700027\tvalid_0's binary_logloss: 0.430348\tvalid_0's l1: 0.274014\n",
      "[4]\tvalid_0's auc: 0.700157\tvalid_0's binary_logloss: 0.426701\tvalid_0's l1: 0.271778\n",
      "[5]\tvalid_0's auc: 0.700318\tvalid_0's binary_logloss: 0.423924\tvalid_0's l1: 0.270305\n",
      "[6]\tvalid_0's auc: 0.699871\tvalid_0's binary_logloss: 0.421737\tvalid_0's l1: 0.268414\n",
      "[7]\tvalid_0's auc: 0.700138\tvalid_0's binary_logloss: 0.419774\tvalid_0's l1: 0.267111\n",
      "Early stopping, best iteration is:\n",
      "[2]\tvalid_0's auc: 0.700579\tvalid_0's binary_logloss: 0.434863\tvalid_0's l1: 0.275704\n"
     ]
    },
    {
     "name": "stderr",
     "output_type": "stream",
     "text": [
      "C:\\Users\\kaviy\\anaconda3\\lib\\site-packages\\sklearn\\utils\\validation.py:73: DataConversionWarning: A column-vector y was passed when a 1d array was expected. Please change the shape of y to (n_samples, ), for example using ravel().\n",
      "  return f(**kwargs)\n"
     ]
    },
    {
     "name": "stdout",
     "output_type": "stream",
     "text": [
      "[1]\tvalid_0's auc: 0.630879\tvalid_0's binary_logloss: 0.441577\tvalid_0's l1: 0.276984\n",
      "Training until validation scores don't improve for 5 rounds\n",
      "[2]\tvalid_0's auc: 0.688861\tvalid_0's binary_logloss: 0.435726\tvalid_0's l1: 0.275205\n",
      "[3]\tvalid_0's auc: 0.695978\tvalid_0's binary_logloss: 0.431454\tvalid_0's l1: 0.273407\n",
      "[4]\tvalid_0's auc: 0.692283\tvalid_0's binary_logloss: 0.428545\tvalid_0's l1: 0.271008\n",
      "[5]\tvalid_0's auc: 0.696107\tvalid_0's binary_logloss: 0.425367\tvalid_0's l1: 0.269034\n",
      "[6]\tvalid_0's auc: 0.696276\tvalid_0's binary_logloss: 0.423289\tvalid_0's l1: 0.267789\n",
      "[7]\tvalid_0's auc: 0.693483\tvalid_0's binary_logloss: 0.421386\tvalid_0's l1: 0.267239\n",
      "[8]\tvalid_0's auc: 0.694393\tvalid_0's binary_logloss: 0.419705\tvalid_0's l1: 0.265628\n",
      "[9]\tvalid_0's auc: 0.695004\tvalid_0's binary_logloss: 0.418593\tvalid_0's l1: 0.264147\n",
      "[10]\tvalid_0's auc: 0.693111\tvalid_0's binary_logloss: 0.418316\tvalid_0's l1: 0.261892\n",
      "[11]\tvalid_0's auc: 0.693777\tvalid_0's binary_logloss: 0.417197\tvalid_0's l1: 0.260552\n",
      "Early stopping, best iteration is:\n",
      "[6]\tvalid_0's auc: 0.696276\tvalid_0's binary_logloss: 0.423289\tvalid_0's l1: 0.267789\n"
     ]
    },
    {
     "name": "stderr",
     "output_type": "stream",
     "text": [
      "C:\\Users\\kaviy\\anaconda3\\lib\\site-packages\\sklearn\\utils\\validation.py:73: DataConversionWarning: A column-vector y was passed when a 1d array was expected. Please change the shape of y to (n_samples, ), for example using ravel().\n",
      "  return f(**kwargs)\n"
     ]
    },
    {
     "name": "stdout",
     "output_type": "stream",
     "text": [
      "[1]\tvalid_0's auc: 0.694931\tvalid_0's binary_logloss: 0.440021\tvalid_0's l1: 0.277667\n",
      "Training until validation scores don't improve for 5 rounds\n",
      "[2]\tvalid_0's auc: 0.697752\tvalid_0's binary_logloss: 0.434617\tvalid_0's l1: 0.2752\n",
      "[3]\tvalid_0's auc: 0.697884\tvalid_0's binary_logloss: 0.430173\tvalid_0's l1: 0.273295\n",
      "[4]\tvalid_0's auc: 0.697667\tvalid_0's binary_logloss: 0.426511\tvalid_0's l1: 0.271321\n",
      "[5]\tvalid_0's auc: 0.698573\tvalid_0's binary_logloss: 0.423506\tvalid_0's l1: 0.269429\n",
      "[6]\tvalid_0's auc: 0.699679\tvalid_0's binary_logloss: 0.420941\tvalid_0's l1: 0.268026\n",
      "[7]\tvalid_0's auc: 0.700989\tvalid_0's binary_logloss: 0.418805\tvalid_0's l1: 0.266563\n",
      "[8]\tvalid_0's auc: 0.702858\tvalid_0's binary_logloss: 0.41704\tvalid_0's l1: 0.265058\n",
      "[9]\tvalid_0's auc: 0.701492\tvalid_0's binary_logloss: 0.415733\tvalid_0's l1: 0.263919\n",
      "[10]\tvalid_0's auc: 0.702036\tvalid_0's binary_logloss: 0.414534\tvalid_0's l1: 0.262901\n",
      "[11]\tvalid_0's auc: 0.703516\tvalid_0's binary_logloss: 0.413511\tvalid_0's l1: 0.261835\n",
      "[12]\tvalid_0's auc: 0.703991\tvalid_0's binary_logloss: 0.412767\tvalid_0's l1: 0.261034\n",
      "[13]\tvalid_0's auc: 0.703537\tvalid_0's binary_logloss: 0.412171\tvalid_0's l1: 0.260386\n",
      "[14]\tvalid_0's auc: 0.703512\tvalid_0's binary_logloss: 0.411774\tvalid_0's l1: 0.259394\n",
      "[15]\tvalid_0's auc: 0.703711\tvalid_0's binary_logloss: 0.411624\tvalid_0's l1: 0.258418\n",
      "[16]\tvalid_0's auc: 0.703076\tvalid_0's binary_logloss: 0.411652\tvalid_0's l1: 0.256609\n",
      "[17]\tvalid_0's auc: 0.702389\tvalid_0's binary_logloss: 0.411551\tvalid_0's l1: 0.255773\n",
      "Early stopping, best iteration is:\n",
      "[12]\tvalid_0's auc: 0.703991\tvalid_0's binary_logloss: 0.412767\tvalid_0's l1: 0.261034\n"
     ]
    },
    {
     "name": "stderr",
     "output_type": "stream",
     "text": [
      "C:\\Users\\kaviy\\anaconda3\\lib\\site-packages\\sklearn\\utils\\validation.py:73: DataConversionWarning: A column-vector y was passed when a 1d array was expected. Please change the shape of y to (n_samples, ), for example using ravel().\n",
      "  return f(**kwargs)\n"
     ]
    },
    {
     "name": "stdout",
     "output_type": "stream",
     "text": [
      "[1]\tvalid_0's auc: 0.675029\tvalid_0's binary_logloss: 0.440601\tvalid_0's l1: 0.277054\n",
      "Training until validation scores don't improve for 5 rounds\n",
      "[2]\tvalid_0's auc: 0.699015\tvalid_0's binary_logloss: 0.434556\tvalid_0's l1: 0.275434\n",
      "[3]\tvalid_0's auc: 0.699011\tvalid_0's binary_logloss: 0.429971\tvalid_0's l1: 0.273395\n",
      "[4]\tvalid_0's auc: 0.696643\tvalid_0's binary_logloss: 0.426797\tvalid_0's l1: 0.27125\n",
      "[5]\tvalid_0's auc: 0.698377\tvalid_0's binary_logloss: 0.42361\tvalid_0's l1: 0.269226\n",
      "[6]\tvalid_0's auc: 0.699342\tvalid_0's binary_logloss: 0.421077\tvalid_0's l1: 0.267544\n",
      "[7]\tvalid_0's auc: 0.700188\tvalid_0's binary_logloss: 0.419199\tvalid_0's l1: 0.266303\n",
      "[8]\tvalid_0's auc: 0.700458\tvalid_0's binary_logloss: 0.417632\tvalid_0's l1: 0.265444\n",
      "[9]\tvalid_0's auc: 0.699803\tvalid_0's binary_logloss: 0.416241\tvalid_0's l1: 0.263978\n",
      "[10]\tvalid_0's auc: 0.70028\tvalid_0's binary_logloss: 0.415053\tvalid_0's l1: 0.262631\n",
      "[11]\tvalid_0's auc: 0.701017\tvalid_0's binary_logloss: 0.414177\tvalid_0's l1: 0.261585\n",
      "[12]\tvalid_0's auc: 0.701673\tvalid_0's binary_logloss: 0.413435\tvalid_0's l1: 0.260879\n",
      "[13]\tvalid_0's auc: 0.70165\tvalid_0's binary_logloss: 0.412705\tvalid_0's l1: 0.259812\n",
      "[14]\tvalid_0's auc: 0.702591\tvalid_0's binary_logloss: 0.412072\tvalid_0's l1: 0.259136\n",
      "[15]\tvalid_0's auc: 0.70211\tvalid_0's binary_logloss: 0.411646\tvalid_0's l1: 0.258319\n",
      "[16]\tvalid_0's auc: 0.702496\tvalid_0's binary_logloss: 0.411245\tvalid_0's l1: 0.257722\n",
      "[17]\tvalid_0's auc: 0.70284\tvalid_0's binary_logloss: 0.410905\tvalid_0's l1: 0.257209\n",
      "[18]\tvalid_0's auc: 0.701672\tvalid_0's binary_logloss: 0.411519\tvalid_0's l1: 0.257528\n",
      "[19]\tvalid_0's auc: 0.701455\tvalid_0's binary_logloss: 0.411458\tvalid_0's l1: 0.257223\n",
      "[20]\tvalid_0's auc: 0.70143\tvalid_0's binary_logloss: 0.411351\tvalid_0's l1: 0.256651\n",
      "[21]\tvalid_0's auc: 0.701782\tvalid_0's binary_logloss: 0.411211\tvalid_0's l1: 0.256477\n",
      "[22]\tvalid_0's auc: 0.701626\tvalid_0's binary_logloss: 0.411165\tvalid_0's l1: 0.256328\n",
      "Early stopping, best iteration is:\n",
      "[17]\tvalid_0's auc: 0.70284\tvalid_0's binary_logloss: 0.410905\tvalid_0's l1: 0.257209\n"
     ]
    },
    {
     "name": "stderr",
     "output_type": "stream",
     "text": [
      "C:\\Users\\kaviy\\anaconda3\\lib\\site-packages\\sklearn\\utils\\validation.py:73: DataConversionWarning: A column-vector y was passed when a 1d array was expected. Please change the shape of y to (n_samples, ), for example using ravel().\n",
      "  return f(**kwargs)\n"
     ]
    },
    {
     "name": "stdout",
     "output_type": "stream",
     "text": [
      "[1]\tvalid_0's auc: 0.694609\tvalid_0's binary_logloss: 0.44033\tvalid_0's l1: 0.278039\n",
      "Training until validation scores don't improve for 5 rounds\n",
      "[2]\tvalid_0's auc: 0.700862\tvalid_0's binary_logloss: 0.434473\tvalid_0's l1: 0.275845\n",
      "[3]\tvalid_0's auc: 0.70233\tvalid_0's binary_logloss: 0.429807\tvalid_0's l1: 0.273446\n",
      "[4]\tvalid_0's auc: 0.702301\tvalid_0's binary_logloss: 0.426199\tvalid_0's l1: 0.271584\n",
      "[5]\tvalid_0's auc: 0.701809\tvalid_0's binary_logloss: 0.423428\tvalid_0's l1: 0.26984\n",
      "[6]\tvalid_0's auc: 0.703847\tvalid_0's binary_logloss: 0.420667\tvalid_0's l1: 0.267884\n",
      "[7]\tvalid_0's auc: 0.703665\tvalid_0's binary_logloss: 0.418464\tvalid_0's l1: 0.26646\n",
      "[8]\tvalid_0's auc: 0.704031\tvalid_0's binary_logloss: 0.416722\tvalid_0's l1: 0.265085\n",
      "[9]\tvalid_0's auc: 0.703999\tvalid_0's binary_logloss: 0.415268\tvalid_0's l1: 0.26382\n",
      "[10]\tvalid_0's auc: 0.704175\tvalid_0's binary_logloss: 0.414176\tvalid_0's l1: 0.26263\n",
      "[11]\tvalid_0's auc: 0.70415\tvalid_0's binary_logloss: 0.413415\tvalid_0's l1: 0.261287\n",
      "[12]\tvalid_0's auc: 0.704436\tvalid_0's binary_logloss: 0.412722\tvalid_0's l1: 0.260551\n",
      "[13]\tvalid_0's auc: 0.70458\tvalid_0's binary_logloss: 0.412084\tvalid_0's l1: 0.259733\n",
      "[14]\tvalid_0's auc: 0.704276\tvalid_0's binary_logloss: 0.411533\tvalid_0's l1: 0.258937\n",
      "[15]\tvalid_0's auc: 0.703926\tvalid_0's binary_logloss: 0.411163\tvalid_0's l1: 0.257681\n",
      "[16]\tvalid_0's auc: 0.703581\tvalid_0's binary_logloss: 0.410944\tvalid_0's l1: 0.257192\n",
      "[17]\tvalid_0's auc: 0.703519\tvalid_0's binary_logloss: 0.410666\tvalid_0's l1: 0.256408\n",
      "[18]\tvalid_0's auc: 0.703293\tvalid_0's binary_logloss: 0.410538\tvalid_0's l1: 0.255653\n",
      "Early stopping, best iteration is:\n",
      "[13]\tvalid_0's auc: 0.70458\tvalid_0's binary_logloss: 0.412084\tvalid_0's l1: 0.259733\n"
     ]
    },
    {
     "name": "stderr",
     "output_type": "stream",
     "text": [
      "C:\\Users\\kaviy\\anaconda3\\lib\\site-packages\\sklearn\\utils\\validation.py:73: DataConversionWarning: A column-vector y was passed when a 1d array was expected. Please change the shape of y to (n_samples, ), for example using ravel().\n",
      "  return f(**kwargs)\n"
     ]
    },
    {
     "name": "stdout",
     "output_type": "stream",
     "text": [
      "[1]\tvalid_0's auc: 0.699268\tvalid_0's binary_logloss: 0.440319\tvalid_0's l1: 0.278131\n",
      "Training until validation scores don't improve for 5 rounds\n",
      "[2]\tvalid_0's auc: 0.700579\tvalid_0's binary_logloss: 0.434863\tvalid_0's l1: 0.275704\n",
      "[3]\tvalid_0's auc: 0.700027\tvalid_0's binary_logloss: 0.430348\tvalid_0's l1: 0.274014\n",
      "[4]\tvalid_0's auc: 0.700157\tvalid_0's binary_logloss: 0.426701\tvalid_0's l1: 0.271778\n",
      "[5]\tvalid_0's auc: 0.700318\tvalid_0's binary_logloss: 0.423924\tvalid_0's l1: 0.270305\n",
      "[6]\tvalid_0's auc: 0.699871\tvalid_0's binary_logloss: 0.421737\tvalid_0's l1: 0.268414\n",
      "[7]\tvalid_0's auc: 0.700138\tvalid_0's binary_logloss: 0.419774\tvalid_0's l1: 0.267111\n",
      "Early stopping, best iteration is:\n",
      "[2]\tvalid_0's auc: 0.700579\tvalid_0's binary_logloss: 0.434863\tvalid_0's l1: 0.275704\n"
     ]
    },
    {
     "name": "stderr",
     "output_type": "stream",
     "text": [
      "C:\\Users\\kaviy\\anaconda3\\lib\\site-packages\\sklearn\\utils\\validation.py:73: DataConversionWarning: A column-vector y was passed when a 1d array was expected. Please change the shape of y to (n_samples, ), for example using ravel().\n",
      "  return f(**kwargs)\n"
     ]
    },
    {
     "name": "stdout",
     "output_type": "stream",
     "text": [
      "[1]\tvalid_0's auc: 0.630879\tvalid_0's binary_logloss: 0.441577\tvalid_0's l1: 0.276984\n",
      "Training until validation scores don't improve for 5 rounds\n",
      "[2]\tvalid_0's auc: 0.688861\tvalid_0's binary_logloss: 0.435726\tvalid_0's l1: 0.275205\n",
      "[3]\tvalid_0's auc: 0.695978\tvalid_0's binary_logloss: 0.431454\tvalid_0's l1: 0.273407\n",
      "[4]\tvalid_0's auc: 0.692283\tvalid_0's binary_logloss: 0.428545\tvalid_0's l1: 0.271008\n",
      "[5]\tvalid_0's auc: 0.696107\tvalid_0's binary_logloss: 0.425367\tvalid_0's l1: 0.269034\n",
      "[6]\tvalid_0's auc: 0.696276\tvalid_0's binary_logloss: 0.423289\tvalid_0's l1: 0.267789\n",
      "[7]\tvalid_0's auc: 0.693483\tvalid_0's binary_logloss: 0.421386\tvalid_0's l1: 0.267239\n",
      "[8]\tvalid_0's auc: 0.694393\tvalid_0's binary_logloss: 0.419705\tvalid_0's l1: 0.265628\n",
      "[9]\tvalid_0's auc: 0.695004\tvalid_0's binary_logloss: 0.418593\tvalid_0's l1: 0.264147\n",
      "[10]\tvalid_0's auc: 0.693111\tvalid_0's binary_logloss: 0.418316\tvalid_0's l1: 0.261892\n",
      "[11]\tvalid_0's auc: 0.693777\tvalid_0's binary_logloss: 0.417197\tvalid_0's l1: 0.260552\n",
      "Early stopping, best iteration is:\n",
      "[6]\tvalid_0's auc: 0.696276\tvalid_0's binary_logloss: 0.423289\tvalid_0's l1: 0.267789\n"
     ]
    },
    {
     "name": "stderr",
     "output_type": "stream",
     "text": [
      "C:\\Users\\kaviy\\anaconda3\\lib\\site-packages\\sklearn\\utils\\validation.py:73: DataConversionWarning: A column-vector y was passed when a 1d array was expected. Please change the shape of y to (n_samples, ), for example using ravel().\n",
      "  return f(**kwargs)\n"
     ]
    },
    {
     "name": "stdout",
     "output_type": "stream",
     "text": [
      "[1]\tvalid_0's auc: 0.694931\tvalid_0's binary_logloss: 0.440021\tvalid_0's l1: 0.277667\n",
      "Training until validation scores don't improve for 5 rounds\n",
      "[2]\tvalid_0's auc: 0.697752\tvalid_0's binary_logloss: 0.434617\tvalid_0's l1: 0.2752\n",
      "[3]\tvalid_0's auc: 0.697884\tvalid_0's binary_logloss: 0.430173\tvalid_0's l1: 0.273295\n",
      "[4]\tvalid_0's auc: 0.697667\tvalid_0's binary_logloss: 0.426511\tvalid_0's l1: 0.271321\n",
      "[5]\tvalid_0's auc: 0.698573\tvalid_0's binary_logloss: 0.423506\tvalid_0's l1: 0.269429\n",
      "[6]\tvalid_0's auc: 0.699679\tvalid_0's binary_logloss: 0.420941\tvalid_0's l1: 0.268026\n",
      "[7]\tvalid_0's auc: 0.700989\tvalid_0's binary_logloss: 0.418805\tvalid_0's l1: 0.266563\n",
      "[8]\tvalid_0's auc: 0.702858\tvalid_0's binary_logloss: 0.41704\tvalid_0's l1: 0.265058\n",
      "[9]\tvalid_0's auc: 0.701492\tvalid_0's binary_logloss: 0.415733\tvalid_0's l1: 0.263919\n",
      "[10]\tvalid_0's auc: 0.702036\tvalid_0's binary_logloss: 0.414534\tvalid_0's l1: 0.262901\n",
      "[11]\tvalid_0's auc: 0.703516\tvalid_0's binary_logloss: 0.413511\tvalid_0's l1: 0.261835\n",
      "[12]\tvalid_0's auc: 0.703991\tvalid_0's binary_logloss: 0.412767\tvalid_0's l1: 0.261034\n",
      "[13]\tvalid_0's auc: 0.703537\tvalid_0's binary_logloss: 0.412171\tvalid_0's l1: 0.260386\n",
      "[14]\tvalid_0's auc: 0.703512\tvalid_0's binary_logloss: 0.411774\tvalid_0's l1: 0.259394\n",
      "[15]\tvalid_0's auc: 0.703711\tvalid_0's binary_logloss: 0.411624\tvalid_0's l1: 0.258418\n",
      "[16]\tvalid_0's auc: 0.703076\tvalid_0's binary_logloss: 0.411652\tvalid_0's l1: 0.256609\n",
      "[17]\tvalid_0's auc: 0.702389\tvalid_0's binary_logloss: 0.411551\tvalid_0's l1: 0.255773\n",
      "Early stopping, best iteration is:\n",
      "[12]\tvalid_0's auc: 0.703991\tvalid_0's binary_logloss: 0.412767\tvalid_0's l1: 0.261034\n"
     ]
    },
    {
     "name": "stderr",
     "output_type": "stream",
     "text": [
      "C:\\Users\\kaviy\\anaconda3\\lib\\site-packages\\sklearn\\utils\\validation.py:73: DataConversionWarning: A column-vector y was passed when a 1d array was expected. Please change the shape of y to (n_samples, ), for example using ravel().\n",
      "  return f(**kwargs)\n"
     ]
    },
    {
     "name": "stdout",
     "output_type": "stream",
     "text": [
      "[1]\tvalid_0's auc: 0.675029\tvalid_0's binary_logloss: 0.440601\tvalid_0's l1: 0.277054\n",
      "Training until validation scores don't improve for 5 rounds\n",
      "[2]\tvalid_0's auc: 0.699015\tvalid_0's binary_logloss: 0.434556\tvalid_0's l1: 0.275434\n",
      "[3]\tvalid_0's auc: 0.699011\tvalid_0's binary_logloss: 0.429971\tvalid_0's l1: 0.273395\n",
      "[4]\tvalid_0's auc: 0.696643\tvalid_0's binary_logloss: 0.426797\tvalid_0's l1: 0.27125\n",
      "[5]\tvalid_0's auc: 0.698377\tvalid_0's binary_logloss: 0.42361\tvalid_0's l1: 0.269226\n",
      "[6]\tvalid_0's auc: 0.699342\tvalid_0's binary_logloss: 0.421077\tvalid_0's l1: 0.267544\n",
      "[7]\tvalid_0's auc: 0.700188\tvalid_0's binary_logloss: 0.419199\tvalid_0's l1: 0.266303\n",
      "[8]\tvalid_0's auc: 0.700458\tvalid_0's binary_logloss: 0.417632\tvalid_0's l1: 0.265444\n",
      "[9]\tvalid_0's auc: 0.699803\tvalid_0's binary_logloss: 0.416241\tvalid_0's l1: 0.263978\n",
      "[10]\tvalid_0's auc: 0.70028\tvalid_0's binary_logloss: 0.415053\tvalid_0's l1: 0.262631\n",
      "[11]\tvalid_0's auc: 0.701017\tvalid_0's binary_logloss: 0.414177\tvalid_0's l1: 0.261585\n",
      "[12]\tvalid_0's auc: 0.701673\tvalid_0's binary_logloss: 0.413435\tvalid_0's l1: 0.260879\n",
      "[13]\tvalid_0's auc: 0.70165\tvalid_0's binary_logloss: 0.412705\tvalid_0's l1: 0.259812\n",
      "[14]\tvalid_0's auc: 0.702591\tvalid_0's binary_logloss: 0.412072\tvalid_0's l1: 0.259136\n",
      "[15]\tvalid_0's auc: 0.70211\tvalid_0's binary_logloss: 0.411646\tvalid_0's l1: 0.258319\n",
      "[16]\tvalid_0's auc: 0.702496\tvalid_0's binary_logloss: 0.411245\tvalid_0's l1: 0.257722\n",
      "[17]\tvalid_0's auc: 0.70284\tvalid_0's binary_logloss: 0.410905\tvalid_0's l1: 0.257209\n",
      "[18]\tvalid_0's auc: 0.701672\tvalid_0's binary_logloss: 0.411519\tvalid_0's l1: 0.257528\n",
      "[19]\tvalid_0's auc: 0.701455\tvalid_0's binary_logloss: 0.411458\tvalid_0's l1: 0.257223\n",
      "[20]\tvalid_0's auc: 0.70143\tvalid_0's binary_logloss: 0.411351\tvalid_0's l1: 0.256651\n",
      "[21]\tvalid_0's auc: 0.701782\tvalid_0's binary_logloss: 0.411211\tvalid_0's l1: 0.256477\n",
      "[22]\tvalid_0's auc: 0.701626\tvalid_0's binary_logloss: 0.411165\tvalid_0's l1: 0.256328\n",
      "Early stopping, best iteration is:\n",
      "[17]\tvalid_0's auc: 0.70284\tvalid_0's binary_logloss: 0.410905\tvalid_0's l1: 0.257209\n"
     ]
    },
    {
     "name": "stderr",
     "output_type": "stream",
     "text": [
      "C:\\Users\\kaviy\\anaconda3\\lib\\site-packages\\sklearn\\utils\\validation.py:73: DataConversionWarning: A column-vector y was passed when a 1d array was expected. Please change the shape of y to (n_samples, ), for example using ravel().\n",
      "  return f(**kwargs)\n"
     ]
    },
    {
     "name": "stdout",
     "output_type": "stream",
     "text": [
      "[1]\tvalid_0's auc: 0.694609\tvalid_0's binary_logloss: 0.44033\tvalid_0's l1: 0.278039\n",
      "Training until validation scores don't improve for 5 rounds\n",
      "[2]\tvalid_0's auc: 0.700862\tvalid_0's binary_logloss: 0.434473\tvalid_0's l1: 0.275845\n",
      "[3]\tvalid_0's auc: 0.70233\tvalid_0's binary_logloss: 0.429807\tvalid_0's l1: 0.273446\n",
      "[4]\tvalid_0's auc: 0.702301\tvalid_0's binary_logloss: 0.426199\tvalid_0's l1: 0.271584\n",
      "[5]\tvalid_0's auc: 0.701809\tvalid_0's binary_logloss: 0.423428\tvalid_0's l1: 0.26984\n",
      "[6]\tvalid_0's auc: 0.703847\tvalid_0's binary_logloss: 0.420667\tvalid_0's l1: 0.267884\n",
      "[7]\tvalid_0's auc: 0.703665\tvalid_0's binary_logloss: 0.418464\tvalid_0's l1: 0.26646\n",
      "[8]\tvalid_0's auc: 0.704031\tvalid_0's binary_logloss: 0.416722\tvalid_0's l1: 0.265085\n",
      "[9]\tvalid_0's auc: 0.703999\tvalid_0's binary_logloss: 0.415268\tvalid_0's l1: 0.26382\n",
      "[10]\tvalid_0's auc: 0.704175\tvalid_0's binary_logloss: 0.414176\tvalid_0's l1: 0.26263\n",
      "[11]\tvalid_0's auc: 0.70415\tvalid_0's binary_logloss: 0.413415\tvalid_0's l1: 0.261287\n",
      "[12]\tvalid_0's auc: 0.704436\tvalid_0's binary_logloss: 0.412722\tvalid_0's l1: 0.260551\n",
      "[13]\tvalid_0's auc: 0.70458\tvalid_0's binary_logloss: 0.412084\tvalid_0's l1: 0.259733\n",
      "[14]\tvalid_0's auc: 0.704276\tvalid_0's binary_logloss: 0.411533\tvalid_0's l1: 0.258937\n",
      "[15]\tvalid_0's auc: 0.703926\tvalid_0's binary_logloss: 0.411163\tvalid_0's l1: 0.257681\n",
      "[16]\tvalid_0's auc: 0.703581\tvalid_0's binary_logloss: 0.410944\tvalid_0's l1: 0.257192\n",
      "[17]\tvalid_0's auc: 0.703519\tvalid_0's binary_logloss: 0.410666\tvalid_0's l1: 0.256408\n",
      "[18]\tvalid_0's auc: 0.703293\tvalid_0's binary_logloss: 0.410538\tvalid_0's l1: 0.255653\n",
      "Early stopping, best iteration is:\n",
      "[13]\tvalid_0's auc: 0.70458\tvalid_0's binary_logloss: 0.412084\tvalid_0's l1: 0.259733\n"
     ]
    },
    {
     "name": "stderr",
     "output_type": "stream",
     "text": [
      "C:\\Users\\kaviy\\anaconda3\\lib\\site-packages\\sklearn\\utils\\validation.py:73: DataConversionWarning: A column-vector y was passed when a 1d array was expected. Please change the shape of y to (n_samples, ), for example using ravel().\n",
      "  return f(**kwargs)\n"
     ]
    },
    {
     "name": "stdout",
     "output_type": "stream",
     "text": [
      "[1]\tvalid_0's auc: 0.699268\tvalid_0's binary_logloss: 0.440319\tvalid_0's l1: 0.278131\n",
      "Training until validation scores don't improve for 5 rounds\n",
      "[2]\tvalid_0's auc: 0.700579\tvalid_0's binary_logloss: 0.434863\tvalid_0's l1: 0.275704\n",
      "[3]\tvalid_0's auc: 0.700027\tvalid_0's binary_logloss: 0.430348\tvalid_0's l1: 0.274014\n",
      "[4]\tvalid_0's auc: 0.700157\tvalid_0's binary_logloss: 0.426701\tvalid_0's l1: 0.271778\n",
      "[5]\tvalid_0's auc: 0.700318\tvalid_0's binary_logloss: 0.423924\tvalid_0's l1: 0.270305\n",
      "[6]\tvalid_0's auc: 0.699871\tvalid_0's binary_logloss: 0.421737\tvalid_0's l1: 0.268414\n",
      "[7]\tvalid_0's auc: 0.700138\tvalid_0's binary_logloss: 0.419774\tvalid_0's l1: 0.267111\n",
      "Early stopping, best iteration is:\n",
      "[2]\tvalid_0's auc: 0.700579\tvalid_0's binary_logloss: 0.434863\tvalid_0's l1: 0.275704\n"
     ]
    },
    {
     "name": "stderr",
     "output_type": "stream",
     "text": [
      "C:\\Users\\kaviy\\anaconda3\\lib\\site-packages\\sklearn\\utils\\validation.py:73: DataConversionWarning: A column-vector y was passed when a 1d array was expected. Please change the shape of y to (n_samples, ), for example using ravel().\n",
      "  return f(**kwargs)\n"
     ]
    },
    {
     "name": "stdout",
     "output_type": "stream",
     "text": [
      "[1]\tvalid_0's auc: 0.630879\tvalid_0's binary_logloss: 0.441577\tvalid_0's l1: 0.276984\n",
      "Training until validation scores don't improve for 5 rounds\n",
      "[2]\tvalid_0's auc: 0.688861\tvalid_0's binary_logloss: 0.435726\tvalid_0's l1: 0.275205\n",
      "[3]\tvalid_0's auc: 0.695978\tvalid_0's binary_logloss: 0.431454\tvalid_0's l1: 0.273407\n",
      "[4]\tvalid_0's auc: 0.692283\tvalid_0's binary_logloss: 0.428545\tvalid_0's l1: 0.271008\n",
      "[5]\tvalid_0's auc: 0.696107\tvalid_0's binary_logloss: 0.425367\tvalid_0's l1: 0.269034\n",
      "[6]\tvalid_0's auc: 0.696276\tvalid_0's binary_logloss: 0.423289\tvalid_0's l1: 0.267789\n",
      "[7]\tvalid_0's auc: 0.693483\tvalid_0's binary_logloss: 0.421386\tvalid_0's l1: 0.267239\n",
      "[8]\tvalid_0's auc: 0.694393\tvalid_0's binary_logloss: 0.419705\tvalid_0's l1: 0.265628\n",
      "[9]\tvalid_0's auc: 0.695004\tvalid_0's binary_logloss: 0.418593\tvalid_0's l1: 0.264147\n",
      "[10]\tvalid_0's auc: 0.693111\tvalid_0's binary_logloss: 0.418316\tvalid_0's l1: 0.261892\n",
      "[11]\tvalid_0's auc: 0.693777\tvalid_0's binary_logloss: 0.417197\tvalid_0's l1: 0.260552\n",
      "Early stopping, best iteration is:\n",
      "[6]\tvalid_0's auc: 0.696276\tvalid_0's binary_logloss: 0.423289\tvalid_0's l1: 0.267789\n"
     ]
    },
    {
     "name": "stderr",
     "output_type": "stream",
     "text": [
      "C:\\Users\\kaviy\\anaconda3\\lib\\site-packages\\sklearn\\utils\\validation.py:73: DataConversionWarning: A column-vector y was passed when a 1d array was expected. Please change the shape of y to (n_samples, ), for example using ravel().\n",
      "  return f(**kwargs)\n"
     ]
    },
    {
     "name": "stdout",
     "output_type": "stream",
     "text": [
      "[1]\tvalid_0's auc: 0.694931\tvalid_0's binary_logloss: 0.440021\tvalid_0's l1: 0.277667\n",
      "Training until validation scores don't improve for 5 rounds\n",
      "[2]\tvalid_0's auc: 0.697752\tvalid_0's binary_logloss: 0.434617\tvalid_0's l1: 0.2752\n",
      "[3]\tvalid_0's auc: 0.697884\tvalid_0's binary_logloss: 0.430173\tvalid_0's l1: 0.273295\n",
      "[4]\tvalid_0's auc: 0.697667\tvalid_0's binary_logloss: 0.426511\tvalid_0's l1: 0.271321\n",
      "[5]\tvalid_0's auc: 0.698573\tvalid_0's binary_logloss: 0.423506\tvalid_0's l1: 0.269429\n",
      "[6]\tvalid_0's auc: 0.699679\tvalid_0's binary_logloss: 0.420941\tvalid_0's l1: 0.268026\n",
      "[7]\tvalid_0's auc: 0.700989\tvalid_0's binary_logloss: 0.418805\tvalid_0's l1: 0.266563\n",
      "[8]\tvalid_0's auc: 0.702858\tvalid_0's binary_logloss: 0.41704\tvalid_0's l1: 0.265058\n",
      "[9]\tvalid_0's auc: 0.701492\tvalid_0's binary_logloss: 0.415733\tvalid_0's l1: 0.263919\n",
      "[10]\tvalid_0's auc: 0.702036\tvalid_0's binary_logloss: 0.414534\tvalid_0's l1: 0.262901\n",
      "[11]\tvalid_0's auc: 0.703516\tvalid_0's binary_logloss: 0.413511\tvalid_0's l1: 0.261835\n",
      "[12]\tvalid_0's auc: 0.703991\tvalid_0's binary_logloss: 0.412767\tvalid_0's l1: 0.261034\n",
      "[13]\tvalid_0's auc: 0.703537\tvalid_0's binary_logloss: 0.412171\tvalid_0's l1: 0.260386\n",
      "[14]\tvalid_0's auc: 0.703512\tvalid_0's binary_logloss: 0.411774\tvalid_0's l1: 0.259394\n",
      "[15]\tvalid_0's auc: 0.703711\tvalid_0's binary_logloss: 0.411624\tvalid_0's l1: 0.258418\n",
      "[16]\tvalid_0's auc: 0.703076\tvalid_0's binary_logloss: 0.411652\tvalid_0's l1: 0.256609\n",
      "[17]\tvalid_0's auc: 0.702389\tvalid_0's binary_logloss: 0.411551\tvalid_0's l1: 0.255773\n",
      "Early stopping, best iteration is:\n",
      "[12]\tvalid_0's auc: 0.703991\tvalid_0's binary_logloss: 0.412767\tvalid_0's l1: 0.261034\n"
     ]
    },
    {
     "name": "stderr",
     "output_type": "stream",
     "text": [
      "C:\\Users\\kaviy\\anaconda3\\lib\\site-packages\\sklearn\\utils\\validation.py:73: DataConversionWarning: A column-vector y was passed when a 1d array was expected. Please change the shape of y to (n_samples, ), for example using ravel().\n",
      "  return f(**kwargs)\n"
     ]
    },
    {
     "name": "stdout",
     "output_type": "stream",
     "text": [
      "[1]\tvalid_0's auc: 0.675029\tvalid_0's binary_logloss: 0.440601\tvalid_0's l1: 0.277054\n",
      "Training until validation scores don't improve for 5 rounds\n",
      "[2]\tvalid_0's auc: 0.699015\tvalid_0's binary_logloss: 0.434556\tvalid_0's l1: 0.275434\n",
      "[3]\tvalid_0's auc: 0.699011\tvalid_0's binary_logloss: 0.429971\tvalid_0's l1: 0.273395\n",
      "[4]\tvalid_0's auc: 0.696643\tvalid_0's binary_logloss: 0.426797\tvalid_0's l1: 0.27125\n",
      "[5]\tvalid_0's auc: 0.698377\tvalid_0's binary_logloss: 0.42361\tvalid_0's l1: 0.269226\n",
      "[6]\tvalid_0's auc: 0.699342\tvalid_0's binary_logloss: 0.421077\tvalid_0's l1: 0.267544\n",
      "[7]\tvalid_0's auc: 0.700188\tvalid_0's binary_logloss: 0.419199\tvalid_0's l1: 0.266303\n",
      "[8]\tvalid_0's auc: 0.700458\tvalid_0's binary_logloss: 0.417632\tvalid_0's l1: 0.265444\n",
      "[9]\tvalid_0's auc: 0.699803\tvalid_0's binary_logloss: 0.416241\tvalid_0's l1: 0.263978\n",
      "[10]\tvalid_0's auc: 0.70028\tvalid_0's binary_logloss: 0.415053\tvalid_0's l1: 0.262631\n",
      "[11]\tvalid_0's auc: 0.701017\tvalid_0's binary_logloss: 0.414177\tvalid_0's l1: 0.261585\n",
      "[12]\tvalid_0's auc: 0.701673\tvalid_0's binary_logloss: 0.413435\tvalid_0's l1: 0.260879\n",
      "[13]\tvalid_0's auc: 0.70165\tvalid_0's binary_logloss: 0.412705\tvalid_0's l1: 0.259812\n",
      "[14]\tvalid_0's auc: 0.702591\tvalid_0's binary_logloss: 0.412072\tvalid_0's l1: 0.259136\n",
      "[15]\tvalid_0's auc: 0.70211\tvalid_0's binary_logloss: 0.411646\tvalid_0's l1: 0.258319\n",
      "[16]\tvalid_0's auc: 0.702496\tvalid_0's binary_logloss: 0.411245\tvalid_0's l1: 0.257722\n",
      "[17]\tvalid_0's auc: 0.70284\tvalid_0's binary_logloss: 0.410905\tvalid_0's l1: 0.257209\n",
      "[18]\tvalid_0's auc: 0.701672\tvalid_0's binary_logloss: 0.411519\tvalid_0's l1: 0.257528\n",
      "[19]\tvalid_0's auc: 0.701455\tvalid_0's binary_logloss: 0.411458\tvalid_0's l1: 0.257223\n",
      "[20]\tvalid_0's auc: 0.70143\tvalid_0's binary_logloss: 0.411351\tvalid_0's l1: 0.256651\n",
      "[21]\tvalid_0's auc: 0.701782\tvalid_0's binary_logloss: 0.411211\tvalid_0's l1: 0.256477\n",
      "[22]\tvalid_0's auc: 0.701626\tvalid_0's binary_logloss: 0.411165\tvalid_0's l1: 0.256328\n",
      "Early stopping, best iteration is:\n",
      "[17]\tvalid_0's auc: 0.70284\tvalid_0's binary_logloss: 0.410905\tvalid_0's l1: 0.257209\n"
     ]
    },
    {
     "name": "stderr",
     "output_type": "stream",
     "text": [
      "C:\\Users\\kaviy\\anaconda3\\lib\\site-packages\\sklearn\\utils\\validation.py:73: DataConversionWarning: A column-vector y was passed when a 1d array was expected. Please change the shape of y to (n_samples, ), for example using ravel().\n",
      "  return f(**kwargs)\n"
     ]
    },
    {
     "name": "stdout",
     "output_type": "stream",
     "text": [
      "[1]\tvalid_0's auc: 0.694609\tvalid_0's binary_logloss: 0.44033\tvalid_0's l1: 0.278039\n",
      "Training until validation scores don't improve for 5 rounds\n",
      "[2]\tvalid_0's auc: 0.700862\tvalid_0's binary_logloss: 0.434473\tvalid_0's l1: 0.275845\n",
      "[3]\tvalid_0's auc: 0.70233\tvalid_0's binary_logloss: 0.429807\tvalid_0's l1: 0.273446\n",
      "[4]\tvalid_0's auc: 0.702301\tvalid_0's binary_logloss: 0.426199\tvalid_0's l1: 0.271584\n",
      "[5]\tvalid_0's auc: 0.701809\tvalid_0's binary_logloss: 0.423428\tvalid_0's l1: 0.26984\n",
      "[6]\tvalid_0's auc: 0.703847\tvalid_0's binary_logloss: 0.420667\tvalid_0's l1: 0.267884\n",
      "[7]\tvalid_0's auc: 0.703665\tvalid_0's binary_logloss: 0.418464\tvalid_0's l1: 0.26646\n",
      "[8]\tvalid_0's auc: 0.704031\tvalid_0's binary_logloss: 0.416722\tvalid_0's l1: 0.265085\n",
      "[9]\tvalid_0's auc: 0.703999\tvalid_0's binary_logloss: 0.415268\tvalid_0's l1: 0.26382\n",
      "[10]\tvalid_0's auc: 0.704175\tvalid_0's binary_logloss: 0.414176\tvalid_0's l1: 0.26263\n",
      "[11]\tvalid_0's auc: 0.70415\tvalid_0's binary_logloss: 0.413415\tvalid_0's l1: 0.261287\n",
      "[12]\tvalid_0's auc: 0.704436\tvalid_0's binary_logloss: 0.412722\tvalid_0's l1: 0.260551\n",
      "[13]\tvalid_0's auc: 0.70458\tvalid_0's binary_logloss: 0.412084\tvalid_0's l1: 0.259733\n",
      "[14]\tvalid_0's auc: 0.704276\tvalid_0's binary_logloss: 0.411533\tvalid_0's l1: 0.258937\n",
      "[15]\tvalid_0's auc: 0.703926\tvalid_0's binary_logloss: 0.411163\tvalid_0's l1: 0.257681\n",
      "[16]\tvalid_0's auc: 0.703581\tvalid_0's binary_logloss: 0.410944\tvalid_0's l1: 0.257192\n",
      "[17]\tvalid_0's auc: 0.703519\tvalid_0's binary_logloss: 0.410666\tvalid_0's l1: 0.256408\n",
      "[18]\tvalid_0's auc: 0.703293\tvalid_0's binary_logloss: 0.410538\tvalid_0's l1: 0.255653\n",
      "Early stopping, best iteration is:\n",
      "[13]\tvalid_0's auc: 0.70458\tvalid_0's binary_logloss: 0.412084\tvalid_0's l1: 0.259733\n"
     ]
    },
    {
     "name": "stderr",
     "output_type": "stream",
     "text": [
      "C:\\Users\\kaviy\\anaconda3\\lib\\site-packages\\sklearn\\utils\\validation.py:73: DataConversionWarning: A column-vector y was passed when a 1d array was expected. Please change the shape of y to (n_samples, ), for example using ravel().\n",
      "  return f(**kwargs)\n"
     ]
    },
    {
     "name": "stdout",
     "output_type": "stream",
     "text": [
      "[1]\tvalid_0's auc: 0.699268\tvalid_0's binary_logloss: 0.440319\tvalid_0's l1: 0.278131\n",
      "Training until validation scores don't improve for 5 rounds\n",
      "[2]\tvalid_0's auc: 0.700579\tvalid_0's binary_logloss: 0.434863\tvalid_0's l1: 0.275704\n",
      "[3]\tvalid_0's auc: 0.700027\tvalid_0's binary_logloss: 0.430348\tvalid_0's l1: 0.274014\n",
      "[4]\tvalid_0's auc: 0.700157\tvalid_0's binary_logloss: 0.426701\tvalid_0's l1: 0.271778\n",
      "[5]\tvalid_0's auc: 0.700318\tvalid_0's binary_logloss: 0.423924\tvalid_0's l1: 0.270305\n",
      "[6]\tvalid_0's auc: 0.699871\tvalid_0's binary_logloss: 0.421737\tvalid_0's l1: 0.268414\n",
      "[7]\tvalid_0's auc: 0.700138\tvalid_0's binary_logloss: 0.419774\tvalid_0's l1: 0.267111\n",
      "Early stopping, best iteration is:\n",
      "[2]\tvalid_0's auc: 0.700579\tvalid_0's binary_logloss: 0.434863\tvalid_0's l1: 0.275704\n"
     ]
    },
    {
     "name": "stderr",
     "output_type": "stream",
     "text": [
      "C:\\Users\\kaviy\\anaconda3\\lib\\site-packages\\sklearn\\utils\\validation.py:73: DataConversionWarning: A column-vector y was passed when a 1d array was expected. Please change the shape of y to (n_samples, ), for example using ravel().\n",
      "  return f(**kwargs)\n"
     ]
    },
    {
     "name": "stdout",
     "output_type": "stream",
     "text": [
      "[1]\tvalid_0's auc: 0.630879\tvalid_0's binary_logloss: 0.441577\tvalid_0's l1: 0.276984\n",
      "Training until validation scores don't improve for 5 rounds\n",
      "[2]\tvalid_0's auc: 0.688861\tvalid_0's binary_logloss: 0.435726\tvalid_0's l1: 0.275205\n",
      "[3]\tvalid_0's auc: 0.695978\tvalid_0's binary_logloss: 0.431454\tvalid_0's l1: 0.273407\n",
      "[4]\tvalid_0's auc: 0.692283\tvalid_0's binary_logloss: 0.428545\tvalid_0's l1: 0.271008\n",
      "[5]\tvalid_0's auc: 0.696107\tvalid_0's binary_logloss: 0.425367\tvalid_0's l1: 0.269034\n",
      "[6]\tvalid_0's auc: 0.696276\tvalid_0's binary_logloss: 0.423289\tvalid_0's l1: 0.267789\n",
      "[7]\tvalid_0's auc: 0.693483\tvalid_0's binary_logloss: 0.421386\tvalid_0's l1: 0.267239\n",
      "[8]\tvalid_0's auc: 0.694393\tvalid_0's binary_logloss: 0.419705\tvalid_0's l1: 0.265628\n",
      "[9]\tvalid_0's auc: 0.695004\tvalid_0's binary_logloss: 0.418593\tvalid_0's l1: 0.264147\n",
      "[10]\tvalid_0's auc: 0.693111\tvalid_0's binary_logloss: 0.418316\tvalid_0's l1: 0.261892\n",
      "[11]\tvalid_0's auc: 0.693777\tvalid_0's binary_logloss: 0.417197\tvalid_0's l1: 0.260552\n",
      "Early stopping, best iteration is:\n",
      "[6]\tvalid_0's auc: 0.696276\tvalid_0's binary_logloss: 0.423289\tvalid_0's l1: 0.267789\n"
     ]
    },
    {
     "name": "stderr",
     "output_type": "stream",
     "text": [
      "C:\\Users\\kaviy\\anaconda3\\lib\\site-packages\\sklearn\\utils\\validation.py:73: DataConversionWarning: A column-vector y was passed when a 1d array was expected. Please change the shape of y to (n_samples, ), for example using ravel().\n",
      "  return f(**kwargs)\n"
     ]
    },
    {
     "name": "stdout",
     "output_type": "stream",
     "text": [
      "[1]\tvalid_0's auc: 0.694931\tvalid_0's binary_logloss: 0.438271\tvalid_0's l1: 0.27698\n",
      "Training until validation scores don't improve for 5 rounds\n",
      "[2]\tvalid_0's auc: 0.697108\tvalid_0's binary_logloss: 0.431925\tvalid_0's l1: 0.274056\n",
      "[3]\tvalid_0's auc: 0.694107\tvalid_0's binary_logloss: 0.427841\tvalid_0's l1: 0.271298\n",
      "[4]\tvalid_0's auc: 0.695935\tvalid_0's binary_logloss: 0.423893\tvalid_0's l1: 0.268747\n",
      "[5]\tvalid_0's auc: 0.699124\tvalid_0's binary_logloss: 0.420977\tvalid_0's l1: 0.267048\n",
      "[6]\tvalid_0's auc: 0.697335\tvalid_0's binary_logloss: 0.419728\tvalid_0's l1: 0.267014\n",
      "[7]\tvalid_0's auc: 0.698294\tvalid_0's binary_logloss: 0.417798\tvalid_0's l1: 0.265623\n",
      "[8]\tvalid_0's auc: 0.69862\tvalid_0's binary_logloss: 0.416207\tvalid_0's l1: 0.263952\n",
      "[9]\tvalid_0's auc: 0.700593\tvalid_0's binary_logloss: 0.414757\tvalid_0's l1: 0.262421\n",
      "[10]\tvalid_0's auc: 0.701787\tvalid_0's binary_logloss: 0.413541\tvalid_0's l1: 0.261366\n",
      "[11]\tvalid_0's auc: 0.702461\tvalid_0's binary_logloss: 0.412594\tvalid_0's l1: 0.260046\n",
      "[12]\tvalid_0's auc: 0.702152\tvalid_0's binary_logloss: 0.412337\tvalid_0's l1: 0.258813\n",
      "[13]\tvalid_0's auc: 0.701775\tvalid_0's binary_logloss: 0.412028\tvalid_0's l1: 0.257404\n",
      "[14]\tvalid_0's auc: 0.700862\tvalid_0's binary_logloss: 0.412062\tvalid_0's l1: 0.256128\n",
      "[15]\tvalid_0's auc: 0.700147\tvalid_0's binary_logloss: 0.411892\tvalid_0's l1: 0.254723\n",
      "[16]\tvalid_0's auc: 0.700081\tvalid_0's binary_logloss: 0.411743\tvalid_0's l1: 0.254311\n",
      "Early stopping, best iteration is:\n",
      "[11]\tvalid_0's auc: 0.702461\tvalid_0's binary_logloss: 0.412594\tvalid_0's l1: 0.260046\n"
     ]
    },
    {
     "name": "stderr",
     "output_type": "stream",
     "text": [
      "C:\\Users\\kaviy\\anaconda3\\lib\\site-packages\\sklearn\\utils\\validation.py:73: DataConversionWarning: A column-vector y was passed when a 1d array was expected. Please change the shape of y to (n_samples, ), for example using ravel().\n",
      "  return f(**kwargs)\n"
     ]
    },
    {
     "name": "stdout",
     "output_type": "stream",
     "text": [
      "[1]\tvalid_0's auc: 0.675029\tvalid_0's binary_logloss: 0.438994\tvalid_0's l1: 0.276209\n",
      "Training until validation scores don't improve for 5 rounds\n",
      "[2]\tvalid_0's auc: 0.697897\tvalid_0's binary_logloss: 0.432091\tvalid_0's l1: 0.274179\n",
      "[3]\tvalid_0's auc: 0.699544\tvalid_0's binary_logloss: 0.427173\tvalid_0's l1: 0.271719\n",
      "[4]\tvalid_0's auc: 0.700748\tvalid_0's binary_logloss: 0.423296\tvalid_0's l1: 0.26892\n",
      "[5]\tvalid_0's auc: 0.701203\tvalid_0's binary_logloss: 0.420322\tvalid_0's l1: 0.267062\n",
      "[6]\tvalid_0's auc: 0.700645\tvalid_0's binary_logloss: 0.418174\tvalid_0's l1: 0.265486\n",
      "[7]\tvalid_0's auc: 0.701159\tvalid_0's binary_logloss: 0.416329\tvalid_0's l1: 0.263946\n",
      "[8]\tvalid_0's auc: 0.701852\tvalid_0's binary_logloss: 0.414778\tvalid_0's l1: 0.262187\n",
      "[9]\tvalid_0's auc: 0.702418\tvalid_0's binary_logloss: 0.4136\tvalid_0's l1: 0.261066\n",
      "[10]\tvalid_0's auc: 0.702829\tvalid_0's binary_logloss: 0.412681\tvalid_0's l1: 0.259728\n",
      "[11]\tvalid_0's auc: 0.703289\tvalid_0's binary_logloss: 0.41193\tvalid_0's l1: 0.258591\n",
      "[12]\tvalid_0's auc: 0.703499\tvalid_0's binary_logloss: 0.411403\tvalid_0's l1: 0.257397\n",
      "[13]\tvalid_0's auc: 0.70317\tvalid_0's binary_logloss: 0.410932\tvalid_0's l1: 0.256352\n",
      "[14]\tvalid_0's auc: 0.702512\tvalid_0's binary_logloss: 0.411133\tvalid_0's l1: 0.256225\n",
      "[15]\tvalid_0's auc: 0.702992\tvalid_0's binary_logloss: 0.410902\tvalid_0's l1: 0.255602\n",
      "[16]\tvalid_0's auc: 0.703189\tvalid_0's binary_logloss: 0.41065\tvalid_0's l1: 0.254715\n",
      "[17]\tvalid_0's auc: 0.70305\tvalid_0's binary_logloss: 0.410411\tvalid_0's l1: 0.2539\n",
      "Early stopping, best iteration is:\n",
      "[12]\tvalid_0's auc: 0.703499\tvalid_0's binary_logloss: 0.411403\tvalid_0's l1: 0.257397\n"
     ]
    },
    {
     "name": "stderr",
     "output_type": "stream",
     "text": [
      "C:\\Users\\kaviy\\anaconda3\\lib\\site-packages\\sklearn\\utils\\validation.py:73: DataConversionWarning: A column-vector y was passed when a 1d array was expected. Please change the shape of y to (n_samples, ), for example using ravel().\n",
      "  return f(**kwargs)\n"
     ]
    },
    {
     "name": "stdout",
     "output_type": "stream",
     "text": [
      "[1]\tvalid_0's auc: 0.694609\tvalid_0's binary_logloss: 0.438649\tvalid_0's l1: 0.277441\n",
      "Training until validation scores don't improve for 5 rounds\n",
      "[2]\tvalid_0's auc: 0.700236\tvalid_0's binary_logloss: 0.431994\tvalid_0's l1: 0.274898\n",
      "[3]\tvalid_0's auc: 0.701236\tvalid_0's binary_logloss: 0.427022\tvalid_0's l1: 0.272217\n",
      "[4]\tvalid_0's auc: 0.702304\tvalid_0's binary_logloss: 0.423195\tvalid_0's l1: 0.270137\n",
      "[5]\tvalid_0's auc: 0.70404\tvalid_0's binary_logloss: 0.419918\tvalid_0's l1: 0.267922\n",
      "[6]\tvalid_0's auc: 0.704156\tvalid_0's binary_logloss: 0.41793\tvalid_0's l1: 0.265772\n",
      "[7]\tvalid_0's auc: 0.70481\tvalid_0's binary_logloss: 0.41596\tvalid_0's l1: 0.264338\n",
      "[8]\tvalid_0's auc: 0.704733\tvalid_0's binary_logloss: 0.414402\tvalid_0's l1: 0.262699\n",
      "[9]\tvalid_0's auc: 0.705172\tvalid_0's binary_logloss: 0.41321\tvalid_0's l1: 0.26132\n",
      "[10]\tvalid_0's auc: 0.705838\tvalid_0's binary_logloss: 0.412025\tvalid_0's l1: 0.260063\n",
      "[11]\tvalid_0's auc: 0.706407\tvalid_0's binary_logloss: 0.411336\tvalid_0's l1: 0.258796\n",
      "[12]\tvalid_0's auc: 0.707352\tvalid_0's binary_logloss: 0.410478\tvalid_0's l1: 0.257638\n",
      "[13]\tvalid_0's auc: 0.706212\tvalid_0's binary_logloss: 0.410229\tvalid_0's l1: 0.256501\n",
      "[14]\tvalid_0's auc: 0.705883\tvalid_0's binary_logloss: 0.410048\tvalid_0's l1: 0.255882\n",
      "[15]\tvalid_0's auc: 0.706675\tvalid_0's binary_logloss: 0.40963\tvalid_0's l1: 0.255027\n",
      "[16]\tvalid_0's auc: 0.706818\tvalid_0's binary_logloss: 0.409419\tvalid_0's l1: 0.254695\n",
      "[17]\tvalid_0's auc: 0.706878\tvalid_0's binary_logloss: 0.409333\tvalid_0's l1: 0.253535\n",
      "Early stopping, best iteration is:\n",
      "[12]\tvalid_0's auc: 0.707352\tvalid_0's binary_logloss: 0.410478\tvalid_0's l1: 0.257638\n"
     ]
    },
    {
     "name": "stderr",
     "output_type": "stream",
     "text": [
      "C:\\Users\\kaviy\\anaconda3\\lib\\site-packages\\sklearn\\utils\\validation.py:73: DataConversionWarning: A column-vector y was passed when a 1d array was expected. Please change the shape of y to (n_samples, ), for example using ravel().\n",
      "  return f(**kwargs)\n"
     ]
    },
    {
     "name": "stdout",
     "output_type": "stream",
     "text": [
      "[1]\tvalid_0's auc: 0.699268\tvalid_0's binary_logloss: 0.438633\tvalid_0's l1: 0.277552\n",
      "Training until validation scores don't improve for 5 rounds\n",
      "[2]\tvalid_0's auc: 0.699523\tvalid_0's binary_logloss: 0.432185\tvalid_0's l1: 0.274527\n",
      "[3]\tvalid_0's auc: 0.70024\tvalid_0's binary_logloss: 0.427272\tvalid_0's l1: 0.272114\n",
      "[4]\tvalid_0's auc: 0.701592\tvalid_0's binary_logloss: 0.423439\tvalid_0's l1: 0.269453\n",
      "[5]\tvalid_0's auc: 0.701358\tvalid_0's binary_logloss: 0.420522\tvalid_0's l1: 0.267575\n",
      "[6]\tvalid_0's auc: 0.70082\tvalid_0's binary_logloss: 0.418659\tvalid_0's l1: 0.265854\n",
      "[7]\tvalid_0's auc: 0.70012\tvalid_0's binary_logloss: 0.41689\tvalid_0's l1: 0.263942\n",
      "[8]\tvalid_0's auc: 0.700378\tvalid_0's binary_logloss: 0.415525\tvalid_0's l1: 0.262826\n",
      "[9]\tvalid_0's auc: 0.700264\tvalid_0's binary_logloss: 0.414409\tvalid_0's l1: 0.261498\n",
      "Early stopping, best iteration is:\n",
      "[4]\tvalid_0's auc: 0.701592\tvalid_0's binary_logloss: 0.423439\tvalid_0's l1: 0.269453\n"
     ]
    },
    {
     "name": "stderr",
     "output_type": "stream",
     "text": [
      "C:\\Users\\kaviy\\anaconda3\\lib\\site-packages\\sklearn\\utils\\validation.py:73: DataConversionWarning: A column-vector y was passed when a 1d array was expected. Please change the shape of y to (n_samples, ), for example using ravel().\n",
      "  return f(**kwargs)\n"
     ]
    },
    {
     "name": "stdout",
     "output_type": "stream",
     "text": [
      "[1]\tvalid_0's auc: 0.630879\tvalid_0's binary_logloss: 0.440211\tvalid_0's l1: 0.276123\n",
      "Training until validation scores don't improve for 5 rounds\n",
      "[2]\tvalid_0's auc: 0.68879\tvalid_0's binary_logloss: 0.433446\tvalid_0's l1: 0.273975\n",
      "[3]\tvalid_0's auc: 0.692981\tvalid_0's binary_logloss: 0.428713\tvalid_0's l1: 0.271525\n",
      "[4]\tvalid_0's auc: 0.694383\tvalid_0's binary_logloss: 0.424976\tvalid_0's l1: 0.269152\n",
      "[5]\tvalid_0's auc: 0.696644\tvalid_0's binary_logloss: 0.422113\tvalid_0's l1: 0.267295\n",
      "[6]\tvalid_0's auc: 0.697508\tvalid_0's binary_logloss: 0.419789\tvalid_0's l1: 0.266185\n",
      "[7]\tvalid_0's auc: 0.69744\tvalid_0's binary_logloss: 0.41833\tvalid_0's l1: 0.264243\n",
      "[8]\tvalid_0's auc: 0.693549\tvalid_0's binary_logloss: 0.417801\tvalid_0's l1: 0.26055\n",
      "[9]\tvalid_0's auc: 0.694734\tvalid_0's binary_logloss: 0.416714\tvalid_0's l1: 0.259611\n",
      "[10]\tvalid_0's auc: 0.695641\tvalid_0's binary_logloss: 0.415781\tvalid_0's l1: 0.258825\n",
      "[11]\tvalid_0's auc: 0.696039\tvalid_0's binary_logloss: 0.415122\tvalid_0's l1: 0.25708\n",
      "Early stopping, best iteration is:\n",
      "[6]\tvalid_0's auc: 0.697508\tvalid_0's binary_logloss: 0.419789\tvalid_0's l1: 0.266185\n"
     ]
    },
    {
     "name": "stderr",
     "output_type": "stream",
     "text": [
      "C:\\Users\\kaviy\\anaconda3\\lib\\site-packages\\sklearn\\utils\\validation.py:73: DataConversionWarning: A column-vector y was passed when a 1d array was expected. Please change the shape of y to (n_samples, ), for example using ravel().\n",
      "  return f(**kwargs)\n"
     ]
    },
    {
     "name": "stdout",
     "output_type": "stream",
     "text": [
      "[1]\tvalid_0's auc: 0.694931\tvalid_0's binary_logloss: 0.438271\tvalid_0's l1: 0.27698\n",
      "Training until validation scores don't improve for 5 rounds\n",
      "[2]\tvalid_0's auc: 0.697108\tvalid_0's binary_logloss: 0.431925\tvalid_0's l1: 0.274056\n",
      "[3]\tvalid_0's auc: 0.694107\tvalid_0's binary_logloss: 0.427841\tvalid_0's l1: 0.271298\n",
      "[4]\tvalid_0's auc: 0.695935\tvalid_0's binary_logloss: 0.423893\tvalid_0's l1: 0.268747\n",
      "[5]\tvalid_0's auc: 0.699124\tvalid_0's binary_logloss: 0.420977\tvalid_0's l1: 0.267048\n",
      "[6]\tvalid_0's auc: 0.697335\tvalid_0's binary_logloss: 0.419728\tvalid_0's l1: 0.267014\n",
      "[7]\tvalid_0's auc: 0.698294\tvalid_0's binary_logloss: 0.417798\tvalid_0's l1: 0.265623\n",
      "[8]\tvalid_0's auc: 0.69862\tvalid_0's binary_logloss: 0.416207\tvalid_0's l1: 0.263952\n",
      "[9]\tvalid_0's auc: 0.700593\tvalid_0's binary_logloss: 0.414757\tvalid_0's l1: 0.262421\n",
      "[10]\tvalid_0's auc: 0.701787\tvalid_0's binary_logloss: 0.413541\tvalid_0's l1: 0.261366\n",
      "[11]\tvalid_0's auc: 0.702461\tvalid_0's binary_logloss: 0.412594\tvalid_0's l1: 0.260046\n",
      "[12]\tvalid_0's auc: 0.702152\tvalid_0's binary_logloss: 0.412337\tvalid_0's l1: 0.258813\n",
      "[13]\tvalid_0's auc: 0.701775\tvalid_0's binary_logloss: 0.412028\tvalid_0's l1: 0.257404\n",
      "[14]\tvalid_0's auc: 0.700862\tvalid_0's binary_logloss: 0.412062\tvalid_0's l1: 0.256128\n",
      "[15]\tvalid_0's auc: 0.700147\tvalid_0's binary_logloss: 0.411892\tvalid_0's l1: 0.254723\n",
      "[16]\tvalid_0's auc: 0.700081\tvalid_0's binary_logloss: 0.411743\tvalid_0's l1: 0.254311\n",
      "Early stopping, best iteration is:\n",
      "[11]\tvalid_0's auc: 0.702461\tvalid_0's binary_logloss: 0.412594\tvalid_0's l1: 0.260046\n"
     ]
    },
    {
     "name": "stderr",
     "output_type": "stream",
     "text": [
      "C:\\Users\\kaviy\\anaconda3\\lib\\site-packages\\sklearn\\utils\\validation.py:73: DataConversionWarning: A column-vector y was passed when a 1d array was expected. Please change the shape of y to (n_samples, ), for example using ravel().\n",
      "  return f(**kwargs)\n"
     ]
    },
    {
     "name": "stdout",
     "output_type": "stream",
     "text": [
      "[1]\tvalid_0's auc: 0.675029\tvalid_0's binary_logloss: 0.438994\tvalid_0's l1: 0.276209\n",
      "Training until validation scores don't improve for 5 rounds\n",
      "[2]\tvalid_0's auc: 0.697897\tvalid_0's binary_logloss: 0.432091\tvalid_0's l1: 0.274179\n",
      "[3]\tvalid_0's auc: 0.699544\tvalid_0's binary_logloss: 0.427173\tvalid_0's l1: 0.271719\n",
      "[4]\tvalid_0's auc: 0.700748\tvalid_0's binary_logloss: 0.423296\tvalid_0's l1: 0.26892\n",
      "[5]\tvalid_0's auc: 0.701203\tvalid_0's binary_logloss: 0.420322\tvalid_0's l1: 0.267062\n",
      "[6]\tvalid_0's auc: 0.700645\tvalid_0's binary_logloss: 0.418174\tvalid_0's l1: 0.265486\n",
      "[7]\tvalid_0's auc: 0.701159\tvalid_0's binary_logloss: 0.416329\tvalid_0's l1: 0.263946\n",
      "[8]\tvalid_0's auc: 0.701852\tvalid_0's binary_logloss: 0.414778\tvalid_0's l1: 0.262187\n",
      "[9]\tvalid_0's auc: 0.702418\tvalid_0's binary_logloss: 0.4136\tvalid_0's l1: 0.261066\n",
      "[10]\tvalid_0's auc: 0.702829\tvalid_0's binary_logloss: 0.412681\tvalid_0's l1: 0.259728\n",
      "[11]\tvalid_0's auc: 0.703289\tvalid_0's binary_logloss: 0.41193\tvalid_0's l1: 0.258591\n",
      "[12]\tvalid_0's auc: 0.703499\tvalid_0's binary_logloss: 0.411403\tvalid_0's l1: 0.257397\n",
      "[13]\tvalid_0's auc: 0.70317\tvalid_0's binary_logloss: 0.410932\tvalid_0's l1: 0.256352\n",
      "[14]\tvalid_0's auc: 0.702512\tvalid_0's binary_logloss: 0.411133\tvalid_0's l1: 0.256225\n",
      "[15]\tvalid_0's auc: 0.702992\tvalid_0's binary_logloss: 0.410902\tvalid_0's l1: 0.255602\n",
      "[16]\tvalid_0's auc: 0.703189\tvalid_0's binary_logloss: 0.41065\tvalid_0's l1: 0.254715\n",
      "[17]\tvalid_0's auc: 0.70305\tvalid_0's binary_logloss: 0.410411\tvalid_0's l1: 0.2539\n",
      "Early stopping, best iteration is:\n",
      "[12]\tvalid_0's auc: 0.703499\tvalid_0's binary_logloss: 0.411403\tvalid_0's l1: 0.257397\n"
     ]
    },
    {
     "name": "stderr",
     "output_type": "stream",
     "text": [
      "C:\\Users\\kaviy\\anaconda3\\lib\\site-packages\\sklearn\\utils\\validation.py:73: DataConversionWarning: A column-vector y was passed when a 1d array was expected. Please change the shape of y to (n_samples, ), for example using ravel().\n",
      "  return f(**kwargs)\n"
     ]
    },
    {
     "name": "stdout",
     "output_type": "stream",
     "text": [
      "[1]\tvalid_0's auc: 0.694609\tvalid_0's binary_logloss: 0.438649\tvalid_0's l1: 0.277441\n",
      "Training until validation scores don't improve for 5 rounds\n",
      "[2]\tvalid_0's auc: 0.700236\tvalid_0's binary_logloss: 0.431994\tvalid_0's l1: 0.274898\n",
      "[3]\tvalid_0's auc: 0.701236\tvalid_0's binary_logloss: 0.427022\tvalid_0's l1: 0.272217\n",
      "[4]\tvalid_0's auc: 0.702304\tvalid_0's binary_logloss: 0.423195\tvalid_0's l1: 0.270137\n",
      "[5]\tvalid_0's auc: 0.70404\tvalid_0's binary_logloss: 0.419918\tvalid_0's l1: 0.267922\n",
      "[6]\tvalid_0's auc: 0.704156\tvalid_0's binary_logloss: 0.41793\tvalid_0's l1: 0.265772\n",
      "[7]\tvalid_0's auc: 0.70481\tvalid_0's binary_logloss: 0.41596\tvalid_0's l1: 0.264338\n",
      "[8]\tvalid_0's auc: 0.704733\tvalid_0's binary_logloss: 0.414402\tvalid_0's l1: 0.262699\n",
      "[9]\tvalid_0's auc: 0.705172\tvalid_0's binary_logloss: 0.41321\tvalid_0's l1: 0.26132\n",
      "[10]\tvalid_0's auc: 0.705838\tvalid_0's binary_logloss: 0.412025\tvalid_0's l1: 0.260063\n",
      "[11]\tvalid_0's auc: 0.706407\tvalid_0's binary_logloss: 0.411336\tvalid_0's l1: 0.258796\n",
      "[12]\tvalid_0's auc: 0.707352\tvalid_0's binary_logloss: 0.410478\tvalid_0's l1: 0.257638\n",
      "[13]\tvalid_0's auc: 0.706212\tvalid_0's binary_logloss: 0.410229\tvalid_0's l1: 0.256501\n",
      "[14]\tvalid_0's auc: 0.705883\tvalid_0's binary_logloss: 0.410048\tvalid_0's l1: 0.255882\n",
      "[15]\tvalid_0's auc: 0.706675\tvalid_0's binary_logloss: 0.40963\tvalid_0's l1: 0.255027\n",
      "[16]\tvalid_0's auc: 0.706818\tvalid_0's binary_logloss: 0.409419\tvalid_0's l1: 0.254695\n",
      "[17]\tvalid_0's auc: 0.706878\tvalid_0's binary_logloss: 0.409333\tvalid_0's l1: 0.253535\n",
      "Early stopping, best iteration is:\n",
      "[12]\tvalid_0's auc: 0.707352\tvalid_0's binary_logloss: 0.410478\tvalid_0's l1: 0.257638\n"
     ]
    },
    {
     "name": "stderr",
     "output_type": "stream",
     "text": [
      "C:\\Users\\kaviy\\anaconda3\\lib\\site-packages\\sklearn\\utils\\validation.py:73: DataConversionWarning: A column-vector y was passed when a 1d array was expected. Please change the shape of y to (n_samples, ), for example using ravel().\n",
      "  return f(**kwargs)\n"
     ]
    },
    {
     "name": "stdout",
     "output_type": "stream",
     "text": [
      "[1]\tvalid_0's auc: 0.699268\tvalid_0's binary_logloss: 0.438633\tvalid_0's l1: 0.277552\n",
      "Training until validation scores don't improve for 5 rounds\n",
      "[2]\tvalid_0's auc: 0.699523\tvalid_0's binary_logloss: 0.432185\tvalid_0's l1: 0.274527\n",
      "[3]\tvalid_0's auc: 0.70024\tvalid_0's binary_logloss: 0.427272\tvalid_0's l1: 0.272114\n",
      "[4]\tvalid_0's auc: 0.701592\tvalid_0's binary_logloss: 0.423439\tvalid_0's l1: 0.269453\n",
      "[5]\tvalid_0's auc: 0.701358\tvalid_0's binary_logloss: 0.420522\tvalid_0's l1: 0.267575\n",
      "[6]\tvalid_0's auc: 0.70082\tvalid_0's binary_logloss: 0.418659\tvalid_0's l1: 0.265854\n",
      "[7]\tvalid_0's auc: 0.70012\tvalid_0's binary_logloss: 0.41689\tvalid_0's l1: 0.263942\n",
      "[8]\tvalid_0's auc: 0.700378\tvalid_0's binary_logloss: 0.415525\tvalid_0's l1: 0.262826\n",
      "[9]\tvalid_0's auc: 0.700264\tvalid_0's binary_logloss: 0.414409\tvalid_0's l1: 0.261498\n",
      "Early stopping, best iteration is:\n",
      "[4]\tvalid_0's auc: 0.701592\tvalid_0's binary_logloss: 0.423439\tvalid_0's l1: 0.269453\n"
     ]
    },
    {
     "name": "stderr",
     "output_type": "stream",
     "text": [
      "C:\\Users\\kaviy\\anaconda3\\lib\\site-packages\\sklearn\\utils\\validation.py:73: DataConversionWarning: A column-vector y was passed when a 1d array was expected. Please change the shape of y to (n_samples, ), for example using ravel().\n",
      "  return f(**kwargs)\n"
     ]
    },
    {
     "name": "stdout",
     "output_type": "stream",
     "text": [
      "[1]\tvalid_0's auc: 0.630879\tvalid_0's binary_logloss: 0.440211\tvalid_0's l1: 0.276123\n",
      "Training until validation scores don't improve for 5 rounds\n",
      "[2]\tvalid_0's auc: 0.68879\tvalid_0's binary_logloss: 0.433446\tvalid_0's l1: 0.273975\n",
      "[3]\tvalid_0's auc: 0.692981\tvalid_0's binary_logloss: 0.428713\tvalid_0's l1: 0.271525\n",
      "[4]\tvalid_0's auc: 0.694383\tvalid_0's binary_logloss: 0.424976\tvalid_0's l1: 0.269152\n",
      "[5]\tvalid_0's auc: 0.696644\tvalid_0's binary_logloss: 0.422113\tvalid_0's l1: 0.267295\n",
      "[6]\tvalid_0's auc: 0.697508\tvalid_0's binary_logloss: 0.419789\tvalid_0's l1: 0.266185\n",
      "[7]\tvalid_0's auc: 0.69744\tvalid_0's binary_logloss: 0.41833\tvalid_0's l1: 0.264243\n",
      "[8]\tvalid_0's auc: 0.693549\tvalid_0's binary_logloss: 0.417801\tvalid_0's l1: 0.26055\n",
      "[9]\tvalid_0's auc: 0.694734\tvalid_0's binary_logloss: 0.416714\tvalid_0's l1: 0.259611\n",
      "[10]\tvalid_0's auc: 0.695641\tvalid_0's binary_logloss: 0.415781\tvalid_0's l1: 0.258825\n",
      "[11]\tvalid_0's auc: 0.696039\tvalid_0's binary_logloss: 0.415122\tvalid_0's l1: 0.25708\n",
      "Early stopping, best iteration is:\n",
      "[6]\tvalid_0's auc: 0.697508\tvalid_0's binary_logloss: 0.419789\tvalid_0's l1: 0.266185\n"
     ]
    },
    {
     "name": "stderr",
     "output_type": "stream",
     "text": [
      "C:\\Users\\kaviy\\anaconda3\\lib\\site-packages\\sklearn\\utils\\validation.py:73: DataConversionWarning: A column-vector y was passed when a 1d array was expected. Please change the shape of y to (n_samples, ), for example using ravel().\n",
      "  return f(**kwargs)\n"
     ]
    },
    {
     "name": "stdout",
     "output_type": "stream",
     "text": [
      "[1]\tvalid_0's auc: 0.694931\tvalid_0's binary_logloss: 0.438271\tvalid_0's l1: 0.27698\n",
      "Training until validation scores don't improve for 5 rounds\n",
      "[2]\tvalid_0's auc: 0.697108\tvalid_0's binary_logloss: 0.431925\tvalid_0's l1: 0.274056\n",
      "[3]\tvalid_0's auc: 0.694107\tvalid_0's binary_logloss: 0.427841\tvalid_0's l1: 0.271298\n",
      "[4]\tvalid_0's auc: 0.695935\tvalid_0's binary_logloss: 0.423893\tvalid_0's l1: 0.268747\n",
      "[5]\tvalid_0's auc: 0.699124\tvalid_0's binary_logloss: 0.420977\tvalid_0's l1: 0.267048\n",
      "[6]\tvalid_0's auc: 0.697335\tvalid_0's binary_logloss: 0.419728\tvalid_0's l1: 0.267014\n",
      "[7]\tvalid_0's auc: 0.698294\tvalid_0's binary_logloss: 0.417798\tvalid_0's l1: 0.265623\n",
      "[8]\tvalid_0's auc: 0.69862\tvalid_0's binary_logloss: 0.416207\tvalid_0's l1: 0.263952\n",
      "[9]\tvalid_0's auc: 0.700593\tvalid_0's binary_logloss: 0.414757\tvalid_0's l1: 0.262421\n",
      "[10]\tvalid_0's auc: 0.701787\tvalid_0's binary_logloss: 0.413541\tvalid_0's l1: 0.261366\n",
      "[11]\tvalid_0's auc: 0.702461\tvalid_0's binary_logloss: 0.412594\tvalid_0's l1: 0.260046\n",
      "[12]\tvalid_0's auc: 0.702152\tvalid_0's binary_logloss: 0.412337\tvalid_0's l1: 0.258813\n",
      "[13]\tvalid_0's auc: 0.701775\tvalid_0's binary_logloss: 0.412028\tvalid_0's l1: 0.257404\n",
      "[14]\tvalid_0's auc: 0.700862\tvalid_0's binary_logloss: 0.412062\tvalid_0's l1: 0.256128\n",
      "[15]\tvalid_0's auc: 0.700147\tvalid_0's binary_logloss: 0.411892\tvalid_0's l1: 0.254723\n",
      "[16]\tvalid_0's auc: 0.700081\tvalid_0's binary_logloss: 0.411743\tvalid_0's l1: 0.254311\n",
      "Early stopping, best iteration is:\n",
      "[11]\tvalid_0's auc: 0.702461\tvalid_0's binary_logloss: 0.412594\tvalid_0's l1: 0.260046\n"
     ]
    },
    {
     "name": "stderr",
     "output_type": "stream",
     "text": [
      "C:\\Users\\kaviy\\anaconda3\\lib\\site-packages\\sklearn\\utils\\validation.py:73: DataConversionWarning: A column-vector y was passed when a 1d array was expected. Please change the shape of y to (n_samples, ), for example using ravel().\n",
      "  return f(**kwargs)\n"
     ]
    },
    {
     "name": "stdout",
     "output_type": "stream",
     "text": [
      "[1]\tvalid_0's auc: 0.675029\tvalid_0's binary_logloss: 0.438994\tvalid_0's l1: 0.276209\n",
      "Training until validation scores don't improve for 5 rounds\n",
      "[2]\tvalid_0's auc: 0.697897\tvalid_0's binary_logloss: 0.432091\tvalid_0's l1: 0.274179\n",
      "[3]\tvalid_0's auc: 0.699544\tvalid_0's binary_logloss: 0.427173\tvalid_0's l1: 0.271719\n",
      "[4]\tvalid_0's auc: 0.700748\tvalid_0's binary_logloss: 0.423296\tvalid_0's l1: 0.26892\n",
      "[5]\tvalid_0's auc: 0.701203\tvalid_0's binary_logloss: 0.420322\tvalid_0's l1: 0.267062\n",
      "[6]\tvalid_0's auc: 0.700645\tvalid_0's binary_logloss: 0.418174\tvalid_0's l1: 0.265486\n",
      "[7]\tvalid_0's auc: 0.701159\tvalid_0's binary_logloss: 0.416329\tvalid_0's l1: 0.263946\n",
      "[8]\tvalid_0's auc: 0.701852\tvalid_0's binary_logloss: 0.414778\tvalid_0's l1: 0.262187\n",
      "[9]\tvalid_0's auc: 0.702418\tvalid_0's binary_logloss: 0.4136\tvalid_0's l1: 0.261066\n",
      "[10]\tvalid_0's auc: 0.702829\tvalid_0's binary_logloss: 0.412681\tvalid_0's l1: 0.259728\n",
      "[11]\tvalid_0's auc: 0.703289\tvalid_0's binary_logloss: 0.41193\tvalid_0's l1: 0.258591\n",
      "[12]\tvalid_0's auc: 0.703499\tvalid_0's binary_logloss: 0.411403\tvalid_0's l1: 0.257397\n",
      "[13]\tvalid_0's auc: 0.70317\tvalid_0's binary_logloss: 0.410932\tvalid_0's l1: 0.256352\n",
      "[14]\tvalid_0's auc: 0.702512\tvalid_0's binary_logloss: 0.411133\tvalid_0's l1: 0.256225\n",
      "[15]\tvalid_0's auc: 0.702992\tvalid_0's binary_logloss: 0.410902\tvalid_0's l1: 0.255602\n",
      "[16]\tvalid_0's auc: 0.703189\tvalid_0's binary_logloss: 0.41065\tvalid_0's l1: 0.254715\n",
      "[17]\tvalid_0's auc: 0.70305\tvalid_0's binary_logloss: 0.410411\tvalid_0's l1: 0.2539\n",
      "Early stopping, best iteration is:\n",
      "[12]\tvalid_0's auc: 0.703499\tvalid_0's binary_logloss: 0.411403\tvalid_0's l1: 0.257397\n"
     ]
    },
    {
     "name": "stderr",
     "output_type": "stream",
     "text": [
      "C:\\Users\\kaviy\\anaconda3\\lib\\site-packages\\sklearn\\utils\\validation.py:73: DataConversionWarning: A column-vector y was passed when a 1d array was expected. Please change the shape of y to (n_samples, ), for example using ravel().\n",
      "  return f(**kwargs)\n"
     ]
    },
    {
     "name": "stdout",
     "output_type": "stream",
     "text": [
      "[1]\tvalid_0's auc: 0.694609\tvalid_0's binary_logloss: 0.438649\tvalid_0's l1: 0.277441\n",
      "Training until validation scores don't improve for 5 rounds\n",
      "[2]\tvalid_0's auc: 0.700236\tvalid_0's binary_logloss: 0.431994\tvalid_0's l1: 0.274898\n",
      "[3]\tvalid_0's auc: 0.701236\tvalid_0's binary_logloss: 0.427022\tvalid_0's l1: 0.272217\n",
      "[4]\tvalid_0's auc: 0.702304\tvalid_0's binary_logloss: 0.423195\tvalid_0's l1: 0.270137\n",
      "[5]\tvalid_0's auc: 0.70404\tvalid_0's binary_logloss: 0.419918\tvalid_0's l1: 0.267922\n",
      "[6]\tvalid_0's auc: 0.704156\tvalid_0's binary_logloss: 0.41793\tvalid_0's l1: 0.265772\n",
      "[7]\tvalid_0's auc: 0.70481\tvalid_0's binary_logloss: 0.41596\tvalid_0's l1: 0.264338\n",
      "[8]\tvalid_0's auc: 0.704733\tvalid_0's binary_logloss: 0.414402\tvalid_0's l1: 0.262699\n",
      "[9]\tvalid_0's auc: 0.705172\tvalid_0's binary_logloss: 0.41321\tvalid_0's l1: 0.26132\n",
      "[10]\tvalid_0's auc: 0.705838\tvalid_0's binary_logloss: 0.412025\tvalid_0's l1: 0.260063\n",
      "[11]\tvalid_0's auc: 0.706407\tvalid_0's binary_logloss: 0.411336\tvalid_0's l1: 0.258796\n",
      "[12]\tvalid_0's auc: 0.707352\tvalid_0's binary_logloss: 0.410478\tvalid_0's l1: 0.257638\n",
      "[13]\tvalid_0's auc: 0.706212\tvalid_0's binary_logloss: 0.410229\tvalid_0's l1: 0.256501\n",
      "[14]\tvalid_0's auc: 0.705883\tvalid_0's binary_logloss: 0.410048\tvalid_0's l1: 0.255882\n",
      "[15]\tvalid_0's auc: 0.706675\tvalid_0's binary_logloss: 0.40963\tvalid_0's l1: 0.255027\n",
      "[16]\tvalid_0's auc: 0.706818\tvalid_0's binary_logloss: 0.409419\tvalid_0's l1: 0.254695\n",
      "[17]\tvalid_0's auc: 0.706878\tvalid_0's binary_logloss: 0.409333\tvalid_0's l1: 0.253535\n",
      "Early stopping, best iteration is:\n",
      "[12]\tvalid_0's auc: 0.707352\tvalid_0's binary_logloss: 0.410478\tvalid_0's l1: 0.257638\n"
     ]
    },
    {
     "name": "stderr",
     "output_type": "stream",
     "text": [
      "C:\\Users\\kaviy\\anaconda3\\lib\\site-packages\\sklearn\\utils\\validation.py:73: DataConversionWarning: A column-vector y was passed when a 1d array was expected. Please change the shape of y to (n_samples, ), for example using ravel().\n",
      "  return f(**kwargs)\n"
     ]
    },
    {
     "name": "stdout",
     "output_type": "stream",
     "text": [
      "[1]\tvalid_0's auc: 0.699268\tvalid_0's binary_logloss: 0.438633\tvalid_0's l1: 0.277552\n",
      "Training until validation scores don't improve for 5 rounds\n",
      "[2]\tvalid_0's auc: 0.699523\tvalid_0's binary_logloss: 0.432185\tvalid_0's l1: 0.274527\n",
      "[3]\tvalid_0's auc: 0.70024\tvalid_0's binary_logloss: 0.427272\tvalid_0's l1: 0.272114\n",
      "[4]\tvalid_0's auc: 0.701592\tvalid_0's binary_logloss: 0.423439\tvalid_0's l1: 0.269453\n",
      "[5]\tvalid_0's auc: 0.701358\tvalid_0's binary_logloss: 0.420522\tvalid_0's l1: 0.267575\n",
      "[6]\tvalid_0's auc: 0.70082\tvalid_0's binary_logloss: 0.418659\tvalid_0's l1: 0.265854\n",
      "[7]\tvalid_0's auc: 0.70012\tvalid_0's binary_logloss: 0.41689\tvalid_0's l1: 0.263942\n",
      "[8]\tvalid_0's auc: 0.700378\tvalid_0's binary_logloss: 0.415525\tvalid_0's l1: 0.262826\n",
      "[9]\tvalid_0's auc: 0.700264\tvalid_0's binary_logloss: 0.414409\tvalid_0's l1: 0.261498\n",
      "Early stopping, best iteration is:\n",
      "[4]\tvalid_0's auc: 0.701592\tvalid_0's binary_logloss: 0.423439\tvalid_0's l1: 0.269453\n"
     ]
    },
    {
     "name": "stderr",
     "output_type": "stream",
     "text": [
      "C:\\Users\\kaviy\\anaconda3\\lib\\site-packages\\sklearn\\utils\\validation.py:73: DataConversionWarning: A column-vector y was passed when a 1d array was expected. Please change the shape of y to (n_samples, ), for example using ravel().\n",
      "  return f(**kwargs)\n"
     ]
    },
    {
     "name": "stdout",
     "output_type": "stream",
     "text": [
      "[1]\tvalid_0's auc: 0.630879\tvalid_0's binary_logloss: 0.440211\tvalid_0's l1: 0.276123\n",
      "Training until validation scores don't improve for 5 rounds\n",
      "[2]\tvalid_0's auc: 0.68879\tvalid_0's binary_logloss: 0.433446\tvalid_0's l1: 0.273975\n",
      "[3]\tvalid_0's auc: 0.692981\tvalid_0's binary_logloss: 0.428713\tvalid_0's l1: 0.271525\n",
      "[4]\tvalid_0's auc: 0.694383\tvalid_0's binary_logloss: 0.424976\tvalid_0's l1: 0.269152\n",
      "[5]\tvalid_0's auc: 0.696644\tvalid_0's binary_logloss: 0.422113\tvalid_0's l1: 0.267295\n",
      "[6]\tvalid_0's auc: 0.697508\tvalid_0's binary_logloss: 0.419789\tvalid_0's l1: 0.266185\n",
      "[7]\tvalid_0's auc: 0.69744\tvalid_0's binary_logloss: 0.41833\tvalid_0's l1: 0.264243\n",
      "[8]\tvalid_0's auc: 0.693549\tvalid_0's binary_logloss: 0.417801\tvalid_0's l1: 0.26055\n",
      "[9]\tvalid_0's auc: 0.694734\tvalid_0's binary_logloss: 0.416714\tvalid_0's l1: 0.259611\n",
      "[10]\tvalid_0's auc: 0.695641\tvalid_0's binary_logloss: 0.415781\tvalid_0's l1: 0.258825\n",
      "[11]\tvalid_0's auc: 0.696039\tvalid_0's binary_logloss: 0.415122\tvalid_0's l1: 0.25708\n",
      "Early stopping, best iteration is:\n",
      "[6]\tvalid_0's auc: 0.697508\tvalid_0's binary_logloss: 0.419789\tvalid_0's l1: 0.266185\n"
     ]
    },
    {
     "name": "stderr",
     "output_type": "stream",
     "text": [
      "C:\\Users\\kaviy\\anaconda3\\lib\\site-packages\\sklearn\\utils\\validation.py:73: DataConversionWarning: A column-vector y was passed when a 1d array was expected. Please change the shape of y to (n_samples, ), for example using ravel().\n",
      "  return f(**kwargs)\n"
     ]
    },
    {
     "name": "stdout",
     "output_type": "stream",
     "text": [
      "[1]\tvalid_0's auc: 0.694931\tvalid_0's binary_logloss: 0.438271\tvalid_0's l1: 0.27698\n",
      "Training until validation scores don't improve for 5 rounds\n",
      "[2]\tvalid_0's auc: 0.697108\tvalid_0's binary_logloss: 0.431925\tvalid_0's l1: 0.274056\n",
      "[3]\tvalid_0's auc: 0.694107\tvalid_0's binary_logloss: 0.427841\tvalid_0's l1: 0.271298\n",
      "[4]\tvalid_0's auc: 0.695935\tvalid_0's binary_logloss: 0.423893\tvalid_0's l1: 0.268747\n",
      "[5]\tvalid_0's auc: 0.699124\tvalid_0's binary_logloss: 0.420977\tvalid_0's l1: 0.267048\n",
      "[6]\tvalid_0's auc: 0.697335\tvalid_0's binary_logloss: 0.419728\tvalid_0's l1: 0.267014\n",
      "[7]\tvalid_0's auc: 0.698294\tvalid_0's binary_logloss: 0.417798\tvalid_0's l1: 0.265623\n",
      "[8]\tvalid_0's auc: 0.69862\tvalid_0's binary_logloss: 0.416207\tvalid_0's l1: 0.263952\n",
      "[9]\tvalid_0's auc: 0.700593\tvalid_0's binary_logloss: 0.414757\tvalid_0's l1: 0.262421\n",
      "[10]\tvalid_0's auc: 0.701787\tvalid_0's binary_logloss: 0.413541\tvalid_0's l1: 0.261366\n",
      "[11]\tvalid_0's auc: 0.702461\tvalid_0's binary_logloss: 0.412594\tvalid_0's l1: 0.260046\n",
      "[12]\tvalid_0's auc: 0.702152\tvalid_0's binary_logloss: 0.412337\tvalid_0's l1: 0.258813\n",
      "[13]\tvalid_0's auc: 0.701775\tvalid_0's binary_logloss: 0.412028\tvalid_0's l1: 0.257404\n",
      "[14]\tvalid_0's auc: 0.700862\tvalid_0's binary_logloss: 0.412062\tvalid_0's l1: 0.256128\n",
      "[15]\tvalid_0's auc: 0.700147\tvalid_0's binary_logloss: 0.411892\tvalid_0's l1: 0.254723\n",
      "[16]\tvalid_0's auc: 0.700081\tvalid_0's binary_logloss: 0.411743\tvalid_0's l1: 0.254311\n",
      "Early stopping, best iteration is:\n",
      "[11]\tvalid_0's auc: 0.702461\tvalid_0's binary_logloss: 0.412594\tvalid_0's l1: 0.260046\n"
     ]
    },
    {
     "name": "stderr",
     "output_type": "stream",
     "text": [
      "C:\\Users\\kaviy\\anaconda3\\lib\\site-packages\\sklearn\\utils\\validation.py:73: DataConversionWarning: A column-vector y was passed when a 1d array was expected. Please change the shape of y to (n_samples, ), for example using ravel().\n",
      "  return f(**kwargs)\n"
     ]
    },
    {
     "name": "stdout",
     "output_type": "stream",
     "text": [
      "[1]\tvalid_0's auc: 0.675029\tvalid_0's binary_logloss: 0.438994\tvalid_0's l1: 0.276209\n",
      "Training until validation scores don't improve for 5 rounds\n",
      "[2]\tvalid_0's auc: 0.697897\tvalid_0's binary_logloss: 0.432091\tvalid_0's l1: 0.274179\n",
      "[3]\tvalid_0's auc: 0.699544\tvalid_0's binary_logloss: 0.427173\tvalid_0's l1: 0.271719\n",
      "[4]\tvalid_0's auc: 0.700748\tvalid_0's binary_logloss: 0.423296\tvalid_0's l1: 0.26892\n",
      "[5]\tvalid_0's auc: 0.701203\tvalid_0's binary_logloss: 0.420322\tvalid_0's l1: 0.267062\n",
      "[6]\tvalid_0's auc: 0.700645\tvalid_0's binary_logloss: 0.418174\tvalid_0's l1: 0.265486\n",
      "[7]\tvalid_0's auc: 0.701159\tvalid_0's binary_logloss: 0.416329\tvalid_0's l1: 0.263946\n",
      "[8]\tvalid_0's auc: 0.701852\tvalid_0's binary_logloss: 0.414778\tvalid_0's l1: 0.262187\n",
      "[9]\tvalid_0's auc: 0.702418\tvalid_0's binary_logloss: 0.4136\tvalid_0's l1: 0.261066\n",
      "[10]\tvalid_0's auc: 0.702829\tvalid_0's binary_logloss: 0.412681\tvalid_0's l1: 0.259728\n",
      "[11]\tvalid_0's auc: 0.703289\tvalid_0's binary_logloss: 0.41193\tvalid_0's l1: 0.258591\n",
      "[12]\tvalid_0's auc: 0.703499\tvalid_0's binary_logloss: 0.411403\tvalid_0's l1: 0.257397\n",
      "[13]\tvalid_0's auc: 0.70317\tvalid_0's binary_logloss: 0.410932\tvalid_0's l1: 0.256352\n",
      "[14]\tvalid_0's auc: 0.702512\tvalid_0's binary_logloss: 0.411133\tvalid_0's l1: 0.256225\n",
      "[15]\tvalid_0's auc: 0.702992\tvalid_0's binary_logloss: 0.410902\tvalid_0's l1: 0.255602\n",
      "[16]\tvalid_0's auc: 0.703189\tvalid_0's binary_logloss: 0.41065\tvalid_0's l1: 0.254715\n",
      "[17]\tvalid_0's auc: 0.70305\tvalid_0's binary_logloss: 0.410411\tvalid_0's l1: 0.2539\n",
      "Early stopping, best iteration is:\n",
      "[12]\tvalid_0's auc: 0.703499\tvalid_0's binary_logloss: 0.411403\tvalid_0's l1: 0.257397\n"
     ]
    },
    {
     "name": "stderr",
     "output_type": "stream",
     "text": [
      "C:\\Users\\kaviy\\anaconda3\\lib\\site-packages\\sklearn\\utils\\validation.py:73: DataConversionWarning: A column-vector y was passed when a 1d array was expected. Please change the shape of y to (n_samples, ), for example using ravel().\n",
      "  return f(**kwargs)\n"
     ]
    },
    {
     "name": "stdout",
     "output_type": "stream",
     "text": [
      "[1]\tvalid_0's auc: 0.694609\tvalid_0's binary_logloss: 0.438649\tvalid_0's l1: 0.277441\n",
      "Training until validation scores don't improve for 5 rounds\n",
      "[2]\tvalid_0's auc: 0.700236\tvalid_0's binary_logloss: 0.431994\tvalid_0's l1: 0.274898\n",
      "[3]\tvalid_0's auc: 0.701236\tvalid_0's binary_logloss: 0.427022\tvalid_0's l1: 0.272217\n",
      "[4]\tvalid_0's auc: 0.702304\tvalid_0's binary_logloss: 0.423195\tvalid_0's l1: 0.270137\n",
      "[5]\tvalid_0's auc: 0.70404\tvalid_0's binary_logloss: 0.419918\tvalid_0's l1: 0.267922\n",
      "[6]\tvalid_0's auc: 0.704156\tvalid_0's binary_logloss: 0.41793\tvalid_0's l1: 0.265772\n",
      "[7]\tvalid_0's auc: 0.70481\tvalid_0's binary_logloss: 0.41596\tvalid_0's l1: 0.264338\n",
      "[8]\tvalid_0's auc: 0.704733\tvalid_0's binary_logloss: 0.414402\tvalid_0's l1: 0.262699\n",
      "[9]\tvalid_0's auc: 0.705172\tvalid_0's binary_logloss: 0.41321\tvalid_0's l1: 0.26132\n",
      "[10]\tvalid_0's auc: 0.705838\tvalid_0's binary_logloss: 0.412025\tvalid_0's l1: 0.260063\n",
      "[11]\tvalid_0's auc: 0.706407\tvalid_0's binary_logloss: 0.411336\tvalid_0's l1: 0.258796\n",
      "[12]\tvalid_0's auc: 0.707352\tvalid_0's binary_logloss: 0.410478\tvalid_0's l1: 0.257638\n",
      "[13]\tvalid_0's auc: 0.706212\tvalid_0's binary_logloss: 0.410229\tvalid_0's l1: 0.256501\n",
      "[14]\tvalid_0's auc: 0.705883\tvalid_0's binary_logloss: 0.410048\tvalid_0's l1: 0.255882\n",
      "[15]\tvalid_0's auc: 0.706675\tvalid_0's binary_logloss: 0.40963\tvalid_0's l1: 0.255027\n",
      "[16]\tvalid_0's auc: 0.706818\tvalid_0's binary_logloss: 0.409419\tvalid_0's l1: 0.254695\n",
      "[17]\tvalid_0's auc: 0.706878\tvalid_0's binary_logloss: 0.409333\tvalid_0's l1: 0.253535\n",
      "Early stopping, best iteration is:\n",
      "[12]\tvalid_0's auc: 0.707352\tvalid_0's binary_logloss: 0.410478\tvalid_0's l1: 0.257638\n"
     ]
    },
    {
     "name": "stderr",
     "output_type": "stream",
     "text": [
      "C:\\Users\\kaviy\\anaconda3\\lib\\site-packages\\sklearn\\utils\\validation.py:73: DataConversionWarning: A column-vector y was passed when a 1d array was expected. Please change the shape of y to (n_samples, ), for example using ravel().\n",
      "  return f(**kwargs)\n"
     ]
    },
    {
     "name": "stdout",
     "output_type": "stream",
     "text": [
      "[1]\tvalid_0's auc: 0.699268\tvalid_0's binary_logloss: 0.438633\tvalid_0's l1: 0.277552\n",
      "Training until validation scores don't improve for 5 rounds\n",
      "[2]\tvalid_0's auc: 0.699523\tvalid_0's binary_logloss: 0.432185\tvalid_0's l1: 0.274527\n",
      "[3]\tvalid_0's auc: 0.70024\tvalid_0's binary_logloss: 0.427272\tvalid_0's l1: 0.272114\n",
      "[4]\tvalid_0's auc: 0.701592\tvalid_0's binary_logloss: 0.423439\tvalid_0's l1: 0.269453\n",
      "[5]\tvalid_0's auc: 0.701358\tvalid_0's binary_logloss: 0.420522\tvalid_0's l1: 0.267575\n",
      "[6]\tvalid_0's auc: 0.70082\tvalid_0's binary_logloss: 0.418659\tvalid_0's l1: 0.265854\n",
      "[7]\tvalid_0's auc: 0.70012\tvalid_0's binary_logloss: 0.41689\tvalid_0's l1: 0.263942\n",
      "[8]\tvalid_0's auc: 0.700378\tvalid_0's binary_logloss: 0.415525\tvalid_0's l1: 0.262826\n",
      "[9]\tvalid_0's auc: 0.700264\tvalid_0's binary_logloss: 0.414409\tvalid_0's l1: 0.261498\n",
      "Early stopping, best iteration is:\n",
      "[4]\tvalid_0's auc: 0.701592\tvalid_0's binary_logloss: 0.423439\tvalid_0's l1: 0.269453\n"
     ]
    },
    {
     "name": "stderr",
     "output_type": "stream",
     "text": [
      "C:\\Users\\kaviy\\anaconda3\\lib\\site-packages\\sklearn\\utils\\validation.py:73: DataConversionWarning: A column-vector y was passed when a 1d array was expected. Please change the shape of y to (n_samples, ), for example using ravel().\n",
      "  return f(**kwargs)\n"
     ]
    },
    {
     "name": "stdout",
     "output_type": "stream",
     "text": [
      "[1]\tvalid_0's auc: 0.630879\tvalid_0's binary_logloss: 0.440211\tvalid_0's l1: 0.276123\n",
      "Training until validation scores don't improve for 5 rounds\n",
      "[2]\tvalid_0's auc: 0.68879\tvalid_0's binary_logloss: 0.433446\tvalid_0's l1: 0.273975\n",
      "[3]\tvalid_0's auc: 0.692981\tvalid_0's binary_logloss: 0.428713\tvalid_0's l1: 0.271525\n",
      "[4]\tvalid_0's auc: 0.694383\tvalid_0's binary_logloss: 0.424976\tvalid_0's l1: 0.269152\n",
      "[5]\tvalid_0's auc: 0.696644\tvalid_0's binary_logloss: 0.422113\tvalid_0's l1: 0.267295\n",
      "[6]\tvalid_0's auc: 0.697508\tvalid_0's binary_logloss: 0.419789\tvalid_0's l1: 0.266185\n",
      "[7]\tvalid_0's auc: 0.69744\tvalid_0's binary_logloss: 0.41833\tvalid_0's l1: 0.264243\n",
      "[8]\tvalid_0's auc: 0.693549\tvalid_0's binary_logloss: 0.417801\tvalid_0's l1: 0.26055\n",
      "[9]\tvalid_0's auc: 0.694734\tvalid_0's binary_logloss: 0.416714\tvalid_0's l1: 0.259611\n",
      "[10]\tvalid_0's auc: 0.695641\tvalid_0's binary_logloss: 0.415781\tvalid_0's l1: 0.258825\n",
      "[11]\tvalid_0's auc: 0.696039\tvalid_0's binary_logloss: 0.415122\tvalid_0's l1: 0.25708\n",
      "Early stopping, best iteration is:\n",
      "[6]\tvalid_0's auc: 0.697508\tvalid_0's binary_logloss: 0.419789\tvalid_0's l1: 0.266185\n"
     ]
    },
    {
     "name": "stderr",
     "output_type": "stream",
     "text": [
      "C:\\Users\\kaviy\\anaconda3\\lib\\site-packages\\sklearn\\utils\\validation.py:73: DataConversionWarning: A column-vector y was passed when a 1d array was expected. Please change the shape of y to (n_samples, ), for example using ravel().\n",
      "  return f(**kwargs)\n"
     ]
    },
    {
     "name": "stdout",
     "output_type": "stream",
     "text": [
      "[1]\tvalid_0's auc: 0.694931\tvalid_0's binary_logloss: 0.438271\tvalid_0's l1: 0.27698\n",
      "Training until validation scores don't improve for 5 rounds\n",
      "[2]\tvalid_0's auc: 0.697108\tvalid_0's binary_logloss: 0.431925\tvalid_0's l1: 0.274056\n",
      "[3]\tvalid_0's auc: 0.694107\tvalid_0's binary_logloss: 0.427841\tvalid_0's l1: 0.271298\n",
      "[4]\tvalid_0's auc: 0.695935\tvalid_0's binary_logloss: 0.423893\tvalid_0's l1: 0.268747\n",
      "[5]\tvalid_0's auc: 0.699124\tvalid_0's binary_logloss: 0.420977\tvalid_0's l1: 0.267048\n",
      "[6]\tvalid_0's auc: 0.697335\tvalid_0's binary_logloss: 0.419728\tvalid_0's l1: 0.267014\n",
      "[7]\tvalid_0's auc: 0.698294\tvalid_0's binary_logloss: 0.417798\tvalid_0's l1: 0.265623\n",
      "[8]\tvalid_0's auc: 0.69862\tvalid_0's binary_logloss: 0.416207\tvalid_0's l1: 0.263952\n",
      "[9]\tvalid_0's auc: 0.700593\tvalid_0's binary_logloss: 0.414757\tvalid_0's l1: 0.262421\n",
      "[10]\tvalid_0's auc: 0.701787\tvalid_0's binary_logloss: 0.413541\tvalid_0's l1: 0.261366\n",
      "[11]\tvalid_0's auc: 0.702461\tvalid_0's binary_logloss: 0.412594\tvalid_0's l1: 0.260046\n",
      "[12]\tvalid_0's auc: 0.702152\tvalid_0's binary_logloss: 0.412337\tvalid_0's l1: 0.258813\n",
      "[13]\tvalid_0's auc: 0.701775\tvalid_0's binary_logloss: 0.412028\tvalid_0's l1: 0.257404\n",
      "[14]\tvalid_0's auc: 0.700862\tvalid_0's binary_logloss: 0.412062\tvalid_0's l1: 0.256128\n",
      "[15]\tvalid_0's auc: 0.700147\tvalid_0's binary_logloss: 0.411892\tvalid_0's l1: 0.254723\n",
      "[16]\tvalid_0's auc: 0.700081\tvalid_0's binary_logloss: 0.411743\tvalid_0's l1: 0.254311\n",
      "Early stopping, best iteration is:\n",
      "[11]\tvalid_0's auc: 0.702461\tvalid_0's binary_logloss: 0.412594\tvalid_0's l1: 0.260046\n"
     ]
    },
    {
     "name": "stderr",
     "output_type": "stream",
     "text": [
      "C:\\Users\\kaviy\\anaconda3\\lib\\site-packages\\sklearn\\utils\\validation.py:73: DataConversionWarning: A column-vector y was passed when a 1d array was expected. Please change the shape of y to (n_samples, ), for example using ravel().\n",
      "  return f(**kwargs)\n"
     ]
    },
    {
     "name": "stdout",
     "output_type": "stream",
     "text": [
      "[1]\tvalid_0's auc: 0.675029\tvalid_0's binary_logloss: 0.438994\tvalid_0's l1: 0.276209\n",
      "Training until validation scores don't improve for 5 rounds\n",
      "[2]\tvalid_0's auc: 0.697897\tvalid_0's binary_logloss: 0.432091\tvalid_0's l1: 0.274179\n",
      "[3]\tvalid_0's auc: 0.699544\tvalid_0's binary_logloss: 0.427173\tvalid_0's l1: 0.271719\n",
      "[4]\tvalid_0's auc: 0.700748\tvalid_0's binary_logloss: 0.423296\tvalid_0's l1: 0.26892\n",
      "[5]\tvalid_0's auc: 0.701203\tvalid_0's binary_logloss: 0.420322\tvalid_0's l1: 0.267062\n",
      "[6]\tvalid_0's auc: 0.700645\tvalid_0's binary_logloss: 0.418174\tvalid_0's l1: 0.265486\n",
      "[7]\tvalid_0's auc: 0.701159\tvalid_0's binary_logloss: 0.416329\tvalid_0's l1: 0.263946\n",
      "[8]\tvalid_0's auc: 0.701852\tvalid_0's binary_logloss: 0.414778\tvalid_0's l1: 0.262187\n",
      "[9]\tvalid_0's auc: 0.702418\tvalid_0's binary_logloss: 0.4136\tvalid_0's l1: 0.261066\n",
      "[10]\tvalid_0's auc: 0.702829\tvalid_0's binary_logloss: 0.412681\tvalid_0's l1: 0.259728\n",
      "[11]\tvalid_0's auc: 0.703289\tvalid_0's binary_logloss: 0.41193\tvalid_0's l1: 0.258591\n",
      "[12]\tvalid_0's auc: 0.703499\tvalid_0's binary_logloss: 0.411403\tvalid_0's l1: 0.257397\n",
      "[13]\tvalid_0's auc: 0.70317\tvalid_0's binary_logloss: 0.410932\tvalid_0's l1: 0.256352\n",
      "[14]\tvalid_0's auc: 0.702512\tvalid_0's binary_logloss: 0.411133\tvalid_0's l1: 0.256225\n",
      "[15]\tvalid_0's auc: 0.702992\tvalid_0's binary_logloss: 0.410902\tvalid_0's l1: 0.255602\n",
      "[16]\tvalid_0's auc: 0.703189\tvalid_0's binary_logloss: 0.41065\tvalid_0's l1: 0.254715\n",
      "[17]\tvalid_0's auc: 0.70305\tvalid_0's binary_logloss: 0.410411\tvalid_0's l1: 0.2539\n",
      "Early stopping, best iteration is:\n",
      "[12]\tvalid_0's auc: 0.703499\tvalid_0's binary_logloss: 0.411403\tvalid_0's l1: 0.257397\n"
     ]
    },
    {
     "name": "stderr",
     "output_type": "stream",
     "text": [
      "C:\\Users\\kaviy\\anaconda3\\lib\\site-packages\\sklearn\\utils\\validation.py:73: DataConversionWarning: A column-vector y was passed when a 1d array was expected. Please change the shape of y to (n_samples, ), for example using ravel().\n",
      "  return f(**kwargs)\n"
     ]
    },
    {
     "name": "stdout",
     "output_type": "stream",
     "text": [
      "[1]\tvalid_0's auc: 0.694609\tvalid_0's binary_logloss: 0.438649\tvalid_0's l1: 0.277441\n",
      "Training until validation scores don't improve for 5 rounds\n",
      "[2]\tvalid_0's auc: 0.700236\tvalid_0's binary_logloss: 0.431994\tvalid_0's l1: 0.274898\n",
      "[3]\tvalid_0's auc: 0.701236\tvalid_0's binary_logloss: 0.427022\tvalid_0's l1: 0.272217\n",
      "[4]\tvalid_0's auc: 0.702304\tvalid_0's binary_logloss: 0.423195\tvalid_0's l1: 0.270137\n",
      "[5]\tvalid_0's auc: 0.70404\tvalid_0's binary_logloss: 0.419918\tvalid_0's l1: 0.267922\n",
      "[6]\tvalid_0's auc: 0.704156\tvalid_0's binary_logloss: 0.41793\tvalid_0's l1: 0.265772\n",
      "[7]\tvalid_0's auc: 0.70481\tvalid_0's binary_logloss: 0.41596\tvalid_0's l1: 0.264338\n",
      "[8]\tvalid_0's auc: 0.704733\tvalid_0's binary_logloss: 0.414402\tvalid_0's l1: 0.262699\n",
      "[9]\tvalid_0's auc: 0.705172\tvalid_0's binary_logloss: 0.41321\tvalid_0's l1: 0.26132\n",
      "[10]\tvalid_0's auc: 0.705838\tvalid_0's binary_logloss: 0.412025\tvalid_0's l1: 0.260063\n",
      "[11]\tvalid_0's auc: 0.706407\tvalid_0's binary_logloss: 0.411336\tvalid_0's l1: 0.258796\n",
      "[12]\tvalid_0's auc: 0.707352\tvalid_0's binary_logloss: 0.410478\tvalid_0's l1: 0.257638\n",
      "[13]\tvalid_0's auc: 0.706212\tvalid_0's binary_logloss: 0.410229\tvalid_0's l1: 0.256501\n",
      "[14]\tvalid_0's auc: 0.705883\tvalid_0's binary_logloss: 0.410048\tvalid_0's l1: 0.255882\n",
      "[15]\tvalid_0's auc: 0.706675\tvalid_0's binary_logloss: 0.40963\tvalid_0's l1: 0.255027\n",
      "[16]\tvalid_0's auc: 0.706818\tvalid_0's binary_logloss: 0.409419\tvalid_0's l1: 0.254695\n",
      "[17]\tvalid_0's auc: 0.706878\tvalid_0's binary_logloss: 0.409333\tvalid_0's l1: 0.253535\n",
      "Early stopping, best iteration is:\n",
      "[12]\tvalid_0's auc: 0.707352\tvalid_0's binary_logloss: 0.410478\tvalid_0's l1: 0.257638\n"
     ]
    },
    {
     "name": "stderr",
     "output_type": "stream",
     "text": [
      "C:\\Users\\kaviy\\anaconda3\\lib\\site-packages\\sklearn\\utils\\validation.py:73: DataConversionWarning: A column-vector y was passed when a 1d array was expected. Please change the shape of y to (n_samples, ), for example using ravel().\n",
      "  return f(**kwargs)\n"
     ]
    },
    {
     "name": "stdout",
     "output_type": "stream",
     "text": [
      "[1]\tvalid_0's auc: 0.699268\tvalid_0's binary_logloss: 0.438633\tvalid_0's l1: 0.277552\n",
      "Training until validation scores don't improve for 5 rounds\n",
      "[2]\tvalid_0's auc: 0.699523\tvalid_0's binary_logloss: 0.432185\tvalid_0's l1: 0.274527\n",
      "[3]\tvalid_0's auc: 0.70024\tvalid_0's binary_logloss: 0.427272\tvalid_0's l1: 0.272114\n",
      "[4]\tvalid_0's auc: 0.701592\tvalid_0's binary_logloss: 0.423439\tvalid_0's l1: 0.269453\n",
      "[5]\tvalid_0's auc: 0.701358\tvalid_0's binary_logloss: 0.420522\tvalid_0's l1: 0.267575\n",
      "[6]\tvalid_0's auc: 0.70082\tvalid_0's binary_logloss: 0.418659\tvalid_0's l1: 0.265854\n",
      "[7]\tvalid_0's auc: 0.70012\tvalid_0's binary_logloss: 0.41689\tvalid_0's l1: 0.263942\n",
      "[8]\tvalid_0's auc: 0.700378\tvalid_0's binary_logloss: 0.415525\tvalid_0's l1: 0.262826\n",
      "[9]\tvalid_0's auc: 0.700264\tvalid_0's binary_logloss: 0.414409\tvalid_0's l1: 0.261498\n",
      "Early stopping, best iteration is:\n",
      "[4]\tvalid_0's auc: 0.701592\tvalid_0's binary_logloss: 0.423439\tvalid_0's l1: 0.269453\n"
     ]
    },
    {
     "name": "stderr",
     "output_type": "stream",
     "text": [
      "C:\\Users\\kaviy\\anaconda3\\lib\\site-packages\\sklearn\\utils\\validation.py:73: DataConversionWarning: A column-vector y was passed when a 1d array was expected. Please change the shape of y to (n_samples, ), for example using ravel().\n",
      "  return f(**kwargs)\n"
     ]
    },
    {
     "name": "stdout",
     "output_type": "stream",
     "text": [
      "[1]\tvalid_0's auc: 0.630879\tvalid_0's binary_logloss: 0.440211\tvalid_0's l1: 0.276123\n",
      "Training until validation scores don't improve for 5 rounds\n",
      "[2]\tvalid_0's auc: 0.68879\tvalid_0's binary_logloss: 0.433446\tvalid_0's l1: 0.273975\n",
      "[3]\tvalid_0's auc: 0.692981\tvalid_0's binary_logloss: 0.428713\tvalid_0's l1: 0.271525\n",
      "[4]\tvalid_0's auc: 0.694383\tvalid_0's binary_logloss: 0.424976\tvalid_0's l1: 0.269152\n",
      "[5]\tvalid_0's auc: 0.696644\tvalid_0's binary_logloss: 0.422113\tvalid_0's l1: 0.267295\n",
      "[6]\tvalid_0's auc: 0.697508\tvalid_0's binary_logloss: 0.419789\tvalid_0's l1: 0.266185\n",
      "[7]\tvalid_0's auc: 0.69744\tvalid_0's binary_logloss: 0.41833\tvalid_0's l1: 0.264243\n",
      "[8]\tvalid_0's auc: 0.693549\tvalid_0's binary_logloss: 0.417801\tvalid_0's l1: 0.26055\n",
      "[9]\tvalid_0's auc: 0.694734\tvalid_0's binary_logloss: 0.416714\tvalid_0's l1: 0.259611\n",
      "[10]\tvalid_0's auc: 0.695641\tvalid_0's binary_logloss: 0.415781\tvalid_0's l1: 0.258825\n",
      "[11]\tvalid_0's auc: 0.696039\tvalid_0's binary_logloss: 0.415122\tvalid_0's l1: 0.25708\n",
      "Early stopping, best iteration is:\n",
      "[6]\tvalid_0's auc: 0.697508\tvalid_0's binary_logloss: 0.419789\tvalid_0's l1: 0.266185\n"
     ]
    },
    {
     "name": "stderr",
     "output_type": "stream",
     "text": [
      "C:\\Users\\kaviy\\anaconda3\\lib\\site-packages\\sklearn\\utils\\validation.py:73: DataConversionWarning: A column-vector y was passed when a 1d array was expected. Please change the shape of y to (n_samples, ), for example using ravel().\n",
      "  return f(**kwargs)\n"
     ]
    },
    {
     "name": "stdout",
     "output_type": "stream",
     "text": [
      "[1]\tvalid_0's auc: 0.694931\tvalid_0's binary_logloss: 0.438271\tvalid_0's l1: 0.27698\n",
      "Training until validation scores don't improve for 5 rounds\n",
      "[2]\tvalid_0's auc: 0.697108\tvalid_0's binary_logloss: 0.431925\tvalid_0's l1: 0.274056\n",
      "[3]\tvalid_0's auc: 0.694107\tvalid_0's binary_logloss: 0.427841\tvalid_0's l1: 0.271298\n",
      "[4]\tvalid_0's auc: 0.695935\tvalid_0's binary_logloss: 0.423893\tvalid_0's l1: 0.268747\n",
      "[5]\tvalid_0's auc: 0.699124\tvalid_0's binary_logloss: 0.420977\tvalid_0's l1: 0.267048\n",
      "[6]\tvalid_0's auc: 0.697335\tvalid_0's binary_logloss: 0.419728\tvalid_0's l1: 0.267014\n",
      "[7]\tvalid_0's auc: 0.698294\tvalid_0's binary_logloss: 0.417798\tvalid_0's l1: 0.265623\n",
      "[8]\tvalid_0's auc: 0.69862\tvalid_0's binary_logloss: 0.416207\tvalid_0's l1: 0.263952\n",
      "[9]\tvalid_0's auc: 0.700593\tvalid_0's binary_logloss: 0.414757\tvalid_0's l1: 0.262421\n",
      "[10]\tvalid_0's auc: 0.701787\tvalid_0's binary_logloss: 0.413541\tvalid_0's l1: 0.261366\n",
      "[11]\tvalid_0's auc: 0.702461\tvalid_0's binary_logloss: 0.412594\tvalid_0's l1: 0.260046\n",
      "[12]\tvalid_0's auc: 0.702152\tvalid_0's binary_logloss: 0.412337\tvalid_0's l1: 0.258813\n",
      "[13]\tvalid_0's auc: 0.701775\tvalid_0's binary_logloss: 0.412028\tvalid_0's l1: 0.257404\n",
      "[14]\tvalid_0's auc: 0.700862\tvalid_0's binary_logloss: 0.412062\tvalid_0's l1: 0.256128\n",
      "[15]\tvalid_0's auc: 0.700147\tvalid_0's binary_logloss: 0.411892\tvalid_0's l1: 0.254723\n",
      "[16]\tvalid_0's auc: 0.700081\tvalid_0's binary_logloss: 0.411743\tvalid_0's l1: 0.254311\n",
      "Early stopping, best iteration is:\n",
      "[11]\tvalid_0's auc: 0.702461\tvalid_0's binary_logloss: 0.412594\tvalid_0's l1: 0.260046\n"
     ]
    },
    {
     "name": "stderr",
     "output_type": "stream",
     "text": [
      "C:\\Users\\kaviy\\anaconda3\\lib\\site-packages\\sklearn\\utils\\validation.py:73: DataConversionWarning: A column-vector y was passed when a 1d array was expected. Please change the shape of y to (n_samples, ), for example using ravel().\n",
      "  return f(**kwargs)\n"
     ]
    },
    {
     "name": "stdout",
     "output_type": "stream",
     "text": [
      "[1]\tvalid_0's auc: 0.675029\tvalid_0's binary_logloss: 0.438994\tvalid_0's l1: 0.276209\n",
      "Training until validation scores don't improve for 5 rounds\n",
      "[2]\tvalid_0's auc: 0.697897\tvalid_0's binary_logloss: 0.432091\tvalid_0's l1: 0.274179\n",
      "[3]\tvalid_0's auc: 0.699544\tvalid_0's binary_logloss: 0.427173\tvalid_0's l1: 0.271719\n",
      "[4]\tvalid_0's auc: 0.700748\tvalid_0's binary_logloss: 0.423296\tvalid_0's l1: 0.26892\n",
      "[5]\tvalid_0's auc: 0.701203\tvalid_0's binary_logloss: 0.420322\tvalid_0's l1: 0.267062\n",
      "[6]\tvalid_0's auc: 0.700645\tvalid_0's binary_logloss: 0.418174\tvalid_0's l1: 0.265486\n",
      "[7]\tvalid_0's auc: 0.701159\tvalid_0's binary_logloss: 0.416329\tvalid_0's l1: 0.263946\n",
      "[8]\tvalid_0's auc: 0.701852\tvalid_0's binary_logloss: 0.414778\tvalid_0's l1: 0.262187\n",
      "[9]\tvalid_0's auc: 0.702418\tvalid_0's binary_logloss: 0.4136\tvalid_0's l1: 0.261066\n",
      "[10]\tvalid_0's auc: 0.702829\tvalid_0's binary_logloss: 0.412681\tvalid_0's l1: 0.259728\n",
      "[11]\tvalid_0's auc: 0.703289\tvalid_0's binary_logloss: 0.41193\tvalid_0's l1: 0.258591\n",
      "[12]\tvalid_0's auc: 0.703499\tvalid_0's binary_logloss: 0.411403\tvalid_0's l1: 0.257397\n",
      "[13]\tvalid_0's auc: 0.70317\tvalid_0's binary_logloss: 0.410932\tvalid_0's l1: 0.256352\n",
      "[14]\tvalid_0's auc: 0.702512\tvalid_0's binary_logloss: 0.411133\tvalid_0's l1: 0.256225\n",
      "[15]\tvalid_0's auc: 0.702992\tvalid_0's binary_logloss: 0.410902\tvalid_0's l1: 0.255602\n",
      "[16]\tvalid_0's auc: 0.703189\tvalid_0's binary_logloss: 0.41065\tvalid_0's l1: 0.254715\n",
      "[17]\tvalid_0's auc: 0.70305\tvalid_0's binary_logloss: 0.410411\tvalid_0's l1: 0.2539\n",
      "Early stopping, best iteration is:\n",
      "[12]\tvalid_0's auc: 0.703499\tvalid_0's binary_logloss: 0.411403\tvalid_0's l1: 0.257397\n"
     ]
    },
    {
     "name": "stderr",
     "output_type": "stream",
     "text": [
      "C:\\Users\\kaviy\\anaconda3\\lib\\site-packages\\sklearn\\utils\\validation.py:73: DataConversionWarning: A column-vector y was passed when a 1d array was expected. Please change the shape of y to (n_samples, ), for example using ravel().\n",
      "  return f(**kwargs)\n"
     ]
    },
    {
     "name": "stdout",
     "output_type": "stream",
     "text": [
      "[1]\tvalid_0's auc: 0.694609\tvalid_0's binary_logloss: 0.438649\tvalid_0's l1: 0.277441\n",
      "Training until validation scores don't improve for 5 rounds\n",
      "[2]\tvalid_0's auc: 0.700236\tvalid_0's binary_logloss: 0.431994\tvalid_0's l1: 0.274898\n",
      "[3]\tvalid_0's auc: 0.701236\tvalid_0's binary_logloss: 0.427022\tvalid_0's l1: 0.272217\n",
      "[4]\tvalid_0's auc: 0.702304\tvalid_0's binary_logloss: 0.423195\tvalid_0's l1: 0.270137\n",
      "[5]\tvalid_0's auc: 0.70404\tvalid_0's binary_logloss: 0.419918\tvalid_0's l1: 0.267922\n",
      "[6]\tvalid_0's auc: 0.704156\tvalid_0's binary_logloss: 0.41793\tvalid_0's l1: 0.265772\n",
      "[7]\tvalid_0's auc: 0.70481\tvalid_0's binary_logloss: 0.41596\tvalid_0's l1: 0.264338\n",
      "[8]\tvalid_0's auc: 0.704733\tvalid_0's binary_logloss: 0.414402\tvalid_0's l1: 0.262699\n",
      "[9]\tvalid_0's auc: 0.705172\tvalid_0's binary_logloss: 0.41321\tvalid_0's l1: 0.26132\n",
      "[10]\tvalid_0's auc: 0.705838\tvalid_0's binary_logloss: 0.412025\tvalid_0's l1: 0.260063\n",
      "[11]\tvalid_0's auc: 0.706407\tvalid_0's binary_logloss: 0.411336\tvalid_0's l1: 0.258796\n",
      "[12]\tvalid_0's auc: 0.707352\tvalid_0's binary_logloss: 0.410478\tvalid_0's l1: 0.257638\n",
      "[13]\tvalid_0's auc: 0.706212\tvalid_0's binary_logloss: 0.410229\tvalid_0's l1: 0.256501\n",
      "[14]\tvalid_0's auc: 0.705883\tvalid_0's binary_logloss: 0.410048\tvalid_0's l1: 0.255882\n",
      "[15]\tvalid_0's auc: 0.706675\tvalid_0's binary_logloss: 0.40963\tvalid_0's l1: 0.255027\n",
      "[16]\tvalid_0's auc: 0.706818\tvalid_0's binary_logloss: 0.409419\tvalid_0's l1: 0.254695\n",
      "[17]\tvalid_0's auc: 0.706878\tvalid_0's binary_logloss: 0.409333\tvalid_0's l1: 0.253535\n",
      "Early stopping, best iteration is:\n",
      "[12]\tvalid_0's auc: 0.707352\tvalid_0's binary_logloss: 0.410478\tvalid_0's l1: 0.257638\n"
     ]
    },
    {
     "name": "stderr",
     "output_type": "stream",
     "text": [
      "C:\\Users\\kaviy\\anaconda3\\lib\\site-packages\\sklearn\\utils\\validation.py:73: DataConversionWarning: A column-vector y was passed when a 1d array was expected. Please change the shape of y to (n_samples, ), for example using ravel().\n",
      "  return f(**kwargs)\n"
     ]
    },
    {
     "name": "stdout",
     "output_type": "stream",
     "text": [
      "[1]\tvalid_0's auc: 0.699268\tvalid_0's binary_logloss: 0.438633\tvalid_0's l1: 0.277552\n",
      "Training until validation scores don't improve for 5 rounds\n",
      "[2]\tvalid_0's auc: 0.699523\tvalid_0's binary_logloss: 0.432185\tvalid_0's l1: 0.274527\n",
      "[3]\tvalid_0's auc: 0.70024\tvalid_0's binary_logloss: 0.427272\tvalid_0's l1: 0.272114\n",
      "[4]\tvalid_0's auc: 0.701592\tvalid_0's binary_logloss: 0.423439\tvalid_0's l1: 0.269453\n",
      "[5]\tvalid_0's auc: 0.701358\tvalid_0's binary_logloss: 0.420522\tvalid_0's l1: 0.267575\n",
      "[6]\tvalid_0's auc: 0.70082\tvalid_0's binary_logloss: 0.418659\tvalid_0's l1: 0.265854\n",
      "[7]\tvalid_0's auc: 0.70012\tvalid_0's binary_logloss: 0.41689\tvalid_0's l1: 0.263942\n",
      "[8]\tvalid_0's auc: 0.700378\tvalid_0's binary_logloss: 0.415525\tvalid_0's l1: 0.262826\n",
      "[9]\tvalid_0's auc: 0.700264\tvalid_0's binary_logloss: 0.414409\tvalid_0's l1: 0.261498\n",
      "Early stopping, best iteration is:\n",
      "[4]\tvalid_0's auc: 0.701592\tvalid_0's binary_logloss: 0.423439\tvalid_0's l1: 0.269453\n"
     ]
    },
    {
     "name": "stderr",
     "output_type": "stream",
     "text": [
      "C:\\Users\\kaviy\\anaconda3\\lib\\site-packages\\sklearn\\utils\\validation.py:73: DataConversionWarning: A column-vector y was passed when a 1d array was expected. Please change the shape of y to (n_samples, ), for example using ravel().\n",
      "  return f(**kwargs)\n"
     ]
    },
    {
     "name": "stdout",
     "output_type": "stream",
     "text": [
      "[1]\tvalid_0's auc: 0.630879\tvalid_0's binary_logloss: 0.440211\tvalid_0's l1: 0.276123\n",
      "Training until validation scores don't improve for 5 rounds\n",
      "[2]\tvalid_0's auc: 0.68879\tvalid_0's binary_logloss: 0.433446\tvalid_0's l1: 0.273975\n",
      "[3]\tvalid_0's auc: 0.692981\tvalid_0's binary_logloss: 0.428713\tvalid_0's l1: 0.271525\n",
      "[4]\tvalid_0's auc: 0.694383\tvalid_0's binary_logloss: 0.424976\tvalid_0's l1: 0.269152\n",
      "[5]\tvalid_0's auc: 0.696644\tvalid_0's binary_logloss: 0.422113\tvalid_0's l1: 0.267295\n",
      "[6]\tvalid_0's auc: 0.697508\tvalid_0's binary_logloss: 0.419789\tvalid_0's l1: 0.266185\n",
      "[7]\tvalid_0's auc: 0.69744\tvalid_0's binary_logloss: 0.41833\tvalid_0's l1: 0.264243\n",
      "[8]\tvalid_0's auc: 0.693549\tvalid_0's binary_logloss: 0.417801\tvalid_0's l1: 0.26055\n",
      "[9]\tvalid_0's auc: 0.694734\tvalid_0's binary_logloss: 0.416714\tvalid_0's l1: 0.259611\n",
      "[10]\tvalid_0's auc: 0.695641\tvalid_0's binary_logloss: 0.415781\tvalid_0's l1: 0.258825\n",
      "[11]\tvalid_0's auc: 0.696039\tvalid_0's binary_logloss: 0.415122\tvalid_0's l1: 0.25708\n",
      "Early stopping, best iteration is:\n",
      "[6]\tvalid_0's auc: 0.697508\tvalid_0's binary_logloss: 0.419789\tvalid_0's l1: 0.266185\n"
     ]
    },
    {
     "name": "stderr",
     "output_type": "stream",
     "text": [
      "C:\\Users\\kaviy\\anaconda3\\lib\\site-packages\\sklearn\\utils\\validation.py:73: DataConversionWarning: A column-vector y was passed when a 1d array was expected. Please change the shape of y to (n_samples, ), for example using ravel().\n",
      "  return f(**kwargs)\n"
     ]
    },
    {
     "name": "stdout",
     "output_type": "stream",
     "text": [
      "[1]\tvalid_0's auc: 0.694931\tvalid_0's binary_logloss: 0.438271\tvalid_0's l1: 0.27698\n",
      "Training until validation scores don't improve for 5 rounds\n",
      "[2]\tvalid_0's auc: 0.697108\tvalid_0's binary_logloss: 0.431925\tvalid_0's l1: 0.274056\n",
      "[3]\tvalid_0's auc: 0.694107\tvalid_0's binary_logloss: 0.427841\tvalid_0's l1: 0.271298\n",
      "[4]\tvalid_0's auc: 0.695935\tvalid_0's binary_logloss: 0.423893\tvalid_0's l1: 0.268747\n",
      "[5]\tvalid_0's auc: 0.699124\tvalid_0's binary_logloss: 0.420977\tvalid_0's l1: 0.267048\n",
      "[6]\tvalid_0's auc: 0.697335\tvalid_0's binary_logloss: 0.419728\tvalid_0's l1: 0.267014\n",
      "[7]\tvalid_0's auc: 0.698294\tvalid_0's binary_logloss: 0.417798\tvalid_0's l1: 0.265623\n",
      "[8]\tvalid_0's auc: 0.69862\tvalid_0's binary_logloss: 0.416207\tvalid_0's l1: 0.263952\n",
      "[9]\tvalid_0's auc: 0.700593\tvalid_0's binary_logloss: 0.414757\tvalid_0's l1: 0.262421\n",
      "[10]\tvalid_0's auc: 0.701787\tvalid_0's binary_logloss: 0.413541\tvalid_0's l1: 0.261366\n",
      "[11]\tvalid_0's auc: 0.702461\tvalid_0's binary_logloss: 0.412594\tvalid_0's l1: 0.260046\n",
      "[12]\tvalid_0's auc: 0.702152\tvalid_0's binary_logloss: 0.412337\tvalid_0's l1: 0.258813\n",
      "[13]\tvalid_0's auc: 0.701775\tvalid_0's binary_logloss: 0.412028\tvalid_0's l1: 0.257404\n",
      "[14]\tvalid_0's auc: 0.700862\tvalid_0's binary_logloss: 0.412062\tvalid_0's l1: 0.256128\n",
      "[15]\tvalid_0's auc: 0.700147\tvalid_0's binary_logloss: 0.411892\tvalid_0's l1: 0.254723\n",
      "[16]\tvalid_0's auc: 0.700081\tvalid_0's binary_logloss: 0.411743\tvalid_0's l1: 0.254311\n",
      "Early stopping, best iteration is:\n",
      "[11]\tvalid_0's auc: 0.702461\tvalid_0's binary_logloss: 0.412594\tvalid_0's l1: 0.260046\n"
     ]
    },
    {
     "name": "stderr",
     "output_type": "stream",
     "text": [
      "C:\\Users\\kaviy\\anaconda3\\lib\\site-packages\\sklearn\\utils\\validation.py:73: DataConversionWarning: A column-vector y was passed when a 1d array was expected. Please change the shape of y to (n_samples, ), for example using ravel().\n",
      "  return f(**kwargs)\n"
     ]
    },
    {
     "name": "stdout",
     "output_type": "stream",
     "text": [
      "[1]\tvalid_0's auc: 0.675029\tvalid_0's binary_logloss: 0.438994\tvalid_0's l1: 0.276209\n",
      "Training until validation scores don't improve for 5 rounds\n",
      "[2]\tvalid_0's auc: 0.697897\tvalid_0's binary_logloss: 0.432091\tvalid_0's l1: 0.274179\n",
      "[3]\tvalid_0's auc: 0.699544\tvalid_0's binary_logloss: 0.427173\tvalid_0's l1: 0.271719\n",
      "[4]\tvalid_0's auc: 0.700748\tvalid_0's binary_logloss: 0.423296\tvalid_0's l1: 0.26892\n",
      "[5]\tvalid_0's auc: 0.701203\tvalid_0's binary_logloss: 0.420322\tvalid_0's l1: 0.267062\n",
      "[6]\tvalid_0's auc: 0.700645\tvalid_0's binary_logloss: 0.418174\tvalid_0's l1: 0.265486\n",
      "[7]\tvalid_0's auc: 0.701159\tvalid_0's binary_logloss: 0.416329\tvalid_0's l1: 0.263946\n",
      "[8]\tvalid_0's auc: 0.701852\tvalid_0's binary_logloss: 0.414778\tvalid_0's l1: 0.262187\n",
      "[9]\tvalid_0's auc: 0.702418\tvalid_0's binary_logloss: 0.4136\tvalid_0's l1: 0.261066\n",
      "[10]\tvalid_0's auc: 0.702829\tvalid_0's binary_logloss: 0.412681\tvalid_0's l1: 0.259728\n",
      "[11]\tvalid_0's auc: 0.703289\tvalid_0's binary_logloss: 0.41193\tvalid_0's l1: 0.258591\n",
      "[12]\tvalid_0's auc: 0.703499\tvalid_0's binary_logloss: 0.411403\tvalid_0's l1: 0.257397\n",
      "[13]\tvalid_0's auc: 0.70317\tvalid_0's binary_logloss: 0.410932\tvalid_0's l1: 0.256352\n",
      "[14]\tvalid_0's auc: 0.702512\tvalid_0's binary_logloss: 0.411133\tvalid_0's l1: 0.256225\n",
      "[15]\tvalid_0's auc: 0.702992\tvalid_0's binary_logloss: 0.410902\tvalid_0's l1: 0.255602\n",
      "[16]\tvalid_0's auc: 0.703189\tvalid_0's binary_logloss: 0.41065\tvalid_0's l1: 0.254715\n",
      "[17]\tvalid_0's auc: 0.70305\tvalid_0's binary_logloss: 0.410411\tvalid_0's l1: 0.2539\n",
      "Early stopping, best iteration is:\n",
      "[12]\tvalid_0's auc: 0.703499\tvalid_0's binary_logloss: 0.411403\tvalid_0's l1: 0.257397\n"
     ]
    },
    {
     "name": "stderr",
     "output_type": "stream",
     "text": [
      "C:\\Users\\kaviy\\anaconda3\\lib\\site-packages\\sklearn\\utils\\validation.py:73: DataConversionWarning: A column-vector y was passed when a 1d array was expected. Please change the shape of y to (n_samples, ), for example using ravel().\n",
      "  return f(**kwargs)\n"
     ]
    },
    {
     "name": "stdout",
     "output_type": "stream",
     "text": [
      "[1]\tvalid_0's auc: 0.694609\tvalid_0's binary_logloss: 0.438649\tvalid_0's l1: 0.277441\n",
      "Training until validation scores don't improve for 5 rounds\n",
      "[2]\tvalid_0's auc: 0.700236\tvalid_0's binary_logloss: 0.431994\tvalid_0's l1: 0.274898\n",
      "[3]\tvalid_0's auc: 0.701236\tvalid_0's binary_logloss: 0.427022\tvalid_0's l1: 0.272217\n",
      "[4]\tvalid_0's auc: 0.702304\tvalid_0's binary_logloss: 0.423195\tvalid_0's l1: 0.270137\n",
      "[5]\tvalid_0's auc: 0.70404\tvalid_0's binary_logloss: 0.419918\tvalid_0's l1: 0.267922\n",
      "[6]\tvalid_0's auc: 0.704156\tvalid_0's binary_logloss: 0.41793\tvalid_0's l1: 0.265772\n",
      "[7]\tvalid_0's auc: 0.70481\tvalid_0's binary_logloss: 0.41596\tvalid_0's l1: 0.264338\n",
      "[8]\tvalid_0's auc: 0.704733\tvalid_0's binary_logloss: 0.414402\tvalid_0's l1: 0.262699\n",
      "[9]\tvalid_0's auc: 0.705172\tvalid_0's binary_logloss: 0.41321\tvalid_0's l1: 0.26132\n",
      "[10]\tvalid_0's auc: 0.705838\tvalid_0's binary_logloss: 0.412025\tvalid_0's l1: 0.260063\n",
      "[11]\tvalid_0's auc: 0.706407\tvalid_0's binary_logloss: 0.411336\tvalid_0's l1: 0.258796\n",
      "[12]\tvalid_0's auc: 0.707352\tvalid_0's binary_logloss: 0.410478\tvalid_0's l1: 0.257638\n",
      "[13]\tvalid_0's auc: 0.706212\tvalid_0's binary_logloss: 0.410229\tvalid_0's l1: 0.256501\n",
      "[14]\tvalid_0's auc: 0.705883\tvalid_0's binary_logloss: 0.410048\tvalid_0's l1: 0.255882\n",
      "[15]\tvalid_0's auc: 0.706675\tvalid_0's binary_logloss: 0.40963\tvalid_0's l1: 0.255027\n",
      "[16]\tvalid_0's auc: 0.706818\tvalid_0's binary_logloss: 0.409419\tvalid_0's l1: 0.254695\n",
      "[17]\tvalid_0's auc: 0.706878\tvalid_0's binary_logloss: 0.409333\tvalid_0's l1: 0.253535\n",
      "Early stopping, best iteration is:\n",
      "[12]\tvalid_0's auc: 0.707352\tvalid_0's binary_logloss: 0.410478\tvalid_0's l1: 0.257638\n"
     ]
    },
    {
     "name": "stderr",
     "output_type": "stream",
     "text": [
      "C:\\Users\\kaviy\\anaconda3\\lib\\site-packages\\sklearn\\utils\\validation.py:73: DataConversionWarning: A column-vector y was passed when a 1d array was expected. Please change the shape of y to (n_samples, ), for example using ravel().\n",
      "  return f(**kwargs)\n"
     ]
    },
    {
     "name": "stdout",
     "output_type": "stream",
     "text": [
      "[1]\tvalid_0's auc: 0.699268\tvalid_0's binary_logloss: 0.438633\tvalid_0's l1: 0.277552\n",
      "Training until validation scores don't improve for 5 rounds\n",
      "[2]\tvalid_0's auc: 0.699523\tvalid_0's binary_logloss: 0.432185\tvalid_0's l1: 0.274527\n",
      "[3]\tvalid_0's auc: 0.70024\tvalid_0's binary_logloss: 0.427272\tvalid_0's l1: 0.272114\n",
      "[4]\tvalid_0's auc: 0.701592\tvalid_0's binary_logloss: 0.423439\tvalid_0's l1: 0.269453\n",
      "[5]\tvalid_0's auc: 0.701358\tvalid_0's binary_logloss: 0.420522\tvalid_0's l1: 0.267575\n",
      "[6]\tvalid_0's auc: 0.70082\tvalid_0's binary_logloss: 0.418659\tvalid_0's l1: 0.265854\n",
      "[7]\tvalid_0's auc: 0.70012\tvalid_0's binary_logloss: 0.41689\tvalid_0's l1: 0.263942\n",
      "[8]\tvalid_0's auc: 0.700378\tvalid_0's binary_logloss: 0.415525\tvalid_0's l1: 0.262826\n",
      "[9]\tvalid_0's auc: 0.700264\tvalid_0's binary_logloss: 0.414409\tvalid_0's l1: 0.261498\n",
      "Early stopping, best iteration is:\n",
      "[4]\tvalid_0's auc: 0.701592\tvalid_0's binary_logloss: 0.423439\tvalid_0's l1: 0.269453\n"
     ]
    },
    {
     "name": "stderr",
     "output_type": "stream",
     "text": [
      "C:\\Users\\kaviy\\anaconda3\\lib\\site-packages\\sklearn\\utils\\validation.py:73: DataConversionWarning: A column-vector y was passed when a 1d array was expected. Please change the shape of y to (n_samples, ), for example using ravel().\n",
      "  return f(**kwargs)\n"
     ]
    },
    {
     "name": "stdout",
     "output_type": "stream",
     "text": [
      "[1]\tvalid_0's auc: 0.630879\tvalid_0's binary_logloss: 0.440211\tvalid_0's l1: 0.276123\n",
      "Training until validation scores don't improve for 5 rounds\n",
      "[2]\tvalid_0's auc: 0.68879\tvalid_0's binary_logloss: 0.433446\tvalid_0's l1: 0.273975\n",
      "[3]\tvalid_0's auc: 0.692981\tvalid_0's binary_logloss: 0.428713\tvalid_0's l1: 0.271525\n",
      "[4]\tvalid_0's auc: 0.694383\tvalid_0's binary_logloss: 0.424976\tvalid_0's l1: 0.269152\n",
      "[5]\tvalid_0's auc: 0.696644\tvalid_0's binary_logloss: 0.422113\tvalid_0's l1: 0.267295\n",
      "[6]\tvalid_0's auc: 0.697508\tvalid_0's binary_logloss: 0.419789\tvalid_0's l1: 0.266185\n",
      "[7]\tvalid_0's auc: 0.69744\tvalid_0's binary_logloss: 0.41833\tvalid_0's l1: 0.264243\n",
      "[8]\tvalid_0's auc: 0.693549\tvalid_0's binary_logloss: 0.417801\tvalid_0's l1: 0.26055\n",
      "[9]\tvalid_0's auc: 0.694734\tvalid_0's binary_logloss: 0.416714\tvalid_0's l1: 0.259611\n",
      "[10]\tvalid_0's auc: 0.695641\tvalid_0's binary_logloss: 0.415781\tvalid_0's l1: 0.258825\n",
      "[11]\tvalid_0's auc: 0.696039\tvalid_0's binary_logloss: 0.415122\tvalid_0's l1: 0.25708\n",
      "Early stopping, best iteration is:\n",
      "[6]\tvalid_0's auc: 0.697508\tvalid_0's binary_logloss: 0.419789\tvalid_0's l1: 0.266185\n"
     ]
    },
    {
     "name": "stderr",
     "output_type": "stream",
     "text": [
      "C:\\Users\\kaviy\\anaconda3\\lib\\site-packages\\sklearn\\utils\\validation.py:73: DataConversionWarning: A column-vector y was passed when a 1d array was expected. Please change the shape of y to (n_samples, ), for example using ravel().\n",
      "  return f(**kwargs)\n"
     ]
    },
    {
     "name": "stdout",
     "output_type": "stream",
     "text": [
      "[1]\tvalid_0's auc: 0.694931\tvalid_0's binary_logloss: 0.438271\tvalid_0's l1: 0.27698\n",
      "Training until validation scores don't improve for 5 rounds\n",
      "[2]\tvalid_0's auc: 0.697108\tvalid_0's binary_logloss: 0.431925\tvalid_0's l1: 0.274056\n",
      "[3]\tvalid_0's auc: 0.694107\tvalid_0's binary_logloss: 0.427841\tvalid_0's l1: 0.271298\n",
      "[4]\tvalid_0's auc: 0.695935\tvalid_0's binary_logloss: 0.423893\tvalid_0's l1: 0.268747\n",
      "[5]\tvalid_0's auc: 0.699124\tvalid_0's binary_logloss: 0.420977\tvalid_0's l1: 0.267048\n",
      "[6]\tvalid_0's auc: 0.697335\tvalid_0's binary_logloss: 0.419728\tvalid_0's l1: 0.267014\n",
      "[7]\tvalid_0's auc: 0.698294\tvalid_0's binary_logloss: 0.417798\tvalid_0's l1: 0.265623\n",
      "[8]\tvalid_0's auc: 0.69862\tvalid_0's binary_logloss: 0.416207\tvalid_0's l1: 0.263952\n",
      "[9]\tvalid_0's auc: 0.700593\tvalid_0's binary_logloss: 0.414757\tvalid_0's l1: 0.262421\n",
      "[10]\tvalid_0's auc: 0.701787\tvalid_0's binary_logloss: 0.413541\tvalid_0's l1: 0.261366\n",
      "[11]\tvalid_0's auc: 0.702461\tvalid_0's binary_logloss: 0.412594\tvalid_0's l1: 0.260046\n",
      "[12]\tvalid_0's auc: 0.702152\tvalid_0's binary_logloss: 0.412337\tvalid_0's l1: 0.258813\n",
      "[13]\tvalid_0's auc: 0.701775\tvalid_0's binary_logloss: 0.412028\tvalid_0's l1: 0.257404\n",
      "[14]\tvalid_0's auc: 0.700862\tvalid_0's binary_logloss: 0.412062\tvalid_0's l1: 0.256128\n",
      "[15]\tvalid_0's auc: 0.700147\tvalid_0's binary_logloss: 0.411892\tvalid_0's l1: 0.254723\n",
      "[16]\tvalid_0's auc: 0.700081\tvalid_0's binary_logloss: 0.411743\tvalid_0's l1: 0.254311\n",
      "Early stopping, best iteration is:\n",
      "[11]\tvalid_0's auc: 0.702461\tvalid_0's binary_logloss: 0.412594\tvalid_0's l1: 0.260046\n"
     ]
    },
    {
     "name": "stderr",
     "output_type": "stream",
     "text": [
      "C:\\Users\\kaviy\\anaconda3\\lib\\site-packages\\sklearn\\utils\\validation.py:73: DataConversionWarning: A column-vector y was passed when a 1d array was expected. Please change the shape of y to (n_samples, ), for example using ravel().\n",
      "  return f(**kwargs)\n"
     ]
    },
    {
     "name": "stdout",
     "output_type": "stream",
     "text": [
      "[1]\tvalid_0's auc: 0.675029\tvalid_0's binary_logloss: 0.438994\tvalid_0's l1: 0.276209\n",
      "Training until validation scores don't improve for 5 rounds\n",
      "[2]\tvalid_0's auc: 0.697897\tvalid_0's binary_logloss: 0.432091\tvalid_0's l1: 0.274179\n",
      "[3]\tvalid_0's auc: 0.699544\tvalid_0's binary_logloss: 0.427173\tvalid_0's l1: 0.271719\n",
      "[4]\tvalid_0's auc: 0.700748\tvalid_0's binary_logloss: 0.423296\tvalid_0's l1: 0.26892\n",
      "[5]\tvalid_0's auc: 0.701203\tvalid_0's binary_logloss: 0.420322\tvalid_0's l1: 0.267062\n",
      "[6]\tvalid_0's auc: 0.700645\tvalid_0's binary_logloss: 0.418174\tvalid_0's l1: 0.265486\n",
      "[7]\tvalid_0's auc: 0.701159\tvalid_0's binary_logloss: 0.416329\tvalid_0's l1: 0.263946\n",
      "[8]\tvalid_0's auc: 0.701852\tvalid_0's binary_logloss: 0.414778\tvalid_0's l1: 0.262187\n",
      "[9]\tvalid_0's auc: 0.702418\tvalid_0's binary_logloss: 0.4136\tvalid_0's l1: 0.261066\n",
      "[10]\tvalid_0's auc: 0.702829\tvalid_0's binary_logloss: 0.412681\tvalid_0's l1: 0.259728\n",
      "[11]\tvalid_0's auc: 0.703289\tvalid_0's binary_logloss: 0.41193\tvalid_0's l1: 0.258591\n",
      "[12]\tvalid_0's auc: 0.703499\tvalid_0's binary_logloss: 0.411403\tvalid_0's l1: 0.257397\n",
      "[13]\tvalid_0's auc: 0.70317\tvalid_0's binary_logloss: 0.410932\tvalid_0's l1: 0.256352\n",
      "[14]\tvalid_0's auc: 0.702512\tvalid_0's binary_logloss: 0.411133\tvalid_0's l1: 0.256225\n",
      "[15]\tvalid_0's auc: 0.702992\tvalid_0's binary_logloss: 0.410902\tvalid_0's l1: 0.255602\n",
      "[16]\tvalid_0's auc: 0.703189\tvalid_0's binary_logloss: 0.41065\tvalid_0's l1: 0.254715\n",
      "[17]\tvalid_0's auc: 0.70305\tvalid_0's binary_logloss: 0.410411\tvalid_0's l1: 0.2539\n",
      "Early stopping, best iteration is:\n",
      "[12]\tvalid_0's auc: 0.703499\tvalid_0's binary_logloss: 0.411403\tvalid_0's l1: 0.257397\n"
     ]
    },
    {
     "name": "stderr",
     "output_type": "stream",
     "text": [
      "C:\\Users\\kaviy\\anaconda3\\lib\\site-packages\\sklearn\\utils\\validation.py:73: DataConversionWarning: A column-vector y was passed when a 1d array was expected. Please change the shape of y to (n_samples, ), for example using ravel().\n",
      "  return f(**kwargs)\n"
     ]
    },
    {
     "name": "stdout",
     "output_type": "stream",
     "text": [
      "[1]\tvalid_0's auc: 0.694609\tvalid_0's binary_logloss: 0.438649\tvalid_0's l1: 0.277441\n",
      "Training until validation scores don't improve for 5 rounds\n",
      "[2]\tvalid_0's auc: 0.700236\tvalid_0's binary_logloss: 0.431994\tvalid_0's l1: 0.274898\n",
      "[3]\tvalid_0's auc: 0.701236\tvalid_0's binary_logloss: 0.427022\tvalid_0's l1: 0.272217\n",
      "[4]\tvalid_0's auc: 0.702304\tvalid_0's binary_logloss: 0.423195\tvalid_0's l1: 0.270137\n",
      "[5]\tvalid_0's auc: 0.70404\tvalid_0's binary_logloss: 0.419918\tvalid_0's l1: 0.267922\n",
      "[6]\tvalid_0's auc: 0.704156\tvalid_0's binary_logloss: 0.41793\tvalid_0's l1: 0.265772\n",
      "[7]\tvalid_0's auc: 0.70481\tvalid_0's binary_logloss: 0.41596\tvalid_0's l1: 0.264338\n",
      "[8]\tvalid_0's auc: 0.704733\tvalid_0's binary_logloss: 0.414402\tvalid_0's l1: 0.262699\n",
      "[9]\tvalid_0's auc: 0.705172\tvalid_0's binary_logloss: 0.41321\tvalid_0's l1: 0.26132\n",
      "[10]\tvalid_0's auc: 0.705838\tvalid_0's binary_logloss: 0.412025\tvalid_0's l1: 0.260063\n",
      "[11]\tvalid_0's auc: 0.706407\tvalid_0's binary_logloss: 0.411336\tvalid_0's l1: 0.258796\n",
      "[12]\tvalid_0's auc: 0.707352\tvalid_0's binary_logloss: 0.410478\tvalid_0's l1: 0.257638\n",
      "[13]\tvalid_0's auc: 0.706212\tvalid_0's binary_logloss: 0.410229\tvalid_0's l1: 0.256501\n",
      "[14]\tvalid_0's auc: 0.705883\tvalid_0's binary_logloss: 0.410048\tvalid_0's l1: 0.255882\n",
      "[15]\tvalid_0's auc: 0.706675\tvalid_0's binary_logloss: 0.40963\tvalid_0's l1: 0.255027\n",
      "[16]\tvalid_0's auc: 0.706818\tvalid_0's binary_logloss: 0.409419\tvalid_0's l1: 0.254695\n",
      "[17]\tvalid_0's auc: 0.706878\tvalid_0's binary_logloss: 0.409333\tvalid_0's l1: 0.253535\n",
      "Early stopping, best iteration is:\n",
      "[12]\tvalid_0's auc: 0.707352\tvalid_0's binary_logloss: 0.410478\tvalid_0's l1: 0.257638\n"
     ]
    },
    {
     "name": "stderr",
     "output_type": "stream",
     "text": [
      "C:\\Users\\kaviy\\anaconda3\\lib\\site-packages\\sklearn\\utils\\validation.py:73: DataConversionWarning: A column-vector y was passed when a 1d array was expected. Please change the shape of y to (n_samples, ), for example using ravel().\n",
      "  return f(**kwargs)\n"
     ]
    },
    {
     "name": "stdout",
     "output_type": "stream",
     "text": [
      "[1]\tvalid_0's auc: 0.699268\tvalid_0's binary_logloss: 0.438633\tvalid_0's l1: 0.277552\n",
      "Training until validation scores don't improve for 5 rounds\n",
      "[2]\tvalid_0's auc: 0.699523\tvalid_0's binary_logloss: 0.432185\tvalid_0's l1: 0.274527\n",
      "[3]\tvalid_0's auc: 0.70024\tvalid_0's binary_logloss: 0.427272\tvalid_0's l1: 0.272114\n",
      "[4]\tvalid_0's auc: 0.701592\tvalid_0's binary_logloss: 0.423439\tvalid_0's l1: 0.269453\n",
      "[5]\tvalid_0's auc: 0.701358\tvalid_0's binary_logloss: 0.420522\tvalid_0's l1: 0.267575\n",
      "[6]\tvalid_0's auc: 0.70082\tvalid_0's binary_logloss: 0.418659\tvalid_0's l1: 0.265854\n",
      "[7]\tvalid_0's auc: 0.70012\tvalid_0's binary_logloss: 0.41689\tvalid_0's l1: 0.263942\n",
      "[8]\tvalid_0's auc: 0.700378\tvalid_0's binary_logloss: 0.415525\tvalid_0's l1: 0.262826\n",
      "[9]\tvalid_0's auc: 0.700264\tvalid_0's binary_logloss: 0.414409\tvalid_0's l1: 0.261498\n",
      "Early stopping, best iteration is:\n",
      "[4]\tvalid_0's auc: 0.701592\tvalid_0's binary_logloss: 0.423439\tvalid_0's l1: 0.269453\n"
     ]
    },
    {
     "name": "stderr",
     "output_type": "stream",
     "text": [
      "C:\\Users\\kaviy\\anaconda3\\lib\\site-packages\\sklearn\\utils\\validation.py:73: DataConversionWarning: A column-vector y was passed when a 1d array was expected. Please change the shape of y to (n_samples, ), for example using ravel().\n",
      "  return f(**kwargs)\n"
     ]
    },
    {
     "name": "stdout",
     "output_type": "stream",
     "text": [
      "[1]\tvalid_0's auc: 0.630879\tvalid_0's binary_logloss: 0.440211\tvalid_0's l1: 0.276123\n",
      "Training until validation scores don't improve for 5 rounds\n",
      "[2]\tvalid_0's auc: 0.68879\tvalid_0's binary_logloss: 0.433446\tvalid_0's l1: 0.273975\n",
      "[3]\tvalid_0's auc: 0.692981\tvalid_0's binary_logloss: 0.428713\tvalid_0's l1: 0.271525\n",
      "[4]\tvalid_0's auc: 0.694383\tvalid_0's binary_logloss: 0.424976\tvalid_0's l1: 0.269152\n",
      "[5]\tvalid_0's auc: 0.696644\tvalid_0's binary_logloss: 0.422113\tvalid_0's l1: 0.267295\n",
      "[6]\tvalid_0's auc: 0.697508\tvalid_0's binary_logloss: 0.419789\tvalid_0's l1: 0.266185\n",
      "[7]\tvalid_0's auc: 0.69744\tvalid_0's binary_logloss: 0.41833\tvalid_0's l1: 0.264243\n",
      "[8]\tvalid_0's auc: 0.693549\tvalid_0's binary_logloss: 0.417801\tvalid_0's l1: 0.26055\n",
      "[9]\tvalid_0's auc: 0.694734\tvalid_0's binary_logloss: 0.416714\tvalid_0's l1: 0.259611\n",
      "[10]\tvalid_0's auc: 0.695641\tvalid_0's binary_logloss: 0.415781\tvalid_0's l1: 0.258825\n",
      "[11]\tvalid_0's auc: 0.696039\tvalid_0's binary_logloss: 0.415122\tvalid_0's l1: 0.25708\n",
      "Early stopping, best iteration is:\n",
      "[6]\tvalid_0's auc: 0.697508\tvalid_0's binary_logloss: 0.419789\tvalid_0's l1: 0.266185\n"
     ]
    },
    {
     "name": "stderr",
     "output_type": "stream",
     "text": [
      "C:\\Users\\kaviy\\anaconda3\\lib\\site-packages\\sklearn\\utils\\validation.py:73: DataConversionWarning: A column-vector y was passed when a 1d array was expected. Please change the shape of y to (n_samples, ), for example using ravel().\n",
      "  return f(**kwargs)\n"
     ]
    },
    {
     "name": "stdout",
     "output_type": "stream",
     "text": [
      "[1]\tvalid_0's auc: 0.694931\tvalid_0's binary_logloss: 0.436583\tvalid_0's l1: 0.27631\n",
      "Training until validation scores don't improve for 5 rounds\n",
      "[2]\tvalid_0's auc: 0.699627\tvalid_0's binary_logloss: 0.429358\tvalid_0's l1: 0.273236\n",
      "[3]\tvalid_0's auc: 0.700243\tvalid_0's binary_logloss: 0.424165\tvalid_0's l1: 0.27073\n",
      "[4]\tvalid_0's auc: 0.701388\tvalid_0's binary_logloss: 0.420305\tvalid_0's l1: 0.268026\n",
      "[5]\tvalid_0's auc: 0.703256\tvalid_0's binary_logloss: 0.417243\tvalid_0's l1: 0.265701\n",
      "[6]\tvalid_0's auc: 0.702051\tvalid_0's binary_logloss: 0.415396\tvalid_0's l1: 0.263993\n",
      "[7]\tvalid_0's auc: 0.703756\tvalid_0's binary_logloss: 0.413557\tvalid_0's l1: 0.262341\n",
      "[8]\tvalid_0's auc: 0.704877\tvalid_0's binary_logloss: 0.412374\tvalid_0's l1: 0.261173\n",
      "[9]\tvalid_0's auc: 0.705702\tvalid_0's binary_logloss: 0.41134\tvalid_0's l1: 0.259788\n",
      "[10]\tvalid_0's auc: 0.704958\tvalid_0's binary_logloss: 0.411118\tvalid_0's l1: 0.25795\n",
      "[11]\tvalid_0's auc: 0.704061\tvalid_0's binary_logloss: 0.410918\tvalid_0's l1: 0.256635\n",
      "[12]\tvalid_0's auc: 0.703488\tvalid_0's binary_logloss: 0.410806\tvalid_0's l1: 0.254926\n",
      "[13]\tvalid_0's auc: 0.704063\tvalid_0's binary_logloss: 0.410549\tvalid_0's l1: 0.25442\n",
      "[14]\tvalid_0's auc: 0.701905\tvalid_0's binary_logloss: 0.410973\tvalid_0's l1: 0.252911\n",
      "Early stopping, best iteration is:\n",
      "[9]\tvalid_0's auc: 0.705702\tvalid_0's binary_logloss: 0.41134\tvalid_0's l1: 0.259788\n"
     ]
    },
    {
     "name": "stderr",
     "output_type": "stream",
     "text": [
      "C:\\Users\\kaviy\\anaconda3\\lib\\site-packages\\sklearn\\utils\\validation.py:73: DataConversionWarning: A column-vector y was passed when a 1d array was expected. Please change the shape of y to (n_samples, ), for example using ravel().\n",
      "  return f(**kwargs)\n"
     ]
    },
    {
     "name": "stdout",
     "output_type": "stream",
     "text": [
      "[1]\tvalid_0's auc: 0.675029\tvalid_0's binary_logloss: 0.437448\tvalid_0's l1: 0.27538\n",
      "Training until validation scores don't improve for 5 rounds\n",
      "[2]\tvalid_0's auc: 0.698035\tvalid_0's binary_logloss: 0.429759\tvalid_0's l1: 0.273016\n",
      "[3]\tvalid_0's auc: 0.698468\tvalid_0's binary_logloss: 0.424763\tvalid_0's l1: 0.270168\n",
      "[4]\tvalid_0's auc: 0.698973\tvalid_0's binary_logloss: 0.421105\tvalid_0's l1: 0.268064\n",
      "[5]\tvalid_0's auc: 0.700574\tvalid_0's binary_logloss: 0.418024\tvalid_0's l1: 0.265908\n",
      "[6]\tvalid_0's auc: 0.700895\tvalid_0's binary_logloss: 0.416139\tvalid_0's l1: 0.264786\n",
      "[7]\tvalid_0's auc: 0.7026\tvalid_0's binary_logloss: 0.414307\tvalid_0's l1: 0.262891\n",
      "[8]\tvalid_0's auc: 0.702209\tvalid_0's binary_logloss: 0.413123\tvalid_0's l1: 0.260312\n",
      "[9]\tvalid_0's auc: 0.702542\tvalid_0's binary_logloss: 0.412242\tvalid_0's l1: 0.259119\n",
      "[10]\tvalid_0's auc: 0.702717\tvalid_0's binary_logloss: 0.411436\tvalid_0's l1: 0.25813\n",
      "[11]\tvalid_0's auc: 0.702078\tvalid_0's binary_logloss: 0.411126\tvalid_0's l1: 0.256314\n",
      "[12]\tvalid_0's auc: 0.701706\tvalid_0's binary_logloss: 0.411009\tvalid_0's l1: 0.254293\n",
      "[13]\tvalid_0's auc: 0.702507\tvalid_0's binary_logloss: 0.410736\tvalid_0's l1: 0.253762\n",
      "[14]\tvalid_0's auc: 0.702191\tvalid_0's binary_logloss: 0.410689\tvalid_0's l1: 0.253546\n",
      "[15]\tvalid_0's auc: 0.702624\tvalid_0's binary_logloss: 0.410443\tvalid_0's l1: 0.253031\n",
      "Early stopping, best iteration is:\n",
      "[10]\tvalid_0's auc: 0.702717\tvalid_0's binary_logloss: 0.411436\tvalid_0's l1: 0.25813\n"
     ]
    },
    {
     "name": "stderr",
     "output_type": "stream",
     "text": [
      "C:\\Users\\kaviy\\anaconda3\\lib\\site-packages\\sklearn\\utils\\validation.py:73: DataConversionWarning: A column-vector y was passed when a 1d array was expected. Please change the shape of y to (n_samples, ), for example using ravel().\n",
      "  return f(**kwargs)\n"
     ]
    },
    {
     "name": "stdout",
     "output_type": "stream",
     "text": [
      "[1]\tvalid_0's auc: 0.694609\tvalid_0's binary_logloss: 0.437026\tvalid_0's l1: 0.276859\n",
      "Training until validation scores don't improve for 5 rounds\n",
      "[2]\tvalid_0's auc: 0.699336\tvalid_0's binary_logloss: 0.429544\tvalid_0's l1: 0.273271\n",
      "[3]\tvalid_0's auc: 0.698725\tvalid_0's binary_logloss: 0.42457\tvalid_0's l1: 0.270597\n",
      "[4]\tvalid_0's auc: 0.701646\tvalid_0's binary_logloss: 0.420258\tvalid_0's l1: 0.268087\n",
      "[5]\tvalid_0's auc: 0.70222\tvalid_0's binary_logloss: 0.418018\tvalid_0's l1: 0.265608\n",
      "[6]\tvalid_0's auc: 0.702208\tvalid_0's binary_logloss: 0.415816\tvalid_0's l1: 0.263595\n",
      "[7]\tvalid_0's auc: 0.702763\tvalid_0's binary_logloss: 0.414091\tvalid_0's l1: 0.261843\n",
      "[8]\tvalid_0's auc: 0.703656\tvalid_0's binary_logloss: 0.412664\tvalid_0's l1: 0.260167\n",
      "[9]\tvalid_0's auc: 0.704624\tvalid_0's binary_logloss: 0.411515\tvalid_0's l1: 0.259186\n",
      "[10]\tvalid_0's auc: 0.704772\tvalid_0's binary_logloss: 0.4107\tvalid_0's l1: 0.258039\n",
      "[11]\tvalid_0's auc: 0.703914\tvalid_0's binary_logloss: 0.410475\tvalid_0's l1: 0.256426\n",
      "[12]\tvalid_0's auc: 0.704012\tvalid_0's binary_logloss: 0.410174\tvalid_0's l1: 0.255442\n",
      "[13]\tvalid_0's auc: 0.704168\tvalid_0's binary_logloss: 0.409884\tvalid_0's l1: 0.254662\n",
      "[14]\tvalid_0's auc: 0.703049\tvalid_0's binary_logloss: 0.409924\tvalid_0's l1: 0.253552\n",
      "[15]\tvalid_0's auc: 0.702729\tvalid_0's binary_logloss: 0.409911\tvalid_0's l1: 0.252979\n",
      "Early stopping, best iteration is:\n",
      "[10]\tvalid_0's auc: 0.704772\tvalid_0's binary_logloss: 0.4107\tvalid_0's l1: 0.258039\n"
     ]
    },
    {
     "name": "stderr",
     "output_type": "stream",
     "text": [
      "C:\\Users\\kaviy\\anaconda3\\lib\\site-packages\\sklearn\\utils\\validation.py:73: DataConversionWarning: A column-vector y was passed when a 1d array was expected. Please change the shape of y to (n_samples, ), for example using ravel().\n",
      "  return f(**kwargs)\n"
     ]
    },
    {
     "name": "stdout",
     "output_type": "stream",
     "text": [
      "[1]\tvalid_0's auc: 0.699268\tvalid_0's binary_logloss: 0.437003\tvalid_0's l1: 0.276986\n",
      "Training until validation scores don't improve for 5 rounds\n",
      "[2]\tvalid_0's auc: 0.696087\tvalid_0's binary_logloss: 0.430087\tvalid_0's l1: 0.273582\n",
      "[3]\tvalid_0's auc: 0.697156\tvalid_0's binary_logloss: 0.425043\tvalid_0's l1: 0.270858\n",
      "[4]\tvalid_0's auc: 0.697981\tvalid_0's binary_logloss: 0.42129\tvalid_0's l1: 0.268313\n",
      "[5]\tvalid_0's auc: 0.69906\tvalid_0's binary_logloss: 0.418493\tvalid_0's l1: 0.266233\n",
      "[6]\tvalid_0's auc: 0.699312\tvalid_0's binary_logloss: 0.416331\tvalid_0's l1: 0.264228\n",
      "[7]\tvalid_0's auc: 0.700302\tvalid_0's binary_logloss: 0.414711\tvalid_0's l1: 0.262773\n",
      "[8]\tvalid_0's auc: 0.700951\tvalid_0's binary_logloss: 0.413298\tvalid_0's l1: 0.261349\n",
      "[9]\tvalid_0's auc: 0.700855\tvalid_0's binary_logloss: 0.412281\tvalid_0's l1: 0.260206\n",
      "[10]\tvalid_0's auc: 0.700885\tvalid_0's binary_logloss: 0.411844\tvalid_0's l1: 0.259168\n",
      "[11]\tvalid_0's auc: 0.700786\tvalid_0's binary_logloss: 0.411426\tvalid_0's l1: 0.25821\n",
      "[12]\tvalid_0's auc: 0.700856\tvalid_0's binary_logloss: 0.411147\tvalid_0's l1: 0.257465\n",
      "[13]\tvalid_0's auc: 0.698645\tvalid_0's binary_logloss: 0.411296\tvalid_0's l1: 0.255197\n",
      "Early stopping, best iteration is:\n",
      "[8]\tvalid_0's auc: 0.700951\tvalid_0's binary_logloss: 0.413298\tvalid_0's l1: 0.261349\n"
     ]
    },
    {
     "name": "stderr",
     "output_type": "stream",
     "text": [
      "C:\\Users\\kaviy\\anaconda3\\lib\\site-packages\\sklearn\\utils\\validation.py:73: DataConversionWarning: A column-vector y was passed when a 1d array was expected. Please change the shape of y to (n_samples, ), for example using ravel().\n",
      "  return f(**kwargs)\n"
     ]
    },
    {
     "name": "stdout",
     "output_type": "stream",
     "text": [
      "[1]\tvalid_0's auc: 0.630879\tvalid_0's binary_logloss: 0.438902\tvalid_0's l1: 0.275277\n",
      "Training until validation scores don't improve for 5 rounds\n",
      "[2]\tvalid_0's auc: 0.686821\tvalid_0's binary_logloss: 0.431338\tvalid_0's l1: 0.272559\n",
      "[3]\tvalid_0's auc: 0.695052\tvalid_0's binary_logloss: 0.426035\tvalid_0's l1: 0.26945\n",
      "[4]\tvalid_0's auc: 0.696926\tvalid_0's binary_logloss: 0.422279\tvalid_0's l1: 0.26732\n",
      "[5]\tvalid_0's auc: 0.700627\tvalid_0's binary_logloss: 0.418577\tvalid_0's l1: 0.268176\n",
      "[6]\tvalid_0's auc: 0.69984\tvalid_0's binary_logloss: 0.416749\tvalid_0's l1: 0.265787\n",
      "[7]\tvalid_0's auc: 0.697485\tvalid_0's binary_logloss: 0.415105\tvalid_0's l1: 0.265037\n",
      "[8]\tvalid_0's auc: 0.69855\tvalid_0's binary_logloss: 0.413775\tvalid_0's l1: 0.262679\n",
      "[9]\tvalid_0's auc: 0.698226\tvalid_0's binary_logloss: 0.41317\tvalid_0's l1: 0.261985\n",
      "[10]\tvalid_0's auc: 0.698638\tvalid_0's binary_logloss: 0.412424\tvalid_0's l1: 0.260845\n",
      "Early stopping, best iteration is:\n",
      "[5]\tvalid_0's auc: 0.700627\tvalid_0's binary_logloss: 0.418577\tvalid_0's l1: 0.268176\n"
     ]
    },
    {
     "name": "stderr",
     "output_type": "stream",
     "text": [
      "C:\\Users\\kaviy\\anaconda3\\lib\\site-packages\\sklearn\\utils\\validation.py:73: DataConversionWarning: A column-vector y was passed when a 1d array was expected. Please change the shape of y to (n_samples, ), for example using ravel().\n",
      "  return f(**kwargs)\n"
     ]
    },
    {
     "name": "stdout",
     "output_type": "stream",
     "text": [
      "[1]\tvalid_0's auc: 0.694931\tvalid_0's binary_logloss: 0.436583\tvalid_0's l1: 0.27631\n",
      "Training until validation scores don't improve for 5 rounds\n",
      "[2]\tvalid_0's auc: 0.699627\tvalid_0's binary_logloss: 0.429358\tvalid_0's l1: 0.273236\n",
      "[3]\tvalid_0's auc: 0.700243\tvalid_0's binary_logloss: 0.424165\tvalid_0's l1: 0.27073\n",
      "[4]\tvalid_0's auc: 0.701388\tvalid_0's binary_logloss: 0.420305\tvalid_0's l1: 0.268026\n",
      "[5]\tvalid_0's auc: 0.703256\tvalid_0's binary_logloss: 0.417243\tvalid_0's l1: 0.265701\n",
      "[6]\tvalid_0's auc: 0.702051\tvalid_0's binary_logloss: 0.415396\tvalid_0's l1: 0.263993\n",
      "[7]\tvalid_0's auc: 0.703756\tvalid_0's binary_logloss: 0.413557\tvalid_0's l1: 0.262341\n",
      "[8]\tvalid_0's auc: 0.704877\tvalid_0's binary_logloss: 0.412374\tvalid_0's l1: 0.261173\n",
      "[9]\tvalid_0's auc: 0.705702\tvalid_0's binary_logloss: 0.41134\tvalid_0's l1: 0.259788\n",
      "[10]\tvalid_0's auc: 0.704958\tvalid_0's binary_logloss: 0.411118\tvalid_0's l1: 0.25795\n",
      "[11]\tvalid_0's auc: 0.704061\tvalid_0's binary_logloss: 0.410918\tvalid_0's l1: 0.256635\n",
      "[12]\tvalid_0's auc: 0.703488\tvalid_0's binary_logloss: 0.410806\tvalid_0's l1: 0.254926\n",
      "[13]\tvalid_0's auc: 0.704063\tvalid_0's binary_logloss: 0.410549\tvalid_0's l1: 0.25442\n",
      "[14]\tvalid_0's auc: 0.701905\tvalid_0's binary_logloss: 0.410973\tvalid_0's l1: 0.252911\n",
      "Early stopping, best iteration is:\n",
      "[9]\tvalid_0's auc: 0.705702\tvalid_0's binary_logloss: 0.41134\tvalid_0's l1: 0.259788\n"
     ]
    },
    {
     "name": "stderr",
     "output_type": "stream",
     "text": [
      "C:\\Users\\kaviy\\anaconda3\\lib\\site-packages\\sklearn\\utils\\validation.py:73: DataConversionWarning: A column-vector y was passed when a 1d array was expected. Please change the shape of y to (n_samples, ), for example using ravel().\n",
      "  return f(**kwargs)\n"
     ]
    },
    {
     "name": "stdout",
     "output_type": "stream",
     "text": [
      "[1]\tvalid_0's auc: 0.675029\tvalid_0's binary_logloss: 0.437448\tvalid_0's l1: 0.27538\n",
      "Training until validation scores don't improve for 5 rounds\n",
      "[2]\tvalid_0's auc: 0.698035\tvalid_0's binary_logloss: 0.429759\tvalid_0's l1: 0.273016\n",
      "[3]\tvalid_0's auc: 0.698468\tvalid_0's binary_logloss: 0.424763\tvalid_0's l1: 0.270168\n",
      "[4]\tvalid_0's auc: 0.698973\tvalid_0's binary_logloss: 0.421105\tvalid_0's l1: 0.268064\n",
      "[5]\tvalid_0's auc: 0.700574\tvalid_0's binary_logloss: 0.418024\tvalid_0's l1: 0.265908\n",
      "[6]\tvalid_0's auc: 0.700895\tvalid_0's binary_logloss: 0.416139\tvalid_0's l1: 0.264786\n",
      "[7]\tvalid_0's auc: 0.7026\tvalid_0's binary_logloss: 0.414307\tvalid_0's l1: 0.262891\n",
      "[8]\tvalid_0's auc: 0.702209\tvalid_0's binary_logloss: 0.413123\tvalid_0's l1: 0.260312\n",
      "[9]\tvalid_0's auc: 0.702542\tvalid_0's binary_logloss: 0.412242\tvalid_0's l1: 0.259119\n",
      "[10]\tvalid_0's auc: 0.702717\tvalid_0's binary_logloss: 0.411436\tvalid_0's l1: 0.25813\n",
      "[11]\tvalid_0's auc: 0.702078\tvalid_0's binary_logloss: 0.411126\tvalid_0's l1: 0.256314\n",
      "[12]\tvalid_0's auc: 0.701706\tvalid_0's binary_logloss: 0.411009\tvalid_0's l1: 0.254293\n",
      "[13]\tvalid_0's auc: 0.702507\tvalid_0's binary_logloss: 0.410736\tvalid_0's l1: 0.253762\n",
      "[14]\tvalid_0's auc: 0.702191\tvalid_0's binary_logloss: 0.410689\tvalid_0's l1: 0.253546\n",
      "[15]\tvalid_0's auc: 0.702624\tvalid_0's binary_logloss: 0.410443\tvalid_0's l1: 0.253031\n",
      "Early stopping, best iteration is:\n",
      "[10]\tvalid_0's auc: 0.702717\tvalid_0's binary_logloss: 0.411436\tvalid_0's l1: 0.25813\n"
     ]
    },
    {
     "name": "stderr",
     "output_type": "stream",
     "text": [
      "C:\\Users\\kaviy\\anaconda3\\lib\\site-packages\\sklearn\\utils\\validation.py:73: DataConversionWarning: A column-vector y was passed when a 1d array was expected. Please change the shape of y to (n_samples, ), for example using ravel().\n",
      "  return f(**kwargs)\n"
     ]
    },
    {
     "name": "stdout",
     "output_type": "stream",
     "text": [
      "[1]\tvalid_0's auc: 0.694609\tvalid_0's binary_logloss: 0.437026\tvalid_0's l1: 0.276859\n",
      "Training until validation scores don't improve for 5 rounds\n",
      "[2]\tvalid_0's auc: 0.699336\tvalid_0's binary_logloss: 0.429544\tvalid_0's l1: 0.273271\n",
      "[3]\tvalid_0's auc: 0.698725\tvalid_0's binary_logloss: 0.42457\tvalid_0's l1: 0.270597\n",
      "[4]\tvalid_0's auc: 0.701646\tvalid_0's binary_logloss: 0.420258\tvalid_0's l1: 0.268087\n",
      "[5]\tvalid_0's auc: 0.70222\tvalid_0's binary_logloss: 0.418018\tvalid_0's l1: 0.265608\n",
      "[6]\tvalid_0's auc: 0.702208\tvalid_0's binary_logloss: 0.415816\tvalid_0's l1: 0.263595\n",
      "[7]\tvalid_0's auc: 0.702763\tvalid_0's binary_logloss: 0.414091\tvalid_0's l1: 0.261843\n",
      "[8]\tvalid_0's auc: 0.703656\tvalid_0's binary_logloss: 0.412664\tvalid_0's l1: 0.260167\n",
      "[9]\tvalid_0's auc: 0.704624\tvalid_0's binary_logloss: 0.411515\tvalid_0's l1: 0.259186\n",
      "[10]\tvalid_0's auc: 0.704772\tvalid_0's binary_logloss: 0.4107\tvalid_0's l1: 0.258039\n",
      "[11]\tvalid_0's auc: 0.703914\tvalid_0's binary_logloss: 0.410475\tvalid_0's l1: 0.256426\n",
      "[12]\tvalid_0's auc: 0.704012\tvalid_0's binary_logloss: 0.410174\tvalid_0's l1: 0.255442\n",
      "[13]\tvalid_0's auc: 0.704168\tvalid_0's binary_logloss: 0.409884\tvalid_0's l1: 0.254662\n",
      "[14]\tvalid_0's auc: 0.703049\tvalid_0's binary_logloss: 0.409924\tvalid_0's l1: 0.253552\n",
      "[15]\tvalid_0's auc: 0.702729\tvalid_0's binary_logloss: 0.409911\tvalid_0's l1: 0.252979\n",
      "Early stopping, best iteration is:\n",
      "[10]\tvalid_0's auc: 0.704772\tvalid_0's binary_logloss: 0.4107\tvalid_0's l1: 0.258039\n"
     ]
    },
    {
     "name": "stderr",
     "output_type": "stream",
     "text": [
      "C:\\Users\\kaviy\\anaconda3\\lib\\site-packages\\sklearn\\utils\\validation.py:73: DataConversionWarning: A column-vector y was passed when a 1d array was expected. Please change the shape of y to (n_samples, ), for example using ravel().\n",
      "  return f(**kwargs)\n"
     ]
    },
    {
     "name": "stdout",
     "output_type": "stream",
     "text": [
      "[1]\tvalid_0's auc: 0.699268\tvalid_0's binary_logloss: 0.437003\tvalid_0's l1: 0.276986\n",
      "Training until validation scores don't improve for 5 rounds\n",
      "[2]\tvalid_0's auc: 0.696087\tvalid_0's binary_logloss: 0.430087\tvalid_0's l1: 0.273582\n",
      "[3]\tvalid_0's auc: 0.697156\tvalid_0's binary_logloss: 0.425043\tvalid_0's l1: 0.270858\n",
      "[4]\tvalid_0's auc: 0.697981\tvalid_0's binary_logloss: 0.42129\tvalid_0's l1: 0.268313\n",
      "[5]\tvalid_0's auc: 0.69906\tvalid_0's binary_logloss: 0.418493\tvalid_0's l1: 0.266233\n",
      "[6]\tvalid_0's auc: 0.699312\tvalid_0's binary_logloss: 0.416331\tvalid_0's l1: 0.264228\n",
      "[7]\tvalid_0's auc: 0.700302\tvalid_0's binary_logloss: 0.414711\tvalid_0's l1: 0.262773\n",
      "[8]\tvalid_0's auc: 0.700951\tvalid_0's binary_logloss: 0.413298\tvalid_0's l1: 0.261349\n",
      "[9]\tvalid_0's auc: 0.700855\tvalid_0's binary_logloss: 0.412281\tvalid_0's l1: 0.260206\n",
      "[10]\tvalid_0's auc: 0.700885\tvalid_0's binary_logloss: 0.411844\tvalid_0's l1: 0.259168\n",
      "[11]\tvalid_0's auc: 0.700786\tvalid_0's binary_logloss: 0.411426\tvalid_0's l1: 0.25821\n",
      "[12]\tvalid_0's auc: 0.700856\tvalid_0's binary_logloss: 0.411147\tvalid_0's l1: 0.257465\n",
      "[13]\tvalid_0's auc: 0.698645\tvalid_0's binary_logloss: 0.411296\tvalid_0's l1: 0.255197\n",
      "Early stopping, best iteration is:\n",
      "[8]\tvalid_0's auc: 0.700951\tvalid_0's binary_logloss: 0.413298\tvalid_0's l1: 0.261349\n"
     ]
    },
    {
     "name": "stderr",
     "output_type": "stream",
     "text": [
      "C:\\Users\\kaviy\\anaconda3\\lib\\site-packages\\sklearn\\utils\\validation.py:73: DataConversionWarning: A column-vector y was passed when a 1d array was expected. Please change the shape of y to (n_samples, ), for example using ravel().\n",
      "  return f(**kwargs)\n"
     ]
    },
    {
     "name": "stdout",
     "output_type": "stream",
     "text": [
      "[1]\tvalid_0's auc: 0.630879\tvalid_0's binary_logloss: 0.438902\tvalid_0's l1: 0.275277\n",
      "Training until validation scores don't improve for 5 rounds\n",
      "[2]\tvalid_0's auc: 0.686821\tvalid_0's binary_logloss: 0.431338\tvalid_0's l1: 0.272559\n",
      "[3]\tvalid_0's auc: 0.695052\tvalid_0's binary_logloss: 0.426035\tvalid_0's l1: 0.26945\n",
      "[4]\tvalid_0's auc: 0.696926\tvalid_0's binary_logloss: 0.422279\tvalid_0's l1: 0.26732\n",
      "[5]\tvalid_0's auc: 0.700627\tvalid_0's binary_logloss: 0.418577\tvalid_0's l1: 0.268176\n",
      "[6]\tvalid_0's auc: 0.69984\tvalid_0's binary_logloss: 0.416749\tvalid_0's l1: 0.265787\n",
      "[7]\tvalid_0's auc: 0.697485\tvalid_0's binary_logloss: 0.415105\tvalid_0's l1: 0.265037\n",
      "[8]\tvalid_0's auc: 0.69855\tvalid_0's binary_logloss: 0.413775\tvalid_0's l1: 0.262679\n",
      "[9]\tvalid_0's auc: 0.698226\tvalid_0's binary_logloss: 0.41317\tvalid_0's l1: 0.261985\n",
      "[10]\tvalid_0's auc: 0.698638\tvalid_0's binary_logloss: 0.412424\tvalid_0's l1: 0.260845\n",
      "Early stopping, best iteration is:\n",
      "[5]\tvalid_0's auc: 0.700627\tvalid_0's binary_logloss: 0.418577\tvalid_0's l1: 0.268176\n"
     ]
    },
    {
     "name": "stderr",
     "output_type": "stream",
     "text": [
      "C:\\Users\\kaviy\\anaconda3\\lib\\site-packages\\sklearn\\utils\\validation.py:73: DataConversionWarning: A column-vector y was passed when a 1d array was expected. Please change the shape of y to (n_samples, ), for example using ravel().\n",
      "  return f(**kwargs)\n"
     ]
    },
    {
     "name": "stdout",
     "output_type": "stream",
     "text": [
      "[1]\tvalid_0's auc: 0.694931\tvalid_0's binary_logloss: 0.436583\tvalid_0's l1: 0.27631\n",
      "Training until validation scores don't improve for 5 rounds\n",
      "[2]\tvalid_0's auc: 0.699627\tvalid_0's binary_logloss: 0.429358\tvalid_0's l1: 0.273236\n",
      "[3]\tvalid_0's auc: 0.700243\tvalid_0's binary_logloss: 0.424165\tvalid_0's l1: 0.27073\n",
      "[4]\tvalid_0's auc: 0.701388\tvalid_0's binary_logloss: 0.420305\tvalid_0's l1: 0.268026\n",
      "[5]\tvalid_0's auc: 0.703256\tvalid_0's binary_logloss: 0.417243\tvalid_0's l1: 0.265701\n",
      "[6]\tvalid_0's auc: 0.702051\tvalid_0's binary_logloss: 0.415396\tvalid_0's l1: 0.263993\n",
      "[7]\tvalid_0's auc: 0.703756\tvalid_0's binary_logloss: 0.413557\tvalid_0's l1: 0.262341\n",
      "[8]\tvalid_0's auc: 0.704877\tvalid_0's binary_logloss: 0.412374\tvalid_0's l1: 0.261173\n",
      "[9]\tvalid_0's auc: 0.705702\tvalid_0's binary_logloss: 0.41134\tvalid_0's l1: 0.259788\n",
      "[10]\tvalid_0's auc: 0.704958\tvalid_0's binary_logloss: 0.411118\tvalid_0's l1: 0.25795\n",
      "[11]\tvalid_0's auc: 0.704061\tvalid_0's binary_logloss: 0.410918\tvalid_0's l1: 0.256635\n",
      "[12]\tvalid_0's auc: 0.703488\tvalid_0's binary_logloss: 0.410806\tvalid_0's l1: 0.254926\n",
      "[13]\tvalid_0's auc: 0.704063\tvalid_0's binary_logloss: 0.410549\tvalid_0's l1: 0.25442\n",
      "[14]\tvalid_0's auc: 0.701905\tvalid_0's binary_logloss: 0.410973\tvalid_0's l1: 0.252911\n",
      "Early stopping, best iteration is:\n",
      "[9]\tvalid_0's auc: 0.705702\tvalid_0's binary_logloss: 0.41134\tvalid_0's l1: 0.259788\n"
     ]
    },
    {
     "name": "stderr",
     "output_type": "stream",
     "text": [
      "C:\\Users\\kaviy\\anaconda3\\lib\\site-packages\\sklearn\\utils\\validation.py:73: DataConversionWarning: A column-vector y was passed when a 1d array was expected. Please change the shape of y to (n_samples, ), for example using ravel().\n",
      "  return f(**kwargs)\n"
     ]
    },
    {
     "name": "stdout",
     "output_type": "stream",
     "text": [
      "[1]\tvalid_0's auc: 0.675029\tvalid_0's binary_logloss: 0.437448\tvalid_0's l1: 0.27538\n",
      "Training until validation scores don't improve for 5 rounds\n",
      "[2]\tvalid_0's auc: 0.698035\tvalid_0's binary_logloss: 0.429759\tvalid_0's l1: 0.273016\n",
      "[3]\tvalid_0's auc: 0.698468\tvalid_0's binary_logloss: 0.424763\tvalid_0's l1: 0.270168\n",
      "[4]\tvalid_0's auc: 0.698973\tvalid_0's binary_logloss: 0.421105\tvalid_0's l1: 0.268064\n",
      "[5]\tvalid_0's auc: 0.700574\tvalid_0's binary_logloss: 0.418024\tvalid_0's l1: 0.265908\n",
      "[6]\tvalid_0's auc: 0.700895\tvalid_0's binary_logloss: 0.416139\tvalid_0's l1: 0.264786\n",
      "[7]\tvalid_0's auc: 0.7026\tvalid_0's binary_logloss: 0.414307\tvalid_0's l1: 0.262891\n",
      "[8]\tvalid_0's auc: 0.702209\tvalid_0's binary_logloss: 0.413123\tvalid_0's l1: 0.260312\n",
      "[9]\tvalid_0's auc: 0.702542\tvalid_0's binary_logloss: 0.412242\tvalid_0's l1: 0.259119\n",
      "[10]\tvalid_0's auc: 0.702717\tvalid_0's binary_logloss: 0.411436\tvalid_0's l1: 0.25813\n",
      "[11]\tvalid_0's auc: 0.702078\tvalid_0's binary_logloss: 0.411126\tvalid_0's l1: 0.256314\n",
      "[12]\tvalid_0's auc: 0.701706\tvalid_0's binary_logloss: 0.411009\tvalid_0's l1: 0.254293\n",
      "[13]\tvalid_0's auc: 0.702507\tvalid_0's binary_logloss: 0.410736\tvalid_0's l1: 0.253762\n",
      "[14]\tvalid_0's auc: 0.702191\tvalid_0's binary_logloss: 0.410689\tvalid_0's l1: 0.253546\n",
      "[15]\tvalid_0's auc: 0.702624\tvalid_0's binary_logloss: 0.410443\tvalid_0's l1: 0.253031\n",
      "Early stopping, best iteration is:\n",
      "[10]\tvalid_0's auc: 0.702717\tvalid_0's binary_logloss: 0.411436\tvalid_0's l1: 0.25813\n"
     ]
    },
    {
     "name": "stderr",
     "output_type": "stream",
     "text": [
      "C:\\Users\\kaviy\\anaconda3\\lib\\site-packages\\sklearn\\utils\\validation.py:73: DataConversionWarning: A column-vector y was passed when a 1d array was expected. Please change the shape of y to (n_samples, ), for example using ravel().\n",
      "  return f(**kwargs)\n"
     ]
    },
    {
     "name": "stdout",
     "output_type": "stream",
     "text": [
      "[1]\tvalid_0's auc: 0.694609\tvalid_0's binary_logloss: 0.437026\tvalid_0's l1: 0.276859\n",
      "Training until validation scores don't improve for 5 rounds\n",
      "[2]\tvalid_0's auc: 0.699336\tvalid_0's binary_logloss: 0.429544\tvalid_0's l1: 0.273271\n",
      "[3]\tvalid_0's auc: 0.698725\tvalid_0's binary_logloss: 0.42457\tvalid_0's l1: 0.270597\n",
      "[4]\tvalid_0's auc: 0.701646\tvalid_0's binary_logloss: 0.420258\tvalid_0's l1: 0.268087\n",
      "[5]\tvalid_0's auc: 0.70222\tvalid_0's binary_logloss: 0.418018\tvalid_0's l1: 0.265608\n",
      "[6]\tvalid_0's auc: 0.702208\tvalid_0's binary_logloss: 0.415816\tvalid_0's l1: 0.263595\n",
      "[7]\tvalid_0's auc: 0.702763\tvalid_0's binary_logloss: 0.414091\tvalid_0's l1: 0.261843\n",
      "[8]\tvalid_0's auc: 0.703656\tvalid_0's binary_logloss: 0.412664\tvalid_0's l1: 0.260167\n",
      "[9]\tvalid_0's auc: 0.704624\tvalid_0's binary_logloss: 0.411515\tvalid_0's l1: 0.259186\n",
      "[10]\tvalid_0's auc: 0.704772\tvalid_0's binary_logloss: 0.4107\tvalid_0's l1: 0.258039\n",
      "[11]\tvalid_0's auc: 0.703914\tvalid_0's binary_logloss: 0.410475\tvalid_0's l1: 0.256426\n",
      "[12]\tvalid_0's auc: 0.704012\tvalid_0's binary_logloss: 0.410174\tvalid_0's l1: 0.255442\n",
      "[13]\tvalid_0's auc: 0.704168\tvalid_0's binary_logloss: 0.409884\tvalid_0's l1: 0.254662\n",
      "[14]\tvalid_0's auc: 0.703049\tvalid_0's binary_logloss: 0.409924\tvalid_0's l1: 0.253552\n",
      "[15]\tvalid_0's auc: 0.702729\tvalid_0's binary_logloss: 0.409911\tvalid_0's l1: 0.252979\n",
      "Early stopping, best iteration is:\n",
      "[10]\tvalid_0's auc: 0.704772\tvalid_0's binary_logloss: 0.4107\tvalid_0's l1: 0.258039\n"
     ]
    },
    {
     "name": "stderr",
     "output_type": "stream",
     "text": [
      "C:\\Users\\kaviy\\anaconda3\\lib\\site-packages\\sklearn\\utils\\validation.py:73: DataConversionWarning: A column-vector y was passed when a 1d array was expected. Please change the shape of y to (n_samples, ), for example using ravel().\n",
      "  return f(**kwargs)\n"
     ]
    },
    {
     "name": "stdout",
     "output_type": "stream",
     "text": [
      "[1]\tvalid_0's auc: 0.699268\tvalid_0's binary_logloss: 0.437003\tvalid_0's l1: 0.276986\n",
      "Training until validation scores don't improve for 5 rounds\n",
      "[2]\tvalid_0's auc: 0.696087\tvalid_0's binary_logloss: 0.430087\tvalid_0's l1: 0.273582\n",
      "[3]\tvalid_0's auc: 0.697156\tvalid_0's binary_logloss: 0.425043\tvalid_0's l1: 0.270858\n",
      "[4]\tvalid_0's auc: 0.697981\tvalid_0's binary_logloss: 0.42129\tvalid_0's l1: 0.268313\n",
      "[5]\tvalid_0's auc: 0.69906\tvalid_0's binary_logloss: 0.418493\tvalid_0's l1: 0.266233\n",
      "[6]\tvalid_0's auc: 0.699312\tvalid_0's binary_logloss: 0.416331\tvalid_0's l1: 0.264228\n",
      "[7]\tvalid_0's auc: 0.700302\tvalid_0's binary_logloss: 0.414711\tvalid_0's l1: 0.262773\n",
      "[8]\tvalid_0's auc: 0.700951\tvalid_0's binary_logloss: 0.413298\tvalid_0's l1: 0.261349\n",
      "[9]\tvalid_0's auc: 0.700855\tvalid_0's binary_logloss: 0.412281\tvalid_0's l1: 0.260206\n",
      "[10]\tvalid_0's auc: 0.700885\tvalid_0's binary_logloss: 0.411844\tvalid_0's l1: 0.259168\n",
      "[11]\tvalid_0's auc: 0.700786\tvalid_0's binary_logloss: 0.411426\tvalid_0's l1: 0.25821\n",
      "[12]\tvalid_0's auc: 0.700856\tvalid_0's binary_logloss: 0.411147\tvalid_0's l1: 0.257465\n",
      "[13]\tvalid_0's auc: 0.698645\tvalid_0's binary_logloss: 0.411296\tvalid_0's l1: 0.255197\n",
      "Early stopping, best iteration is:\n",
      "[8]\tvalid_0's auc: 0.700951\tvalid_0's binary_logloss: 0.413298\tvalid_0's l1: 0.261349\n"
     ]
    },
    {
     "name": "stderr",
     "output_type": "stream",
     "text": [
      "C:\\Users\\kaviy\\anaconda3\\lib\\site-packages\\sklearn\\utils\\validation.py:73: DataConversionWarning: A column-vector y was passed when a 1d array was expected. Please change the shape of y to (n_samples, ), for example using ravel().\n",
      "  return f(**kwargs)\n"
     ]
    },
    {
     "name": "stdout",
     "output_type": "stream",
     "text": [
      "[1]\tvalid_0's auc: 0.630879\tvalid_0's binary_logloss: 0.438902\tvalid_0's l1: 0.275277\n",
      "Training until validation scores don't improve for 5 rounds\n",
      "[2]\tvalid_0's auc: 0.686821\tvalid_0's binary_logloss: 0.431338\tvalid_0's l1: 0.272559\n",
      "[3]\tvalid_0's auc: 0.695052\tvalid_0's binary_logloss: 0.426035\tvalid_0's l1: 0.26945\n",
      "[4]\tvalid_0's auc: 0.696926\tvalid_0's binary_logloss: 0.422279\tvalid_0's l1: 0.26732\n",
      "[5]\tvalid_0's auc: 0.700627\tvalid_0's binary_logloss: 0.418577\tvalid_0's l1: 0.268176\n",
      "[6]\tvalid_0's auc: 0.69984\tvalid_0's binary_logloss: 0.416749\tvalid_0's l1: 0.265787\n",
      "[7]\tvalid_0's auc: 0.697485\tvalid_0's binary_logloss: 0.415105\tvalid_0's l1: 0.265037\n",
      "[8]\tvalid_0's auc: 0.69855\tvalid_0's binary_logloss: 0.413775\tvalid_0's l1: 0.262679\n",
      "[9]\tvalid_0's auc: 0.698226\tvalid_0's binary_logloss: 0.41317\tvalid_0's l1: 0.261985\n",
      "[10]\tvalid_0's auc: 0.698638\tvalid_0's binary_logloss: 0.412424\tvalid_0's l1: 0.260845\n",
      "Early stopping, best iteration is:\n",
      "[5]\tvalid_0's auc: 0.700627\tvalid_0's binary_logloss: 0.418577\tvalid_0's l1: 0.268176\n"
     ]
    },
    {
     "name": "stderr",
     "output_type": "stream",
     "text": [
      "C:\\Users\\kaviy\\anaconda3\\lib\\site-packages\\sklearn\\utils\\validation.py:73: DataConversionWarning: A column-vector y was passed when a 1d array was expected. Please change the shape of y to (n_samples, ), for example using ravel().\n",
      "  return f(**kwargs)\n"
     ]
    },
    {
     "name": "stdout",
     "output_type": "stream",
     "text": [
      "[1]\tvalid_0's auc: 0.694931\tvalid_0's binary_logloss: 0.436583\tvalid_0's l1: 0.27631\n",
      "Training until validation scores don't improve for 5 rounds\n",
      "[2]\tvalid_0's auc: 0.699627\tvalid_0's binary_logloss: 0.429358\tvalid_0's l1: 0.273236\n",
      "[3]\tvalid_0's auc: 0.700243\tvalid_0's binary_logloss: 0.424165\tvalid_0's l1: 0.27073\n",
      "[4]\tvalid_0's auc: 0.701388\tvalid_0's binary_logloss: 0.420305\tvalid_0's l1: 0.268026\n",
      "[5]\tvalid_0's auc: 0.703256\tvalid_0's binary_logloss: 0.417243\tvalid_0's l1: 0.265701\n",
      "[6]\tvalid_0's auc: 0.702051\tvalid_0's binary_logloss: 0.415396\tvalid_0's l1: 0.263993\n",
      "[7]\tvalid_0's auc: 0.703756\tvalid_0's binary_logloss: 0.413557\tvalid_0's l1: 0.262341\n",
      "[8]\tvalid_0's auc: 0.704877\tvalid_0's binary_logloss: 0.412374\tvalid_0's l1: 0.261173\n",
      "[9]\tvalid_0's auc: 0.705702\tvalid_0's binary_logloss: 0.41134\tvalid_0's l1: 0.259788\n",
      "[10]\tvalid_0's auc: 0.704958\tvalid_0's binary_logloss: 0.411118\tvalid_0's l1: 0.25795\n",
      "[11]\tvalid_0's auc: 0.704061\tvalid_0's binary_logloss: 0.410918\tvalid_0's l1: 0.256635\n",
      "[12]\tvalid_0's auc: 0.703488\tvalid_0's binary_logloss: 0.410806\tvalid_0's l1: 0.254926\n",
      "[13]\tvalid_0's auc: 0.704063\tvalid_0's binary_logloss: 0.410549\tvalid_0's l1: 0.25442\n",
      "[14]\tvalid_0's auc: 0.701905\tvalid_0's binary_logloss: 0.410973\tvalid_0's l1: 0.252911\n",
      "Early stopping, best iteration is:\n",
      "[9]\tvalid_0's auc: 0.705702\tvalid_0's binary_logloss: 0.41134\tvalid_0's l1: 0.259788\n"
     ]
    },
    {
     "name": "stderr",
     "output_type": "stream",
     "text": [
      "C:\\Users\\kaviy\\anaconda3\\lib\\site-packages\\sklearn\\utils\\validation.py:73: DataConversionWarning: A column-vector y was passed when a 1d array was expected. Please change the shape of y to (n_samples, ), for example using ravel().\n",
      "  return f(**kwargs)\n"
     ]
    },
    {
     "name": "stdout",
     "output_type": "stream",
     "text": [
      "[1]\tvalid_0's auc: 0.675029\tvalid_0's binary_logloss: 0.437448\tvalid_0's l1: 0.27538\n",
      "Training until validation scores don't improve for 5 rounds\n",
      "[2]\tvalid_0's auc: 0.698035\tvalid_0's binary_logloss: 0.429759\tvalid_0's l1: 0.273016\n",
      "[3]\tvalid_0's auc: 0.698468\tvalid_0's binary_logloss: 0.424763\tvalid_0's l1: 0.270168\n",
      "[4]\tvalid_0's auc: 0.698973\tvalid_0's binary_logloss: 0.421105\tvalid_0's l1: 0.268064\n",
      "[5]\tvalid_0's auc: 0.700574\tvalid_0's binary_logloss: 0.418024\tvalid_0's l1: 0.265908\n",
      "[6]\tvalid_0's auc: 0.700895\tvalid_0's binary_logloss: 0.416139\tvalid_0's l1: 0.264786\n",
      "[7]\tvalid_0's auc: 0.7026\tvalid_0's binary_logloss: 0.414307\tvalid_0's l1: 0.262891\n",
      "[8]\tvalid_0's auc: 0.702209\tvalid_0's binary_logloss: 0.413123\tvalid_0's l1: 0.260312\n",
      "[9]\tvalid_0's auc: 0.702542\tvalid_0's binary_logloss: 0.412242\tvalid_0's l1: 0.259119\n",
      "[10]\tvalid_0's auc: 0.702717\tvalid_0's binary_logloss: 0.411436\tvalid_0's l1: 0.25813\n",
      "[11]\tvalid_0's auc: 0.702078\tvalid_0's binary_logloss: 0.411126\tvalid_0's l1: 0.256314\n",
      "[12]\tvalid_0's auc: 0.701706\tvalid_0's binary_logloss: 0.411009\tvalid_0's l1: 0.254293\n",
      "[13]\tvalid_0's auc: 0.702507\tvalid_0's binary_logloss: 0.410736\tvalid_0's l1: 0.253762\n",
      "[14]\tvalid_0's auc: 0.702191\tvalid_0's binary_logloss: 0.410689\tvalid_0's l1: 0.253546\n",
      "[15]\tvalid_0's auc: 0.702624\tvalid_0's binary_logloss: 0.410443\tvalid_0's l1: 0.253031\n",
      "Early stopping, best iteration is:\n",
      "[10]\tvalid_0's auc: 0.702717\tvalid_0's binary_logloss: 0.411436\tvalid_0's l1: 0.25813\n"
     ]
    },
    {
     "name": "stderr",
     "output_type": "stream",
     "text": [
      "C:\\Users\\kaviy\\anaconda3\\lib\\site-packages\\sklearn\\utils\\validation.py:73: DataConversionWarning: A column-vector y was passed when a 1d array was expected. Please change the shape of y to (n_samples, ), for example using ravel().\n",
      "  return f(**kwargs)\n"
     ]
    },
    {
     "name": "stdout",
     "output_type": "stream",
     "text": [
      "[1]\tvalid_0's auc: 0.694609\tvalid_0's binary_logloss: 0.437026\tvalid_0's l1: 0.276859\n",
      "Training until validation scores don't improve for 5 rounds\n",
      "[2]\tvalid_0's auc: 0.699336\tvalid_0's binary_logloss: 0.429544\tvalid_0's l1: 0.273271\n",
      "[3]\tvalid_0's auc: 0.698725\tvalid_0's binary_logloss: 0.42457\tvalid_0's l1: 0.270597\n",
      "[4]\tvalid_0's auc: 0.701646\tvalid_0's binary_logloss: 0.420258\tvalid_0's l1: 0.268087\n",
      "[5]\tvalid_0's auc: 0.70222\tvalid_0's binary_logloss: 0.418018\tvalid_0's l1: 0.265608\n",
      "[6]\tvalid_0's auc: 0.702208\tvalid_0's binary_logloss: 0.415816\tvalid_0's l1: 0.263595\n",
      "[7]\tvalid_0's auc: 0.702763\tvalid_0's binary_logloss: 0.414091\tvalid_0's l1: 0.261843\n",
      "[8]\tvalid_0's auc: 0.703656\tvalid_0's binary_logloss: 0.412664\tvalid_0's l1: 0.260167\n",
      "[9]\tvalid_0's auc: 0.704624\tvalid_0's binary_logloss: 0.411515\tvalid_0's l1: 0.259186\n",
      "[10]\tvalid_0's auc: 0.704772\tvalid_0's binary_logloss: 0.4107\tvalid_0's l1: 0.258039\n",
      "[11]\tvalid_0's auc: 0.703914\tvalid_0's binary_logloss: 0.410475\tvalid_0's l1: 0.256426\n",
      "[12]\tvalid_0's auc: 0.704012\tvalid_0's binary_logloss: 0.410174\tvalid_0's l1: 0.255442\n",
      "[13]\tvalid_0's auc: 0.704168\tvalid_0's binary_logloss: 0.409884\tvalid_0's l1: 0.254662\n",
      "[14]\tvalid_0's auc: 0.703049\tvalid_0's binary_logloss: 0.409924\tvalid_0's l1: 0.253552\n",
      "[15]\tvalid_0's auc: 0.702729\tvalid_0's binary_logloss: 0.409911\tvalid_0's l1: 0.252979\n",
      "Early stopping, best iteration is:\n",
      "[10]\tvalid_0's auc: 0.704772\tvalid_0's binary_logloss: 0.4107\tvalid_0's l1: 0.258039\n"
     ]
    },
    {
     "name": "stderr",
     "output_type": "stream",
     "text": [
      "C:\\Users\\kaviy\\anaconda3\\lib\\site-packages\\sklearn\\utils\\validation.py:73: DataConversionWarning: A column-vector y was passed when a 1d array was expected. Please change the shape of y to (n_samples, ), for example using ravel().\n",
      "  return f(**kwargs)\n"
     ]
    },
    {
     "name": "stdout",
     "output_type": "stream",
     "text": [
      "[1]\tvalid_0's auc: 0.699268\tvalid_0's binary_logloss: 0.437003\tvalid_0's l1: 0.276986\n",
      "Training until validation scores don't improve for 5 rounds\n",
      "[2]\tvalid_0's auc: 0.696087\tvalid_0's binary_logloss: 0.430087\tvalid_0's l1: 0.273582\n",
      "[3]\tvalid_0's auc: 0.697156\tvalid_0's binary_logloss: 0.425043\tvalid_0's l1: 0.270858\n",
      "[4]\tvalid_0's auc: 0.697981\tvalid_0's binary_logloss: 0.42129\tvalid_0's l1: 0.268313\n",
      "[5]\tvalid_0's auc: 0.69906\tvalid_0's binary_logloss: 0.418493\tvalid_0's l1: 0.266233\n",
      "[6]\tvalid_0's auc: 0.699312\tvalid_0's binary_logloss: 0.416331\tvalid_0's l1: 0.264228\n",
      "[7]\tvalid_0's auc: 0.700302\tvalid_0's binary_logloss: 0.414711\tvalid_0's l1: 0.262773\n",
      "[8]\tvalid_0's auc: 0.700951\tvalid_0's binary_logloss: 0.413298\tvalid_0's l1: 0.261349\n",
      "[9]\tvalid_0's auc: 0.700855\tvalid_0's binary_logloss: 0.412281\tvalid_0's l1: 0.260206\n",
      "[10]\tvalid_0's auc: 0.700885\tvalid_0's binary_logloss: 0.411844\tvalid_0's l1: 0.259168\n",
      "[11]\tvalid_0's auc: 0.700786\tvalid_0's binary_logloss: 0.411426\tvalid_0's l1: 0.25821\n",
      "[12]\tvalid_0's auc: 0.700856\tvalid_0's binary_logloss: 0.411147\tvalid_0's l1: 0.257465\n",
      "[13]\tvalid_0's auc: 0.698645\tvalid_0's binary_logloss: 0.411296\tvalid_0's l1: 0.255197\n",
      "Early stopping, best iteration is:\n",
      "[8]\tvalid_0's auc: 0.700951\tvalid_0's binary_logloss: 0.413298\tvalid_0's l1: 0.261349\n"
     ]
    },
    {
     "name": "stderr",
     "output_type": "stream",
     "text": [
      "C:\\Users\\kaviy\\anaconda3\\lib\\site-packages\\sklearn\\utils\\validation.py:73: DataConversionWarning: A column-vector y was passed when a 1d array was expected. Please change the shape of y to (n_samples, ), for example using ravel().\n",
      "  return f(**kwargs)\n"
     ]
    },
    {
     "name": "stdout",
     "output_type": "stream",
     "text": [
      "[1]\tvalid_0's auc: 0.630879\tvalid_0's binary_logloss: 0.438902\tvalid_0's l1: 0.275277\n",
      "Training until validation scores don't improve for 5 rounds\n",
      "[2]\tvalid_0's auc: 0.686821\tvalid_0's binary_logloss: 0.431338\tvalid_0's l1: 0.272559\n",
      "[3]\tvalid_0's auc: 0.695052\tvalid_0's binary_logloss: 0.426035\tvalid_0's l1: 0.26945\n",
      "[4]\tvalid_0's auc: 0.696926\tvalid_0's binary_logloss: 0.422279\tvalid_0's l1: 0.26732\n",
      "[5]\tvalid_0's auc: 0.700627\tvalid_0's binary_logloss: 0.418577\tvalid_0's l1: 0.268176\n",
      "[6]\tvalid_0's auc: 0.69984\tvalid_0's binary_logloss: 0.416749\tvalid_0's l1: 0.265787\n",
      "[7]\tvalid_0's auc: 0.697485\tvalid_0's binary_logloss: 0.415105\tvalid_0's l1: 0.265037\n",
      "[8]\tvalid_0's auc: 0.69855\tvalid_0's binary_logloss: 0.413775\tvalid_0's l1: 0.262679\n",
      "[9]\tvalid_0's auc: 0.698226\tvalid_0's binary_logloss: 0.41317\tvalid_0's l1: 0.261985\n",
      "[10]\tvalid_0's auc: 0.698638\tvalid_0's binary_logloss: 0.412424\tvalid_0's l1: 0.260845\n",
      "Early stopping, best iteration is:\n",
      "[5]\tvalid_0's auc: 0.700627\tvalid_0's binary_logloss: 0.418577\tvalid_0's l1: 0.268176\n"
     ]
    },
    {
     "name": "stderr",
     "output_type": "stream",
     "text": [
      "C:\\Users\\kaviy\\anaconda3\\lib\\site-packages\\sklearn\\utils\\validation.py:73: DataConversionWarning: A column-vector y was passed when a 1d array was expected. Please change the shape of y to (n_samples, ), for example using ravel().\n",
      "  return f(**kwargs)\n"
     ]
    },
    {
     "name": "stdout",
     "output_type": "stream",
     "text": [
      "[1]\tvalid_0's auc: 0.694931\tvalid_0's binary_logloss: 0.436583\tvalid_0's l1: 0.27631\n",
      "Training until validation scores don't improve for 5 rounds\n",
      "[2]\tvalid_0's auc: 0.699627\tvalid_0's binary_logloss: 0.429358\tvalid_0's l1: 0.273236\n",
      "[3]\tvalid_0's auc: 0.700243\tvalid_0's binary_logloss: 0.424165\tvalid_0's l1: 0.27073\n",
      "[4]\tvalid_0's auc: 0.701388\tvalid_0's binary_logloss: 0.420305\tvalid_0's l1: 0.268026\n",
      "[5]\tvalid_0's auc: 0.703256\tvalid_0's binary_logloss: 0.417243\tvalid_0's l1: 0.265701\n",
      "[6]\tvalid_0's auc: 0.702051\tvalid_0's binary_logloss: 0.415396\tvalid_0's l1: 0.263993\n",
      "[7]\tvalid_0's auc: 0.703756\tvalid_0's binary_logloss: 0.413557\tvalid_0's l1: 0.262341\n",
      "[8]\tvalid_0's auc: 0.704877\tvalid_0's binary_logloss: 0.412374\tvalid_0's l1: 0.261173\n",
      "[9]\tvalid_0's auc: 0.705702\tvalid_0's binary_logloss: 0.41134\tvalid_0's l1: 0.259788\n",
      "[10]\tvalid_0's auc: 0.704958\tvalid_0's binary_logloss: 0.411118\tvalid_0's l1: 0.25795\n",
      "[11]\tvalid_0's auc: 0.704061\tvalid_0's binary_logloss: 0.410918\tvalid_0's l1: 0.256635\n",
      "[12]\tvalid_0's auc: 0.703488\tvalid_0's binary_logloss: 0.410806\tvalid_0's l1: 0.254926\n",
      "[13]\tvalid_0's auc: 0.704063\tvalid_0's binary_logloss: 0.410549\tvalid_0's l1: 0.25442\n",
      "[14]\tvalid_0's auc: 0.701905\tvalid_0's binary_logloss: 0.410973\tvalid_0's l1: 0.252911\n",
      "Early stopping, best iteration is:\n",
      "[9]\tvalid_0's auc: 0.705702\tvalid_0's binary_logloss: 0.41134\tvalid_0's l1: 0.259788\n"
     ]
    },
    {
     "name": "stderr",
     "output_type": "stream",
     "text": [
      "C:\\Users\\kaviy\\anaconda3\\lib\\site-packages\\sklearn\\utils\\validation.py:73: DataConversionWarning: A column-vector y was passed when a 1d array was expected. Please change the shape of y to (n_samples, ), for example using ravel().\n",
      "  return f(**kwargs)\n"
     ]
    },
    {
     "name": "stdout",
     "output_type": "stream",
     "text": [
      "[1]\tvalid_0's auc: 0.675029\tvalid_0's binary_logloss: 0.437448\tvalid_0's l1: 0.27538\n",
      "Training until validation scores don't improve for 5 rounds\n",
      "[2]\tvalid_0's auc: 0.698035\tvalid_0's binary_logloss: 0.429759\tvalid_0's l1: 0.273016\n",
      "[3]\tvalid_0's auc: 0.698468\tvalid_0's binary_logloss: 0.424763\tvalid_0's l1: 0.270168\n",
      "[4]\tvalid_0's auc: 0.698973\tvalid_0's binary_logloss: 0.421105\tvalid_0's l1: 0.268064\n",
      "[5]\tvalid_0's auc: 0.700574\tvalid_0's binary_logloss: 0.418024\tvalid_0's l1: 0.265908\n",
      "[6]\tvalid_0's auc: 0.700895\tvalid_0's binary_logloss: 0.416139\tvalid_0's l1: 0.264786\n",
      "[7]\tvalid_0's auc: 0.7026\tvalid_0's binary_logloss: 0.414307\tvalid_0's l1: 0.262891\n",
      "[8]\tvalid_0's auc: 0.702209\tvalid_0's binary_logloss: 0.413123\tvalid_0's l1: 0.260312\n",
      "[9]\tvalid_0's auc: 0.702542\tvalid_0's binary_logloss: 0.412242\tvalid_0's l1: 0.259119\n",
      "[10]\tvalid_0's auc: 0.702717\tvalid_0's binary_logloss: 0.411436\tvalid_0's l1: 0.25813\n",
      "[11]\tvalid_0's auc: 0.702078\tvalid_0's binary_logloss: 0.411126\tvalid_0's l1: 0.256314\n",
      "[12]\tvalid_0's auc: 0.701706\tvalid_0's binary_logloss: 0.411009\tvalid_0's l1: 0.254293\n",
      "[13]\tvalid_0's auc: 0.702507\tvalid_0's binary_logloss: 0.410736\tvalid_0's l1: 0.253762\n",
      "[14]\tvalid_0's auc: 0.702191\tvalid_0's binary_logloss: 0.410689\tvalid_0's l1: 0.253546\n",
      "[15]\tvalid_0's auc: 0.702624\tvalid_0's binary_logloss: 0.410443\tvalid_0's l1: 0.253031\n",
      "Early stopping, best iteration is:\n",
      "[10]\tvalid_0's auc: 0.702717\tvalid_0's binary_logloss: 0.411436\tvalid_0's l1: 0.25813\n"
     ]
    },
    {
     "name": "stderr",
     "output_type": "stream",
     "text": [
      "C:\\Users\\kaviy\\anaconda3\\lib\\site-packages\\sklearn\\utils\\validation.py:73: DataConversionWarning: A column-vector y was passed when a 1d array was expected. Please change the shape of y to (n_samples, ), for example using ravel().\n",
      "  return f(**kwargs)\n"
     ]
    },
    {
     "name": "stdout",
     "output_type": "stream",
     "text": [
      "[1]\tvalid_0's auc: 0.694609\tvalid_0's binary_logloss: 0.437026\tvalid_0's l1: 0.276859\n",
      "Training until validation scores don't improve for 5 rounds\n",
      "[2]\tvalid_0's auc: 0.699336\tvalid_0's binary_logloss: 0.429544\tvalid_0's l1: 0.273271\n",
      "[3]\tvalid_0's auc: 0.698725\tvalid_0's binary_logloss: 0.42457\tvalid_0's l1: 0.270597\n",
      "[4]\tvalid_0's auc: 0.701646\tvalid_0's binary_logloss: 0.420258\tvalid_0's l1: 0.268087\n",
      "[5]\tvalid_0's auc: 0.70222\tvalid_0's binary_logloss: 0.418018\tvalid_0's l1: 0.265608\n",
      "[6]\tvalid_0's auc: 0.702208\tvalid_0's binary_logloss: 0.415816\tvalid_0's l1: 0.263595\n",
      "[7]\tvalid_0's auc: 0.702763\tvalid_0's binary_logloss: 0.414091\tvalid_0's l1: 0.261843\n",
      "[8]\tvalid_0's auc: 0.703656\tvalid_0's binary_logloss: 0.412664\tvalid_0's l1: 0.260167\n",
      "[9]\tvalid_0's auc: 0.704624\tvalid_0's binary_logloss: 0.411515\tvalid_0's l1: 0.259186\n",
      "[10]\tvalid_0's auc: 0.704772\tvalid_0's binary_logloss: 0.4107\tvalid_0's l1: 0.258039\n",
      "[11]\tvalid_0's auc: 0.703914\tvalid_0's binary_logloss: 0.410475\tvalid_0's l1: 0.256426\n",
      "[12]\tvalid_0's auc: 0.704012\tvalid_0's binary_logloss: 0.410174\tvalid_0's l1: 0.255442\n",
      "[13]\tvalid_0's auc: 0.704168\tvalid_0's binary_logloss: 0.409884\tvalid_0's l1: 0.254662\n",
      "[14]\tvalid_0's auc: 0.703049\tvalid_0's binary_logloss: 0.409924\tvalid_0's l1: 0.253552\n",
      "[15]\tvalid_0's auc: 0.702729\tvalid_0's binary_logloss: 0.409911\tvalid_0's l1: 0.252979\n",
      "Early stopping, best iteration is:\n",
      "[10]\tvalid_0's auc: 0.704772\tvalid_0's binary_logloss: 0.4107\tvalid_0's l1: 0.258039\n"
     ]
    },
    {
     "name": "stderr",
     "output_type": "stream",
     "text": [
      "C:\\Users\\kaviy\\anaconda3\\lib\\site-packages\\sklearn\\utils\\validation.py:73: DataConversionWarning: A column-vector y was passed when a 1d array was expected. Please change the shape of y to (n_samples, ), for example using ravel().\n",
      "  return f(**kwargs)\n"
     ]
    },
    {
     "name": "stdout",
     "output_type": "stream",
     "text": [
      "[1]\tvalid_0's auc: 0.699268\tvalid_0's binary_logloss: 0.437003\tvalid_0's l1: 0.276986\n",
      "Training until validation scores don't improve for 5 rounds\n",
      "[2]\tvalid_0's auc: 0.696087\tvalid_0's binary_logloss: 0.430087\tvalid_0's l1: 0.273582\n",
      "[3]\tvalid_0's auc: 0.697156\tvalid_0's binary_logloss: 0.425043\tvalid_0's l1: 0.270858\n",
      "[4]\tvalid_0's auc: 0.697981\tvalid_0's binary_logloss: 0.42129\tvalid_0's l1: 0.268313\n",
      "[5]\tvalid_0's auc: 0.69906\tvalid_0's binary_logloss: 0.418493\tvalid_0's l1: 0.266233\n",
      "[6]\tvalid_0's auc: 0.699312\tvalid_0's binary_logloss: 0.416331\tvalid_0's l1: 0.264228\n",
      "[7]\tvalid_0's auc: 0.700302\tvalid_0's binary_logloss: 0.414711\tvalid_0's l1: 0.262773\n",
      "[8]\tvalid_0's auc: 0.700951\tvalid_0's binary_logloss: 0.413298\tvalid_0's l1: 0.261349\n",
      "[9]\tvalid_0's auc: 0.700855\tvalid_0's binary_logloss: 0.412281\tvalid_0's l1: 0.260206\n",
      "[10]\tvalid_0's auc: 0.700885\tvalid_0's binary_logloss: 0.411844\tvalid_0's l1: 0.259168\n",
      "[11]\tvalid_0's auc: 0.700786\tvalid_0's binary_logloss: 0.411426\tvalid_0's l1: 0.25821\n",
      "[12]\tvalid_0's auc: 0.700856\tvalid_0's binary_logloss: 0.411147\tvalid_0's l1: 0.257465\n",
      "[13]\tvalid_0's auc: 0.698645\tvalid_0's binary_logloss: 0.411296\tvalid_0's l1: 0.255197\n",
      "Early stopping, best iteration is:\n",
      "[8]\tvalid_0's auc: 0.700951\tvalid_0's binary_logloss: 0.413298\tvalid_0's l1: 0.261349\n"
     ]
    },
    {
     "name": "stderr",
     "output_type": "stream",
     "text": [
      "C:\\Users\\kaviy\\anaconda3\\lib\\site-packages\\sklearn\\utils\\validation.py:73: DataConversionWarning: A column-vector y was passed when a 1d array was expected. Please change the shape of y to (n_samples, ), for example using ravel().\n",
      "  return f(**kwargs)\n"
     ]
    },
    {
     "name": "stdout",
     "output_type": "stream",
     "text": [
      "[1]\tvalid_0's auc: 0.630879\tvalid_0's binary_logloss: 0.438902\tvalid_0's l1: 0.275277\n",
      "Training until validation scores don't improve for 5 rounds\n",
      "[2]\tvalid_0's auc: 0.686821\tvalid_0's binary_logloss: 0.431338\tvalid_0's l1: 0.272559\n",
      "[3]\tvalid_0's auc: 0.695052\tvalid_0's binary_logloss: 0.426035\tvalid_0's l1: 0.26945\n",
      "[4]\tvalid_0's auc: 0.696926\tvalid_0's binary_logloss: 0.422279\tvalid_0's l1: 0.26732\n",
      "[5]\tvalid_0's auc: 0.700627\tvalid_0's binary_logloss: 0.418577\tvalid_0's l1: 0.268176\n",
      "[6]\tvalid_0's auc: 0.69984\tvalid_0's binary_logloss: 0.416749\tvalid_0's l1: 0.265787\n",
      "[7]\tvalid_0's auc: 0.697485\tvalid_0's binary_logloss: 0.415105\tvalid_0's l1: 0.265037\n",
      "[8]\tvalid_0's auc: 0.69855\tvalid_0's binary_logloss: 0.413775\tvalid_0's l1: 0.262679\n",
      "[9]\tvalid_0's auc: 0.698226\tvalid_0's binary_logloss: 0.41317\tvalid_0's l1: 0.261985\n",
      "[10]\tvalid_0's auc: 0.698638\tvalid_0's binary_logloss: 0.412424\tvalid_0's l1: 0.260845\n",
      "Early stopping, best iteration is:\n",
      "[5]\tvalid_0's auc: 0.700627\tvalid_0's binary_logloss: 0.418577\tvalid_0's l1: 0.268176\n"
     ]
    },
    {
     "name": "stderr",
     "output_type": "stream",
     "text": [
      "C:\\Users\\kaviy\\anaconda3\\lib\\site-packages\\sklearn\\utils\\validation.py:73: DataConversionWarning: A column-vector y was passed when a 1d array was expected. Please change the shape of y to (n_samples, ), for example using ravel().\n",
      "  return f(**kwargs)\n"
     ]
    },
    {
     "name": "stdout",
     "output_type": "stream",
     "text": [
      "[1]\tvalid_0's auc: 0.694931\tvalid_0's binary_logloss: 0.436583\tvalid_0's l1: 0.27631\n",
      "Training until validation scores don't improve for 5 rounds\n",
      "[2]\tvalid_0's auc: 0.699627\tvalid_0's binary_logloss: 0.429358\tvalid_0's l1: 0.273236\n",
      "[3]\tvalid_0's auc: 0.700243\tvalid_0's binary_logloss: 0.424165\tvalid_0's l1: 0.27073\n",
      "[4]\tvalid_0's auc: 0.701388\tvalid_0's binary_logloss: 0.420305\tvalid_0's l1: 0.268026\n",
      "[5]\tvalid_0's auc: 0.703256\tvalid_0's binary_logloss: 0.417243\tvalid_0's l1: 0.265701\n",
      "[6]\tvalid_0's auc: 0.702051\tvalid_0's binary_logloss: 0.415396\tvalid_0's l1: 0.263993\n",
      "[7]\tvalid_0's auc: 0.703756\tvalid_0's binary_logloss: 0.413557\tvalid_0's l1: 0.262341\n",
      "[8]\tvalid_0's auc: 0.704877\tvalid_0's binary_logloss: 0.412374\tvalid_0's l1: 0.261173\n",
      "[9]\tvalid_0's auc: 0.705702\tvalid_0's binary_logloss: 0.41134\tvalid_0's l1: 0.259788\n",
      "[10]\tvalid_0's auc: 0.704958\tvalid_0's binary_logloss: 0.411118\tvalid_0's l1: 0.25795\n",
      "[11]\tvalid_0's auc: 0.704061\tvalid_0's binary_logloss: 0.410918\tvalid_0's l1: 0.256635\n",
      "[12]\tvalid_0's auc: 0.703488\tvalid_0's binary_logloss: 0.410806\tvalid_0's l1: 0.254926\n",
      "[13]\tvalid_0's auc: 0.704063\tvalid_0's binary_logloss: 0.410549\tvalid_0's l1: 0.25442\n",
      "[14]\tvalid_0's auc: 0.701905\tvalid_0's binary_logloss: 0.410973\tvalid_0's l1: 0.252911\n",
      "Early stopping, best iteration is:\n",
      "[9]\tvalid_0's auc: 0.705702\tvalid_0's binary_logloss: 0.41134\tvalid_0's l1: 0.259788\n"
     ]
    },
    {
     "name": "stderr",
     "output_type": "stream",
     "text": [
      "C:\\Users\\kaviy\\anaconda3\\lib\\site-packages\\sklearn\\utils\\validation.py:73: DataConversionWarning: A column-vector y was passed when a 1d array was expected. Please change the shape of y to (n_samples, ), for example using ravel().\n",
      "  return f(**kwargs)\n"
     ]
    },
    {
     "name": "stdout",
     "output_type": "stream",
     "text": [
      "[1]\tvalid_0's auc: 0.675029\tvalid_0's binary_logloss: 0.437448\tvalid_0's l1: 0.27538\n",
      "Training until validation scores don't improve for 5 rounds\n",
      "[2]\tvalid_0's auc: 0.698035\tvalid_0's binary_logloss: 0.429759\tvalid_0's l1: 0.273016\n",
      "[3]\tvalid_0's auc: 0.698468\tvalid_0's binary_logloss: 0.424763\tvalid_0's l1: 0.270168\n",
      "[4]\tvalid_0's auc: 0.698973\tvalid_0's binary_logloss: 0.421105\tvalid_0's l1: 0.268064\n",
      "[5]\tvalid_0's auc: 0.700574\tvalid_0's binary_logloss: 0.418024\tvalid_0's l1: 0.265908\n",
      "[6]\tvalid_0's auc: 0.700895\tvalid_0's binary_logloss: 0.416139\tvalid_0's l1: 0.264786\n",
      "[7]\tvalid_0's auc: 0.7026\tvalid_0's binary_logloss: 0.414307\tvalid_0's l1: 0.262891\n",
      "[8]\tvalid_0's auc: 0.702209\tvalid_0's binary_logloss: 0.413123\tvalid_0's l1: 0.260312\n",
      "[9]\tvalid_0's auc: 0.702542\tvalid_0's binary_logloss: 0.412242\tvalid_0's l1: 0.259119\n",
      "[10]\tvalid_0's auc: 0.702717\tvalid_0's binary_logloss: 0.411436\tvalid_0's l1: 0.25813\n",
      "[11]\tvalid_0's auc: 0.702078\tvalid_0's binary_logloss: 0.411126\tvalid_0's l1: 0.256314\n",
      "[12]\tvalid_0's auc: 0.701706\tvalid_0's binary_logloss: 0.411009\tvalid_0's l1: 0.254293\n",
      "[13]\tvalid_0's auc: 0.702507\tvalid_0's binary_logloss: 0.410736\tvalid_0's l1: 0.253762\n",
      "[14]\tvalid_0's auc: 0.702191\tvalid_0's binary_logloss: 0.410689\tvalid_0's l1: 0.253546\n",
      "[15]\tvalid_0's auc: 0.702624\tvalid_0's binary_logloss: 0.410443\tvalid_0's l1: 0.253031\n",
      "Early stopping, best iteration is:\n",
      "[10]\tvalid_0's auc: 0.702717\tvalid_0's binary_logloss: 0.411436\tvalid_0's l1: 0.25813\n"
     ]
    },
    {
     "name": "stderr",
     "output_type": "stream",
     "text": [
      "C:\\Users\\kaviy\\anaconda3\\lib\\site-packages\\sklearn\\utils\\validation.py:73: DataConversionWarning: A column-vector y was passed when a 1d array was expected. Please change the shape of y to (n_samples, ), for example using ravel().\n",
      "  return f(**kwargs)\n"
     ]
    },
    {
     "name": "stdout",
     "output_type": "stream",
     "text": [
      "[1]\tvalid_0's auc: 0.694609\tvalid_0's binary_logloss: 0.437026\tvalid_0's l1: 0.276859\n",
      "Training until validation scores don't improve for 5 rounds\n",
      "[2]\tvalid_0's auc: 0.699336\tvalid_0's binary_logloss: 0.429544\tvalid_0's l1: 0.273271\n",
      "[3]\tvalid_0's auc: 0.698725\tvalid_0's binary_logloss: 0.42457\tvalid_0's l1: 0.270597\n",
      "[4]\tvalid_0's auc: 0.701646\tvalid_0's binary_logloss: 0.420258\tvalid_0's l1: 0.268087\n",
      "[5]\tvalid_0's auc: 0.70222\tvalid_0's binary_logloss: 0.418018\tvalid_0's l1: 0.265608\n",
      "[6]\tvalid_0's auc: 0.702208\tvalid_0's binary_logloss: 0.415816\tvalid_0's l1: 0.263595\n",
      "[7]\tvalid_0's auc: 0.702763\tvalid_0's binary_logloss: 0.414091\tvalid_0's l1: 0.261843\n",
      "[8]\tvalid_0's auc: 0.703656\tvalid_0's binary_logloss: 0.412664\tvalid_0's l1: 0.260167\n",
      "[9]\tvalid_0's auc: 0.704624\tvalid_0's binary_logloss: 0.411515\tvalid_0's l1: 0.259186\n",
      "[10]\tvalid_0's auc: 0.704772\tvalid_0's binary_logloss: 0.4107\tvalid_0's l1: 0.258039\n",
      "[11]\tvalid_0's auc: 0.703914\tvalid_0's binary_logloss: 0.410475\tvalid_0's l1: 0.256426\n",
      "[12]\tvalid_0's auc: 0.704012\tvalid_0's binary_logloss: 0.410174\tvalid_0's l1: 0.255442\n",
      "[13]\tvalid_0's auc: 0.704168\tvalid_0's binary_logloss: 0.409884\tvalid_0's l1: 0.254662\n",
      "[14]\tvalid_0's auc: 0.703049\tvalid_0's binary_logloss: 0.409924\tvalid_0's l1: 0.253552\n",
      "[15]\tvalid_0's auc: 0.702729\tvalid_0's binary_logloss: 0.409911\tvalid_0's l1: 0.252979\n",
      "Early stopping, best iteration is:\n",
      "[10]\tvalid_0's auc: 0.704772\tvalid_0's binary_logloss: 0.4107\tvalid_0's l1: 0.258039\n"
     ]
    },
    {
     "name": "stderr",
     "output_type": "stream",
     "text": [
      "C:\\Users\\kaviy\\anaconda3\\lib\\site-packages\\sklearn\\utils\\validation.py:73: DataConversionWarning: A column-vector y was passed when a 1d array was expected. Please change the shape of y to (n_samples, ), for example using ravel().\n",
      "  return f(**kwargs)\n"
     ]
    },
    {
     "name": "stdout",
     "output_type": "stream",
     "text": [
      "[1]\tvalid_0's auc: 0.699268\tvalid_0's binary_logloss: 0.437003\tvalid_0's l1: 0.276986\n",
      "Training until validation scores don't improve for 5 rounds\n",
      "[2]\tvalid_0's auc: 0.696087\tvalid_0's binary_logloss: 0.430087\tvalid_0's l1: 0.273582\n",
      "[3]\tvalid_0's auc: 0.697156\tvalid_0's binary_logloss: 0.425043\tvalid_0's l1: 0.270858\n",
      "[4]\tvalid_0's auc: 0.697981\tvalid_0's binary_logloss: 0.42129\tvalid_0's l1: 0.268313\n",
      "[5]\tvalid_0's auc: 0.69906\tvalid_0's binary_logloss: 0.418493\tvalid_0's l1: 0.266233\n",
      "[6]\tvalid_0's auc: 0.699312\tvalid_0's binary_logloss: 0.416331\tvalid_0's l1: 0.264228\n",
      "[7]\tvalid_0's auc: 0.700302\tvalid_0's binary_logloss: 0.414711\tvalid_0's l1: 0.262773\n",
      "[8]\tvalid_0's auc: 0.700951\tvalid_0's binary_logloss: 0.413298\tvalid_0's l1: 0.261349\n",
      "[9]\tvalid_0's auc: 0.700855\tvalid_0's binary_logloss: 0.412281\tvalid_0's l1: 0.260206\n",
      "[10]\tvalid_0's auc: 0.700885\tvalid_0's binary_logloss: 0.411844\tvalid_0's l1: 0.259168\n",
      "[11]\tvalid_0's auc: 0.700786\tvalid_0's binary_logloss: 0.411426\tvalid_0's l1: 0.25821\n",
      "[12]\tvalid_0's auc: 0.700856\tvalid_0's binary_logloss: 0.411147\tvalid_0's l1: 0.257465\n",
      "[13]\tvalid_0's auc: 0.698645\tvalid_0's binary_logloss: 0.411296\tvalid_0's l1: 0.255197\n",
      "Early stopping, best iteration is:\n",
      "[8]\tvalid_0's auc: 0.700951\tvalid_0's binary_logloss: 0.413298\tvalid_0's l1: 0.261349\n"
     ]
    },
    {
     "name": "stderr",
     "output_type": "stream",
     "text": [
      "C:\\Users\\kaviy\\anaconda3\\lib\\site-packages\\sklearn\\utils\\validation.py:73: DataConversionWarning: A column-vector y was passed when a 1d array was expected. Please change the shape of y to (n_samples, ), for example using ravel().\n",
      "  return f(**kwargs)\n"
     ]
    },
    {
     "name": "stdout",
     "output_type": "stream",
     "text": [
      "[1]\tvalid_0's auc: 0.630879\tvalid_0's binary_logloss: 0.438902\tvalid_0's l1: 0.275277\n",
      "Training until validation scores don't improve for 5 rounds\n",
      "[2]\tvalid_0's auc: 0.686821\tvalid_0's binary_logloss: 0.431338\tvalid_0's l1: 0.272559\n",
      "[3]\tvalid_0's auc: 0.695052\tvalid_0's binary_logloss: 0.426035\tvalid_0's l1: 0.26945\n",
      "[4]\tvalid_0's auc: 0.696926\tvalid_0's binary_logloss: 0.422279\tvalid_0's l1: 0.26732\n",
      "[5]\tvalid_0's auc: 0.700627\tvalid_0's binary_logloss: 0.418577\tvalid_0's l1: 0.268176\n",
      "[6]\tvalid_0's auc: 0.69984\tvalid_0's binary_logloss: 0.416749\tvalid_0's l1: 0.265787\n",
      "[7]\tvalid_0's auc: 0.697485\tvalid_0's binary_logloss: 0.415105\tvalid_0's l1: 0.265037\n",
      "[8]\tvalid_0's auc: 0.69855\tvalid_0's binary_logloss: 0.413775\tvalid_0's l1: 0.262679\n",
      "[9]\tvalid_0's auc: 0.698226\tvalid_0's binary_logloss: 0.41317\tvalid_0's l1: 0.261985\n",
      "[10]\tvalid_0's auc: 0.698638\tvalid_0's binary_logloss: 0.412424\tvalid_0's l1: 0.260845\n",
      "Early stopping, best iteration is:\n",
      "[5]\tvalid_0's auc: 0.700627\tvalid_0's binary_logloss: 0.418577\tvalid_0's l1: 0.268176\n"
     ]
    },
    {
     "name": "stderr",
     "output_type": "stream",
     "text": [
      "C:\\Users\\kaviy\\anaconda3\\lib\\site-packages\\sklearn\\utils\\validation.py:73: DataConversionWarning: A column-vector y was passed when a 1d array was expected. Please change the shape of y to (n_samples, ), for example using ravel().\n",
      "  return f(**kwargs)\n"
     ]
    },
    {
     "name": "stdout",
     "output_type": "stream",
     "text": [
      "[1]\tvalid_0's auc: 0.694931\tvalid_0's binary_logloss: 0.436583\tvalid_0's l1: 0.27631\n",
      "Training until validation scores don't improve for 5 rounds\n",
      "[2]\tvalid_0's auc: 0.699627\tvalid_0's binary_logloss: 0.429358\tvalid_0's l1: 0.273236\n",
      "[3]\tvalid_0's auc: 0.700243\tvalid_0's binary_logloss: 0.424165\tvalid_0's l1: 0.27073\n",
      "[4]\tvalid_0's auc: 0.701388\tvalid_0's binary_logloss: 0.420305\tvalid_0's l1: 0.268026\n",
      "[5]\tvalid_0's auc: 0.703256\tvalid_0's binary_logloss: 0.417243\tvalid_0's l1: 0.265701\n",
      "[6]\tvalid_0's auc: 0.702051\tvalid_0's binary_logloss: 0.415396\tvalid_0's l1: 0.263993\n",
      "[7]\tvalid_0's auc: 0.703756\tvalid_0's binary_logloss: 0.413557\tvalid_0's l1: 0.262341\n",
      "[8]\tvalid_0's auc: 0.704877\tvalid_0's binary_logloss: 0.412374\tvalid_0's l1: 0.261173\n",
      "[9]\tvalid_0's auc: 0.705702\tvalid_0's binary_logloss: 0.41134\tvalid_0's l1: 0.259788\n",
      "[10]\tvalid_0's auc: 0.704958\tvalid_0's binary_logloss: 0.411118\tvalid_0's l1: 0.25795\n",
      "[11]\tvalid_0's auc: 0.704061\tvalid_0's binary_logloss: 0.410918\tvalid_0's l1: 0.256635\n",
      "[12]\tvalid_0's auc: 0.703488\tvalid_0's binary_logloss: 0.410806\tvalid_0's l1: 0.254926\n",
      "[13]\tvalid_0's auc: 0.704063\tvalid_0's binary_logloss: 0.410549\tvalid_0's l1: 0.25442\n",
      "[14]\tvalid_0's auc: 0.701905\tvalid_0's binary_logloss: 0.410973\tvalid_0's l1: 0.252911\n",
      "Early stopping, best iteration is:\n",
      "[9]\tvalid_0's auc: 0.705702\tvalid_0's binary_logloss: 0.41134\tvalid_0's l1: 0.259788\n"
     ]
    },
    {
     "name": "stderr",
     "output_type": "stream",
     "text": [
      "C:\\Users\\kaviy\\anaconda3\\lib\\site-packages\\sklearn\\utils\\validation.py:73: DataConversionWarning: A column-vector y was passed when a 1d array was expected. Please change the shape of y to (n_samples, ), for example using ravel().\n",
      "  return f(**kwargs)\n"
     ]
    },
    {
     "name": "stdout",
     "output_type": "stream",
     "text": [
      "[1]\tvalid_0's auc: 0.675029\tvalid_0's binary_logloss: 0.437448\tvalid_0's l1: 0.27538\n",
      "Training until validation scores don't improve for 5 rounds\n",
      "[2]\tvalid_0's auc: 0.698035\tvalid_0's binary_logloss: 0.429759\tvalid_0's l1: 0.273016\n",
      "[3]\tvalid_0's auc: 0.698468\tvalid_0's binary_logloss: 0.424763\tvalid_0's l1: 0.270168\n",
      "[4]\tvalid_0's auc: 0.698973\tvalid_0's binary_logloss: 0.421105\tvalid_0's l1: 0.268064\n",
      "[5]\tvalid_0's auc: 0.700574\tvalid_0's binary_logloss: 0.418024\tvalid_0's l1: 0.265908\n",
      "[6]\tvalid_0's auc: 0.700895\tvalid_0's binary_logloss: 0.416139\tvalid_0's l1: 0.264786\n",
      "[7]\tvalid_0's auc: 0.7026\tvalid_0's binary_logloss: 0.414307\tvalid_0's l1: 0.262891\n",
      "[8]\tvalid_0's auc: 0.702209\tvalid_0's binary_logloss: 0.413123\tvalid_0's l1: 0.260312\n",
      "[9]\tvalid_0's auc: 0.702542\tvalid_0's binary_logloss: 0.412242\tvalid_0's l1: 0.259119\n",
      "[10]\tvalid_0's auc: 0.702717\tvalid_0's binary_logloss: 0.411436\tvalid_0's l1: 0.25813\n",
      "[11]\tvalid_0's auc: 0.702078\tvalid_0's binary_logloss: 0.411126\tvalid_0's l1: 0.256314\n",
      "[12]\tvalid_0's auc: 0.701706\tvalid_0's binary_logloss: 0.411009\tvalid_0's l1: 0.254293\n",
      "[13]\tvalid_0's auc: 0.702507\tvalid_0's binary_logloss: 0.410736\tvalid_0's l1: 0.253762\n",
      "[14]\tvalid_0's auc: 0.702191\tvalid_0's binary_logloss: 0.410689\tvalid_0's l1: 0.253546\n",
      "[15]\tvalid_0's auc: 0.702624\tvalid_0's binary_logloss: 0.410443\tvalid_0's l1: 0.253031\n",
      "Early stopping, best iteration is:\n",
      "[10]\tvalid_0's auc: 0.702717\tvalid_0's binary_logloss: 0.411436\tvalid_0's l1: 0.25813\n"
     ]
    },
    {
     "name": "stderr",
     "output_type": "stream",
     "text": [
      "C:\\Users\\kaviy\\anaconda3\\lib\\site-packages\\sklearn\\utils\\validation.py:73: DataConversionWarning: A column-vector y was passed when a 1d array was expected. Please change the shape of y to (n_samples, ), for example using ravel().\n",
      "  return f(**kwargs)\n"
     ]
    },
    {
     "name": "stdout",
     "output_type": "stream",
     "text": [
      "[1]\tvalid_0's auc: 0.694609\tvalid_0's binary_logloss: 0.437026\tvalid_0's l1: 0.276859\n",
      "Training until validation scores don't improve for 5 rounds\n",
      "[2]\tvalid_0's auc: 0.699336\tvalid_0's binary_logloss: 0.429544\tvalid_0's l1: 0.273271\n",
      "[3]\tvalid_0's auc: 0.698725\tvalid_0's binary_logloss: 0.42457\tvalid_0's l1: 0.270597\n",
      "[4]\tvalid_0's auc: 0.701646\tvalid_0's binary_logloss: 0.420258\tvalid_0's l1: 0.268087\n",
      "[5]\tvalid_0's auc: 0.70222\tvalid_0's binary_logloss: 0.418018\tvalid_0's l1: 0.265608\n",
      "[6]\tvalid_0's auc: 0.702208\tvalid_0's binary_logloss: 0.415816\tvalid_0's l1: 0.263595\n",
      "[7]\tvalid_0's auc: 0.702763\tvalid_0's binary_logloss: 0.414091\tvalid_0's l1: 0.261843\n",
      "[8]\tvalid_0's auc: 0.703656\tvalid_0's binary_logloss: 0.412664\tvalid_0's l1: 0.260167\n",
      "[9]\tvalid_0's auc: 0.704624\tvalid_0's binary_logloss: 0.411515\tvalid_0's l1: 0.259186\n",
      "[10]\tvalid_0's auc: 0.704772\tvalid_0's binary_logloss: 0.4107\tvalid_0's l1: 0.258039\n",
      "[11]\tvalid_0's auc: 0.703914\tvalid_0's binary_logloss: 0.410475\tvalid_0's l1: 0.256426\n",
      "[12]\tvalid_0's auc: 0.704012\tvalid_0's binary_logloss: 0.410174\tvalid_0's l1: 0.255442\n",
      "[13]\tvalid_0's auc: 0.704168\tvalid_0's binary_logloss: 0.409884\tvalid_0's l1: 0.254662\n",
      "[14]\tvalid_0's auc: 0.703049\tvalid_0's binary_logloss: 0.409924\tvalid_0's l1: 0.253552\n",
      "[15]\tvalid_0's auc: 0.702729\tvalid_0's binary_logloss: 0.409911\tvalid_0's l1: 0.252979\n",
      "Early stopping, best iteration is:\n",
      "[10]\tvalid_0's auc: 0.704772\tvalid_0's binary_logloss: 0.4107\tvalid_0's l1: 0.258039\n"
     ]
    },
    {
     "name": "stderr",
     "output_type": "stream",
     "text": [
      "C:\\Users\\kaviy\\anaconda3\\lib\\site-packages\\sklearn\\utils\\validation.py:73: DataConversionWarning: A column-vector y was passed when a 1d array was expected. Please change the shape of y to (n_samples, ), for example using ravel().\n",
      "  return f(**kwargs)\n"
     ]
    },
    {
     "name": "stdout",
     "output_type": "stream",
     "text": [
      "[1]\tvalid_0's auc: 0.699268\tvalid_0's binary_logloss: 0.437003\tvalid_0's l1: 0.276986\n",
      "Training until validation scores don't improve for 5 rounds\n",
      "[2]\tvalid_0's auc: 0.696087\tvalid_0's binary_logloss: 0.430087\tvalid_0's l1: 0.273582\n",
      "[3]\tvalid_0's auc: 0.697156\tvalid_0's binary_logloss: 0.425043\tvalid_0's l1: 0.270858\n",
      "[4]\tvalid_0's auc: 0.697981\tvalid_0's binary_logloss: 0.42129\tvalid_0's l1: 0.268313\n",
      "[5]\tvalid_0's auc: 0.69906\tvalid_0's binary_logloss: 0.418493\tvalid_0's l1: 0.266233\n",
      "[6]\tvalid_0's auc: 0.699312\tvalid_0's binary_logloss: 0.416331\tvalid_0's l1: 0.264228\n",
      "[7]\tvalid_0's auc: 0.700302\tvalid_0's binary_logloss: 0.414711\tvalid_0's l1: 0.262773\n",
      "[8]\tvalid_0's auc: 0.700951\tvalid_0's binary_logloss: 0.413298\tvalid_0's l1: 0.261349\n",
      "[9]\tvalid_0's auc: 0.700855\tvalid_0's binary_logloss: 0.412281\tvalid_0's l1: 0.260206\n",
      "[10]\tvalid_0's auc: 0.700885\tvalid_0's binary_logloss: 0.411844\tvalid_0's l1: 0.259168\n",
      "[11]\tvalid_0's auc: 0.700786\tvalid_0's binary_logloss: 0.411426\tvalid_0's l1: 0.25821\n",
      "[12]\tvalid_0's auc: 0.700856\tvalid_0's binary_logloss: 0.411147\tvalid_0's l1: 0.257465\n",
      "[13]\tvalid_0's auc: 0.698645\tvalid_0's binary_logloss: 0.411296\tvalid_0's l1: 0.255197\n",
      "Early stopping, best iteration is:\n",
      "[8]\tvalid_0's auc: 0.700951\tvalid_0's binary_logloss: 0.413298\tvalid_0's l1: 0.261349\n"
     ]
    },
    {
     "name": "stderr",
     "output_type": "stream",
     "text": [
      "C:\\Users\\kaviy\\anaconda3\\lib\\site-packages\\sklearn\\utils\\validation.py:73: DataConversionWarning: A column-vector y was passed when a 1d array was expected. Please change the shape of y to (n_samples, ), for example using ravel().\n",
      "  return f(**kwargs)\n"
     ]
    },
    {
     "name": "stdout",
     "output_type": "stream",
     "text": [
      "[1]\tvalid_0's auc: 0.630879\tvalid_0's binary_logloss: 0.438902\tvalid_0's l1: 0.275277\n",
      "Training until validation scores don't improve for 5 rounds\n",
      "[2]\tvalid_0's auc: 0.686821\tvalid_0's binary_logloss: 0.431338\tvalid_0's l1: 0.272559\n",
      "[3]\tvalid_0's auc: 0.695052\tvalid_0's binary_logloss: 0.426035\tvalid_0's l1: 0.26945\n",
      "[4]\tvalid_0's auc: 0.696926\tvalid_0's binary_logloss: 0.422279\tvalid_0's l1: 0.26732\n",
      "[5]\tvalid_0's auc: 0.700627\tvalid_0's binary_logloss: 0.418577\tvalid_0's l1: 0.268176\n",
      "[6]\tvalid_0's auc: 0.69984\tvalid_0's binary_logloss: 0.416749\tvalid_0's l1: 0.265787\n",
      "[7]\tvalid_0's auc: 0.697485\tvalid_0's binary_logloss: 0.415105\tvalid_0's l1: 0.265037\n",
      "[8]\tvalid_0's auc: 0.69855\tvalid_0's binary_logloss: 0.413775\tvalid_0's l1: 0.262679\n",
      "[9]\tvalid_0's auc: 0.698226\tvalid_0's binary_logloss: 0.41317\tvalid_0's l1: 0.261985\n",
      "[10]\tvalid_0's auc: 0.698638\tvalid_0's binary_logloss: 0.412424\tvalid_0's l1: 0.260845\n",
      "Early stopping, best iteration is:\n",
      "[5]\tvalid_0's auc: 0.700627\tvalid_0's binary_logloss: 0.418577\tvalid_0's l1: 0.268176\n"
     ]
    },
    {
     "name": "stderr",
     "output_type": "stream",
     "text": [
      "C:\\Users\\kaviy\\anaconda3\\lib\\site-packages\\sklearn\\utils\\validation.py:73: DataConversionWarning: A column-vector y was passed when a 1d array was expected. Please change the shape of y to (n_samples, ), for example using ravel().\n",
      "  return f(**kwargs)\n"
     ]
    },
    {
     "name": "stdout",
     "output_type": "stream",
     "text": [
      "[1]\tvalid_0's auc: 0.694931\tvalid_0's binary_logloss: 0.436583\tvalid_0's l1: 0.27631\n",
      "Training until validation scores don't improve for 5 rounds\n",
      "[2]\tvalid_0's auc: 0.699627\tvalid_0's binary_logloss: 0.429358\tvalid_0's l1: 0.273236\n",
      "[3]\tvalid_0's auc: 0.700243\tvalid_0's binary_logloss: 0.424165\tvalid_0's l1: 0.27073\n",
      "[4]\tvalid_0's auc: 0.701388\tvalid_0's binary_logloss: 0.420305\tvalid_0's l1: 0.268026\n",
      "[5]\tvalid_0's auc: 0.703256\tvalid_0's binary_logloss: 0.417243\tvalid_0's l1: 0.265701\n",
      "[6]\tvalid_0's auc: 0.702051\tvalid_0's binary_logloss: 0.415396\tvalid_0's l1: 0.263993\n",
      "[7]\tvalid_0's auc: 0.703756\tvalid_0's binary_logloss: 0.413557\tvalid_0's l1: 0.262341\n",
      "[8]\tvalid_0's auc: 0.704877\tvalid_0's binary_logloss: 0.412374\tvalid_0's l1: 0.261173\n",
      "[9]\tvalid_0's auc: 0.705702\tvalid_0's binary_logloss: 0.41134\tvalid_0's l1: 0.259788\n",
      "[10]\tvalid_0's auc: 0.704958\tvalid_0's binary_logloss: 0.411118\tvalid_0's l1: 0.25795\n",
      "[11]\tvalid_0's auc: 0.704061\tvalid_0's binary_logloss: 0.410918\tvalid_0's l1: 0.256635\n",
      "[12]\tvalid_0's auc: 0.703488\tvalid_0's binary_logloss: 0.410806\tvalid_0's l1: 0.254926\n",
      "[13]\tvalid_0's auc: 0.704063\tvalid_0's binary_logloss: 0.410549\tvalid_0's l1: 0.25442\n",
      "[14]\tvalid_0's auc: 0.701905\tvalid_0's binary_logloss: 0.410973\tvalid_0's l1: 0.252911\n",
      "Early stopping, best iteration is:\n",
      "[9]\tvalid_0's auc: 0.705702\tvalid_0's binary_logloss: 0.41134\tvalid_0's l1: 0.259788\n"
     ]
    },
    {
     "name": "stderr",
     "output_type": "stream",
     "text": [
      "C:\\Users\\kaviy\\anaconda3\\lib\\site-packages\\sklearn\\utils\\validation.py:73: DataConversionWarning: A column-vector y was passed when a 1d array was expected. Please change the shape of y to (n_samples, ), for example using ravel().\n",
      "  return f(**kwargs)\n"
     ]
    },
    {
     "name": "stdout",
     "output_type": "stream",
     "text": [
      "[1]\tvalid_0's auc: 0.675029\tvalid_0's binary_logloss: 0.437448\tvalid_0's l1: 0.27538\n",
      "Training until validation scores don't improve for 5 rounds\n",
      "[2]\tvalid_0's auc: 0.698035\tvalid_0's binary_logloss: 0.429759\tvalid_0's l1: 0.273016\n",
      "[3]\tvalid_0's auc: 0.698468\tvalid_0's binary_logloss: 0.424763\tvalid_0's l1: 0.270168\n",
      "[4]\tvalid_0's auc: 0.698973\tvalid_0's binary_logloss: 0.421105\tvalid_0's l1: 0.268064\n",
      "[5]\tvalid_0's auc: 0.700574\tvalid_0's binary_logloss: 0.418024\tvalid_0's l1: 0.265908\n",
      "[6]\tvalid_0's auc: 0.700895\tvalid_0's binary_logloss: 0.416139\tvalid_0's l1: 0.264786\n",
      "[7]\tvalid_0's auc: 0.7026\tvalid_0's binary_logloss: 0.414307\tvalid_0's l1: 0.262891\n",
      "[8]\tvalid_0's auc: 0.702209\tvalid_0's binary_logloss: 0.413123\tvalid_0's l1: 0.260312\n",
      "[9]\tvalid_0's auc: 0.702542\tvalid_0's binary_logloss: 0.412242\tvalid_0's l1: 0.259119\n",
      "[10]\tvalid_0's auc: 0.702717\tvalid_0's binary_logloss: 0.411436\tvalid_0's l1: 0.25813\n",
      "[11]\tvalid_0's auc: 0.702078\tvalid_0's binary_logloss: 0.411126\tvalid_0's l1: 0.256314\n",
      "[12]\tvalid_0's auc: 0.701706\tvalid_0's binary_logloss: 0.411009\tvalid_0's l1: 0.254293\n",
      "[13]\tvalid_0's auc: 0.702507\tvalid_0's binary_logloss: 0.410736\tvalid_0's l1: 0.253762\n",
      "[14]\tvalid_0's auc: 0.702191\tvalid_0's binary_logloss: 0.410689\tvalid_0's l1: 0.253546\n",
      "[15]\tvalid_0's auc: 0.702624\tvalid_0's binary_logloss: 0.410443\tvalid_0's l1: 0.253031\n",
      "Early stopping, best iteration is:\n",
      "[10]\tvalid_0's auc: 0.702717\tvalid_0's binary_logloss: 0.411436\tvalid_0's l1: 0.25813\n"
     ]
    },
    {
     "name": "stderr",
     "output_type": "stream",
     "text": [
      "C:\\Users\\kaviy\\anaconda3\\lib\\site-packages\\sklearn\\utils\\validation.py:73: DataConversionWarning: A column-vector y was passed when a 1d array was expected. Please change the shape of y to (n_samples, ), for example using ravel().\n",
      "  return f(**kwargs)\n"
     ]
    },
    {
     "name": "stdout",
     "output_type": "stream",
     "text": [
      "[1]\tvalid_0's auc: 0.694609\tvalid_0's binary_logloss: 0.437026\tvalid_0's l1: 0.276859\n",
      "Training until validation scores don't improve for 5 rounds\n",
      "[2]\tvalid_0's auc: 0.699336\tvalid_0's binary_logloss: 0.429544\tvalid_0's l1: 0.273271\n",
      "[3]\tvalid_0's auc: 0.698725\tvalid_0's binary_logloss: 0.42457\tvalid_0's l1: 0.270597\n",
      "[4]\tvalid_0's auc: 0.701646\tvalid_0's binary_logloss: 0.420258\tvalid_0's l1: 0.268087\n",
      "[5]\tvalid_0's auc: 0.70222\tvalid_0's binary_logloss: 0.418018\tvalid_0's l1: 0.265608\n",
      "[6]\tvalid_0's auc: 0.702208\tvalid_0's binary_logloss: 0.415816\tvalid_0's l1: 0.263595\n",
      "[7]\tvalid_0's auc: 0.702763\tvalid_0's binary_logloss: 0.414091\tvalid_0's l1: 0.261843\n",
      "[8]\tvalid_0's auc: 0.703656\tvalid_0's binary_logloss: 0.412664\tvalid_0's l1: 0.260167\n",
      "[9]\tvalid_0's auc: 0.704624\tvalid_0's binary_logloss: 0.411515\tvalid_0's l1: 0.259186\n",
      "[10]\tvalid_0's auc: 0.704772\tvalid_0's binary_logloss: 0.4107\tvalid_0's l1: 0.258039\n",
      "[11]\tvalid_0's auc: 0.703914\tvalid_0's binary_logloss: 0.410475\tvalid_0's l1: 0.256426\n",
      "[12]\tvalid_0's auc: 0.704012\tvalid_0's binary_logloss: 0.410174\tvalid_0's l1: 0.255442\n",
      "[13]\tvalid_0's auc: 0.704168\tvalid_0's binary_logloss: 0.409884\tvalid_0's l1: 0.254662\n",
      "[14]\tvalid_0's auc: 0.703049\tvalid_0's binary_logloss: 0.409924\tvalid_0's l1: 0.253552\n",
      "[15]\tvalid_0's auc: 0.702729\tvalid_0's binary_logloss: 0.409911\tvalid_0's l1: 0.252979\n",
      "Early stopping, best iteration is:\n",
      "[10]\tvalid_0's auc: 0.704772\tvalid_0's binary_logloss: 0.4107\tvalid_0's l1: 0.258039\n"
     ]
    },
    {
     "name": "stderr",
     "output_type": "stream",
     "text": [
      "C:\\Users\\kaviy\\anaconda3\\lib\\site-packages\\sklearn\\utils\\validation.py:73: DataConversionWarning: A column-vector y was passed when a 1d array was expected. Please change the shape of y to (n_samples, ), for example using ravel().\n",
      "  return f(**kwargs)\n"
     ]
    },
    {
     "name": "stdout",
     "output_type": "stream",
     "text": [
      "[1]\tvalid_0's auc: 0.699268\tvalid_0's binary_logloss: 0.437003\tvalid_0's l1: 0.276986\n",
      "Training until validation scores don't improve for 5 rounds\n",
      "[2]\tvalid_0's auc: 0.696087\tvalid_0's binary_logloss: 0.430087\tvalid_0's l1: 0.273582\n",
      "[3]\tvalid_0's auc: 0.697156\tvalid_0's binary_logloss: 0.425043\tvalid_0's l1: 0.270858\n",
      "[4]\tvalid_0's auc: 0.697981\tvalid_0's binary_logloss: 0.42129\tvalid_0's l1: 0.268313\n",
      "[5]\tvalid_0's auc: 0.69906\tvalid_0's binary_logloss: 0.418493\tvalid_0's l1: 0.266233\n",
      "[6]\tvalid_0's auc: 0.699312\tvalid_0's binary_logloss: 0.416331\tvalid_0's l1: 0.264228\n",
      "[7]\tvalid_0's auc: 0.700302\tvalid_0's binary_logloss: 0.414711\tvalid_0's l1: 0.262773\n",
      "[8]\tvalid_0's auc: 0.700951\tvalid_0's binary_logloss: 0.413298\tvalid_0's l1: 0.261349\n",
      "[9]\tvalid_0's auc: 0.700855\tvalid_0's binary_logloss: 0.412281\tvalid_0's l1: 0.260206\n",
      "[10]\tvalid_0's auc: 0.700885\tvalid_0's binary_logloss: 0.411844\tvalid_0's l1: 0.259168\n",
      "[11]\tvalid_0's auc: 0.700786\tvalid_0's binary_logloss: 0.411426\tvalid_0's l1: 0.25821\n",
      "[12]\tvalid_0's auc: 0.700856\tvalid_0's binary_logloss: 0.411147\tvalid_0's l1: 0.257465\n",
      "[13]\tvalid_0's auc: 0.698645\tvalid_0's binary_logloss: 0.411296\tvalid_0's l1: 0.255197\n",
      "Early stopping, best iteration is:\n",
      "[8]\tvalid_0's auc: 0.700951\tvalid_0's binary_logloss: 0.413298\tvalid_0's l1: 0.261349\n"
     ]
    },
    {
     "name": "stderr",
     "output_type": "stream",
     "text": [
      "C:\\Users\\kaviy\\anaconda3\\lib\\site-packages\\sklearn\\utils\\validation.py:73: DataConversionWarning: A column-vector y was passed when a 1d array was expected. Please change the shape of y to (n_samples, ), for example using ravel().\n",
      "  return f(**kwargs)\n"
     ]
    },
    {
     "name": "stdout",
     "output_type": "stream",
     "text": [
      "[1]\tvalid_0's auc: 0.630879\tvalid_0's binary_logloss: 0.438902\tvalid_0's l1: 0.275277\n",
      "Training until validation scores don't improve for 5 rounds\n",
      "[2]\tvalid_0's auc: 0.686821\tvalid_0's binary_logloss: 0.431338\tvalid_0's l1: 0.272559\n",
      "[3]\tvalid_0's auc: 0.695052\tvalid_0's binary_logloss: 0.426035\tvalid_0's l1: 0.26945\n",
      "[4]\tvalid_0's auc: 0.696926\tvalid_0's binary_logloss: 0.422279\tvalid_0's l1: 0.26732\n",
      "[5]\tvalid_0's auc: 0.700627\tvalid_0's binary_logloss: 0.418577\tvalid_0's l1: 0.268176\n",
      "[6]\tvalid_0's auc: 0.69984\tvalid_0's binary_logloss: 0.416749\tvalid_0's l1: 0.265787\n",
      "[7]\tvalid_0's auc: 0.697485\tvalid_0's binary_logloss: 0.415105\tvalid_0's l1: 0.265037\n",
      "[8]\tvalid_0's auc: 0.69855\tvalid_0's binary_logloss: 0.413775\tvalid_0's l1: 0.262679\n",
      "[9]\tvalid_0's auc: 0.698226\tvalid_0's binary_logloss: 0.41317\tvalid_0's l1: 0.261985\n",
      "[10]\tvalid_0's auc: 0.698638\tvalid_0's binary_logloss: 0.412424\tvalid_0's l1: 0.260845\n",
      "Early stopping, best iteration is:\n",
      "[5]\tvalid_0's auc: 0.700627\tvalid_0's binary_logloss: 0.418577\tvalid_0's l1: 0.268176\n"
     ]
    },
    {
     "name": "stderr",
     "output_type": "stream",
     "text": [
      "C:\\Users\\kaviy\\anaconda3\\lib\\site-packages\\sklearn\\utils\\validation.py:73: DataConversionWarning: A column-vector y was passed when a 1d array was expected. Please change the shape of y to (n_samples, ), for example using ravel().\n",
      "  return f(**kwargs)\n"
     ]
    },
    {
     "name": "stdout",
     "output_type": "stream",
     "text": [
      "[1]\tvalid_0's auc: 0.694931\tvalid_0's binary_logloss: 0.434955\tvalid_0's l1: 0.275657\n",
      "Training until validation scores don't improve for 5 rounds\n",
      "[2]\tvalid_0's auc: 0.698024\tvalid_0's binary_logloss: 0.427442\tvalid_0's l1: 0.272275\n",
      "[3]\tvalid_0's auc: 0.700583\tvalid_0's binary_logloss: 0.421974\tvalid_0's l1: 0.268915\n",
      "[4]\tvalid_0's auc: 0.702559\tvalid_0's binary_logloss: 0.418186\tvalid_0's l1: 0.265995\n",
      "[5]\tvalid_0's auc: 0.702039\tvalid_0's binary_logloss: 0.415704\tvalid_0's l1: 0.263799\n",
      "[6]\tvalid_0's auc: 0.701615\tvalid_0's binary_logloss: 0.413832\tvalid_0's l1: 0.261895\n",
      "[7]\tvalid_0's auc: 0.704146\tvalid_0's binary_logloss: 0.412388\tvalid_0's l1: 0.26025\n",
      "[8]\tvalid_0's auc: 0.702962\tvalid_0's binary_logloss: 0.411657\tvalid_0's l1: 0.258177\n",
      "[9]\tvalid_0's auc: 0.701566\tvalid_0's binary_logloss: 0.411615\tvalid_0's l1: 0.256761\n",
      "[10]\tvalid_0's auc: 0.70107\tvalid_0's binary_logloss: 0.411512\tvalid_0's l1: 0.255136\n",
      "[11]\tvalid_0's auc: 0.699103\tvalid_0's binary_logloss: 0.41204\tvalid_0's l1: 0.253234\n",
      "[12]\tvalid_0's auc: 0.69916\tvalid_0's binary_logloss: 0.411769\tvalid_0's l1: 0.252338\n",
      "Early stopping, best iteration is:\n",
      "[7]\tvalid_0's auc: 0.704146\tvalid_0's binary_logloss: 0.412388\tvalid_0's l1: 0.26025\n"
     ]
    },
    {
     "name": "stderr",
     "output_type": "stream",
     "text": [
      "C:\\Users\\kaviy\\anaconda3\\lib\\site-packages\\sklearn\\utils\\validation.py:73: DataConversionWarning: A column-vector y was passed when a 1d array was expected. Please change the shape of y to (n_samples, ), for example using ravel().\n",
      "  return f(**kwargs)\n"
     ]
    },
    {
     "name": "stdout",
     "output_type": "stream",
     "text": [
      "[1]\tvalid_0's auc: 0.675029\tvalid_0's binary_logloss: 0.435963\tvalid_0's l1: 0.274566\n",
      "Training until validation scores don't improve for 5 rounds\n",
      "[2]\tvalid_0's auc: 0.699567\tvalid_0's binary_logloss: 0.427349\tvalid_0's l1: 0.272011\n",
      "[3]\tvalid_0's auc: 0.699486\tvalid_0's binary_logloss: 0.422208\tvalid_0's l1: 0.26891\n",
      "[4]\tvalid_0's auc: 0.700192\tvalid_0's binary_logloss: 0.41856\tvalid_0's l1: 0.265777\n",
      "[5]\tvalid_0's auc: 0.70199\tvalid_0's binary_logloss: 0.416065\tvalid_0's l1: 0.263391\n",
      "[6]\tvalid_0's auc: 0.701584\tvalid_0's binary_logloss: 0.414338\tvalid_0's l1: 0.261535\n",
      "[7]\tvalid_0's auc: 0.702289\tvalid_0's binary_logloss: 0.412662\tvalid_0's l1: 0.259422\n",
      "[8]\tvalid_0's auc: 0.703811\tvalid_0's binary_logloss: 0.411413\tvalid_0's l1: 0.258007\n",
      "[9]\tvalid_0's auc: 0.70413\tvalid_0's binary_logloss: 0.410689\tvalid_0's l1: 0.25701\n",
      "[10]\tvalid_0's auc: 0.703443\tvalid_0's binary_logloss: 0.410484\tvalid_0's l1: 0.255084\n",
      "[11]\tvalid_0's auc: 0.703792\tvalid_0's binary_logloss: 0.410556\tvalid_0's l1: 0.252791\n",
      "[12]\tvalid_0's auc: 0.70338\tvalid_0's binary_logloss: 0.41043\tvalid_0's l1: 0.252499\n",
      "[13]\tvalid_0's auc: 0.702997\tvalid_0's binary_logloss: 0.410528\tvalid_0's l1: 0.251885\n",
      "[14]\tvalid_0's auc: 0.702709\tvalid_0's binary_logloss: 0.41069\tvalid_0's l1: 0.250655\n",
      "Early stopping, best iteration is:\n",
      "[9]\tvalid_0's auc: 0.70413\tvalid_0's binary_logloss: 0.410689\tvalid_0's l1: 0.25701\n"
     ]
    },
    {
     "name": "stderr",
     "output_type": "stream",
     "text": [
      "C:\\Users\\kaviy\\anaconda3\\lib\\site-packages\\sklearn\\utils\\validation.py:73: DataConversionWarning: A column-vector y was passed when a 1d array was expected. Please change the shape of y to (n_samples, ), for example using ravel().\n",
      "  return f(**kwargs)\n"
     ]
    },
    {
     "name": "stdout",
     "output_type": "stream",
     "text": [
      "[1]\tvalid_0's auc: 0.694609\tvalid_0's binary_logloss: 0.435461\tvalid_0's l1: 0.276292\n",
      "Training until validation scores don't improve for 5 rounds\n",
      "[2]\tvalid_0's auc: 0.69923\tvalid_0's binary_logloss: 0.427844\tvalid_0's l1: 0.27242\n",
      "[3]\tvalid_0's auc: 0.700131\tvalid_0's binary_logloss: 0.422448\tvalid_0's l1: 0.269379\n",
      "[4]\tvalid_0's auc: 0.701943\tvalid_0's binary_logloss: 0.418606\tvalid_0's l1: 0.266823\n",
      "[5]\tvalid_0's auc: 0.701628\tvalid_0's binary_logloss: 0.415833\tvalid_0's l1: 0.264657\n",
      "[6]\tvalid_0's auc: 0.703384\tvalid_0's binary_logloss: 0.413634\tvalid_0's l1: 0.262125\n",
      "[7]\tvalid_0's auc: 0.704249\tvalid_0's binary_logloss: 0.412334\tvalid_0's l1: 0.260937\n",
      "[8]\tvalid_0's auc: 0.70348\tvalid_0's binary_logloss: 0.41157\tvalid_0's l1: 0.258768\n",
      "[9]\tvalid_0's auc: 0.704255\tvalid_0's binary_logloss: 0.410866\tvalid_0's l1: 0.257457\n",
      "[10]\tvalid_0's auc: 0.703385\tvalid_0's binary_logloss: 0.410661\tvalid_0's l1: 0.25579\n",
      "[11]\tvalid_0's auc: 0.704037\tvalid_0's binary_logloss: 0.410094\tvalid_0's l1: 0.255011\n",
      "[12]\tvalid_0's auc: 0.703321\tvalid_0's binary_logloss: 0.410209\tvalid_0's l1: 0.252877\n",
      "[13]\tvalid_0's auc: 0.702996\tvalid_0's binary_logloss: 0.410129\tvalid_0's l1: 0.25277\n",
      "[14]\tvalid_0's auc: 0.703016\tvalid_0's binary_logloss: 0.410023\tvalid_0's l1: 0.251547\n",
      "Early stopping, best iteration is:\n",
      "[9]\tvalid_0's auc: 0.704255\tvalid_0's binary_logloss: 0.410866\tvalid_0's l1: 0.257457\n"
     ]
    },
    {
     "name": "stderr",
     "output_type": "stream",
     "text": [
      "C:\\Users\\kaviy\\anaconda3\\lib\\site-packages\\sklearn\\utils\\validation.py:73: DataConversionWarning: A column-vector y was passed when a 1d array was expected. Please change the shape of y to (n_samples, ), for example using ravel().\n",
      "  return f(**kwargs)\n"
     ]
    },
    {
     "name": "stdout",
     "output_type": "stream",
     "text": [
      "[1]\tvalid_0's auc: 0.699268\tvalid_0's binary_logloss: 0.435431\tvalid_0's l1: 0.276434\n",
      "Training until validation scores don't improve for 5 rounds\n",
      "[2]\tvalid_0's auc: 0.695065\tvalid_0's binary_logloss: 0.428233\tvalid_0's l1: 0.272712\n",
      "[3]\tvalid_0's auc: 0.697954\tvalid_0's binary_logloss: 0.422945\tvalid_0's l1: 0.26906\n",
      "[4]\tvalid_0's auc: 0.700358\tvalid_0's binary_logloss: 0.419021\tvalid_0's l1: 0.266382\n",
      "[5]\tvalid_0's auc: 0.699787\tvalid_0's binary_logloss: 0.416488\tvalid_0's l1: 0.263795\n",
      "[6]\tvalid_0's auc: 0.701224\tvalid_0's binary_logloss: 0.414565\tvalid_0's l1: 0.262287\n",
      "[7]\tvalid_0's auc: 0.701773\tvalid_0's binary_logloss: 0.412951\tvalid_0's l1: 0.260572\n",
      "[8]\tvalid_0's auc: 0.702337\tvalid_0's binary_logloss: 0.412056\tvalid_0's l1: 0.259905\n",
      "[9]\tvalid_0's auc: 0.702049\tvalid_0's binary_logloss: 0.411645\tvalid_0's l1: 0.257942\n",
      "[10]\tvalid_0's auc: 0.70192\tvalid_0's binary_logloss: 0.411174\tvalid_0's l1: 0.256911\n",
      "[11]\tvalid_0's auc: 0.70089\tvalid_0's binary_logloss: 0.411135\tvalid_0's l1: 0.256384\n",
      "[12]\tvalid_0's auc: 0.700017\tvalid_0's binary_logloss: 0.411105\tvalid_0's l1: 0.254758\n",
      "[13]\tvalid_0's auc: 0.700915\tvalid_0's binary_logloss: 0.410834\tvalid_0's l1: 0.254309\n",
      "Early stopping, best iteration is:\n",
      "[8]\tvalid_0's auc: 0.702337\tvalid_0's binary_logloss: 0.412056\tvalid_0's l1: 0.259905\n"
     ]
    },
    {
     "name": "stderr",
     "output_type": "stream",
     "text": [
      "C:\\Users\\kaviy\\anaconda3\\lib\\site-packages\\sklearn\\utils\\validation.py:73: DataConversionWarning: A column-vector y was passed when a 1d array was expected. Please change the shape of y to (n_samples, ), for example using ravel().\n",
      "  return f(**kwargs)\n"
     ]
    },
    {
     "name": "stdout",
     "output_type": "stream",
     "text": [
      "[1]\tvalid_0's auc: 0.630879\tvalid_0's binary_logloss: 0.437653\tvalid_0's l1: 0.274448\n",
      "Training until validation scores don't improve for 5 rounds\n",
      "[2]\tvalid_0's auc: 0.687164\tvalid_0's binary_logloss: 0.429642\tvalid_0's l1: 0.27157\n",
      "[3]\tvalid_0's auc: 0.691545\tvalid_0's binary_logloss: 0.424311\tvalid_0's l1: 0.268204\n",
      "[4]\tvalid_0's auc: 0.696574\tvalid_0's binary_logloss: 0.41998\tvalid_0's l1: 0.268702\n",
      "[5]\tvalid_0's auc: 0.698128\tvalid_0's binary_logloss: 0.41735\tvalid_0's l1: 0.266315\n",
      "[6]\tvalid_0's auc: 0.696219\tvalid_0's binary_logloss: 0.41559\tvalid_0's l1: 0.26546\n",
      "[7]\tvalid_0's auc: 0.695916\tvalid_0's binary_logloss: 0.413945\tvalid_0's l1: 0.262893\n",
      "[8]\tvalid_0's auc: 0.697044\tvalid_0's binary_logloss: 0.412823\tvalid_0's l1: 0.261291\n",
      "[9]\tvalid_0's auc: 0.695552\tvalid_0's binary_logloss: 0.413117\tvalid_0's l1: 0.264528\n",
      "[10]\tvalid_0's auc: 0.697027\tvalid_0's binary_logloss: 0.412583\tvalid_0's l1: 0.263928\n",
      "Early stopping, best iteration is:\n",
      "[5]\tvalid_0's auc: 0.698128\tvalid_0's binary_logloss: 0.41735\tvalid_0's l1: 0.266315\n"
     ]
    },
    {
     "name": "stderr",
     "output_type": "stream",
     "text": [
      "C:\\Users\\kaviy\\anaconda3\\lib\\site-packages\\sklearn\\utils\\validation.py:73: DataConversionWarning: A column-vector y was passed when a 1d array was expected. Please change the shape of y to (n_samples, ), for example using ravel().\n",
      "  return f(**kwargs)\n"
     ]
    },
    {
     "name": "stdout",
     "output_type": "stream",
     "text": [
      "[1]\tvalid_0's auc: 0.694931\tvalid_0's binary_logloss: 0.434955\tvalid_0's l1: 0.275657\n",
      "Training until validation scores don't improve for 5 rounds\n",
      "[2]\tvalid_0's auc: 0.698024\tvalid_0's binary_logloss: 0.427442\tvalid_0's l1: 0.272275\n",
      "[3]\tvalid_0's auc: 0.700583\tvalid_0's binary_logloss: 0.421974\tvalid_0's l1: 0.268915\n",
      "[4]\tvalid_0's auc: 0.702559\tvalid_0's binary_logloss: 0.418186\tvalid_0's l1: 0.265995\n",
      "[5]\tvalid_0's auc: 0.702039\tvalid_0's binary_logloss: 0.415704\tvalid_0's l1: 0.263799\n",
      "[6]\tvalid_0's auc: 0.701615\tvalid_0's binary_logloss: 0.413832\tvalid_0's l1: 0.261895\n",
      "[7]\tvalid_0's auc: 0.704146\tvalid_0's binary_logloss: 0.412388\tvalid_0's l1: 0.26025\n",
      "[8]\tvalid_0's auc: 0.702962\tvalid_0's binary_logloss: 0.411657\tvalid_0's l1: 0.258177\n",
      "[9]\tvalid_0's auc: 0.701566\tvalid_0's binary_logloss: 0.411615\tvalid_0's l1: 0.256761\n",
      "[10]\tvalid_0's auc: 0.70107\tvalid_0's binary_logloss: 0.411512\tvalid_0's l1: 0.255136\n",
      "[11]\tvalid_0's auc: 0.699103\tvalid_0's binary_logloss: 0.41204\tvalid_0's l1: 0.253234\n",
      "[12]\tvalid_0's auc: 0.69916\tvalid_0's binary_logloss: 0.411769\tvalid_0's l1: 0.252338\n",
      "Early stopping, best iteration is:\n",
      "[7]\tvalid_0's auc: 0.704146\tvalid_0's binary_logloss: 0.412388\tvalid_0's l1: 0.26025\n"
     ]
    },
    {
     "name": "stderr",
     "output_type": "stream",
     "text": [
      "C:\\Users\\kaviy\\anaconda3\\lib\\site-packages\\sklearn\\utils\\validation.py:73: DataConversionWarning: A column-vector y was passed when a 1d array was expected. Please change the shape of y to (n_samples, ), for example using ravel().\n",
      "  return f(**kwargs)\n"
     ]
    },
    {
     "name": "stdout",
     "output_type": "stream",
     "text": [
      "[1]\tvalid_0's auc: 0.675029\tvalid_0's binary_logloss: 0.435963\tvalid_0's l1: 0.274566\n",
      "Training until validation scores don't improve for 5 rounds\n",
      "[2]\tvalid_0's auc: 0.699567\tvalid_0's binary_logloss: 0.427349\tvalid_0's l1: 0.272011\n",
      "[3]\tvalid_0's auc: 0.699486\tvalid_0's binary_logloss: 0.422208\tvalid_0's l1: 0.26891\n",
      "[4]\tvalid_0's auc: 0.700192\tvalid_0's binary_logloss: 0.41856\tvalid_0's l1: 0.265777\n",
      "[5]\tvalid_0's auc: 0.70199\tvalid_0's binary_logloss: 0.416065\tvalid_0's l1: 0.263391\n",
      "[6]\tvalid_0's auc: 0.701584\tvalid_0's binary_logloss: 0.414338\tvalid_0's l1: 0.261535\n",
      "[7]\tvalid_0's auc: 0.702289\tvalid_0's binary_logloss: 0.412662\tvalid_0's l1: 0.259422\n",
      "[8]\tvalid_0's auc: 0.703811\tvalid_0's binary_logloss: 0.411413\tvalid_0's l1: 0.258007\n",
      "[9]\tvalid_0's auc: 0.70413\tvalid_0's binary_logloss: 0.410689\tvalid_0's l1: 0.25701\n",
      "[10]\tvalid_0's auc: 0.703443\tvalid_0's binary_logloss: 0.410484\tvalid_0's l1: 0.255084\n",
      "[11]\tvalid_0's auc: 0.703792\tvalid_0's binary_logloss: 0.410556\tvalid_0's l1: 0.252791\n",
      "[12]\tvalid_0's auc: 0.70338\tvalid_0's binary_logloss: 0.41043\tvalid_0's l1: 0.252499\n",
      "[13]\tvalid_0's auc: 0.702997\tvalid_0's binary_logloss: 0.410528\tvalid_0's l1: 0.251885\n",
      "[14]\tvalid_0's auc: 0.702709\tvalid_0's binary_logloss: 0.41069\tvalid_0's l1: 0.250655\n",
      "Early stopping, best iteration is:\n",
      "[9]\tvalid_0's auc: 0.70413\tvalid_0's binary_logloss: 0.410689\tvalid_0's l1: 0.25701\n"
     ]
    },
    {
     "name": "stderr",
     "output_type": "stream",
     "text": [
      "C:\\Users\\kaviy\\anaconda3\\lib\\site-packages\\sklearn\\utils\\validation.py:73: DataConversionWarning: A column-vector y was passed when a 1d array was expected. Please change the shape of y to (n_samples, ), for example using ravel().\n",
      "  return f(**kwargs)\n"
     ]
    },
    {
     "name": "stdout",
     "output_type": "stream",
     "text": [
      "[1]\tvalid_0's auc: 0.694609\tvalid_0's binary_logloss: 0.435461\tvalid_0's l1: 0.276292\n",
      "Training until validation scores don't improve for 5 rounds\n",
      "[2]\tvalid_0's auc: 0.69923\tvalid_0's binary_logloss: 0.427844\tvalid_0's l1: 0.27242\n",
      "[3]\tvalid_0's auc: 0.700131\tvalid_0's binary_logloss: 0.422448\tvalid_0's l1: 0.269379\n",
      "[4]\tvalid_0's auc: 0.701943\tvalid_0's binary_logloss: 0.418606\tvalid_0's l1: 0.266823\n",
      "[5]\tvalid_0's auc: 0.701628\tvalid_0's binary_logloss: 0.415833\tvalid_0's l1: 0.264657\n",
      "[6]\tvalid_0's auc: 0.703384\tvalid_0's binary_logloss: 0.413634\tvalid_0's l1: 0.262125\n",
      "[7]\tvalid_0's auc: 0.704249\tvalid_0's binary_logloss: 0.412334\tvalid_0's l1: 0.260937\n",
      "[8]\tvalid_0's auc: 0.70348\tvalid_0's binary_logloss: 0.41157\tvalid_0's l1: 0.258768\n",
      "[9]\tvalid_0's auc: 0.704255\tvalid_0's binary_logloss: 0.410866\tvalid_0's l1: 0.257457\n",
      "[10]\tvalid_0's auc: 0.703385\tvalid_0's binary_logloss: 0.410661\tvalid_0's l1: 0.25579\n",
      "[11]\tvalid_0's auc: 0.704037\tvalid_0's binary_logloss: 0.410094\tvalid_0's l1: 0.255011\n",
      "[12]\tvalid_0's auc: 0.703321\tvalid_0's binary_logloss: 0.410209\tvalid_0's l1: 0.252877\n",
      "[13]\tvalid_0's auc: 0.702996\tvalid_0's binary_logloss: 0.410129\tvalid_0's l1: 0.25277\n",
      "[14]\tvalid_0's auc: 0.703016\tvalid_0's binary_logloss: 0.410023\tvalid_0's l1: 0.251547\n",
      "Early stopping, best iteration is:\n",
      "[9]\tvalid_0's auc: 0.704255\tvalid_0's binary_logloss: 0.410866\tvalid_0's l1: 0.257457\n"
     ]
    },
    {
     "name": "stderr",
     "output_type": "stream",
     "text": [
      "C:\\Users\\kaviy\\anaconda3\\lib\\site-packages\\sklearn\\utils\\validation.py:73: DataConversionWarning: A column-vector y was passed when a 1d array was expected. Please change the shape of y to (n_samples, ), for example using ravel().\n",
      "  return f(**kwargs)\n"
     ]
    },
    {
     "name": "stdout",
     "output_type": "stream",
     "text": [
      "[1]\tvalid_0's auc: 0.699268\tvalid_0's binary_logloss: 0.435431\tvalid_0's l1: 0.276434\n",
      "Training until validation scores don't improve for 5 rounds\n",
      "[2]\tvalid_0's auc: 0.695065\tvalid_0's binary_logloss: 0.428233\tvalid_0's l1: 0.272712\n",
      "[3]\tvalid_0's auc: 0.697954\tvalid_0's binary_logloss: 0.422945\tvalid_0's l1: 0.26906\n",
      "[4]\tvalid_0's auc: 0.700358\tvalid_0's binary_logloss: 0.419021\tvalid_0's l1: 0.266382\n",
      "[5]\tvalid_0's auc: 0.699787\tvalid_0's binary_logloss: 0.416488\tvalid_0's l1: 0.263795\n",
      "[6]\tvalid_0's auc: 0.701224\tvalid_0's binary_logloss: 0.414565\tvalid_0's l1: 0.262287\n",
      "[7]\tvalid_0's auc: 0.701773\tvalid_0's binary_logloss: 0.412951\tvalid_0's l1: 0.260572\n",
      "[8]\tvalid_0's auc: 0.702337\tvalid_0's binary_logloss: 0.412056\tvalid_0's l1: 0.259905\n",
      "[9]\tvalid_0's auc: 0.702049\tvalid_0's binary_logloss: 0.411645\tvalid_0's l1: 0.257942\n",
      "[10]\tvalid_0's auc: 0.70192\tvalid_0's binary_logloss: 0.411174\tvalid_0's l1: 0.256911\n",
      "[11]\tvalid_0's auc: 0.70089\tvalid_0's binary_logloss: 0.411135\tvalid_0's l1: 0.256384\n",
      "[12]\tvalid_0's auc: 0.700017\tvalid_0's binary_logloss: 0.411105\tvalid_0's l1: 0.254758\n",
      "[13]\tvalid_0's auc: 0.700915\tvalid_0's binary_logloss: 0.410834\tvalid_0's l1: 0.254309\n",
      "Early stopping, best iteration is:\n",
      "[8]\tvalid_0's auc: 0.702337\tvalid_0's binary_logloss: 0.412056\tvalid_0's l1: 0.259905\n"
     ]
    },
    {
     "name": "stderr",
     "output_type": "stream",
     "text": [
      "C:\\Users\\kaviy\\anaconda3\\lib\\site-packages\\sklearn\\utils\\validation.py:73: DataConversionWarning: A column-vector y was passed when a 1d array was expected. Please change the shape of y to (n_samples, ), for example using ravel().\n",
      "  return f(**kwargs)\n"
     ]
    },
    {
     "name": "stdout",
     "output_type": "stream",
     "text": [
      "[1]\tvalid_0's auc: 0.630879\tvalid_0's binary_logloss: 0.437653\tvalid_0's l1: 0.274448\n",
      "Training until validation scores don't improve for 5 rounds\n",
      "[2]\tvalid_0's auc: 0.687164\tvalid_0's binary_logloss: 0.429642\tvalid_0's l1: 0.27157\n",
      "[3]\tvalid_0's auc: 0.691545\tvalid_0's binary_logloss: 0.424311\tvalid_0's l1: 0.268204\n",
      "[4]\tvalid_0's auc: 0.696574\tvalid_0's binary_logloss: 0.41998\tvalid_0's l1: 0.268702\n",
      "[5]\tvalid_0's auc: 0.698128\tvalid_0's binary_logloss: 0.41735\tvalid_0's l1: 0.266315\n",
      "[6]\tvalid_0's auc: 0.696219\tvalid_0's binary_logloss: 0.41559\tvalid_0's l1: 0.26546\n",
      "[7]\tvalid_0's auc: 0.695916\tvalid_0's binary_logloss: 0.413945\tvalid_0's l1: 0.262893\n",
      "[8]\tvalid_0's auc: 0.697044\tvalid_0's binary_logloss: 0.412823\tvalid_0's l1: 0.261291\n",
      "[9]\tvalid_0's auc: 0.695552\tvalid_0's binary_logloss: 0.413117\tvalid_0's l1: 0.264528\n",
      "[10]\tvalid_0's auc: 0.697027\tvalid_0's binary_logloss: 0.412583\tvalid_0's l1: 0.263928\n",
      "Early stopping, best iteration is:\n",
      "[5]\tvalid_0's auc: 0.698128\tvalid_0's binary_logloss: 0.41735\tvalid_0's l1: 0.266315\n"
     ]
    },
    {
     "name": "stderr",
     "output_type": "stream",
     "text": [
      "C:\\Users\\kaviy\\anaconda3\\lib\\site-packages\\sklearn\\utils\\validation.py:73: DataConversionWarning: A column-vector y was passed when a 1d array was expected. Please change the shape of y to (n_samples, ), for example using ravel().\n",
      "  return f(**kwargs)\n"
     ]
    },
    {
     "name": "stdout",
     "output_type": "stream",
     "text": [
      "[1]\tvalid_0's auc: 0.694931\tvalid_0's binary_logloss: 0.434955\tvalid_0's l1: 0.275657\n",
      "Training until validation scores don't improve for 5 rounds\n",
      "[2]\tvalid_0's auc: 0.698024\tvalid_0's binary_logloss: 0.427442\tvalid_0's l1: 0.272275\n",
      "[3]\tvalid_0's auc: 0.700583\tvalid_0's binary_logloss: 0.421974\tvalid_0's l1: 0.268915\n",
      "[4]\tvalid_0's auc: 0.702559\tvalid_0's binary_logloss: 0.418186\tvalid_0's l1: 0.265995\n",
      "[5]\tvalid_0's auc: 0.702039\tvalid_0's binary_logloss: 0.415704\tvalid_0's l1: 0.263799\n",
      "[6]\tvalid_0's auc: 0.701615\tvalid_0's binary_logloss: 0.413832\tvalid_0's l1: 0.261895\n",
      "[7]\tvalid_0's auc: 0.704146\tvalid_0's binary_logloss: 0.412388\tvalid_0's l1: 0.26025\n",
      "[8]\tvalid_0's auc: 0.702962\tvalid_0's binary_logloss: 0.411657\tvalid_0's l1: 0.258177\n",
      "[9]\tvalid_0's auc: 0.701566\tvalid_0's binary_logloss: 0.411615\tvalid_0's l1: 0.256761\n",
      "[10]\tvalid_0's auc: 0.70107\tvalid_0's binary_logloss: 0.411512\tvalid_0's l1: 0.255136\n",
      "[11]\tvalid_0's auc: 0.699103\tvalid_0's binary_logloss: 0.41204\tvalid_0's l1: 0.253234\n",
      "[12]\tvalid_0's auc: 0.69916\tvalid_0's binary_logloss: 0.411769\tvalid_0's l1: 0.252338\n",
      "Early stopping, best iteration is:\n",
      "[7]\tvalid_0's auc: 0.704146\tvalid_0's binary_logloss: 0.412388\tvalid_0's l1: 0.26025\n"
     ]
    },
    {
     "name": "stderr",
     "output_type": "stream",
     "text": [
      "C:\\Users\\kaviy\\anaconda3\\lib\\site-packages\\sklearn\\utils\\validation.py:73: DataConversionWarning: A column-vector y was passed when a 1d array was expected. Please change the shape of y to (n_samples, ), for example using ravel().\n",
      "  return f(**kwargs)\n"
     ]
    },
    {
     "name": "stdout",
     "output_type": "stream",
     "text": [
      "[1]\tvalid_0's auc: 0.675029\tvalid_0's binary_logloss: 0.435963\tvalid_0's l1: 0.274566\n",
      "Training until validation scores don't improve for 5 rounds\n",
      "[2]\tvalid_0's auc: 0.699567\tvalid_0's binary_logloss: 0.427349\tvalid_0's l1: 0.272011\n",
      "[3]\tvalid_0's auc: 0.699486\tvalid_0's binary_logloss: 0.422208\tvalid_0's l1: 0.26891\n",
      "[4]\tvalid_0's auc: 0.700192\tvalid_0's binary_logloss: 0.41856\tvalid_0's l1: 0.265777\n",
      "[5]\tvalid_0's auc: 0.70199\tvalid_0's binary_logloss: 0.416065\tvalid_0's l1: 0.263391\n",
      "[6]\tvalid_0's auc: 0.701584\tvalid_0's binary_logloss: 0.414338\tvalid_0's l1: 0.261535\n",
      "[7]\tvalid_0's auc: 0.702289\tvalid_0's binary_logloss: 0.412662\tvalid_0's l1: 0.259422\n",
      "[8]\tvalid_0's auc: 0.703811\tvalid_0's binary_logloss: 0.411413\tvalid_0's l1: 0.258007\n",
      "[9]\tvalid_0's auc: 0.70413\tvalid_0's binary_logloss: 0.410689\tvalid_0's l1: 0.25701\n",
      "[10]\tvalid_0's auc: 0.703443\tvalid_0's binary_logloss: 0.410484\tvalid_0's l1: 0.255084\n",
      "[11]\tvalid_0's auc: 0.703792\tvalid_0's binary_logloss: 0.410556\tvalid_0's l1: 0.252791\n",
      "[12]\tvalid_0's auc: 0.70338\tvalid_0's binary_logloss: 0.41043\tvalid_0's l1: 0.252499\n",
      "[13]\tvalid_0's auc: 0.702997\tvalid_0's binary_logloss: 0.410528\tvalid_0's l1: 0.251885\n",
      "[14]\tvalid_0's auc: 0.702709\tvalid_0's binary_logloss: 0.41069\tvalid_0's l1: 0.250655\n",
      "Early stopping, best iteration is:\n",
      "[9]\tvalid_0's auc: 0.70413\tvalid_0's binary_logloss: 0.410689\tvalid_0's l1: 0.25701\n"
     ]
    },
    {
     "name": "stderr",
     "output_type": "stream",
     "text": [
      "C:\\Users\\kaviy\\anaconda3\\lib\\site-packages\\sklearn\\utils\\validation.py:73: DataConversionWarning: A column-vector y was passed when a 1d array was expected. Please change the shape of y to (n_samples, ), for example using ravel().\n",
      "  return f(**kwargs)\n"
     ]
    },
    {
     "name": "stdout",
     "output_type": "stream",
     "text": [
      "[1]\tvalid_0's auc: 0.694609\tvalid_0's binary_logloss: 0.435461\tvalid_0's l1: 0.276292\n",
      "Training until validation scores don't improve for 5 rounds\n",
      "[2]\tvalid_0's auc: 0.69923\tvalid_0's binary_logloss: 0.427844\tvalid_0's l1: 0.27242\n",
      "[3]\tvalid_0's auc: 0.700131\tvalid_0's binary_logloss: 0.422448\tvalid_0's l1: 0.269379\n",
      "[4]\tvalid_0's auc: 0.701943\tvalid_0's binary_logloss: 0.418606\tvalid_0's l1: 0.266823\n",
      "[5]\tvalid_0's auc: 0.701628\tvalid_0's binary_logloss: 0.415833\tvalid_0's l1: 0.264657\n",
      "[6]\tvalid_0's auc: 0.703384\tvalid_0's binary_logloss: 0.413634\tvalid_0's l1: 0.262125\n",
      "[7]\tvalid_0's auc: 0.704249\tvalid_0's binary_logloss: 0.412334\tvalid_0's l1: 0.260937\n",
      "[8]\tvalid_0's auc: 0.70348\tvalid_0's binary_logloss: 0.41157\tvalid_0's l1: 0.258768\n",
      "[9]\tvalid_0's auc: 0.704255\tvalid_0's binary_logloss: 0.410866\tvalid_0's l1: 0.257457\n",
      "[10]\tvalid_0's auc: 0.703385\tvalid_0's binary_logloss: 0.410661\tvalid_0's l1: 0.25579\n",
      "[11]\tvalid_0's auc: 0.704037\tvalid_0's binary_logloss: 0.410094\tvalid_0's l1: 0.255011\n",
      "[12]\tvalid_0's auc: 0.703321\tvalid_0's binary_logloss: 0.410209\tvalid_0's l1: 0.252877\n",
      "[13]\tvalid_0's auc: 0.702996\tvalid_0's binary_logloss: 0.410129\tvalid_0's l1: 0.25277\n",
      "[14]\tvalid_0's auc: 0.703016\tvalid_0's binary_logloss: 0.410023\tvalid_0's l1: 0.251547\n",
      "Early stopping, best iteration is:\n",
      "[9]\tvalid_0's auc: 0.704255\tvalid_0's binary_logloss: 0.410866\tvalid_0's l1: 0.257457\n"
     ]
    },
    {
     "name": "stderr",
     "output_type": "stream",
     "text": [
      "C:\\Users\\kaviy\\anaconda3\\lib\\site-packages\\sklearn\\utils\\validation.py:73: DataConversionWarning: A column-vector y was passed when a 1d array was expected. Please change the shape of y to (n_samples, ), for example using ravel().\n",
      "  return f(**kwargs)\n"
     ]
    },
    {
     "name": "stdout",
     "output_type": "stream",
     "text": [
      "[1]\tvalid_0's auc: 0.699268\tvalid_0's binary_logloss: 0.435431\tvalid_0's l1: 0.276434\n",
      "Training until validation scores don't improve for 5 rounds\n",
      "[2]\tvalid_0's auc: 0.695065\tvalid_0's binary_logloss: 0.428233\tvalid_0's l1: 0.272712\n",
      "[3]\tvalid_0's auc: 0.697954\tvalid_0's binary_logloss: 0.422945\tvalid_0's l1: 0.26906\n",
      "[4]\tvalid_0's auc: 0.700358\tvalid_0's binary_logloss: 0.419021\tvalid_0's l1: 0.266382\n",
      "[5]\tvalid_0's auc: 0.699787\tvalid_0's binary_logloss: 0.416488\tvalid_0's l1: 0.263795\n",
      "[6]\tvalid_0's auc: 0.701224\tvalid_0's binary_logloss: 0.414565\tvalid_0's l1: 0.262287\n",
      "[7]\tvalid_0's auc: 0.701773\tvalid_0's binary_logloss: 0.412951\tvalid_0's l1: 0.260572\n",
      "[8]\tvalid_0's auc: 0.702337\tvalid_0's binary_logloss: 0.412056\tvalid_0's l1: 0.259905\n",
      "[9]\tvalid_0's auc: 0.702049\tvalid_0's binary_logloss: 0.411645\tvalid_0's l1: 0.257942\n",
      "[10]\tvalid_0's auc: 0.70192\tvalid_0's binary_logloss: 0.411174\tvalid_0's l1: 0.256911\n",
      "[11]\tvalid_0's auc: 0.70089\tvalid_0's binary_logloss: 0.411135\tvalid_0's l1: 0.256384\n",
      "[12]\tvalid_0's auc: 0.700017\tvalid_0's binary_logloss: 0.411105\tvalid_0's l1: 0.254758\n",
      "[13]\tvalid_0's auc: 0.700915\tvalid_0's binary_logloss: 0.410834\tvalid_0's l1: 0.254309\n",
      "Early stopping, best iteration is:\n",
      "[8]\tvalid_0's auc: 0.702337\tvalid_0's binary_logloss: 0.412056\tvalid_0's l1: 0.259905\n"
     ]
    },
    {
     "name": "stderr",
     "output_type": "stream",
     "text": [
      "C:\\Users\\kaviy\\anaconda3\\lib\\site-packages\\sklearn\\utils\\validation.py:73: DataConversionWarning: A column-vector y was passed when a 1d array was expected. Please change the shape of y to (n_samples, ), for example using ravel().\n",
      "  return f(**kwargs)\n"
     ]
    },
    {
     "name": "stdout",
     "output_type": "stream",
     "text": [
      "[1]\tvalid_0's auc: 0.630879\tvalid_0's binary_logloss: 0.437653\tvalid_0's l1: 0.274448\n",
      "Training until validation scores don't improve for 5 rounds\n",
      "[2]\tvalid_0's auc: 0.687164\tvalid_0's binary_logloss: 0.429642\tvalid_0's l1: 0.27157\n",
      "[3]\tvalid_0's auc: 0.691545\tvalid_0's binary_logloss: 0.424311\tvalid_0's l1: 0.268204\n",
      "[4]\tvalid_0's auc: 0.696574\tvalid_0's binary_logloss: 0.41998\tvalid_0's l1: 0.268702\n",
      "[5]\tvalid_0's auc: 0.698128\tvalid_0's binary_logloss: 0.41735\tvalid_0's l1: 0.266315\n",
      "[6]\tvalid_0's auc: 0.696219\tvalid_0's binary_logloss: 0.41559\tvalid_0's l1: 0.26546\n",
      "[7]\tvalid_0's auc: 0.695916\tvalid_0's binary_logloss: 0.413945\tvalid_0's l1: 0.262893\n",
      "[8]\tvalid_0's auc: 0.697044\tvalid_0's binary_logloss: 0.412823\tvalid_0's l1: 0.261291\n",
      "[9]\tvalid_0's auc: 0.695552\tvalid_0's binary_logloss: 0.413117\tvalid_0's l1: 0.264528\n",
      "[10]\tvalid_0's auc: 0.697027\tvalid_0's binary_logloss: 0.412583\tvalid_0's l1: 0.263928\n",
      "Early stopping, best iteration is:\n",
      "[5]\tvalid_0's auc: 0.698128\tvalid_0's binary_logloss: 0.41735\tvalid_0's l1: 0.266315\n"
     ]
    },
    {
     "name": "stderr",
     "output_type": "stream",
     "text": [
      "C:\\Users\\kaviy\\anaconda3\\lib\\site-packages\\sklearn\\utils\\validation.py:73: DataConversionWarning: A column-vector y was passed when a 1d array was expected. Please change the shape of y to (n_samples, ), for example using ravel().\n",
      "  return f(**kwargs)\n"
     ]
    },
    {
     "name": "stdout",
     "output_type": "stream",
     "text": [
      "[1]\tvalid_0's auc: 0.694931\tvalid_0's binary_logloss: 0.434955\tvalid_0's l1: 0.275657\n",
      "Training until validation scores don't improve for 5 rounds\n",
      "[2]\tvalid_0's auc: 0.698024\tvalid_0's binary_logloss: 0.427442\tvalid_0's l1: 0.272275\n",
      "[3]\tvalid_0's auc: 0.700583\tvalid_0's binary_logloss: 0.421974\tvalid_0's l1: 0.268915\n",
      "[4]\tvalid_0's auc: 0.702559\tvalid_0's binary_logloss: 0.418186\tvalid_0's l1: 0.265995\n",
      "[5]\tvalid_0's auc: 0.702039\tvalid_0's binary_logloss: 0.415704\tvalid_0's l1: 0.263799\n",
      "[6]\tvalid_0's auc: 0.701615\tvalid_0's binary_logloss: 0.413832\tvalid_0's l1: 0.261895\n",
      "[7]\tvalid_0's auc: 0.704146\tvalid_0's binary_logloss: 0.412388\tvalid_0's l1: 0.26025\n",
      "[8]\tvalid_0's auc: 0.702962\tvalid_0's binary_logloss: 0.411657\tvalid_0's l1: 0.258177\n",
      "[9]\tvalid_0's auc: 0.701566\tvalid_0's binary_logloss: 0.411615\tvalid_0's l1: 0.256761\n",
      "[10]\tvalid_0's auc: 0.70107\tvalid_0's binary_logloss: 0.411512\tvalid_0's l1: 0.255136\n",
      "[11]\tvalid_0's auc: 0.699103\tvalid_0's binary_logloss: 0.41204\tvalid_0's l1: 0.253234\n",
      "[12]\tvalid_0's auc: 0.69916\tvalid_0's binary_logloss: 0.411769\tvalid_0's l1: 0.252338\n",
      "Early stopping, best iteration is:\n",
      "[7]\tvalid_0's auc: 0.704146\tvalid_0's binary_logloss: 0.412388\tvalid_0's l1: 0.26025\n"
     ]
    },
    {
     "name": "stderr",
     "output_type": "stream",
     "text": [
      "C:\\Users\\kaviy\\anaconda3\\lib\\site-packages\\sklearn\\utils\\validation.py:73: DataConversionWarning: A column-vector y was passed when a 1d array was expected. Please change the shape of y to (n_samples, ), for example using ravel().\n",
      "  return f(**kwargs)\n"
     ]
    },
    {
     "name": "stdout",
     "output_type": "stream",
     "text": [
      "[1]\tvalid_0's auc: 0.675029\tvalid_0's binary_logloss: 0.435963\tvalid_0's l1: 0.274566\n",
      "Training until validation scores don't improve for 5 rounds\n",
      "[2]\tvalid_0's auc: 0.699567\tvalid_0's binary_logloss: 0.427349\tvalid_0's l1: 0.272011\n",
      "[3]\tvalid_0's auc: 0.699486\tvalid_0's binary_logloss: 0.422208\tvalid_0's l1: 0.26891\n",
      "[4]\tvalid_0's auc: 0.700192\tvalid_0's binary_logloss: 0.41856\tvalid_0's l1: 0.265777\n",
      "[5]\tvalid_0's auc: 0.70199\tvalid_0's binary_logloss: 0.416065\tvalid_0's l1: 0.263391\n",
      "[6]\tvalid_0's auc: 0.701584\tvalid_0's binary_logloss: 0.414338\tvalid_0's l1: 0.261535\n",
      "[7]\tvalid_0's auc: 0.702289\tvalid_0's binary_logloss: 0.412662\tvalid_0's l1: 0.259422\n",
      "[8]\tvalid_0's auc: 0.703811\tvalid_0's binary_logloss: 0.411413\tvalid_0's l1: 0.258007\n",
      "[9]\tvalid_0's auc: 0.70413\tvalid_0's binary_logloss: 0.410689\tvalid_0's l1: 0.25701\n",
      "[10]\tvalid_0's auc: 0.703443\tvalid_0's binary_logloss: 0.410484\tvalid_0's l1: 0.255084\n",
      "[11]\tvalid_0's auc: 0.703792\tvalid_0's binary_logloss: 0.410556\tvalid_0's l1: 0.252791\n",
      "[12]\tvalid_0's auc: 0.70338\tvalid_0's binary_logloss: 0.41043\tvalid_0's l1: 0.252499\n",
      "[13]\tvalid_0's auc: 0.702997\tvalid_0's binary_logloss: 0.410528\tvalid_0's l1: 0.251885\n",
      "[14]\tvalid_0's auc: 0.702709\tvalid_0's binary_logloss: 0.41069\tvalid_0's l1: 0.250655\n",
      "Early stopping, best iteration is:\n",
      "[9]\tvalid_0's auc: 0.70413\tvalid_0's binary_logloss: 0.410689\tvalid_0's l1: 0.25701\n"
     ]
    },
    {
     "name": "stderr",
     "output_type": "stream",
     "text": [
      "C:\\Users\\kaviy\\anaconda3\\lib\\site-packages\\sklearn\\utils\\validation.py:73: DataConversionWarning: A column-vector y was passed when a 1d array was expected. Please change the shape of y to (n_samples, ), for example using ravel().\n",
      "  return f(**kwargs)\n"
     ]
    },
    {
     "name": "stdout",
     "output_type": "stream",
     "text": [
      "[1]\tvalid_0's auc: 0.694609\tvalid_0's binary_logloss: 0.435461\tvalid_0's l1: 0.276292\n",
      "Training until validation scores don't improve for 5 rounds\n",
      "[2]\tvalid_0's auc: 0.69923\tvalid_0's binary_logloss: 0.427844\tvalid_0's l1: 0.27242\n",
      "[3]\tvalid_0's auc: 0.700131\tvalid_0's binary_logloss: 0.422448\tvalid_0's l1: 0.269379\n",
      "[4]\tvalid_0's auc: 0.701943\tvalid_0's binary_logloss: 0.418606\tvalid_0's l1: 0.266823\n",
      "[5]\tvalid_0's auc: 0.701628\tvalid_0's binary_logloss: 0.415833\tvalid_0's l1: 0.264657\n",
      "[6]\tvalid_0's auc: 0.703384\tvalid_0's binary_logloss: 0.413634\tvalid_0's l1: 0.262125\n",
      "[7]\tvalid_0's auc: 0.704249\tvalid_0's binary_logloss: 0.412334\tvalid_0's l1: 0.260937\n",
      "[8]\tvalid_0's auc: 0.70348\tvalid_0's binary_logloss: 0.41157\tvalid_0's l1: 0.258768\n",
      "[9]\tvalid_0's auc: 0.704255\tvalid_0's binary_logloss: 0.410866\tvalid_0's l1: 0.257457\n",
      "[10]\tvalid_0's auc: 0.703385\tvalid_0's binary_logloss: 0.410661\tvalid_0's l1: 0.25579\n",
      "[11]\tvalid_0's auc: 0.704037\tvalid_0's binary_logloss: 0.410094\tvalid_0's l1: 0.255011\n",
      "[12]\tvalid_0's auc: 0.703321\tvalid_0's binary_logloss: 0.410209\tvalid_0's l1: 0.252877\n",
      "[13]\tvalid_0's auc: 0.702996\tvalid_0's binary_logloss: 0.410129\tvalid_0's l1: 0.25277\n",
      "[14]\tvalid_0's auc: 0.703016\tvalid_0's binary_logloss: 0.410023\tvalid_0's l1: 0.251547\n",
      "Early stopping, best iteration is:\n",
      "[9]\tvalid_0's auc: 0.704255\tvalid_0's binary_logloss: 0.410866\tvalid_0's l1: 0.257457\n"
     ]
    },
    {
     "name": "stderr",
     "output_type": "stream",
     "text": [
      "C:\\Users\\kaviy\\anaconda3\\lib\\site-packages\\sklearn\\utils\\validation.py:73: DataConversionWarning: A column-vector y was passed when a 1d array was expected. Please change the shape of y to (n_samples, ), for example using ravel().\n",
      "  return f(**kwargs)\n"
     ]
    },
    {
     "name": "stdout",
     "output_type": "stream",
     "text": [
      "[1]\tvalid_0's auc: 0.699268\tvalid_0's binary_logloss: 0.435431\tvalid_0's l1: 0.276434\n",
      "Training until validation scores don't improve for 5 rounds\n",
      "[2]\tvalid_0's auc: 0.695065\tvalid_0's binary_logloss: 0.428233\tvalid_0's l1: 0.272712\n",
      "[3]\tvalid_0's auc: 0.697954\tvalid_0's binary_logloss: 0.422945\tvalid_0's l1: 0.26906\n",
      "[4]\tvalid_0's auc: 0.700358\tvalid_0's binary_logloss: 0.419021\tvalid_0's l1: 0.266382\n",
      "[5]\tvalid_0's auc: 0.699787\tvalid_0's binary_logloss: 0.416488\tvalid_0's l1: 0.263795\n",
      "[6]\tvalid_0's auc: 0.701224\tvalid_0's binary_logloss: 0.414565\tvalid_0's l1: 0.262287\n",
      "[7]\tvalid_0's auc: 0.701773\tvalid_0's binary_logloss: 0.412951\tvalid_0's l1: 0.260572\n",
      "[8]\tvalid_0's auc: 0.702337\tvalid_0's binary_logloss: 0.412056\tvalid_0's l1: 0.259905\n",
      "[9]\tvalid_0's auc: 0.702049\tvalid_0's binary_logloss: 0.411645\tvalid_0's l1: 0.257942\n",
      "[10]\tvalid_0's auc: 0.70192\tvalid_0's binary_logloss: 0.411174\tvalid_0's l1: 0.256911\n",
      "[11]\tvalid_0's auc: 0.70089\tvalid_0's binary_logloss: 0.411135\tvalid_0's l1: 0.256384\n",
      "[12]\tvalid_0's auc: 0.700017\tvalid_0's binary_logloss: 0.411105\tvalid_0's l1: 0.254758\n",
      "[13]\tvalid_0's auc: 0.700915\tvalid_0's binary_logloss: 0.410834\tvalid_0's l1: 0.254309\n",
      "Early stopping, best iteration is:\n",
      "[8]\tvalid_0's auc: 0.702337\tvalid_0's binary_logloss: 0.412056\tvalid_0's l1: 0.259905\n"
     ]
    },
    {
     "name": "stderr",
     "output_type": "stream",
     "text": [
      "C:\\Users\\kaviy\\anaconda3\\lib\\site-packages\\sklearn\\utils\\validation.py:73: DataConversionWarning: A column-vector y was passed when a 1d array was expected. Please change the shape of y to (n_samples, ), for example using ravel().\n",
      "  return f(**kwargs)\n"
     ]
    },
    {
     "name": "stdout",
     "output_type": "stream",
     "text": [
      "[1]\tvalid_0's auc: 0.630879\tvalid_0's binary_logloss: 0.437653\tvalid_0's l1: 0.274448\n",
      "Training until validation scores don't improve for 5 rounds\n",
      "[2]\tvalid_0's auc: 0.687164\tvalid_0's binary_logloss: 0.429642\tvalid_0's l1: 0.27157\n",
      "[3]\tvalid_0's auc: 0.691545\tvalid_0's binary_logloss: 0.424311\tvalid_0's l1: 0.268204\n",
      "[4]\tvalid_0's auc: 0.696574\tvalid_0's binary_logloss: 0.41998\tvalid_0's l1: 0.268702\n",
      "[5]\tvalid_0's auc: 0.698128\tvalid_0's binary_logloss: 0.41735\tvalid_0's l1: 0.266315\n",
      "[6]\tvalid_0's auc: 0.696219\tvalid_0's binary_logloss: 0.41559\tvalid_0's l1: 0.26546\n",
      "[7]\tvalid_0's auc: 0.695916\tvalid_0's binary_logloss: 0.413945\tvalid_0's l1: 0.262893\n",
      "[8]\tvalid_0's auc: 0.697044\tvalid_0's binary_logloss: 0.412823\tvalid_0's l1: 0.261291\n",
      "[9]\tvalid_0's auc: 0.695552\tvalid_0's binary_logloss: 0.413117\tvalid_0's l1: 0.264528\n",
      "[10]\tvalid_0's auc: 0.697027\tvalid_0's binary_logloss: 0.412583\tvalid_0's l1: 0.263928\n",
      "Early stopping, best iteration is:\n",
      "[5]\tvalid_0's auc: 0.698128\tvalid_0's binary_logloss: 0.41735\tvalid_0's l1: 0.266315\n"
     ]
    },
    {
     "name": "stderr",
     "output_type": "stream",
     "text": [
      "C:\\Users\\kaviy\\anaconda3\\lib\\site-packages\\sklearn\\utils\\validation.py:73: DataConversionWarning: A column-vector y was passed when a 1d array was expected. Please change the shape of y to (n_samples, ), for example using ravel().\n",
      "  return f(**kwargs)\n"
     ]
    },
    {
     "name": "stdout",
     "output_type": "stream",
     "text": [
      "[1]\tvalid_0's auc: 0.694931\tvalid_0's binary_logloss: 0.434955\tvalid_0's l1: 0.275657\n",
      "Training until validation scores don't improve for 5 rounds\n",
      "[2]\tvalid_0's auc: 0.698024\tvalid_0's binary_logloss: 0.427442\tvalid_0's l1: 0.272275\n",
      "[3]\tvalid_0's auc: 0.700583\tvalid_0's binary_logloss: 0.421974\tvalid_0's l1: 0.268915\n",
      "[4]\tvalid_0's auc: 0.702559\tvalid_0's binary_logloss: 0.418186\tvalid_0's l1: 0.265995\n",
      "[5]\tvalid_0's auc: 0.702039\tvalid_0's binary_logloss: 0.415704\tvalid_0's l1: 0.263799\n",
      "[6]\tvalid_0's auc: 0.701615\tvalid_0's binary_logloss: 0.413832\tvalid_0's l1: 0.261895\n",
      "[7]\tvalid_0's auc: 0.704146\tvalid_0's binary_logloss: 0.412388\tvalid_0's l1: 0.26025\n",
      "[8]\tvalid_0's auc: 0.702962\tvalid_0's binary_logloss: 0.411657\tvalid_0's l1: 0.258177\n",
      "[9]\tvalid_0's auc: 0.701566\tvalid_0's binary_logloss: 0.411615\tvalid_0's l1: 0.256761\n",
      "[10]\tvalid_0's auc: 0.70107\tvalid_0's binary_logloss: 0.411512\tvalid_0's l1: 0.255136\n",
      "[11]\tvalid_0's auc: 0.699103\tvalid_0's binary_logloss: 0.41204\tvalid_0's l1: 0.253234\n",
      "[12]\tvalid_0's auc: 0.69916\tvalid_0's binary_logloss: 0.411769\tvalid_0's l1: 0.252338\n",
      "Early stopping, best iteration is:\n",
      "[7]\tvalid_0's auc: 0.704146\tvalid_0's binary_logloss: 0.412388\tvalid_0's l1: 0.26025\n"
     ]
    },
    {
     "name": "stderr",
     "output_type": "stream",
     "text": [
      "C:\\Users\\kaviy\\anaconda3\\lib\\site-packages\\sklearn\\utils\\validation.py:73: DataConversionWarning: A column-vector y was passed when a 1d array was expected. Please change the shape of y to (n_samples, ), for example using ravel().\n",
      "  return f(**kwargs)\n"
     ]
    },
    {
     "name": "stdout",
     "output_type": "stream",
     "text": [
      "[1]\tvalid_0's auc: 0.675029\tvalid_0's binary_logloss: 0.435963\tvalid_0's l1: 0.274566\n",
      "Training until validation scores don't improve for 5 rounds\n",
      "[2]\tvalid_0's auc: 0.699567\tvalid_0's binary_logloss: 0.427349\tvalid_0's l1: 0.272011\n",
      "[3]\tvalid_0's auc: 0.699486\tvalid_0's binary_logloss: 0.422208\tvalid_0's l1: 0.26891\n",
      "[4]\tvalid_0's auc: 0.700192\tvalid_0's binary_logloss: 0.41856\tvalid_0's l1: 0.265777\n",
      "[5]\tvalid_0's auc: 0.70199\tvalid_0's binary_logloss: 0.416065\tvalid_0's l1: 0.263391\n",
      "[6]\tvalid_0's auc: 0.701584\tvalid_0's binary_logloss: 0.414338\tvalid_0's l1: 0.261535\n",
      "[7]\tvalid_0's auc: 0.702289\tvalid_0's binary_logloss: 0.412662\tvalid_0's l1: 0.259422\n",
      "[8]\tvalid_0's auc: 0.703811\tvalid_0's binary_logloss: 0.411413\tvalid_0's l1: 0.258007\n",
      "[9]\tvalid_0's auc: 0.70413\tvalid_0's binary_logloss: 0.410689\tvalid_0's l1: 0.25701\n",
      "[10]\tvalid_0's auc: 0.703443\tvalid_0's binary_logloss: 0.410484\tvalid_0's l1: 0.255084\n",
      "[11]\tvalid_0's auc: 0.703792\tvalid_0's binary_logloss: 0.410556\tvalid_0's l1: 0.252791\n",
      "[12]\tvalid_0's auc: 0.70338\tvalid_0's binary_logloss: 0.41043\tvalid_0's l1: 0.252499\n",
      "[13]\tvalid_0's auc: 0.702997\tvalid_0's binary_logloss: 0.410528\tvalid_0's l1: 0.251885\n",
      "[14]\tvalid_0's auc: 0.702709\tvalid_0's binary_logloss: 0.41069\tvalid_0's l1: 0.250655\n",
      "Early stopping, best iteration is:\n",
      "[9]\tvalid_0's auc: 0.70413\tvalid_0's binary_logloss: 0.410689\tvalid_0's l1: 0.25701\n"
     ]
    },
    {
     "name": "stderr",
     "output_type": "stream",
     "text": [
      "C:\\Users\\kaviy\\anaconda3\\lib\\site-packages\\sklearn\\utils\\validation.py:73: DataConversionWarning: A column-vector y was passed when a 1d array was expected. Please change the shape of y to (n_samples, ), for example using ravel().\n",
      "  return f(**kwargs)\n"
     ]
    },
    {
     "name": "stdout",
     "output_type": "stream",
     "text": [
      "[1]\tvalid_0's auc: 0.694609\tvalid_0's binary_logloss: 0.435461\tvalid_0's l1: 0.276292\n",
      "Training until validation scores don't improve for 5 rounds\n",
      "[2]\tvalid_0's auc: 0.69923\tvalid_0's binary_logloss: 0.427844\tvalid_0's l1: 0.27242\n",
      "[3]\tvalid_0's auc: 0.700131\tvalid_0's binary_logloss: 0.422448\tvalid_0's l1: 0.269379\n",
      "[4]\tvalid_0's auc: 0.701943\tvalid_0's binary_logloss: 0.418606\tvalid_0's l1: 0.266823\n",
      "[5]\tvalid_0's auc: 0.701628\tvalid_0's binary_logloss: 0.415833\tvalid_0's l1: 0.264657\n",
      "[6]\tvalid_0's auc: 0.703384\tvalid_0's binary_logloss: 0.413634\tvalid_0's l1: 0.262125\n",
      "[7]\tvalid_0's auc: 0.704249\tvalid_0's binary_logloss: 0.412334\tvalid_0's l1: 0.260937\n",
      "[8]\tvalid_0's auc: 0.70348\tvalid_0's binary_logloss: 0.41157\tvalid_0's l1: 0.258768\n",
      "[9]\tvalid_0's auc: 0.704255\tvalid_0's binary_logloss: 0.410866\tvalid_0's l1: 0.257457\n",
      "[10]\tvalid_0's auc: 0.703385\tvalid_0's binary_logloss: 0.410661\tvalid_0's l1: 0.25579\n",
      "[11]\tvalid_0's auc: 0.704037\tvalid_0's binary_logloss: 0.410094\tvalid_0's l1: 0.255011\n",
      "[12]\tvalid_0's auc: 0.703321\tvalid_0's binary_logloss: 0.410209\tvalid_0's l1: 0.252877\n",
      "[13]\tvalid_0's auc: 0.702996\tvalid_0's binary_logloss: 0.410129\tvalid_0's l1: 0.25277\n",
      "[14]\tvalid_0's auc: 0.703016\tvalid_0's binary_logloss: 0.410023\tvalid_0's l1: 0.251547\n",
      "Early stopping, best iteration is:\n",
      "[9]\tvalid_0's auc: 0.704255\tvalid_0's binary_logloss: 0.410866\tvalid_0's l1: 0.257457\n"
     ]
    },
    {
     "name": "stderr",
     "output_type": "stream",
     "text": [
      "C:\\Users\\kaviy\\anaconda3\\lib\\site-packages\\sklearn\\utils\\validation.py:73: DataConversionWarning: A column-vector y was passed when a 1d array was expected. Please change the shape of y to (n_samples, ), for example using ravel().\n",
      "  return f(**kwargs)\n"
     ]
    },
    {
     "name": "stdout",
     "output_type": "stream",
     "text": [
      "[1]\tvalid_0's auc: 0.699268\tvalid_0's binary_logloss: 0.435431\tvalid_0's l1: 0.276434\n",
      "Training until validation scores don't improve for 5 rounds\n",
      "[2]\tvalid_0's auc: 0.695065\tvalid_0's binary_logloss: 0.428233\tvalid_0's l1: 0.272712\n",
      "[3]\tvalid_0's auc: 0.697954\tvalid_0's binary_logloss: 0.422945\tvalid_0's l1: 0.26906\n",
      "[4]\tvalid_0's auc: 0.700358\tvalid_0's binary_logloss: 0.419021\tvalid_0's l1: 0.266382\n",
      "[5]\tvalid_0's auc: 0.699787\tvalid_0's binary_logloss: 0.416488\tvalid_0's l1: 0.263795\n",
      "[6]\tvalid_0's auc: 0.701224\tvalid_0's binary_logloss: 0.414565\tvalid_0's l1: 0.262287\n",
      "[7]\tvalid_0's auc: 0.701773\tvalid_0's binary_logloss: 0.412951\tvalid_0's l1: 0.260572\n",
      "[8]\tvalid_0's auc: 0.702337\tvalid_0's binary_logloss: 0.412056\tvalid_0's l1: 0.259905\n",
      "[9]\tvalid_0's auc: 0.702049\tvalid_0's binary_logloss: 0.411645\tvalid_0's l1: 0.257942\n",
      "[10]\tvalid_0's auc: 0.70192\tvalid_0's binary_logloss: 0.411174\tvalid_0's l1: 0.256911\n",
      "[11]\tvalid_0's auc: 0.70089\tvalid_0's binary_logloss: 0.411135\tvalid_0's l1: 0.256384\n",
      "[12]\tvalid_0's auc: 0.700017\tvalid_0's binary_logloss: 0.411105\tvalid_0's l1: 0.254758\n",
      "[13]\tvalid_0's auc: 0.700915\tvalid_0's binary_logloss: 0.410834\tvalid_0's l1: 0.254309\n",
      "Early stopping, best iteration is:\n",
      "[8]\tvalid_0's auc: 0.702337\tvalid_0's binary_logloss: 0.412056\tvalid_0's l1: 0.259905\n"
     ]
    },
    {
     "name": "stderr",
     "output_type": "stream",
     "text": [
      "C:\\Users\\kaviy\\anaconda3\\lib\\site-packages\\sklearn\\utils\\validation.py:73: DataConversionWarning: A column-vector y was passed when a 1d array was expected. Please change the shape of y to (n_samples, ), for example using ravel().\n",
      "  return f(**kwargs)\n"
     ]
    },
    {
     "name": "stdout",
     "output_type": "stream",
     "text": [
      "[1]\tvalid_0's auc: 0.630879\tvalid_0's binary_logloss: 0.437653\tvalid_0's l1: 0.274448\n",
      "Training until validation scores don't improve for 5 rounds\n",
      "[2]\tvalid_0's auc: 0.687164\tvalid_0's binary_logloss: 0.429642\tvalid_0's l1: 0.27157\n",
      "[3]\tvalid_0's auc: 0.691545\tvalid_0's binary_logloss: 0.424311\tvalid_0's l1: 0.268204\n",
      "[4]\tvalid_0's auc: 0.696574\tvalid_0's binary_logloss: 0.41998\tvalid_0's l1: 0.268702\n",
      "[5]\tvalid_0's auc: 0.698128\tvalid_0's binary_logloss: 0.41735\tvalid_0's l1: 0.266315\n",
      "[6]\tvalid_0's auc: 0.696219\tvalid_0's binary_logloss: 0.41559\tvalid_0's l1: 0.26546\n",
      "[7]\tvalid_0's auc: 0.695916\tvalid_0's binary_logloss: 0.413945\tvalid_0's l1: 0.262893\n",
      "[8]\tvalid_0's auc: 0.697044\tvalid_0's binary_logloss: 0.412823\tvalid_0's l1: 0.261291\n",
      "[9]\tvalid_0's auc: 0.695552\tvalid_0's binary_logloss: 0.413117\tvalid_0's l1: 0.264528\n",
      "[10]\tvalid_0's auc: 0.697027\tvalid_0's binary_logloss: 0.412583\tvalid_0's l1: 0.263928\n",
      "Early stopping, best iteration is:\n",
      "[5]\tvalid_0's auc: 0.698128\tvalid_0's binary_logloss: 0.41735\tvalid_0's l1: 0.266315\n"
     ]
    },
    {
     "name": "stderr",
     "output_type": "stream",
     "text": [
      "C:\\Users\\kaviy\\anaconda3\\lib\\site-packages\\sklearn\\utils\\validation.py:73: DataConversionWarning: A column-vector y was passed when a 1d array was expected. Please change the shape of y to (n_samples, ), for example using ravel().\n",
      "  return f(**kwargs)\n"
     ]
    },
    {
     "name": "stdout",
     "output_type": "stream",
     "text": [
      "[1]\tvalid_0's auc: 0.694931\tvalid_0's binary_logloss: 0.434955\tvalid_0's l1: 0.275657\n",
      "Training until validation scores don't improve for 5 rounds\n",
      "[2]\tvalid_0's auc: 0.698024\tvalid_0's binary_logloss: 0.427442\tvalid_0's l1: 0.272275\n",
      "[3]\tvalid_0's auc: 0.700583\tvalid_0's binary_logloss: 0.421974\tvalid_0's l1: 0.268915\n",
      "[4]\tvalid_0's auc: 0.702559\tvalid_0's binary_logloss: 0.418186\tvalid_0's l1: 0.265995\n",
      "[5]\tvalid_0's auc: 0.702039\tvalid_0's binary_logloss: 0.415704\tvalid_0's l1: 0.263799\n",
      "[6]\tvalid_0's auc: 0.701615\tvalid_0's binary_logloss: 0.413832\tvalid_0's l1: 0.261895\n",
      "[7]\tvalid_0's auc: 0.704146\tvalid_0's binary_logloss: 0.412388\tvalid_0's l1: 0.26025\n",
      "[8]\tvalid_0's auc: 0.702962\tvalid_0's binary_logloss: 0.411657\tvalid_0's l1: 0.258177\n",
      "[9]\tvalid_0's auc: 0.701566\tvalid_0's binary_logloss: 0.411615\tvalid_0's l1: 0.256761\n",
      "[10]\tvalid_0's auc: 0.70107\tvalid_0's binary_logloss: 0.411512\tvalid_0's l1: 0.255136\n",
      "[11]\tvalid_0's auc: 0.699103\tvalid_0's binary_logloss: 0.41204\tvalid_0's l1: 0.253234\n",
      "[12]\tvalid_0's auc: 0.69916\tvalid_0's binary_logloss: 0.411769\tvalid_0's l1: 0.252338\n",
      "Early stopping, best iteration is:\n",
      "[7]\tvalid_0's auc: 0.704146\tvalid_0's binary_logloss: 0.412388\tvalid_0's l1: 0.26025\n"
     ]
    },
    {
     "name": "stderr",
     "output_type": "stream",
     "text": [
      "C:\\Users\\kaviy\\anaconda3\\lib\\site-packages\\sklearn\\utils\\validation.py:73: DataConversionWarning: A column-vector y was passed when a 1d array was expected. Please change the shape of y to (n_samples, ), for example using ravel().\n",
      "  return f(**kwargs)\n"
     ]
    },
    {
     "name": "stdout",
     "output_type": "stream",
     "text": [
      "[1]\tvalid_0's auc: 0.675029\tvalid_0's binary_logloss: 0.435963\tvalid_0's l1: 0.274566\n",
      "Training until validation scores don't improve for 5 rounds\n",
      "[2]\tvalid_0's auc: 0.699567\tvalid_0's binary_logloss: 0.427349\tvalid_0's l1: 0.272011\n",
      "[3]\tvalid_0's auc: 0.699486\tvalid_0's binary_logloss: 0.422208\tvalid_0's l1: 0.26891\n",
      "[4]\tvalid_0's auc: 0.700192\tvalid_0's binary_logloss: 0.41856\tvalid_0's l1: 0.265777\n",
      "[5]\tvalid_0's auc: 0.70199\tvalid_0's binary_logloss: 0.416065\tvalid_0's l1: 0.263391\n",
      "[6]\tvalid_0's auc: 0.701584\tvalid_0's binary_logloss: 0.414338\tvalid_0's l1: 0.261535\n",
      "[7]\tvalid_0's auc: 0.702289\tvalid_0's binary_logloss: 0.412662\tvalid_0's l1: 0.259422\n",
      "[8]\tvalid_0's auc: 0.703811\tvalid_0's binary_logloss: 0.411413\tvalid_0's l1: 0.258007\n",
      "[9]\tvalid_0's auc: 0.70413\tvalid_0's binary_logloss: 0.410689\tvalid_0's l1: 0.25701\n",
      "[10]\tvalid_0's auc: 0.703443\tvalid_0's binary_logloss: 0.410484\tvalid_0's l1: 0.255084\n",
      "[11]\tvalid_0's auc: 0.703792\tvalid_0's binary_logloss: 0.410556\tvalid_0's l1: 0.252791\n",
      "[12]\tvalid_0's auc: 0.70338\tvalid_0's binary_logloss: 0.41043\tvalid_0's l1: 0.252499\n",
      "[13]\tvalid_0's auc: 0.702997\tvalid_0's binary_logloss: 0.410528\tvalid_0's l1: 0.251885\n",
      "[14]\tvalid_0's auc: 0.702709\tvalid_0's binary_logloss: 0.41069\tvalid_0's l1: 0.250655\n",
      "Early stopping, best iteration is:\n",
      "[9]\tvalid_0's auc: 0.70413\tvalid_0's binary_logloss: 0.410689\tvalid_0's l1: 0.25701\n"
     ]
    },
    {
     "name": "stderr",
     "output_type": "stream",
     "text": [
      "C:\\Users\\kaviy\\anaconda3\\lib\\site-packages\\sklearn\\utils\\validation.py:73: DataConversionWarning: A column-vector y was passed when a 1d array was expected. Please change the shape of y to (n_samples, ), for example using ravel().\n",
      "  return f(**kwargs)\n"
     ]
    },
    {
     "name": "stdout",
     "output_type": "stream",
     "text": [
      "[1]\tvalid_0's auc: 0.694609\tvalid_0's binary_logloss: 0.435461\tvalid_0's l1: 0.276292\n",
      "Training until validation scores don't improve for 5 rounds\n",
      "[2]\tvalid_0's auc: 0.69923\tvalid_0's binary_logloss: 0.427844\tvalid_0's l1: 0.27242\n",
      "[3]\tvalid_0's auc: 0.700131\tvalid_0's binary_logloss: 0.422448\tvalid_0's l1: 0.269379\n",
      "[4]\tvalid_0's auc: 0.701943\tvalid_0's binary_logloss: 0.418606\tvalid_0's l1: 0.266823\n",
      "[5]\tvalid_0's auc: 0.701628\tvalid_0's binary_logloss: 0.415833\tvalid_0's l1: 0.264657\n",
      "[6]\tvalid_0's auc: 0.703384\tvalid_0's binary_logloss: 0.413634\tvalid_0's l1: 0.262125\n",
      "[7]\tvalid_0's auc: 0.704249\tvalid_0's binary_logloss: 0.412334\tvalid_0's l1: 0.260937\n",
      "[8]\tvalid_0's auc: 0.70348\tvalid_0's binary_logloss: 0.41157\tvalid_0's l1: 0.258768\n",
      "[9]\tvalid_0's auc: 0.704255\tvalid_0's binary_logloss: 0.410866\tvalid_0's l1: 0.257457\n",
      "[10]\tvalid_0's auc: 0.703385\tvalid_0's binary_logloss: 0.410661\tvalid_0's l1: 0.25579\n",
      "[11]\tvalid_0's auc: 0.704037\tvalid_0's binary_logloss: 0.410094\tvalid_0's l1: 0.255011\n",
      "[12]\tvalid_0's auc: 0.703321\tvalid_0's binary_logloss: 0.410209\tvalid_0's l1: 0.252877\n",
      "[13]\tvalid_0's auc: 0.702996\tvalid_0's binary_logloss: 0.410129\tvalid_0's l1: 0.25277\n",
      "[14]\tvalid_0's auc: 0.703016\tvalid_0's binary_logloss: 0.410023\tvalid_0's l1: 0.251547\n",
      "Early stopping, best iteration is:\n",
      "[9]\tvalid_0's auc: 0.704255\tvalid_0's binary_logloss: 0.410866\tvalid_0's l1: 0.257457\n"
     ]
    },
    {
     "name": "stderr",
     "output_type": "stream",
     "text": [
      "C:\\Users\\kaviy\\anaconda3\\lib\\site-packages\\sklearn\\utils\\validation.py:73: DataConversionWarning: A column-vector y was passed when a 1d array was expected. Please change the shape of y to (n_samples, ), for example using ravel().\n",
      "  return f(**kwargs)\n"
     ]
    },
    {
     "name": "stdout",
     "output_type": "stream",
     "text": [
      "[1]\tvalid_0's auc: 0.699268\tvalid_0's binary_logloss: 0.435431\tvalid_0's l1: 0.276434\n",
      "Training until validation scores don't improve for 5 rounds\n",
      "[2]\tvalid_0's auc: 0.695065\tvalid_0's binary_logloss: 0.428233\tvalid_0's l1: 0.272712\n",
      "[3]\tvalid_0's auc: 0.697954\tvalid_0's binary_logloss: 0.422945\tvalid_0's l1: 0.26906\n",
      "[4]\tvalid_0's auc: 0.700358\tvalid_0's binary_logloss: 0.419021\tvalid_0's l1: 0.266382\n",
      "[5]\tvalid_0's auc: 0.699787\tvalid_0's binary_logloss: 0.416488\tvalid_0's l1: 0.263795\n",
      "[6]\tvalid_0's auc: 0.701224\tvalid_0's binary_logloss: 0.414565\tvalid_0's l1: 0.262287\n",
      "[7]\tvalid_0's auc: 0.701773\tvalid_0's binary_logloss: 0.412951\tvalid_0's l1: 0.260572\n",
      "[8]\tvalid_0's auc: 0.702337\tvalid_0's binary_logloss: 0.412056\tvalid_0's l1: 0.259905\n",
      "[9]\tvalid_0's auc: 0.702049\tvalid_0's binary_logloss: 0.411645\tvalid_0's l1: 0.257942\n",
      "[10]\tvalid_0's auc: 0.70192\tvalid_0's binary_logloss: 0.411174\tvalid_0's l1: 0.256911\n",
      "[11]\tvalid_0's auc: 0.70089\tvalid_0's binary_logloss: 0.411135\tvalid_0's l1: 0.256384\n",
      "[12]\tvalid_0's auc: 0.700017\tvalid_0's binary_logloss: 0.411105\tvalid_0's l1: 0.254758\n",
      "[13]\tvalid_0's auc: 0.700915\tvalid_0's binary_logloss: 0.410834\tvalid_0's l1: 0.254309\n",
      "Early stopping, best iteration is:\n",
      "[8]\tvalid_0's auc: 0.702337\tvalid_0's binary_logloss: 0.412056\tvalid_0's l1: 0.259905\n"
     ]
    },
    {
     "name": "stderr",
     "output_type": "stream",
     "text": [
      "C:\\Users\\kaviy\\anaconda3\\lib\\site-packages\\sklearn\\utils\\validation.py:73: DataConversionWarning: A column-vector y was passed when a 1d array was expected. Please change the shape of y to (n_samples, ), for example using ravel().\n",
      "  return f(**kwargs)\n"
     ]
    },
    {
     "name": "stdout",
     "output_type": "stream",
     "text": [
      "[1]\tvalid_0's auc: 0.630879\tvalid_0's binary_logloss: 0.437653\tvalid_0's l1: 0.274448\n",
      "Training until validation scores don't improve for 5 rounds\n",
      "[2]\tvalid_0's auc: 0.687164\tvalid_0's binary_logloss: 0.429642\tvalid_0's l1: 0.27157\n",
      "[3]\tvalid_0's auc: 0.691545\tvalid_0's binary_logloss: 0.424311\tvalid_0's l1: 0.268204\n",
      "[4]\tvalid_0's auc: 0.696574\tvalid_0's binary_logloss: 0.41998\tvalid_0's l1: 0.268702\n",
      "[5]\tvalid_0's auc: 0.698128\tvalid_0's binary_logloss: 0.41735\tvalid_0's l1: 0.266315\n",
      "[6]\tvalid_0's auc: 0.696219\tvalid_0's binary_logloss: 0.41559\tvalid_0's l1: 0.26546\n",
      "[7]\tvalid_0's auc: 0.695916\tvalid_0's binary_logloss: 0.413945\tvalid_0's l1: 0.262893\n",
      "[8]\tvalid_0's auc: 0.697044\tvalid_0's binary_logloss: 0.412823\tvalid_0's l1: 0.261291\n",
      "[9]\tvalid_0's auc: 0.695552\tvalid_0's binary_logloss: 0.413117\tvalid_0's l1: 0.264528\n",
      "[10]\tvalid_0's auc: 0.697027\tvalid_0's binary_logloss: 0.412583\tvalid_0's l1: 0.263928\n",
      "Early stopping, best iteration is:\n",
      "[5]\tvalid_0's auc: 0.698128\tvalid_0's binary_logloss: 0.41735\tvalid_0's l1: 0.266315\n"
     ]
    },
    {
     "name": "stderr",
     "output_type": "stream",
     "text": [
      "C:\\Users\\kaviy\\anaconda3\\lib\\site-packages\\sklearn\\utils\\validation.py:73: DataConversionWarning: A column-vector y was passed when a 1d array was expected. Please change the shape of y to (n_samples, ), for example using ravel().\n",
      "  return f(**kwargs)\n"
     ]
    },
    {
     "name": "stdout",
     "output_type": "stream",
     "text": [
      "[1]\tvalid_0's auc: 0.694931\tvalid_0's binary_logloss: 0.434955\tvalid_0's l1: 0.275657\n",
      "Training until validation scores don't improve for 5 rounds\n",
      "[2]\tvalid_0's auc: 0.698024\tvalid_0's binary_logloss: 0.427442\tvalid_0's l1: 0.272275\n",
      "[3]\tvalid_0's auc: 0.700583\tvalid_0's binary_logloss: 0.421974\tvalid_0's l1: 0.268915\n",
      "[4]\tvalid_0's auc: 0.702559\tvalid_0's binary_logloss: 0.418186\tvalid_0's l1: 0.265995\n",
      "[5]\tvalid_0's auc: 0.702039\tvalid_0's binary_logloss: 0.415704\tvalid_0's l1: 0.263799\n",
      "[6]\tvalid_0's auc: 0.701615\tvalid_0's binary_logloss: 0.413832\tvalid_0's l1: 0.261895\n",
      "[7]\tvalid_0's auc: 0.704146\tvalid_0's binary_logloss: 0.412388\tvalid_0's l1: 0.26025\n",
      "[8]\tvalid_0's auc: 0.702962\tvalid_0's binary_logloss: 0.411657\tvalid_0's l1: 0.258177\n",
      "[9]\tvalid_0's auc: 0.701566\tvalid_0's binary_logloss: 0.411615\tvalid_0's l1: 0.256761\n",
      "[10]\tvalid_0's auc: 0.70107\tvalid_0's binary_logloss: 0.411512\tvalid_0's l1: 0.255136\n",
      "[11]\tvalid_0's auc: 0.699103\tvalid_0's binary_logloss: 0.41204\tvalid_0's l1: 0.253234\n",
      "[12]\tvalid_0's auc: 0.69916\tvalid_0's binary_logloss: 0.411769\tvalid_0's l1: 0.252338\n",
      "Early stopping, best iteration is:\n",
      "[7]\tvalid_0's auc: 0.704146\tvalid_0's binary_logloss: 0.412388\tvalid_0's l1: 0.26025\n"
     ]
    },
    {
     "name": "stderr",
     "output_type": "stream",
     "text": [
      "C:\\Users\\kaviy\\anaconda3\\lib\\site-packages\\sklearn\\utils\\validation.py:73: DataConversionWarning: A column-vector y was passed when a 1d array was expected. Please change the shape of y to (n_samples, ), for example using ravel().\n",
      "  return f(**kwargs)\n"
     ]
    },
    {
     "name": "stdout",
     "output_type": "stream",
     "text": [
      "[1]\tvalid_0's auc: 0.675029\tvalid_0's binary_logloss: 0.435963\tvalid_0's l1: 0.274566\n",
      "Training until validation scores don't improve for 5 rounds\n",
      "[2]\tvalid_0's auc: 0.699567\tvalid_0's binary_logloss: 0.427349\tvalid_0's l1: 0.272011\n",
      "[3]\tvalid_0's auc: 0.699486\tvalid_0's binary_logloss: 0.422208\tvalid_0's l1: 0.26891\n",
      "[4]\tvalid_0's auc: 0.700192\tvalid_0's binary_logloss: 0.41856\tvalid_0's l1: 0.265777\n",
      "[5]\tvalid_0's auc: 0.70199\tvalid_0's binary_logloss: 0.416065\tvalid_0's l1: 0.263391\n",
      "[6]\tvalid_0's auc: 0.701584\tvalid_0's binary_logloss: 0.414338\tvalid_0's l1: 0.261535\n",
      "[7]\tvalid_0's auc: 0.702289\tvalid_0's binary_logloss: 0.412662\tvalid_0's l1: 0.259422\n",
      "[8]\tvalid_0's auc: 0.703811\tvalid_0's binary_logloss: 0.411413\tvalid_0's l1: 0.258007\n",
      "[9]\tvalid_0's auc: 0.70413\tvalid_0's binary_logloss: 0.410689\tvalid_0's l1: 0.25701\n",
      "[10]\tvalid_0's auc: 0.703443\tvalid_0's binary_logloss: 0.410484\tvalid_0's l1: 0.255084\n",
      "[11]\tvalid_0's auc: 0.703792\tvalid_0's binary_logloss: 0.410556\tvalid_0's l1: 0.252791\n",
      "[12]\tvalid_0's auc: 0.70338\tvalid_0's binary_logloss: 0.41043\tvalid_0's l1: 0.252499\n",
      "[13]\tvalid_0's auc: 0.702997\tvalid_0's binary_logloss: 0.410528\tvalid_0's l1: 0.251885\n",
      "[14]\tvalid_0's auc: 0.702709\tvalid_0's binary_logloss: 0.41069\tvalid_0's l1: 0.250655\n",
      "Early stopping, best iteration is:\n",
      "[9]\tvalid_0's auc: 0.70413\tvalid_0's binary_logloss: 0.410689\tvalid_0's l1: 0.25701\n"
     ]
    },
    {
     "name": "stderr",
     "output_type": "stream",
     "text": [
      "C:\\Users\\kaviy\\anaconda3\\lib\\site-packages\\sklearn\\utils\\validation.py:73: DataConversionWarning: A column-vector y was passed when a 1d array was expected. Please change the shape of y to (n_samples, ), for example using ravel().\n",
      "  return f(**kwargs)\n"
     ]
    },
    {
     "name": "stdout",
     "output_type": "stream",
     "text": [
      "[1]\tvalid_0's auc: 0.694609\tvalid_0's binary_logloss: 0.435461\tvalid_0's l1: 0.276292\n",
      "Training until validation scores don't improve for 5 rounds\n",
      "[2]\tvalid_0's auc: 0.69923\tvalid_0's binary_logloss: 0.427844\tvalid_0's l1: 0.27242\n",
      "[3]\tvalid_0's auc: 0.700131\tvalid_0's binary_logloss: 0.422448\tvalid_0's l1: 0.269379\n",
      "[4]\tvalid_0's auc: 0.701943\tvalid_0's binary_logloss: 0.418606\tvalid_0's l1: 0.266823\n",
      "[5]\tvalid_0's auc: 0.701628\tvalid_0's binary_logloss: 0.415833\tvalid_0's l1: 0.264657\n",
      "[6]\tvalid_0's auc: 0.703384\tvalid_0's binary_logloss: 0.413634\tvalid_0's l1: 0.262125\n",
      "[7]\tvalid_0's auc: 0.704249\tvalid_0's binary_logloss: 0.412334\tvalid_0's l1: 0.260937\n",
      "[8]\tvalid_0's auc: 0.70348\tvalid_0's binary_logloss: 0.41157\tvalid_0's l1: 0.258768\n",
      "[9]\tvalid_0's auc: 0.704255\tvalid_0's binary_logloss: 0.410866\tvalid_0's l1: 0.257457\n",
      "[10]\tvalid_0's auc: 0.703385\tvalid_0's binary_logloss: 0.410661\tvalid_0's l1: 0.25579\n",
      "[11]\tvalid_0's auc: 0.704037\tvalid_0's binary_logloss: 0.410094\tvalid_0's l1: 0.255011\n",
      "[12]\tvalid_0's auc: 0.703321\tvalid_0's binary_logloss: 0.410209\tvalid_0's l1: 0.252877\n",
      "[13]\tvalid_0's auc: 0.702996\tvalid_0's binary_logloss: 0.410129\tvalid_0's l1: 0.25277\n",
      "[14]\tvalid_0's auc: 0.703016\tvalid_0's binary_logloss: 0.410023\tvalid_0's l1: 0.251547\n",
      "Early stopping, best iteration is:\n",
      "[9]\tvalid_0's auc: 0.704255\tvalid_0's binary_logloss: 0.410866\tvalid_0's l1: 0.257457\n"
     ]
    },
    {
     "name": "stderr",
     "output_type": "stream",
     "text": [
      "C:\\Users\\kaviy\\anaconda3\\lib\\site-packages\\sklearn\\utils\\validation.py:73: DataConversionWarning: A column-vector y was passed when a 1d array was expected. Please change the shape of y to (n_samples, ), for example using ravel().\n",
      "  return f(**kwargs)\n"
     ]
    },
    {
     "name": "stdout",
     "output_type": "stream",
     "text": [
      "[1]\tvalid_0's auc: 0.699268\tvalid_0's binary_logloss: 0.435431\tvalid_0's l1: 0.276434\n",
      "Training until validation scores don't improve for 5 rounds\n",
      "[2]\tvalid_0's auc: 0.695065\tvalid_0's binary_logloss: 0.428233\tvalid_0's l1: 0.272712\n",
      "[3]\tvalid_0's auc: 0.697954\tvalid_0's binary_logloss: 0.422945\tvalid_0's l1: 0.26906\n",
      "[4]\tvalid_0's auc: 0.700358\tvalid_0's binary_logloss: 0.419021\tvalid_0's l1: 0.266382\n",
      "[5]\tvalid_0's auc: 0.699787\tvalid_0's binary_logloss: 0.416488\tvalid_0's l1: 0.263795\n",
      "[6]\tvalid_0's auc: 0.701224\tvalid_0's binary_logloss: 0.414565\tvalid_0's l1: 0.262287\n",
      "[7]\tvalid_0's auc: 0.701773\tvalid_0's binary_logloss: 0.412951\tvalid_0's l1: 0.260572\n",
      "[8]\tvalid_0's auc: 0.702337\tvalid_0's binary_logloss: 0.412056\tvalid_0's l1: 0.259905\n",
      "[9]\tvalid_0's auc: 0.702049\tvalid_0's binary_logloss: 0.411645\tvalid_0's l1: 0.257942\n",
      "[10]\tvalid_0's auc: 0.70192\tvalid_0's binary_logloss: 0.411174\tvalid_0's l1: 0.256911\n",
      "[11]\tvalid_0's auc: 0.70089\tvalid_0's binary_logloss: 0.411135\tvalid_0's l1: 0.256384\n",
      "[12]\tvalid_0's auc: 0.700017\tvalid_0's binary_logloss: 0.411105\tvalid_0's l1: 0.254758\n",
      "[13]\tvalid_0's auc: 0.700915\tvalid_0's binary_logloss: 0.410834\tvalid_0's l1: 0.254309\n",
      "Early stopping, best iteration is:\n",
      "[8]\tvalid_0's auc: 0.702337\tvalid_0's binary_logloss: 0.412056\tvalid_0's l1: 0.259905\n"
     ]
    },
    {
     "name": "stderr",
     "output_type": "stream",
     "text": [
      "C:\\Users\\kaviy\\anaconda3\\lib\\site-packages\\sklearn\\utils\\validation.py:73: DataConversionWarning: A column-vector y was passed when a 1d array was expected. Please change the shape of y to (n_samples, ), for example using ravel().\n",
      "  return f(**kwargs)\n"
     ]
    },
    {
     "name": "stdout",
     "output_type": "stream",
     "text": [
      "[1]\tvalid_0's auc: 0.630879\tvalid_0's binary_logloss: 0.437653\tvalid_0's l1: 0.274448\n",
      "Training until validation scores don't improve for 5 rounds\n",
      "[2]\tvalid_0's auc: 0.687164\tvalid_0's binary_logloss: 0.429642\tvalid_0's l1: 0.27157\n",
      "[3]\tvalid_0's auc: 0.691545\tvalid_0's binary_logloss: 0.424311\tvalid_0's l1: 0.268204\n",
      "[4]\tvalid_0's auc: 0.696574\tvalid_0's binary_logloss: 0.41998\tvalid_0's l1: 0.268702\n",
      "[5]\tvalid_0's auc: 0.698128\tvalid_0's binary_logloss: 0.41735\tvalid_0's l1: 0.266315\n",
      "[6]\tvalid_0's auc: 0.696219\tvalid_0's binary_logloss: 0.41559\tvalid_0's l1: 0.26546\n",
      "[7]\tvalid_0's auc: 0.695916\tvalid_0's binary_logloss: 0.413945\tvalid_0's l1: 0.262893\n",
      "[8]\tvalid_0's auc: 0.697044\tvalid_0's binary_logloss: 0.412823\tvalid_0's l1: 0.261291\n",
      "[9]\tvalid_0's auc: 0.695552\tvalid_0's binary_logloss: 0.413117\tvalid_0's l1: 0.264528\n",
      "[10]\tvalid_0's auc: 0.697027\tvalid_0's binary_logloss: 0.412583\tvalid_0's l1: 0.263928\n",
      "Early stopping, best iteration is:\n",
      "[5]\tvalid_0's auc: 0.698128\tvalid_0's binary_logloss: 0.41735\tvalid_0's l1: 0.266315\n"
     ]
    },
    {
     "name": "stderr",
     "output_type": "stream",
     "text": [
      "C:\\Users\\kaviy\\anaconda3\\lib\\site-packages\\sklearn\\utils\\validation.py:73: DataConversionWarning: A column-vector y was passed when a 1d array was expected. Please change the shape of y to (n_samples, ), for example using ravel().\n",
      "  return f(**kwargs)\n"
     ]
    },
    {
     "name": "stdout",
     "output_type": "stream",
     "text": [
      "[1]\tvalid_0's auc: 0.694931\tvalid_0's binary_logloss: 0.434955\tvalid_0's l1: 0.275657\n",
      "Training until validation scores don't improve for 5 rounds\n",
      "[2]\tvalid_0's auc: 0.698024\tvalid_0's binary_logloss: 0.427442\tvalid_0's l1: 0.272275\n",
      "[3]\tvalid_0's auc: 0.700583\tvalid_0's binary_logloss: 0.421974\tvalid_0's l1: 0.268915\n",
      "[4]\tvalid_0's auc: 0.702559\tvalid_0's binary_logloss: 0.418186\tvalid_0's l1: 0.265995\n",
      "[5]\tvalid_0's auc: 0.702039\tvalid_0's binary_logloss: 0.415704\tvalid_0's l1: 0.263799\n",
      "[6]\tvalid_0's auc: 0.701615\tvalid_0's binary_logloss: 0.413832\tvalid_0's l1: 0.261895\n",
      "[7]\tvalid_0's auc: 0.704146\tvalid_0's binary_logloss: 0.412388\tvalid_0's l1: 0.26025\n",
      "[8]\tvalid_0's auc: 0.702962\tvalid_0's binary_logloss: 0.411657\tvalid_0's l1: 0.258177\n",
      "[9]\tvalid_0's auc: 0.701566\tvalid_0's binary_logloss: 0.411615\tvalid_0's l1: 0.256761\n",
      "[10]\tvalid_0's auc: 0.70107\tvalid_0's binary_logloss: 0.411512\tvalid_0's l1: 0.255136\n",
      "[11]\tvalid_0's auc: 0.699103\tvalid_0's binary_logloss: 0.41204\tvalid_0's l1: 0.253234\n",
      "[12]\tvalid_0's auc: 0.69916\tvalid_0's binary_logloss: 0.411769\tvalid_0's l1: 0.252338\n",
      "Early stopping, best iteration is:\n",
      "[7]\tvalid_0's auc: 0.704146\tvalid_0's binary_logloss: 0.412388\tvalid_0's l1: 0.26025\n"
     ]
    },
    {
     "name": "stderr",
     "output_type": "stream",
     "text": [
      "C:\\Users\\kaviy\\anaconda3\\lib\\site-packages\\sklearn\\utils\\validation.py:73: DataConversionWarning: A column-vector y was passed when a 1d array was expected. Please change the shape of y to (n_samples, ), for example using ravel().\n",
      "  return f(**kwargs)\n"
     ]
    },
    {
     "name": "stdout",
     "output_type": "stream",
     "text": [
      "[1]\tvalid_0's auc: 0.675029\tvalid_0's binary_logloss: 0.435963\tvalid_0's l1: 0.274566\n",
      "Training until validation scores don't improve for 5 rounds\n",
      "[2]\tvalid_0's auc: 0.699567\tvalid_0's binary_logloss: 0.427349\tvalid_0's l1: 0.272011\n",
      "[3]\tvalid_0's auc: 0.699486\tvalid_0's binary_logloss: 0.422208\tvalid_0's l1: 0.26891\n",
      "[4]\tvalid_0's auc: 0.700192\tvalid_0's binary_logloss: 0.41856\tvalid_0's l1: 0.265777\n",
      "[5]\tvalid_0's auc: 0.70199\tvalid_0's binary_logloss: 0.416065\tvalid_0's l1: 0.263391\n",
      "[6]\tvalid_0's auc: 0.701584\tvalid_0's binary_logloss: 0.414338\tvalid_0's l1: 0.261535\n",
      "[7]\tvalid_0's auc: 0.702289\tvalid_0's binary_logloss: 0.412662\tvalid_0's l1: 0.259422\n",
      "[8]\tvalid_0's auc: 0.703811\tvalid_0's binary_logloss: 0.411413\tvalid_0's l1: 0.258007\n",
      "[9]\tvalid_0's auc: 0.70413\tvalid_0's binary_logloss: 0.410689\tvalid_0's l1: 0.25701\n",
      "[10]\tvalid_0's auc: 0.703443\tvalid_0's binary_logloss: 0.410484\tvalid_0's l1: 0.255084\n",
      "[11]\tvalid_0's auc: 0.703792\tvalid_0's binary_logloss: 0.410556\tvalid_0's l1: 0.252791\n",
      "[12]\tvalid_0's auc: 0.70338\tvalid_0's binary_logloss: 0.41043\tvalid_0's l1: 0.252499\n",
      "[13]\tvalid_0's auc: 0.702997\tvalid_0's binary_logloss: 0.410528\tvalid_0's l1: 0.251885\n",
      "[14]\tvalid_0's auc: 0.702709\tvalid_0's binary_logloss: 0.41069\tvalid_0's l1: 0.250655\n",
      "Early stopping, best iteration is:\n",
      "[9]\tvalid_0's auc: 0.70413\tvalid_0's binary_logloss: 0.410689\tvalid_0's l1: 0.25701\n"
     ]
    },
    {
     "name": "stderr",
     "output_type": "stream",
     "text": [
      "C:\\Users\\kaviy\\anaconda3\\lib\\site-packages\\sklearn\\utils\\validation.py:73: DataConversionWarning: A column-vector y was passed when a 1d array was expected. Please change the shape of y to (n_samples, ), for example using ravel().\n",
      "  return f(**kwargs)\n"
     ]
    },
    {
     "name": "stdout",
     "output_type": "stream",
     "text": [
      "[1]\tvalid_0's auc: 0.694609\tvalid_0's binary_logloss: 0.435461\tvalid_0's l1: 0.276292\n",
      "Training until validation scores don't improve for 5 rounds\n",
      "[2]\tvalid_0's auc: 0.69923\tvalid_0's binary_logloss: 0.427844\tvalid_0's l1: 0.27242\n",
      "[3]\tvalid_0's auc: 0.700131\tvalid_0's binary_logloss: 0.422448\tvalid_0's l1: 0.269379\n",
      "[4]\tvalid_0's auc: 0.701943\tvalid_0's binary_logloss: 0.418606\tvalid_0's l1: 0.266823\n",
      "[5]\tvalid_0's auc: 0.701628\tvalid_0's binary_logloss: 0.415833\tvalid_0's l1: 0.264657\n",
      "[6]\tvalid_0's auc: 0.703384\tvalid_0's binary_logloss: 0.413634\tvalid_0's l1: 0.262125\n",
      "[7]\tvalid_0's auc: 0.704249\tvalid_0's binary_logloss: 0.412334\tvalid_0's l1: 0.260937\n",
      "[8]\tvalid_0's auc: 0.70348\tvalid_0's binary_logloss: 0.41157\tvalid_0's l1: 0.258768\n",
      "[9]\tvalid_0's auc: 0.704255\tvalid_0's binary_logloss: 0.410866\tvalid_0's l1: 0.257457\n",
      "[10]\tvalid_0's auc: 0.703385\tvalid_0's binary_logloss: 0.410661\tvalid_0's l1: 0.25579\n",
      "[11]\tvalid_0's auc: 0.704037\tvalid_0's binary_logloss: 0.410094\tvalid_0's l1: 0.255011\n",
      "[12]\tvalid_0's auc: 0.703321\tvalid_0's binary_logloss: 0.410209\tvalid_0's l1: 0.252877\n",
      "[13]\tvalid_0's auc: 0.702996\tvalid_0's binary_logloss: 0.410129\tvalid_0's l1: 0.25277\n",
      "[14]\tvalid_0's auc: 0.703016\tvalid_0's binary_logloss: 0.410023\tvalid_0's l1: 0.251547\n",
      "Early stopping, best iteration is:\n",
      "[9]\tvalid_0's auc: 0.704255\tvalid_0's binary_logloss: 0.410866\tvalid_0's l1: 0.257457\n"
     ]
    },
    {
     "name": "stderr",
     "output_type": "stream",
     "text": [
      "C:\\Users\\kaviy\\anaconda3\\lib\\site-packages\\sklearn\\utils\\validation.py:73: DataConversionWarning: A column-vector y was passed when a 1d array was expected. Please change the shape of y to (n_samples, ), for example using ravel().\n",
      "  return f(**kwargs)\n"
     ]
    },
    {
     "name": "stdout",
     "output_type": "stream",
     "text": [
      "[1]\tvalid_0's auc: 0.699268\tvalid_0's binary_logloss: 0.435431\tvalid_0's l1: 0.276434\n",
      "Training until validation scores don't improve for 5 rounds\n",
      "[2]\tvalid_0's auc: 0.695065\tvalid_0's binary_logloss: 0.428233\tvalid_0's l1: 0.272712\n",
      "[3]\tvalid_0's auc: 0.697954\tvalid_0's binary_logloss: 0.422945\tvalid_0's l1: 0.26906\n",
      "[4]\tvalid_0's auc: 0.700358\tvalid_0's binary_logloss: 0.419021\tvalid_0's l1: 0.266382\n",
      "[5]\tvalid_0's auc: 0.699787\tvalid_0's binary_logloss: 0.416488\tvalid_0's l1: 0.263795\n",
      "[6]\tvalid_0's auc: 0.701224\tvalid_0's binary_logloss: 0.414565\tvalid_0's l1: 0.262287\n",
      "[7]\tvalid_0's auc: 0.701773\tvalid_0's binary_logloss: 0.412951\tvalid_0's l1: 0.260572\n",
      "[8]\tvalid_0's auc: 0.702337\tvalid_0's binary_logloss: 0.412056\tvalid_0's l1: 0.259905\n",
      "[9]\tvalid_0's auc: 0.702049\tvalid_0's binary_logloss: 0.411645\tvalid_0's l1: 0.257942\n",
      "[10]\tvalid_0's auc: 0.70192\tvalid_0's binary_logloss: 0.411174\tvalid_0's l1: 0.256911\n",
      "[11]\tvalid_0's auc: 0.70089\tvalid_0's binary_logloss: 0.411135\tvalid_0's l1: 0.256384\n",
      "[12]\tvalid_0's auc: 0.700017\tvalid_0's binary_logloss: 0.411105\tvalid_0's l1: 0.254758\n",
      "[13]\tvalid_0's auc: 0.700915\tvalid_0's binary_logloss: 0.410834\tvalid_0's l1: 0.254309\n",
      "Early stopping, best iteration is:\n",
      "[8]\tvalid_0's auc: 0.702337\tvalid_0's binary_logloss: 0.412056\tvalid_0's l1: 0.259905\n"
     ]
    },
    {
     "name": "stderr",
     "output_type": "stream",
     "text": [
      "C:\\Users\\kaviy\\anaconda3\\lib\\site-packages\\sklearn\\utils\\validation.py:73: DataConversionWarning: A column-vector y was passed when a 1d array was expected. Please change the shape of y to (n_samples, ), for example using ravel().\n",
      "  return f(**kwargs)\n"
     ]
    },
    {
     "name": "stdout",
     "output_type": "stream",
     "text": [
      "[1]\tvalid_0's auc: 0.630879\tvalid_0's binary_logloss: 0.437653\tvalid_0's l1: 0.274448\n",
      "Training until validation scores don't improve for 5 rounds\n",
      "[2]\tvalid_0's auc: 0.687164\tvalid_0's binary_logloss: 0.429642\tvalid_0's l1: 0.27157\n",
      "[3]\tvalid_0's auc: 0.691545\tvalid_0's binary_logloss: 0.424311\tvalid_0's l1: 0.268204\n",
      "[4]\tvalid_0's auc: 0.696574\tvalid_0's binary_logloss: 0.41998\tvalid_0's l1: 0.268702\n",
      "[5]\tvalid_0's auc: 0.698128\tvalid_0's binary_logloss: 0.41735\tvalid_0's l1: 0.266315\n",
      "[6]\tvalid_0's auc: 0.696219\tvalid_0's binary_logloss: 0.41559\tvalid_0's l1: 0.26546\n",
      "[7]\tvalid_0's auc: 0.695916\tvalid_0's binary_logloss: 0.413945\tvalid_0's l1: 0.262893\n",
      "[8]\tvalid_0's auc: 0.697044\tvalid_0's binary_logloss: 0.412823\tvalid_0's l1: 0.261291\n",
      "[9]\tvalid_0's auc: 0.695552\tvalid_0's binary_logloss: 0.413117\tvalid_0's l1: 0.264528\n",
      "[10]\tvalid_0's auc: 0.697027\tvalid_0's binary_logloss: 0.412583\tvalid_0's l1: 0.263928\n",
      "Early stopping, best iteration is:\n",
      "[5]\tvalid_0's auc: 0.698128\tvalid_0's binary_logloss: 0.41735\tvalid_0's l1: 0.266315\n"
     ]
    },
    {
     "name": "stderr",
     "output_type": "stream",
     "text": [
      "C:\\Users\\kaviy\\anaconda3\\lib\\site-packages\\sklearn\\utils\\validation.py:73: DataConversionWarning: A column-vector y was passed when a 1d array was expected. Please change the shape of y to (n_samples, ), for example using ravel().\n",
      "  return f(**kwargs)\n"
     ]
    },
    {
     "name": "stdout",
     "output_type": "stream",
     "text": [
      "[1]\tvalid_0's auc: 0.694931\tvalid_0's binary_logloss: 0.433391\tvalid_0's l1: 0.275022\n",
      "Training until validation scores don't improve for 5 rounds\n",
      "[2]\tvalid_0's auc: 0.701633\tvalid_0's binary_logloss: 0.425174\tvalid_0's l1: 0.271422\n",
      "[3]\tvalid_0's auc: 0.701895\tvalid_0's binary_logloss: 0.420033\tvalid_0's l1: 0.267976\n",
      "[4]\tvalid_0's auc: 0.704271\tvalid_0's binary_logloss: 0.416273\tvalid_0's l1: 0.265065\n",
      "[5]\tvalid_0's auc: 0.70319\tvalid_0's binary_logloss: 0.414096\tvalid_0's l1: 0.262546\n",
      "[6]\tvalid_0's auc: 0.703007\tvalid_0's binary_logloss: 0.412609\tvalid_0's l1: 0.260035\n",
      "[7]\tvalid_0's auc: 0.703727\tvalid_0's binary_logloss: 0.411507\tvalid_0's l1: 0.258684\n",
      "[8]\tvalid_0's auc: 0.703725\tvalid_0's binary_logloss: 0.411229\tvalid_0's l1: 0.256532\n",
      "[9]\tvalid_0's auc: 0.702871\tvalid_0's binary_logloss: 0.411079\tvalid_0's l1: 0.254693\n",
      "Early stopping, best iteration is:\n",
      "[4]\tvalid_0's auc: 0.704271\tvalid_0's binary_logloss: 0.416273\tvalid_0's l1: 0.265065\n"
     ]
    },
    {
     "name": "stderr",
     "output_type": "stream",
     "text": [
      "C:\\Users\\kaviy\\anaconda3\\lib\\site-packages\\sklearn\\utils\\validation.py:73: DataConversionWarning: A column-vector y was passed when a 1d array was expected. Please change the shape of y to (n_samples, ), for example using ravel().\n",
      "  return f(**kwargs)\n"
     ]
    },
    {
     "name": "stdout",
     "output_type": "stream",
     "text": [
      "[1]\tvalid_0's auc: 0.675029\tvalid_0's binary_logloss: 0.43454\tvalid_0's l1: 0.273768\n",
      "Training until validation scores don't improve for 5 rounds\n",
      "[2]\tvalid_0's auc: 0.69958\tvalid_0's binary_logloss: 0.425493\tvalid_0's l1: 0.270983\n",
      "[3]\tvalid_0's auc: 0.697943\tvalid_0's binary_logloss: 0.420518\tvalid_0's l1: 0.267796\n",
      "[4]\tvalid_0's auc: 0.698202\tvalid_0's binary_logloss: 0.417189\tvalid_0's l1: 0.265636\n",
      "[5]\tvalid_0's auc: 0.700562\tvalid_0's binary_logloss: 0.414601\tvalid_0's l1: 0.262652\n",
      "[6]\tvalid_0's auc: 0.700921\tvalid_0's binary_logloss: 0.413347\tvalid_0's l1: 0.261822\n",
      "[7]\tvalid_0's auc: 0.702282\tvalid_0's binary_logloss: 0.411972\tvalid_0's l1: 0.259987\n",
      "[8]\tvalid_0's auc: 0.701819\tvalid_0's binary_logloss: 0.411542\tvalid_0's l1: 0.256652\n",
      "[9]\tvalid_0's auc: 0.699172\tvalid_0's binary_logloss: 0.41253\tvalid_0's l1: 0.256883\n",
      "[10]\tvalid_0's auc: 0.699639\tvalid_0's binary_logloss: 0.412089\tvalid_0's l1: 0.254735\n",
      "[11]\tvalid_0's auc: 0.699447\tvalid_0's binary_logloss: 0.411998\tvalid_0's l1: 0.25452\n",
      "[12]\tvalid_0's auc: 0.699363\tvalid_0's binary_logloss: 0.411964\tvalid_0's l1: 0.25359\n",
      "Early stopping, best iteration is:\n",
      "[7]\tvalid_0's auc: 0.702282\tvalid_0's binary_logloss: 0.411972\tvalid_0's l1: 0.259987\n"
     ]
    },
    {
     "name": "stderr",
     "output_type": "stream",
     "text": [
      "C:\\Users\\kaviy\\anaconda3\\lib\\site-packages\\sklearn\\utils\\validation.py:73: DataConversionWarning: A column-vector y was passed when a 1d array was expected. Please change the shape of y to (n_samples, ), for example using ravel().\n",
      "  return f(**kwargs)\n"
     ]
    },
    {
     "name": "stdout",
     "output_type": "stream",
     "text": [
      "[1]\tvalid_0's auc: 0.694609\tvalid_0's binary_logloss: 0.433955\tvalid_0's l1: 0.27574\n",
      "Training until validation scores don't improve for 5 rounds\n",
      "[2]\tvalid_0's auc: 0.699125\tvalid_0's binary_logloss: 0.425977\tvalid_0's l1: 0.271405\n",
      "[3]\tvalid_0's auc: 0.703437\tvalid_0's binary_logloss: 0.41982\tvalid_0's l1: 0.267709\n",
      "[4]\tvalid_0's auc: 0.702817\tvalid_0's binary_logloss: 0.416423\tvalid_0's l1: 0.265419\n",
      "[5]\tvalid_0's auc: 0.702984\tvalid_0's binary_logloss: 0.414008\tvalid_0's l1: 0.262453\n",
      "[6]\tvalid_0's auc: 0.703278\tvalid_0's binary_logloss: 0.412553\tvalid_0's l1: 0.259944\n",
      "[7]\tvalid_0's auc: 0.704104\tvalid_0's binary_logloss: 0.41118\tvalid_0's l1: 0.258425\n",
      "[8]\tvalid_0's auc: 0.703637\tvalid_0's binary_logloss: 0.410502\tvalid_0's l1: 0.256298\n",
      "[9]\tvalid_0's auc: 0.70421\tvalid_0's binary_logloss: 0.410008\tvalid_0's l1: 0.255531\n",
      "[10]\tvalid_0's auc: 0.703805\tvalid_0's binary_logloss: 0.409803\tvalid_0's l1: 0.254603\n",
      "[11]\tvalid_0's auc: 0.703076\tvalid_0's binary_logloss: 0.409932\tvalid_0's l1: 0.2523\n",
      "[12]\tvalid_0's auc: 0.702653\tvalid_0's binary_logloss: 0.410021\tvalid_0's l1: 0.251961\n",
      "[13]\tvalid_0's auc: 0.703473\tvalid_0's binary_logloss: 0.410043\tvalid_0's l1: 0.25103\n",
      "[14]\tvalid_0's auc: 0.702138\tvalid_0's binary_logloss: 0.410508\tvalid_0's l1: 0.25102\n",
      "Early stopping, best iteration is:\n",
      "[9]\tvalid_0's auc: 0.70421\tvalid_0's binary_logloss: 0.410008\tvalid_0's l1: 0.255531\n"
     ]
    },
    {
     "name": "stderr",
     "output_type": "stream",
     "text": [
      "C:\\Users\\kaviy\\anaconda3\\lib\\site-packages\\sklearn\\utils\\validation.py:73: DataConversionWarning: A column-vector y was passed when a 1d array was expected. Please change the shape of y to (n_samples, ), for example using ravel().\n",
      "  return f(**kwargs)\n"
     ]
    },
    {
     "name": "stdout",
     "output_type": "stream",
     "text": [
      "[1]\tvalid_0's auc: 0.699268\tvalid_0's binary_logloss: 0.433918\tvalid_0's l1: 0.275896\n",
      "Training until validation scores don't improve for 5 rounds\n",
      "[2]\tvalid_0's auc: 0.695418\tvalid_0's binary_logloss: 0.426336\tvalid_0's l1: 0.272018\n",
      "[3]\tvalid_0's auc: 0.695214\tvalid_0's binary_logloss: 0.421208\tvalid_0's l1: 0.268001\n",
      "[4]\tvalid_0's auc: 0.698544\tvalid_0's binary_logloss: 0.417415\tvalid_0's l1: 0.265307\n",
      "[5]\tvalid_0's auc: 0.699937\tvalid_0's binary_logloss: 0.414751\tvalid_0's l1: 0.262783\n",
      "[6]\tvalid_0's auc: 0.700617\tvalid_0's binary_logloss: 0.413164\tvalid_0's l1: 0.261197\n",
      "[7]\tvalid_0's auc: 0.701234\tvalid_0's binary_logloss: 0.412232\tvalid_0's l1: 0.25949\n",
      "[8]\tvalid_0's auc: 0.700779\tvalid_0's binary_logloss: 0.411696\tvalid_0's l1: 0.257534\n",
      "[9]\tvalid_0's auc: 0.698888\tvalid_0's binary_logloss: 0.411672\tvalid_0's l1: 0.25556\n",
      "[10]\tvalid_0's auc: 0.698933\tvalid_0's binary_logloss: 0.411367\tvalid_0's l1: 0.254668\n",
      "[11]\tvalid_0's auc: 0.699205\tvalid_0's binary_logloss: 0.411366\tvalid_0's l1: 0.253548\n",
      "[12]\tvalid_0's auc: 0.699413\tvalid_0's binary_logloss: 0.411089\tvalid_0's l1: 0.252667\n",
      "Early stopping, best iteration is:\n",
      "[7]\tvalid_0's auc: 0.701234\tvalid_0's binary_logloss: 0.412232\tvalid_0's l1: 0.25949\n"
     ]
    },
    {
     "name": "stderr",
     "output_type": "stream",
     "text": [
      "C:\\Users\\kaviy\\anaconda3\\lib\\site-packages\\sklearn\\utils\\validation.py:73: DataConversionWarning: A column-vector y was passed when a 1d array was expected. Please change the shape of y to (n_samples, ), for example using ravel().\n",
      "  return f(**kwargs)\n"
     ]
    },
    {
     "name": "stdout",
     "output_type": "stream",
     "text": [
      "[1]\tvalid_0's auc: 0.630879\tvalid_0's binary_logloss: 0.436464\tvalid_0's l1: 0.273634\n",
      "Training until validation scores don't improve for 5 rounds\n",
      "[2]\tvalid_0's auc: 0.687985\tvalid_0's binary_logloss: 0.427793\tvalid_0's l1: 0.270531\n",
      "[3]\tvalid_0's auc: 0.696597\tvalid_0's binary_logloss: 0.421687\tvalid_0's l1: 0.270833\n",
      "[4]\tvalid_0's auc: 0.69771\tvalid_0's binary_logloss: 0.418364\tvalid_0's l1: 0.268622\n",
      "[5]\tvalid_0's auc: 0.697072\tvalid_0's binary_logloss: 0.41613\tvalid_0's l1: 0.265542\n",
      "[6]\tvalid_0's auc: 0.698115\tvalid_0's binary_logloss: 0.414135\tvalid_0's l1: 0.262999\n",
      "[7]\tvalid_0's auc: 0.69888\tvalid_0's binary_logloss: 0.412812\tvalid_0's l1: 0.260447\n",
      "[8]\tvalid_0's auc: 0.699233\tvalid_0's binary_logloss: 0.411957\tvalid_0's l1: 0.259061\n",
      "[9]\tvalid_0's auc: 0.698849\tvalid_0's binary_logloss: 0.411833\tvalid_0's l1: 0.258488\n",
      "[10]\tvalid_0's auc: 0.699631\tvalid_0's binary_logloss: 0.411805\tvalid_0's l1: 0.258297\n",
      "[11]\tvalid_0's auc: 0.699227\tvalid_0's binary_logloss: 0.411929\tvalid_0's l1: 0.257445\n",
      "[12]\tvalid_0's auc: 0.69945\tvalid_0's binary_logloss: 0.411697\tvalid_0's l1: 0.25721\n",
      "[13]\tvalid_0's auc: 0.695642\tvalid_0's binary_logloss: 0.413205\tvalid_0's l1: 0.253145\n",
      "[14]\tvalid_0's auc: 0.695389\tvalid_0's binary_logloss: 0.413444\tvalid_0's l1: 0.252671\n",
      "[15]\tvalid_0's auc: 0.694617\tvalid_0's binary_logloss: 0.413951\tvalid_0's l1: 0.252729\n",
      "Early stopping, best iteration is:\n",
      "[10]\tvalid_0's auc: 0.699631\tvalid_0's binary_logloss: 0.411805\tvalid_0's l1: 0.258297\n"
     ]
    },
    {
     "name": "stderr",
     "output_type": "stream",
     "text": [
      "C:\\Users\\kaviy\\anaconda3\\lib\\site-packages\\sklearn\\utils\\validation.py:73: DataConversionWarning: A column-vector y was passed when a 1d array was expected. Please change the shape of y to (n_samples, ), for example using ravel().\n",
      "  return f(**kwargs)\n"
     ]
    },
    {
     "name": "stdout",
     "output_type": "stream",
     "text": [
      "[1]\tvalid_0's auc: 0.694931\tvalid_0's binary_logloss: 0.433391\tvalid_0's l1: 0.275022\n",
      "Training until validation scores don't improve for 5 rounds\n",
      "[2]\tvalid_0's auc: 0.701633\tvalid_0's binary_logloss: 0.425174\tvalid_0's l1: 0.271422\n",
      "[3]\tvalid_0's auc: 0.701895\tvalid_0's binary_logloss: 0.420033\tvalid_0's l1: 0.267976\n",
      "[4]\tvalid_0's auc: 0.704271\tvalid_0's binary_logloss: 0.416273\tvalid_0's l1: 0.265065\n",
      "[5]\tvalid_0's auc: 0.70319\tvalid_0's binary_logloss: 0.414096\tvalid_0's l1: 0.262546\n",
      "[6]\tvalid_0's auc: 0.703007\tvalid_0's binary_logloss: 0.412609\tvalid_0's l1: 0.260035\n",
      "[7]\tvalid_0's auc: 0.703727\tvalid_0's binary_logloss: 0.411507\tvalid_0's l1: 0.258684\n",
      "[8]\tvalid_0's auc: 0.703725\tvalid_0's binary_logloss: 0.411229\tvalid_0's l1: 0.256532\n",
      "[9]\tvalid_0's auc: 0.702871\tvalid_0's binary_logloss: 0.411079\tvalid_0's l1: 0.254693\n",
      "Early stopping, best iteration is:\n",
      "[4]\tvalid_0's auc: 0.704271\tvalid_0's binary_logloss: 0.416273\tvalid_0's l1: 0.265065\n"
     ]
    },
    {
     "name": "stderr",
     "output_type": "stream",
     "text": [
      "C:\\Users\\kaviy\\anaconda3\\lib\\site-packages\\sklearn\\utils\\validation.py:73: DataConversionWarning: A column-vector y was passed when a 1d array was expected. Please change the shape of y to (n_samples, ), for example using ravel().\n",
      "  return f(**kwargs)\n"
     ]
    },
    {
     "name": "stdout",
     "output_type": "stream",
     "text": [
      "[1]\tvalid_0's auc: 0.675029\tvalid_0's binary_logloss: 0.43454\tvalid_0's l1: 0.273768\n",
      "Training until validation scores don't improve for 5 rounds\n",
      "[2]\tvalid_0's auc: 0.69958\tvalid_0's binary_logloss: 0.425493\tvalid_0's l1: 0.270983\n",
      "[3]\tvalid_0's auc: 0.697943\tvalid_0's binary_logloss: 0.420518\tvalid_0's l1: 0.267796\n",
      "[4]\tvalid_0's auc: 0.698202\tvalid_0's binary_logloss: 0.417189\tvalid_0's l1: 0.265636\n",
      "[5]\tvalid_0's auc: 0.700562\tvalid_0's binary_logloss: 0.414601\tvalid_0's l1: 0.262652\n",
      "[6]\tvalid_0's auc: 0.700921\tvalid_0's binary_logloss: 0.413347\tvalid_0's l1: 0.261822\n",
      "[7]\tvalid_0's auc: 0.702282\tvalid_0's binary_logloss: 0.411972\tvalid_0's l1: 0.259987\n",
      "[8]\tvalid_0's auc: 0.701819\tvalid_0's binary_logloss: 0.411542\tvalid_0's l1: 0.256652\n",
      "[9]\tvalid_0's auc: 0.699172\tvalid_0's binary_logloss: 0.41253\tvalid_0's l1: 0.256883\n",
      "[10]\tvalid_0's auc: 0.699639\tvalid_0's binary_logloss: 0.412089\tvalid_0's l1: 0.254735\n",
      "[11]\tvalid_0's auc: 0.699447\tvalid_0's binary_logloss: 0.411998\tvalid_0's l1: 0.25452\n",
      "[12]\tvalid_0's auc: 0.699363\tvalid_0's binary_logloss: 0.411964\tvalid_0's l1: 0.25359\n",
      "Early stopping, best iteration is:\n",
      "[7]\tvalid_0's auc: 0.702282\tvalid_0's binary_logloss: 0.411972\tvalid_0's l1: 0.259987\n"
     ]
    },
    {
     "name": "stderr",
     "output_type": "stream",
     "text": [
      "C:\\Users\\kaviy\\anaconda3\\lib\\site-packages\\sklearn\\utils\\validation.py:73: DataConversionWarning: A column-vector y was passed when a 1d array was expected. Please change the shape of y to (n_samples, ), for example using ravel().\n",
      "  return f(**kwargs)\n"
     ]
    },
    {
     "name": "stdout",
     "output_type": "stream",
     "text": [
      "[1]\tvalid_0's auc: 0.694609\tvalid_0's binary_logloss: 0.433955\tvalid_0's l1: 0.27574\n",
      "Training until validation scores don't improve for 5 rounds\n",
      "[2]\tvalid_0's auc: 0.699125\tvalid_0's binary_logloss: 0.425977\tvalid_0's l1: 0.271405\n",
      "[3]\tvalid_0's auc: 0.703437\tvalid_0's binary_logloss: 0.41982\tvalid_0's l1: 0.267709\n",
      "[4]\tvalid_0's auc: 0.702817\tvalid_0's binary_logloss: 0.416423\tvalid_0's l1: 0.265419\n",
      "[5]\tvalid_0's auc: 0.702984\tvalid_0's binary_logloss: 0.414008\tvalid_0's l1: 0.262453\n",
      "[6]\tvalid_0's auc: 0.703278\tvalid_0's binary_logloss: 0.412553\tvalid_0's l1: 0.259944\n",
      "[7]\tvalid_0's auc: 0.704104\tvalid_0's binary_logloss: 0.41118\tvalid_0's l1: 0.258425\n",
      "[8]\tvalid_0's auc: 0.703637\tvalid_0's binary_logloss: 0.410502\tvalid_0's l1: 0.256298\n",
      "[9]\tvalid_0's auc: 0.70421\tvalid_0's binary_logloss: 0.410008\tvalid_0's l1: 0.255531\n",
      "[10]\tvalid_0's auc: 0.703805\tvalid_0's binary_logloss: 0.409803\tvalid_0's l1: 0.254603\n",
      "[11]\tvalid_0's auc: 0.703076\tvalid_0's binary_logloss: 0.409932\tvalid_0's l1: 0.2523\n",
      "[12]\tvalid_0's auc: 0.702653\tvalid_0's binary_logloss: 0.410021\tvalid_0's l1: 0.251961\n",
      "[13]\tvalid_0's auc: 0.703473\tvalid_0's binary_logloss: 0.410043\tvalid_0's l1: 0.25103\n",
      "[14]\tvalid_0's auc: 0.702138\tvalid_0's binary_logloss: 0.410508\tvalid_0's l1: 0.25102\n",
      "Early stopping, best iteration is:\n",
      "[9]\tvalid_0's auc: 0.70421\tvalid_0's binary_logloss: 0.410008\tvalid_0's l1: 0.255531\n"
     ]
    },
    {
     "name": "stderr",
     "output_type": "stream",
     "text": [
      "C:\\Users\\kaviy\\anaconda3\\lib\\site-packages\\sklearn\\utils\\validation.py:73: DataConversionWarning: A column-vector y was passed when a 1d array was expected. Please change the shape of y to (n_samples, ), for example using ravel().\n",
      "  return f(**kwargs)\n"
     ]
    },
    {
     "name": "stdout",
     "output_type": "stream",
     "text": [
      "[1]\tvalid_0's auc: 0.699268\tvalid_0's binary_logloss: 0.433918\tvalid_0's l1: 0.275896\n",
      "Training until validation scores don't improve for 5 rounds\n",
      "[2]\tvalid_0's auc: 0.695418\tvalid_0's binary_logloss: 0.426336\tvalid_0's l1: 0.272018\n",
      "[3]\tvalid_0's auc: 0.695214\tvalid_0's binary_logloss: 0.421208\tvalid_0's l1: 0.268001\n",
      "[4]\tvalid_0's auc: 0.698544\tvalid_0's binary_logloss: 0.417415\tvalid_0's l1: 0.265307\n",
      "[5]\tvalid_0's auc: 0.699937\tvalid_0's binary_logloss: 0.414751\tvalid_0's l1: 0.262783\n",
      "[6]\tvalid_0's auc: 0.700617\tvalid_0's binary_logloss: 0.413164\tvalid_0's l1: 0.261197\n",
      "[7]\tvalid_0's auc: 0.701234\tvalid_0's binary_logloss: 0.412232\tvalid_0's l1: 0.25949\n",
      "[8]\tvalid_0's auc: 0.700779\tvalid_0's binary_logloss: 0.411696\tvalid_0's l1: 0.257534\n",
      "[9]\tvalid_0's auc: 0.698888\tvalid_0's binary_logloss: 0.411672\tvalid_0's l1: 0.25556\n",
      "[10]\tvalid_0's auc: 0.698933\tvalid_0's binary_logloss: 0.411367\tvalid_0's l1: 0.254668\n",
      "[11]\tvalid_0's auc: 0.699205\tvalid_0's binary_logloss: 0.411366\tvalid_0's l1: 0.253548\n",
      "[12]\tvalid_0's auc: 0.699413\tvalid_0's binary_logloss: 0.411089\tvalid_0's l1: 0.252667\n",
      "Early stopping, best iteration is:\n",
      "[7]\tvalid_0's auc: 0.701234\tvalid_0's binary_logloss: 0.412232\tvalid_0's l1: 0.25949\n"
     ]
    },
    {
     "name": "stderr",
     "output_type": "stream",
     "text": [
      "C:\\Users\\kaviy\\anaconda3\\lib\\site-packages\\sklearn\\utils\\validation.py:73: DataConversionWarning: A column-vector y was passed when a 1d array was expected. Please change the shape of y to (n_samples, ), for example using ravel().\n",
      "  return f(**kwargs)\n"
     ]
    },
    {
     "name": "stdout",
     "output_type": "stream",
     "text": [
      "[1]\tvalid_0's auc: 0.630879\tvalid_0's binary_logloss: 0.436464\tvalid_0's l1: 0.273634\n",
      "Training until validation scores don't improve for 5 rounds\n",
      "[2]\tvalid_0's auc: 0.687985\tvalid_0's binary_logloss: 0.427793\tvalid_0's l1: 0.270531\n",
      "[3]\tvalid_0's auc: 0.696597\tvalid_0's binary_logloss: 0.421687\tvalid_0's l1: 0.270833\n",
      "[4]\tvalid_0's auc: 0.69771\tvalid_0's binary_logloss: 0.418364\tvalid_0's l1: 0.268622\n",
      "[5]\tvalid_0's auc: 0.697072\tvalid_0's binary_logloss: 0.41613\tvalid_0's l1: 0.265542\n",
      "[6]\tvalid_0's auc: 0.698115\tvalid_0's binary_logloss: 0.414135\tvalid_0's l1: 0.262999\n",
      "[7]\tvalid_0's auc: 0.69888\tvalid_0's binary_logloss: 0.412812\tvalid_0's l1: 0.260447\n",
      "[8]\tvalid_0's auc: 0.699233\tvalid_0's binary_logloss: 0.411957\tvalid_0's l1: 0.259061\n",
      "[9]\tvalid_0's auc: 0.698849\tvalid_0's binary_logloss: 0.411833\tvalid_0's l1: 0.258488\n",
      "[10]\tvalid_0's auc: 0.699631\tvalid_0's binary_logloss: 0.411805\tvalid_0's l1: 0.258297\n",
      "[11]\tvalid_0's auc: 0.699227\tvalid_0's binary_logloss: 0.411929\tvalid_0's l1: 0.257445\n",
      "[12]\tvalid_0's auc: 0.69945\tvalid_0's binary_logloss: 0.411697\tvalid_0's l1: 0.25721\n",
      "[13]\tvalid_0's auc: 0.695642\tvalid_0's binary_logloss: 0.413205\tvalid_0's l1: 0.253145\n",
      "[14]\tvalid_0's auc: 0.695389\tvalid_0's binary_logloss: 0.413444\tvalid_0's l1: 0.252671\n",
      "[15]\tvalid_0's auc: 0.694617\tvalid_0's binary_logloss: 0.413951\tvalid_0's l1: 0.252729\n",
      "Early stopping, best iteration is:\n",
      "[10]\tvalid_0's auc: 0.699631\tvalid_0's binary_logloss: 0.411805\tvalid_0's l1: 0.258297\n"
     ]
    },
    {
     "name": "stderr",
     "output_type": "stream",
     "text": [
      "C:\\Users\\kaviy\\anaconda3\\lib\\site-packages\\sklearn\\utils\\validation.py:73: DataConversionWarning: A column-vector y was passed when a 1d array was expected. Please change the shape of y to (n_samples, ), for example using ravel().\n",
      "  return f(**kwargs)\n"
     ]
    },
    {
     "name": "stdout",
     "output_type": "stream",
     "text": [
      "[1]\tvalid_0's auc: 0.694931\tvalid_0's binary_logloss: 0.433391\tvalid_0's l1: 0.275022\n",
      "Training until validation scores don't improve for 5 rounds\n",
      "[2]\tvalid_0's auc: 0.701633\tvalid_0's binary_logloss: 0.425174\tvalid_0's l1: 0.271422\n",
      "[3]\tvalid_0's auc: 0.701895\tvalid_0's binary_logloss: 0.420033\tvalid_0's l1: 0.267976\n",
      "[4]\tvalid_0's auc: 0.704271\tvalid_0's binary_logloss: 0.416273\tvalid_0's l1: 0.265065\n",
      "[5]\tvalid_0's auc: 0.70319\tvalid_0's binary_logloss: 0.414096\tvalid_0's l1: 0.262546\n",
      "[6]\tvalid_0's auc: 0.703007\tvalid_0's binary_logloss: 0.412609\tvalid_0's l1: 0.260035\n",
      "[7]\tvalid_0's auc: 0.703727\tvalid_0's binary_logloss: 0.411507\tvalid_0's l1: 0.258684\n",
      "[8]\tvalid_0's auc: 0.703725\tvalid_0's binary_logloss: 0.411229\tvalid_0's l1: 0.256532\n",
      "[9]\tvalid_0's auc: 0.702871\tvalid_0's binary_logloss: 0.411079\tvalid_0's l1: 0.254693\n",
      "Early stopping, best iteration is:\n",
      "[4]\tvalid_0's auc: 0.704271\tvalid_0's binary_logloss: 0.416273\tvalid_0's l1: 0.265065\n"
     ]
    },
    {
     "name": "stderr",
     "output_type": "stream",
     "text": [
      "C:\\Users\\kaviy\\anaconda3\\lib\\site-packages\\sklearn\\utils\\validation.py:73: DataConversionWarning: A column-vector y was passed when a 1d array was expected. Please change the shape of y to (n_samples, ), for example using ravel().\n",
      "  return f(**kwargs)\n"
     ]
    },
    {
     "name": "stdout",
     "output_type": "stream",
     "text": [
      "[1]\tvalid_0's auc: 0.675029\tvalid_0's binary_logloss: 0.43454\tvalid_0's l1: 0.273768\n",
      "Training until validation scores don't improve for 5 rounds\n",
      "[2]\tvalid_0's auc: 0.69958\tvalid_0's binary_logloss: 0.425493\tvalid_0's l1: 0.270983\n",
      "[3]\tvalid_0's auc: 0.697943\tvalid_0's binary_logloss: 0.420518\tvalid_0's l1: 0.267796\n",
      "[4]\tvalid_0's auc: 0.698202\tvalid_0's binary_logloss: 0.417189\tvalid_0's l1: 0.265636\n",
      "[5]\tvalid_0's auc: 0.700562\tvalid_0's binary_logloss: 0.414601\tvalid_0's l1: 0.262652\n",
      "[6]\tvalid_0's auc: 0.700921\tvalid_0's binary_logloss: 0.413347\tvalid_0's l1: 0.261822\n",
      "[7]\tvalid_0's auc: 0.702282\tvalid_0's binary_logloss: 0.411972\tvalid_0's l1: 0.259987\n",
      "[8]\tvalid_0's auc: 0.701819\tvalid_0's binary_logloss: 0.411542\tvalid_0's l1: 0.256652\n",
      "[9]\tvalid_0's auc: 0.699172\tvalid_0's binary_logloss: 0.41253\tvalid_0's l1: 0.256883\n",
      "[10]\tvalid_0's auc: 0.699639\tvalid_0's binary_logloss: 0.412089\tvalid_0's l1: 0.254735\n",
      "[11]\tvalid_0's auc: 0.699447\tvalid_0's binary_logloss: 0.411998\tvalid_0's l1: 0.25452\n",
      "[12]\tvalid_0's auc: 0.699363\tvalid_0's binary_logloss: 0.411964\tvalid_0's l1: 0.25359\n",
      "Early stopping, best iteration is:\n",
      "[7]\tvalid_0's auc: 0.702282\tvalid_0's binary_logloss: 0.411972\tvalid_0's l1: 0.259987\n"
     ]
    },
    {
     "name": "stderr",
     "output_type": "stream",
     "text": [
      "C:\\Users\\kaviy\\anaconda3\\lib\\site-packages\\sklearn\\utils\\validation.py:73: DataConversionWarning: A column-vector y was passed when a 1d array was expected. Please change the shape of y to (n_samples, ), for example using ravel().\n",
      "  return f(**kwargs)\n"
     ]
    },
    {
     "name": "stdout",
     "output_type": "stream",
     "text": [
      "[1]\tvalid_0's auc: 0.694609\tvalid_0's binary_logloss: 0.433955\tvalid_0's l1: 0.27574\n",
      "Training until validation scores don't improve for 5 rounds\n",
      "[2]\tvalid_0's auc: 0.699125\tvalid_0's binary_logloss: 0.425977\tvalid_0's l1: 0.271405\n",
      "[3]\tvalid_0's auc: 0.703437\tvalid_0's binary_logloss: 0.41982\tvalid_0's l1: 0.267709\n",
      "[4]\tvalid_0's auc: 0.702817\tvalid_0's binary_logloss: 0.416423\tvalid_0's l1: 0.265419\n",
      "[5]\tvalid_0's auc: 0.702984\tvalid_0's binary_logloss: 0.414008\tvalid_0's l1: 0.262453\n",
      "[6]\tvalid_0's auc: 0.703278\tvalid_0's binary_logloss: 0.412553\tvalid_0's l1: 0.259944\n",
      "[7]\tvalid_0's auc: 0.704104\tvalid_0's binary_logloss: 0.41118\tvalid_0's l1: 0.258425\n",
      "[8]\tvalid_0's auc: 0.703637\tvalid_0's binary_logloss: 0.410502\tvalid_0's l1: 0.256298\n",
      "[9]\tvalid_0's auc: 0.70421\tvalid_0's binary_logloss: 0.410008\tvalid_0's l1: 0.255531\n",
      "[10]\tvalid_0's auc: 0.703805\tvalid_0's binary_logloss: 0.409803\tvalid_0's l1: 0.254603\n",
      "[11]\tvalid_0's auc: 0.703076\tvalid_0's binary_logloss: 0.409932\tvalid_0's l1: 0.2523\n",
      "[12]\tvalid_0's auc: 0.702653\tvalid_0's binary_logloss: 0.410021\tvalid_0's l1: 0.251961\n",
      "[13]\tvalid_0's auc: 0.703473\tvalid_0's binary_logloss: 0.410043\tvalid_0's l1: 0.25103\n",
      "[14]\tvalid_0's auc: 0.702138\tvalid_0's binary_logloss: 0.410508\tvalid_0's l1: 0.25102\n",
      "Early stopping, best iteration is:\n",
      "[9]\tvalid_0's auc: 0.70421\tvalid_0's binary_logloss: 0.410008\tvalid_0's l1: 0.255531\n"
     ]
    },
    {
     "name": "stderr",
     "output_type": "stream",
     "text": [
      "C:\\Users\\kaviy\\anaconda3\\lib\\site-packages\\sklearn\\utils\\validation.py:73: DataConversionWarning: A column-vector y was passed when a 1d array was expected. Please change the shape of y to (n_samples, ), for example using ravel().\n",
      "  return f(**kwargs)\n"
     ]
    },
    {
     "name": "stdout",
     "output_type": "stream",
     "text": [
      "[1]\tvalid_0's auc: 0.699268\tvalid_0's binary_logloss: 0.433918\tvalid_0's l1: 0.275896\n",
      "Training until validation scores don't improve for 5 rounds\n",
      "[2]\tvalid_0's auc: 0.695418\tvalid_0's binary_logloss: 0.426336\tvalid_0's l1: 0.272018\n",
      "[3]\tvalid_0's auc: 0.695214\tvalid_0's binary_logloss: 0.421208\tvalid_0's l1: 0.268001\n",
      "[4]\tvalid_0's auc: 0.698544\tvalid_0's binary_logloss: 0.417415\tvalid_0's l1: 0.265307\n",
      "[5]\tvalid_0's auc: 0.699937\tvalid_0's binary_logloss: 0.414751\tvalid_0's l1: 0.262783\n",
      "[6]\tvalid_0's auc: 0.700617\tvalid_0's binary_logloss: 0.413164\tvalid_0's l1: 0.261197\n",
      "[7]\tvalid_0's auc: 0.701234\tvalid_0's binary_logloss: 0.412232\tvalid_0's l1: 0.25949\n",
      "[8]\tvalid_0's auc: 0.700779\tvalid_0's binary_logloss: 0.411696\tvalid_0's l1: 0.257534\n",
      "[9]\tvalid_0's auc: 0.698888\tvalid_0's binary_logloss: 0.411672\tvalid_0's l1: 0.25556\n",
      "[10]\tvalid_0's auc: 0.698933\tvalid_0's binary_logloss: 0.411367\tvalid_0's l1: 0.254668\n",
      "[11]\tvalid_0's auc: 0.699205\tvalid_0's binary_logloss: 0.411366\tvalid_0's l1: 0.253548\n",
      "[12]\tvalid_0's auc: 0.699413\tvalid_0's binary_logloss: 0.411089\tvalid_0's l1: 0.252667\n",
      "Early stopping, best iteration is:\n",
      "[7]\tvalid_0's auc: 0.701234\tvalid_0's binary_logloss: 0.412232\tvalid_0's l1: 0.25949\n"
     ]
    },
    {
     "name": "stderr",
     "output_type": "stream",
     "text": [
      "C:\\Users\\kaviy\\anaconda3\\lib\\site-packages\\sklearn\\utils\\validation.py:73: DataConversionWarning: A column-vector y was passed when a 1d array was expected. Please change the shape of y to (n_samples, ), for example using ravel().\n",
      "  return f(**kwargs)\n"
     ]
    },
    {
     "name": "stdout",
     "output_type": "stream",
     "text": [
      "[1]\tvalid_0's auc: 0.630879\tvalid_0's binary_logloss: 0.436464\tvalid_0's l1: 0.273634\n",
      "Training until validation scores don't improve for 5 rounds\n",
      "[2]\tvalid_0's auc: 0.687985\tvalid_0's binary_logloss: 0.427793\tvalid_0's l1: 0.270531\n",
      "[3]\tvalid_0's auc: 0.696597\tvalid_0's binary_logloss: 0.421687\tvalid_0's l1: 0.270833\n",
      "[4]\tvalid_0's auc: 0.69771\tvalid_0's binary_logloss: 0.418364\tvalid_0's l1: 0.268622\n",
      "[5]\tvalid_0's auc: 0.697072\tvalid_0's binary_logloss: 0.41613\tvalid_0's l1: 0.265542\n",
      "[6]\tvalid_0's auc: 0.698115\tvalid_0's binary_logloss: 0.414135\tvalid_0's l1: 0.262999\n",
      "[7]\tvalid_0's auc: 0.69888\tvalid_0's binary_logloss: 0.412812\tvalid_0's l1: 0.260447\n",
      "[8]\tvalid_0's auc: 0.699233\tvalid_0's binary_logloss: 0.411957\tvalid_0's l1: 0.259061\n",
      "[9]\tvalid_0's auc: 0.698849\tvalid_0's binary_logloss: 0.411833\tvalid_0's l1: 0.258488\n",
      "[10]\tvalid_0's auc: 0.699631\tvalid_0's binary_logloss: 0.411805\tvalid_0's l1: 0.258297\n",
      "[11]\tvalid_0's auc: 0.699227\tvalid_0's binary_logloss: 0.411929\tvalid_0's l1: 0.257445\n",
      "[12]\tvalid_0's auc: 0.69945\tvalid_0's binary_logloss: 0.411697\tvalid_0's l1: 0.25721\n",
      "[13]\tvalid_0's auc: 0.695642\tvalid_0's binary_logloss: 0.413205\tvalid_0's l1: 0.253145\n",
      "[14]\tvalid_0's auc: 0.695389\tvalid_0's binary_logloss: 0.413444\tvalid_0's l1: 0.252671\n",
      "[15]\tvalid_0's auc: 0.694617\tvalid_0's binary_logloss: 0.413951\tvalid_0's l1: 0.252729\n",
      "Early stopping, best iteration is:\n",
      "[10]\tvalid_0's auc: 0.699631\tvalid_0's binary_logloss: 0.411805\tvalid_0's l1: 0.258297\n"
     ]
    },
    {
     "name": "stderr",
     "output_type": "stream",
     "text": [
      "C:\\Users\\kaviy\\anaconda3\\lib\\site-packages\\sklearn\\utils\\validation.py:73: DataConversionWarning: A column-vector y was passed when a 1d array was expected. Please change the shape of y to (n_samples, ), for example using ravel().\n",
      "  return f(**kwargs)\n"
     ]
    },
    {
     "name": "stdout",
     "output_type": "stream",
     "text": [
      "[1]\tvalid_0's auc: 0.694931\tvalid_0's binary_logloss: 0.433391\tvalid_0's l1: 0.275022\n",
      "Training until validation scores don't improve for 5 rounds\n",
      "[2]\tvalid_0's auc: 0.701633\tvalid_0's binary_logloss: 0.425174\tvalid_0's l1: 0.271422\n",
      "[3]\tvalid_0's auc: 0.701895\tvalid_0's binary_logloss: 0.420033\tvalid_0's l1: 0.267976\n",
      "[4]\tvalid_0's auc: 0.704271\tvalid_0's binary_logloss: 0.416273\tvalid_0's l1: 0.265065\n",
      "[5]\tvalid_0's auc: 0.70319\tvalid_0's binary_logloss: 0.414096\tvalid_0's l1: 0.262546\n",
      "[6]\tvalid_0's auc: 0.703007\tvalid_0's binary_logloss: 0.412609\tvalid_0's l1: 0.260035\n",
      "[7]\tvalid_0's auc: 0.703727\tvalid_0's binary_logloss: 0.411507\tvalid_0's l1: 0.258684\n",
      "[8]\tvalid_0's auc: 0.703725\tvalid_0's binary_logloss: 0.411229\tvalid_0's l1: 0.256532\n",
      "[9]\tvalid_0's auc: 0.702871\tvalid_0's binary_logloss: 0.411079\tvalid_0's l1: 0.254693\n",
      "Early stopping, best iteration is:\n",
      "[4]\tvalid_0's auc: 0.704271\tvalid_0's binary_logloss: 0.416273\tvalid_0's l1: 0.265065\n"
     ]
    },
    {
     "name": "stderr",
     "output_type": "stream",
     "text": [
      "C:\\Users\\kaviy\\anaconda3\\lib\\site-packages\\sklearn\\utils\\validation.py:73: DataConversionWarning: A column-vector y was passed when a 1d array was expected. Please change the shape of y to (n_samples, ), for example using ravel().\n",
      "  return f(**kwargs)\n"
     ]
    },
    {
     "name": "stdout",
     "output_type": "stream",
     "text": [
      "[1]\tvalid_0's auc: 0.675029\tvalid_0's binary_logloss: 0.43454\tvalid_0's l1: 0.273768\n",
      "Training until validation scores don't improve for 5 rounds\n",
      "[2]\tvalid_0's auc: 0.69958\tvalid_0's binary_logloss: 0.425493\tvalid_0's l1: 0.270983\n",
      "[3]\tvalid_0's auc: 0.697943\tvalid_0's binary_logloss: 0.420518\tvalid_0's l1: 0.267796\n",
      "[4]\tvalid_0's auc: 0.698202\tvalid_0's binary_logloss: 0.417189\tvalid_0's l1: 0.265636\n",
      "[5]\tvalid_0's auc: 0.700562\tvalid_0's binary_logloss: 0.414601\tvalid_0's l1: 0.262652\n",
      "[6]\tvalid_0's auc: 0.700921\tvalid_0's binary_logloss: 0.413347\tvalid_0's l1: 0.261822\n",
      "[7]\tvalid_0's auc: 0.702282\tvalid_0's binary_logloss: 0.411972\tvalid_0's l1: 0.259987\n",
      "[8]\tvalid_0's auc: 0.701819\tvalid_0's binary_logloss: 0.411542\tvalid_0's l1: 0.256652\n",
      "[9]\tvalid_0's auc: 0.699172\tvalid_0's binary_logloss: 0.41253\tvalid_0's l1: 0.256883\n",
      "[10]\tvalid_0's auc: 0.699639\tvalid_0's binary_logloss: 0.412089\tvalid_0's l1: 0.254735\n",
      "[11]\tvalid_0's auc: 0.699447\tvalid_0's binary_logloss: 0.411998\tvalid_0's l1: 0.25452\n",
      "[12]\tvalid_0's auc: 0.699363\tvalid_0's binary_logloss: 0.411964\tvalid_0's l1: 0.25359\n",
      "Early stopping, best iteration is:\n",
      "[7]\tvalid_0's auc: 0.702282\tvalid_0's binary_logloss: 0.411972\tvalid_0's l1: 0.259987\n"
     ]
    },
    {
     "name": "stderr",
     "output_type": "stream",
     "text": [
      "C:\\Users\\kaviy\\anaconda3\\lib\\site-packages\\sklearn\\utils\\validation.py:73: DataConversionWarning: A column-vector y was passed when a 1d array was expected. Please change the shape of y to (n_samples, ), for example using ravel().\n",
      "  return f(**kwargs)\n"
     ]
    },
    {
     "name": "stdout",
     "output_type": "stream",
     "text": [
      "[1]\tvalid_0's auc: 0.694609\tvalid_0's binary_logloss: 0.433955\tvalid_0's l1: 0.27574\n",
      "Training until validation scores don't improve for 5 rounds\n",
      "[2]\tvalid_0's auc: 0.699125\tvalid_0's binary_logloss: 0.425977\tvalid_0's l1: 0.271405\n",
      "[3]\tvalid_0's auc: 0.703437\tvalid_0's binary_logloss: 0.41982\tvalid_0's l1: 0.267709\n",
      "[4]\tvalid_0's auc: 0.702817\tvalid_0's binary_logloss: 0.416423\tvalid_0's l1: 0.265419\n",
      "[5]\tvalid_0's auc: 0.702984\tvalid_0's binary_logloss: 0.414008\tvalid_0's l1: 0.262453\n",
      "[6]\tvalid_0's auc: 0.703278\tvalid_0's binary_logloss: 0.412553\tvalid_0's l1: 0.259944\n",
      "[7]\tvalid_0's auc: 0.704104\tvalid_0's binary_logloss: 0.41118\tvalid_0's l1: 0.258425\n",
      "[8]\tvalid_0's auc: 0.703637\tvalid_0's binary_logloss: 0.410502\tvalid_0's l1: 0.256298\n",
      "[9]\tvalid_0's auc: 0.70421\tvalid_0's binary_logloss: 0.410008\tvalid_0's l1: 0.255531\n",
      "[10]\tvalid_0's auc: 0.703805\tvalid_0's binary_logloss: 0.409803\tvalid_0's l1: 0.254603\n",
      "[11]\tvalid_0's auc: 0.703076\tvalid_0's binary_logloss: 0.409932\tvalid_0's l1: 0.2523\n",
      "[12]\tvalid_0's auc: 0.702653\tvalid_0's binary_logloss: 0.410021\tvalid_0's l1: 0.251961\n",
      "[13]\tvalid_0's auc: 0.703473\tvalid_0's binary_logloss: 0.410043\tvalid_0's l1: 0.25103\n",
      "[14]\tvalid_0's auc: 0.702138\tvalid_0's binary_logloss: 0.410508\tvalid_0's l1: 0.25102\n",
      "Early stopping, best iteration is:\n",
      "[9]\tvalid_0's auc: 0.70421\tvalid_0's binary_logloss: 0.410008\tvalid_0's l1: 0.255531\n"
     ]
    },
    {
     "name": "stderr",
     "output_type": "stream",
     "text": [
      "C:\\Users\\kaviy\\anaconda3\\lib\\site-packages\\sklearn\\utils\\validation.py:73: DataConversionWarning: A column-vector y was passed when a 1d array was expected. Please change the shape of y to (n_samples, ), for example using ravel().\n",
      "  return f(**kwargs)\n"
     ]
    },
    {
     "name": "stdout",
     "output_type": "stream",
     "text": [
      "[1]\tvalid_0's auc: 0.699268\tvalid_0's binary_logloss: 0.433918\tvalid_0's l1: 0.275896\n",
      "Training until validation scores don't improve for 5 rounds\n",
      "[2]\tvalid_0's auc: 0.695418\tvalid_0's binary_logloss: 0.426336\tvalid_0's l1: 0.272018\n",
      "[3]\tvalid_0's auc: 0.695214\tvalid_0's binary_logloss: 0.421208\tvalid_0's l1: 0.268001\n",
      "[4]\tvalid_0's auc: 0.698544\tvalid_0's binary_logloss: 0.417415\tvalid_0's l1: 0.265307\n",
      "[5]\tvalid_0's auc: 0.699937\tvalid_0's binary_logloss: 0.414751\tvalid_0's l1: 0.262783\n",
      "[6]\tvalid_0's auc: 0.700617\tvalid_0's binary_logloss: 0.413164\tvalid_0's l1: 0.261197\n",
      "[7]\tvalid_0's auc: 0.701234\tvalid_0's binary_logloss: 0.412232\tvalid_0's l1: 0.25949\n",
      "[8]\tvalid_0's auc: 0.700779\tvalid_0's binary_logloss: 0.411696\tvalid_0's l1: 0.257534\n",
      "[9]\tvalid_0's auc: 0.698888\tvalid_0's binary_logloss: 0.411672\tvalid_0's l1: 0.25556\n",
      "[10]\tvalid_0's auc: 0.698933\tvalid_0's binary_logloss: 0.411367\tvalid_0's l1: 0.254668\n",
      "[11]\tvalid_0's auc: 0.699205\tvalid_0's binary_logloss: 0.411366\tvalid_0's l1: 0.253548\n",
      "[12]\tvalid_0's auc: 0.699413\tvalid_0's binary_logloss: 0.411089\tvalid_0's l1: 0.252667\n",
      "Early stopping, best iteration is:\n",
      "[7]\tvalid_0's auc: 0.701234\tvalid_0's binary_logloss: 0.412232\tvalid_0's l1: 0.25949\n"
     ]
    },
    {
     "name": "stderr",
     "output_type": "stream",
     "text": [
      "C:\\Users\\kaviy\\anaconda3\\lib\\site-packages\\sklearn\\utils\\validation.py:73: DataConversionWarning: A column-vector y was passed when a 1d array was expected. Please change the shape of y to (n_samples, ), for example using ravel().\n",
      "  return f(**kwargs)\n"
     ]
    },
    {
     "name": "stdout",
     "output_type": "stream",
     "text": [
      "[1]\tvalid_0's auc: 0.630879\tvalid_0's binary_logloss: 0.436464\tvalid_0's l1: 0.273634\n",
      "Training until validation scores don't improve for 5 rounds\n",
      "[2]\tvalid_0's auc: 0.687985\tvalid_0's binary_logloss: 0.427793\tvalid_0's l1: 0.270531\n",
      "[3]\tvalid_0's auc: 0.696597\tvalid_0's binary_logloss: 0.421687\tvalid_0's l1: 0.270833\n",
      "[4]\tvalid_0's auc: 0.69771\tvalid_0's binary_logloss: 0.418364\tvalid_0's l1: 0.268622\n",
      "[5]\tvalid_0's auc: 0.697072\tvalid_0's binary_logloss: 0.41613\tvalid_0's l1: 0.265542\n",
      "[6]\tvalid_0's auc: 0.698115\tvalid_0's binary_logloss: 0.414135\tvalid_0's l1: 0.262999\n",
      "[7]\tvalid_0's auc: 0.69888\tvalid_0's binary_logloss: 0.412812\tvalid_0's l1: 0.260447\n",
      "[8]\tvalid_0's auc: 0.699233\tvalid_0's binary_logloss: 0.411957\tvalid_0's l1: 0.259061\n",
      "[9]\tvalid_0's auc: 0.698849\tvalid_0's binary_logloss: 0.411833\tvalid_0's l1: 0.258488\n",
      "[10]\tvalid_0's auc: 0.699631\tvalid_0's binary_logloss: 0.411805\tvalid_0's l1: 0.258297\n",
      "[11]\tvalid_0's auc: 0.699227\tvalid_0's binary_logloss: 0.411929\tvalid_0's l1: 0.257445\n",
      "[12]\tvalid_0's auc: 0.69945\tvalid_0's binary_logloss: 0.411697\tvalid_0's l1: 0.25721\n",
      "[13]\tvalid_0's auc: 0.695642\tvalid_0's binary_logloss: 0.413205\tvalid_0's l1: 0.253145\n",
      "[14]\tvalid_0's auc: 0.695389\tvalid_0's binary_logloss: 0.413444\tvalid_0's l1: 0.252671\n",
      "[15]\tvalid_0's auc: 0.694617\tvalid_0's binary_logloss: 0.413951\tvalid_0's l1: 0.252729\n",
      "Early stopping, best iteration is:\n",
      "[10]\tvalid_0's auc: 0.699631\tvalid_0's binary_logloss: 0.411805\tvalid_0's l1: 0.258297\n"
     ]
    },
    {
     "name": "stderr",
     "output_type": "stream",
     "text": [
      "C:\\Users\\kaviy\\anaconda3\\lib\\site-packages\\sklearn\\utils\\validation.py:73: DataConversionWarning: A column-vector y was passed when a 1d array was expected. Please change the shape of y to (n_samples, ), for example using ravel().\n",
      "  return f(**kwargs)\n"
     ]
    },
    {
     "name": "stdout",
     "output_type": "stream",
     "text": [
      "[1]\tvalid_0's auc: 0.694931\tvalid_0's binary_logloss: 0.433391\tvalid_0's l1: 0.275022\n",
      "Training until validation scores don't improve for 5 rounds\n",
      "[2]\tvalid_0's auc: 0.701633\tvalid_0's binary_logloss: 0.425174\tvalid_0's l1: 0.271422\n",
      "[3]\tvalid_0's auc: 0.701895\tvalid_0's binary_logloss: 0.420033\tvalid_0's l1: 0.267976\n",
      "[4]\tvalid_0's auc: 0.704271\tvalid_0's binary_logloss: 0.416273\tvalid_0's l1: 0.265065\n",
      "[5]\tvalid_0's auc: 0.70319\tvalid_0's binary_logloss: 0.414096\tvalid_0's l1: 0.262546\n",
      "[6]\tvalid_0's auc: 0.703007\tvalid_0's binary_logloss: 0.412609\tvalid_0's l1: 0.260035\n",
      "[7]\tvalid_0's auc: 0.703727\tvalid_0's binary_logloss: 0.411507\tvalid_0's l1: 0.258684\n",
      "[8]\tvalid_0's auc: 0.703725\tvalid_0's binary_logloss: 0.411229\tvalid_0's l1: 0.256532\n",
      "[9]\tvalid_0's auc: 0.702871\tvalid_0's binary_logloss: 0.411079\tvalid_0's l1: 0.254693\n",
      "Early stopping, best iteration is:\n",
      "[4]\tvalid_0's auc: 0.704271\tvalid_0's binary_logloss: 0.416273\tvalid_0's l1: 0.265065\n"
     ]
    },
    {
     "name": "stderr",
     "output_type": "stream",
     "text": [
      "C:\\Users\\kaviy\\anaconda3\\lib\\site-packages\\sklearn\\utils\\validation.py:73: DataConversionWarning: A column-vector y was passed when a 1d array was expected. Please change the shape of y to (n_samples, ), for example using ravel().\n",
      "  return f(**kwargs)\n"
     ]
    },
    {
     "name": "stdout",
     "output_type": "stream",
     "text": [
      "[1]\tvalid_0's auc: 0.675029\tvalid_0's binary_logloss: 0.43454\tvalid_0's l1: 0.273768\n",
      "Training until validation scores don't improve for 5 rounds\n",
      "[2]\tvalid_0's auc: 0.69958\tvalid_0's binary_logloss: 0.425493\tvalid_0's l1: 0.270983\n",
      "[3]\tvalid_0's auc: 0.697943\tvalid_0's binary_logloss: 0.420518\tvalid_0's l1: 0.267796\n",
      "[4]\tvalid_0's auc: 0.698202\tvalid_0's binary_logloss: 0.417189\tvalid_0's l1: 0.265636\n",
      "[5]\tvalid_0's auc: 0.700562\tvalid_0's binary_logloss: 0.414601\tvalid_0's l1: 0.262652\n",
      "[6]\tvalid_0's auc: 0.700921\tvalid_0's binary_logloss: 0.413347\tvalid_0's l1: 0.261822\n",
      "[7]\tvalid_0's auc: 0.702282\tvalid_0's binary_logloss: 0.411972\tvalid_0's l1: 0.259987\n",
      "[8]\tvalid_0's auc: 0.701819\tvalid_0's binary_logloss: 0.411542\tvalid_0's l1: 0.256652\n",
      "[9]\tvalid_0's auc: 0.699172\tvalid_0's binary_logloss: 0.41253\tvalid_0's l1: 0.256883\n",
      "[10]\tvalid_0's auc: 0.699639\tvalid_0's binary_logloss: 0.412089\tvalid_0's l1: 0.254735\n",
      "[11]\tvalid_0's auc: 0.699447\tvalid_0's binary_logloss: 0.411998\tvalid_0's l1: 0.25452\n",
      "[12]\tvalid_0's auc: 0.699363\tvalid_0's binary_logloss: 0.411964\tvalid_0's l1: 0.25359\n",
      "Early stopping, best iteration is:\n",
      "[7]\tvalid_0's auc: 0.702282\tvalid_0's binary_logloss: 0.411972\tvalid_0's l1: 0.259987\n"
     ]
    },
    {
     "name": "stderr",
     "output_type": "stream",
     "text": [
      "C:\\Users\\kaviy\\anaconda3\\lib\\site-packages\\sklearn\\utils\\validation.py:73: DataConversionWarning: A column-vector y was passed when a 1d array was expected. Please change the shape of y to (n_samples, ), for example using ravel().\n",
      "  return f(**kwargs)\n"
     ]
    },
    {
     "name": "stdout",
     "output_type": "stream",
     "text": [
      "[1]\tvalid_0's auc: 0.694609\tvalid_0's binary_logloss: 0.433955\tvalid_0's l1: 0.27574\n",
      "Training until validation scores don't improve for 5 rounds\n",
      "[2]\tvalid_0's auc: 0.699125\tvalid_0's binary_logloss: 0.425977\tvalid_0's l1: 0.271405\n",
      "[3]\tvalid_0's auc: 0.703437\tvalid_0's binary_logloss: 0.41982\tvalid_0's l1: 0.267709\n",
      "[4]\tvalid_0's auc: 0.702817\tvalid_0's binary_logloss: 0.416423\tvalid_0's l1: 0.265419\n",
      "[5]\tvalid_0's auc: 0.702984\tvalid_0's binary_logloss: 0.414008\tvalid_0's l1: 0.262453\n",
      "[6]\tvalid_0's auc: 0.703278\tvalid_0's binary_logloss: 0.412553\tvalid_0's l1: 0.259944\n",
      "[7]\tvalid_0's auc: 0.704104\tvalid_0's binary_logloss: 0.41118\tvalid_0's l1: 0.258425\n",
      "[8]\tvalid_0's auc: 0.703637\tvalid_0's binary_logloss: 0.410502\tvalid_0's l1: 0.256298\n",
      "[9]\tvalid_0's auc: 0.70421\tvalid_0's binary_logloss: 0.410008\tvalid_0's l1: 0.255531\n",
      "[10]\tvalid_0's auc: 0.703805\tvalid_0's binary_logloss: 0.409803\tvalid_0's l1: 0.254603\n",
      "[11]\tvalid_0's auc: 0.703076\tvalid_0's binary_logloss: 0.409932\tvalid_0's l1: 0.2523\n",
      "[12]\tvalid_0's auc: 0.702653\tvalid_0's binary_logloss: 0.410021\tvalid_0's l1: 0.251961\n",
      "[13]\tvalid_0's auc: 0.703473\tvalid_0's binary_logloss: 0.410043\tvalid_0's l1: 0.25103\n",
      "[14]\tvalid_0's auc: 0.702138\tvalid_0's binary_logloss: 0.410508\tvalid_0's l1: 0.25102\n",
      "Early stopping, best iteration is:\n",
      "[9]\tvalid_0's auc: 0.70421\tvalid_0's binary_logloss: 0.410008\tvalid_0's l1: 0.255531\n"
     ]
    },
    {
     "name": "stderr",
     "output_type": "stream",
     "text": [
      "C:\\Users\\kaviy\\anaconda3\\lib\\site-packages\\sklearn\\utils\\validation.py:73: DataConversionWarning: A column-vector y was passed when a 1d array was expected. Please change the shape of y to (n_samples, ), for example using ravel().\n",
      "  return f(**kwargs)\n"
     ]
    },
    {
     "name": "stdout",
     "output_type": "stream",
     "text": [
      "[1]\tvalid_0's auc: 0.699268\tvalid_0's binary_logloss: 0.433918\tvalid_0's l1: 0.275896\n",
      "Training until validation scores don't improve for 5 rounds\n",
      "[2]\tvalid_0's auc: 0.695418\tvalid_0's binary_logloss: 0.426336\tvalid_0's l1: 0.272018\n",
      "[3]\tvalid_0's auc: 0.695214\tvalid_0's binary_logloss: 0.421208\tvalid_0's l1: 0.268001\n",
      "[4]\tvalid_0's auc: 0.698544\tvalid_0's binary_logloss: 0.417415\tvalid_0's l1: 0.265307\n",
      "[5]\tvalid_0's auc: 0.699937\tvalid_0's binary_logloss: 0.414751\tvalid_0's l1: 0.262783\n",
      "[6]\tvalid_0's auc: 0.700617\tvalid_0's binary_logloss: 0.413164\tvalid_0's l1: 0.261197\n",
      "[7]\tvalid_0's auc: 0.701234\tvalid_0's binary_logloss: 0.412232\tvalid_0's l1: 0.25949\n",
      "[8]\tvalid_0's auc: 0.700779\tvalid_0's binary_logloss: 0.411696\tvalid_0's l1: 0.257534\n",
      "[9]\tvalid_0's auc: 0.698888\tvalid_0's binary_logloss: 0.411672\tvalid_0's l1: 0.25556\n",
      "[10]\tvalid_0's auc: 0.698933\tvalid_0's binary_logloss: 0.411367\tvalid_0's l1: 0.254668\n",
      "[11]\tvalid_0's auc: 0.699205\tvalid_0's binary_logloss: 0.411366\tvalid_0's l1: 0.253548\n",
      "[12]\tvalid_0's auc: 0.699413\tvalid_0's binary_logloss: 0.411089\tvalid_0's l1: 0.252667\n",
      "Early stopping, best iteration is:\n",
      "[7]\tvalid_0's auc: 0.701234\tvalid_0's binary_logloss: 0.412232\tvalid_0's l1: 0.25949\n"
     ]
    },
    {
     "name": "stderr",
     "output_type": "stream",
     "text": [
      "C:\\Users\\kaviy\\anaconda3\\lib\\site-packages\\sklearn\\utils\\validation.py:73: DataConversionWarning: A column-vector y was passed when a 1d array was expected. Please change the shape of y to (n_samples, ), for example using ravel().\n",
      "  return f(**kwargs)\n"
     ]
    },
    {
     "name": "stdout",
     "output_type": "stream",
     "text": [
      "[1]\tvalid_0's auc: 0.630879\tvalid_0's binary_logloss: 0.436464\tvalid_0's l1: 0.273634\n",
      "Training until validation scores don't improve for 5 rounds\n",
      "[2]\tvalid_0's auc: 0.687985\tvalid_0's binary_logloss: 0.427793\tvalid_0's l1: 0.270531\n",
      "[3]\tvalid_0's auc: 0.696597\tvalid_0's binary_logloss: 0.421687\tvalid_0's l1: 0.270833\n",
      "[4]\tvalid_0's auc: 0.69771\tvalid_0's binary_logloss: 0.418364\tvalid_0's l1: 0.268622\n",
      "[5]\tvalid_0's auc: 0.697072\tvalid_0's binary_logloss: 0.41613\tvalid_0's l1: 0.265542\n",
      "[6]\tvalid_0's auc: 0.698115\tvalid_0's binary_logloss: 0.414135\tvalid_0's l1: 0.262999\n",
      "[7]\tvalid_0's auc: 0.69888\tvalid_0's binary_logloss: 0.412812\tvalid_0's l1: 0.260447\n",
      "[8]\tvalid_0's auc: 0.699233\tvalid_0's binary_logloss: 0.411957\tvalid_0's l1: 0.259061\n",
      "[9]\tvalid_0's auc: 0.698849\tvalid_0's binary_logloss: 0.411833\tvalid_0's l1: 0.258488\n",
      "[10]\tvalid_0's auc: 0.699631\tvalid_0's binary_logloss: 0.411805\tvalid_0's l1: 0.258297\n",
      "[11]\tvalid_0's auc: 0.699227\tvalid_0's binary_logloss: 0.411929\tvalid_0's l1: 0.257445\n",
      "[12]\tvalid_0's auc: 0.69945\tvalid_0's binary_logloss: 0.411697\tvalid_0's l1: 0.25721\n",
      "[13]\tvalid_0's auc: 0.695642\tvalid_0's binary_logloss: 0.413205\tvalid_0's l1: 0.253145\n",
      "[14]\tvalid_0's auc: 0.695389\tvalid_0's binary_logloss: 0.413444\tvalid_0's l1: 0.252671\n",
      "[15]\tvalid_0's auc: 0.694617\tvalid_0's binary_logloss: 0.413951\tvalid_0's l1: 0.252729\n",
      "Early stopping, best iteration is:\n",
      "[10]\tvalid_0's auc: 0.699631\tvalid_0's binary_logloss: 0.411805\tvalid_0's l1: 0.258297\n"
     ]
    },
    {
     "name": "stderr",
     "output_type": "stream",
     "text": [
      "C:\\Users\\kaviy\\anaconda3\\lib\\site-packages\\sklearn\\utils\\validation.py:73: DataConversionWarning: A column-vector y was passed when a 1d array was expected. Please change the shape of y to (n_samples, ), for example using ravel().\n",
      "  return f(**kwargs)\n"
     ]
    },
    {
     "name": "stdout",
     "output_type": "stream",
     "text": [
      "[1]\tvalid_0's auc: 0.694931\tvalid_0's binary_logloss: 0.433391\tvalid_0's l1: 0.275022\n",
      "Training until validation scores don't improve for 5 rounds\n",
      "[2]\tvalid_0's auc: 0.701633\tvalid_0's binary_logloss: 0.425174\tvalid_0's l1: 0.271422\n",
      "[3]\tvalid_0's auc: 0.701895\tvalid_0's binary_logloss: 0.420033\tvalid_0's l1: 0.267976\n",
      "[4]\tvalid_0's auc: 0.704271\tvalid_0's binary_logloss: 0.416273\tvalid_0's l1: 0.265065\n",
      "[5]\tvalid_0's auc: 0.70319\tvalid_0's binary_logloss: 0.414096\tvalid_0's l1: 0.262546\n",
      "[6]\tvalid_0's auc: 0.703007\tvalid_0's binary_logloss: 0.412609\tvalid_0's l1: 0.260035\n",
      "[7]\tvalid_0's auc: 0.703727\tvalid_0's binary_logloss: 0.411507\tvalid_0's l1: 0.258684\n",
      "[8]\tvalid_0's auc: 0.703725\tvalid_0's binary_logloss: 0.411229\tvalid_0's l1: 0.256532\n",
      "[9]\tvalid_0's auc: 0.702871\tvalid_0's binary_logloss: 0.411079\tvalid_0's l1: 0.254693\n",
      "Early stopping, best iteration is:\n",
      "[4]\tvalid_0's auc: 0.704271\tvalid_0's binary_logloss: 0.416273\tvalid_0's l1: 0.265065\n"
     ]
    },
    {
     "name": "stderr",
     "output_type": "stream",
     "text": [
      "C:\\Users\\kaviy\\anaconda3\\lib\\site-packages\\sklearn\\utils\\validation.py:73: DataConversionWarning: A column-vector y was passed when a 1d array was expected. Please change the shape of y to (n_samples, ), for example using ravel().\n",
      "  return f(**kwargs)\n"
     ]
    },
    {
     "name": "stdout",
     "output_type": "stream",
     "text": [
      "[1]\tvalid_0's auc: 0.675029\tvalid_0's binary_logloss: 0.43454\tvalid_0's l1: 0.273768\n",
      "Training until validation scores don't improve for 5 rounds\n",
      "[2]\tvalid_0's auc: 0.69958\tvalid_0's binary_logloss: 0.425493\tvalid_0's l1: 0.270983\n",
      "[3]\tvalid_0's auc: 0.697943\tvalid_0's binary_logloss: 0.420518\tvalid_0's l1: 0.267796\n",
      "[4]\tvalid_0's auc: 0.698202\tvalid_0's binary_logloss: 0.417189\tvalid_0's l1: 0.265636\n",
      "[5]\tvalid_0's auc: 0.700562\tvalid_0's binary_logloss: 0.414601\tvalid_0's l1: 0.262652\n",
      "[6]\tvalid_0's auc: 0.700921\tvalid_0's binary_logloss: 0.413347\tvalid_0's l1: 0.261822\n",
      "[7]\tvalid_0's auc: 0.702282\tvalid_0's binary_logloss: 0.411972\tvalid_0's l1: 0.259987\n",
      "[8]\tvalid_0's auc: 0.701819\tvalid_0's binary_logloss: 0.411542\tvalid_0's l1: 0.256652\n",
      "[9]\tvalid_0's auc: 0.699172\tvalid_0's binary_logloss: 0.41253\tvalid_0's l1: 0.256883\n",
      "[10]\tvalid_0's auc: 0.699639\tvalid_0's binary_logloss: 0.412089\tvalid_0's l1: 0.254735\n",
      "[11]\tvalid_0's auc: 0.699447\tvalid_0's binary_logloss: 0.411998\tvalid_0's l1: 0.25452\n",
      "[12]\tvalid_0's auc: 0.699363\tvalid_0's binary_logloss: 0.411964\tvalid_0's l1: 0.25359\n",
      "Early stopping, best iteration is:\n",
      "[7]\tvalid_0's auc: 0.702282\tvalid_0's binary_logloss: 0.411972\tvalid_0's l1: 0.259987\n"
     ]
    },
    {
     "name": "stderr",
     "output_type": "stream",
     "text": [
      "C:\\Users\\kaviy\\anaconda3\\lib\\site-packages\\sklearn\\utils\\validation.py:73: DataConversionWarning: A column-vector y was passed when a 1d array was expected. Please change the shape of y to (n_samples, ), for example using ravel().\n",
      "  return f(**kwargs)\n"
     ]
    },
    {
     "name": "stdout",
     "output_type": "stream",
     "text": [
      "[1]\tvalid_0's auc: 0.694609\tvalid_0's binary_logloss: 0.433955\tvalid_0's l1: 0.27574\n",
      "Training until validation scores don't improve for 5 rounds\n",
      "[2]\tvalid_0's auc: 0.699125\tvalid_0's binary_logloss: 0.425977\tvalid_0's l1: 0.271405\n",
      "[3]\tvalid_0's auc: 0.703437\tvalid_0's binary_logloss: 0.41982\tvalid_0's l1: 0.267709\n",
      "[4]\tvalid_0's auc: 0.702817\tvalid_0's binary_logloss: 0.416423\tvalid_0's l1: 0.265419\n",
      "[5]\tvalid_0's auc: 0.702984\tvalid_0's binary_logloss: 0.414008\tvalid_0's l1: 0.262453\n",
      "[6]\tvalid_0's auc: 0.703278\tvalid_0's binary_logloss: 0.412553\tvalid_0's l1: 0.259944\n",
      "[7]\tvalid_0's auc: 0.704104\tvalid_0's binary_logloss: 0.41118\tvalid_0's l1: 0.258425\n",
      "[8]\tvalid_0's auc: 0.703637\tvalid_0's binary_logloss: 0.410502\tvalid_0's l1: 0.256298\n",
      "[9]\tvalid_0's auc: 0.70421\tvalid_0's binary_logloss: 0.410008\tvalid_0's l1: 0.255531\n",
      "[10]\tvalid_0's auc: 0.703805\tvalid_0's binary_logloss: 0.409803\tvalid_0's l1: 0.254603\n",
      "[11]\tvalid_0's auc: 0.703076\tvalid_0's binary_logloss: 0.409932\tvalid_0's l1: 0.2523\n",
      "[12]\tvalid_0's auc: 0.702653\tvalid_0's binary_logloss: 0.410021\tvalid_0's l1: 0.251961\n",
      "[13]\tvalid_0's auc: 0.703473\tvalid_0's binary_logloss: 0.410043\tvalid_0's l1: 0.25103\n",
      "[14]\tvalid_0's auc: 0.702138\tvalid_0's binary_logloss: 0.410508\tvalid_0's l1: 0.25102\n",
      "Early stopping, best iteration is:\n",
      "[9]\tvalid_0's auc: 0.70421\tvalid_0's binary_logloss: 0.410008\tvalid_0's l1: 0.255531\n"
     ]
    },
    {
     "name": "stderr",
     "output_type": "stream",
     "text": [
      "C:\\Users\\kaviy\\anaconda3\\lib\\site-packages\\sklearn\\utils\\validation.py:73: DataConversionWarning: A column-vector y was passed when a 1d array was expected. Please change the shape of y to (n_samples, ), for example using ravel().\n",
      "  return f(**kwargs)\n"
     ]
    },
    {
     "name": "stdout",
     "output_type": "stream",
     "text": [
      "[1]\tvalid_0's auc: 0.699268\tvalid_0's binary_logloss: 0.433918\tvalid_0's l1: 0.275896\n",
      "Training until validation scores don't improve for 5 rounds\n",
      "[2]\tvalid_0's auc: 0.695418\tvalid_0's binary_logloss: 0.426336\tvalid_0's l1: 0.272018\n",
      "[3]\tvalid_0's auc: 0.695214\tvalid_0's binary_logloss: 0.421208\tvalid_0's l1: 0.268001\n",
      "[4]\tvalid_0's auc: 0.698544\tvalid_0's binary_logloss: 0.417415\tvalid_0's l1: 0.265307\n",
      "[5]\tvalid_0's auc: 0.699937\tvalid_0's binary_logloss: 0.414751\tvalid_0's l1: 0.262783\n",
      "[6]\tvalid_0's auc: 0.700617\tvalid_0's binary_logloss: 0.413164\tvalid_0's l1: 0.261197\n",
      "[7]\tvalid_0's auc: 0.701234\tvalid_0's binary_logloss: 0.412232\tvalid_0's l1: 0.25949\n",
      "[8]\tvalid_0's auc: 0.700779\tvalid_0's binary_logloss: 0.411696\tvalid_0's l1: 0.257534\n",
      "[9]\tvalid_0's auc: 0.698888\tvalid_0's binary_logloss: 0.411672\tvalid_0's l1: 0.25556\n",
      "[10]\tvalid_0's auc: 0.698933\tvalid_0's binary_logloss: 0.411367\tvalid_0's l1: 0.254668\n",
      "[11]\tvalid_0's auc: 0.699205\tvalid_0's binary_logloss: 0.411366\tvalid_0's l1: 0.253548\n",
      "[12]\tvalid_0's auc: 0.699413\tvalid_0's binary_logloss: 0.411089\tvalid_0's l1: 0.252667\n",
      "Early stopping, best iteration is:\n",
      "[7]\tvalid_0's auc: 0.701234\tvalid_0's binary_logloss: 0.412232\tvalid_0's l1: 0.25949\n"
     ]
    },
    {
     "name": "stderr",
     "output_type": "stream",
     "text": [
      "C:\\Users\\kaviy\\anaconda3\\lib\\site-packages\\sklearn\\utils\\validation.py:73: DataConversionWarning: A column-vector y was passed when a 1d array was expected. Please change the shape of y to (n_samples, ), for example using ravel().\n",
      "  return f(**kwargs)\n"
     ]
    },
    {
     "name": "stdout",
     "output_type": "stream",
     "text": [
      "[1]\tvalid_0's auc: 0.630879\tvalid_0's binary_logloss: 0.436464\tvalid_0's l1: 0.273634\n",
      "Training until validation scores don't improve for 5 rounds\n",
      "[2]\tvalid_0's auc: 0.687985\tvalid_0's binary_logloss: 0.427793\tvalid_0's l1: 0.270531\n",
      "[3]\tvalid_0's auc: 0.696597\tvalid_0's binary_logloss: 0.421687\tvalid_0's l1: 0.270833\n",
      "[4]\tvalid_0's auc: 0.69771\tvalid_0's binary_logloss: 0.418364\tvalid_0's l1: 0.268622\n",
      "[5]\tvalid_0's auc: 0.697072\tvalid_0's binary_logloss: 0.41613\tvalid_0's l1: 0.265542\n",
      "[6]\tvalid_0's auc: 0.698115\tvalid_0's binary_logloss: 0.414135\tvalid_0's l1: 0.262999\n",
      "[7]\tvalid_0's auc: 0.69888\tvalid_0's binary_logloss: 0.412812\tvalid_0's l1: 0.260447\n",
      "[8]\tvalid_0's auc: 0.699233\tvalid_0's binary_logloss: 0.411957\tvalid_0's l1: 0.259061\n",
      "[9]\tvalid_0's auc: 0.698849\tvalid_0's binary_logloss: 0.411833\tvalid_0's l1: 0.258488\n",
      "[10]\tvalid_0's auc: 0.699631\tvalid_0's binary_logloss: 0.411805\tvalid_0's l1: 0.258297\n",
      "[11]\tvalid_0's auc: 0.699227\tvalid_0's binary_logloss: 0.411929\tvalid_0's l1: 0.257445\n",
      "[12]\tvalid_0's auc: 0.69945\tvalid_0's binary_logloss: 0.411697\tvalid_0's l1: 0.25721\n",
      "[13]\tvalid_0's auc: 0.695642\tvalid_0's binary_logloss: 0.413205\tvalid_0's l1: 0.253145\n",
      "[14]\tvalid_0's auc: 0.695389\tvalid_0's binary_logloss: 0.413444\tvalid_0's l1: 0.252671\n",
      "[15]\tvalid_0's auc: 0.694617\tvalid_0's binary_logloss: 0.413951\tvalid_0's l1: 0.252729\n",
      "Early stopping, best iteration is:\n",
      "[10]\tvalid_0's auc: 0.699631\tvalid_0's binary_logloss: 0.411805\tvalid_0's l1: 0.258297\n"
     ]
    },
    {
     "name": "stderr",
     "output_type": "stream",
     "text": [
      "C:\\Users\\kaviy\\anaconda3\\lib\\site-packages\\sklearn\\utils\\validation.py:73: DataConversionWarning: A column-vector y was passed when a 1d array was expected. Please change the shape of y to (n_samples, ), for example using ravel().\n",
      "  return f(**kwargs)\n"
     ]
    },
    {
     "name": "stdout",
     "output_type": "stream",
     "text": [
      "[1]\tvalid_0's auc: 0.694931\tvalid_0's binary_logloss: 0.433391\tvalid_0's l1: 0.275022\n",
      "Training until validation scores don't improve for 5 rounds\n",
      "[2]\tvalid_0's auc: 0.701633\tvalid_0's binary_logloss: 0.425174\tvalid_0's l1: 0.271422\n",
      "[3]\tvalid_0's auc: 0.701895\tvalid_0's binary_logloss: 0.420033\tvalid_0's l1: 0.267976\n",
      "[4]\tvalid_0's auc: 0.704271\tvalid_0's binary_logloss: 0.416273\tvalid_0's l1: 0.265065\n",
      "[5]\tvalid_0's auc: 0.70319\tvalid_0's binary_logloss: 0.414096\tvalid_0's l1: 0.262546\n",
      "[6]\tvalid_0's auc: 0.703007\tvalid_0's binary_logloss: 0.412609\tvalid_0's l1: 0.260035\n",
      "[7]\tvalid_0's auc: 0.703727\tvalid_0's binary_logloss: 0.411507\tvalid_0's l1: 0.258684\n",
      "[8]\tvalid_0's auc: 0.703725\tvalid_0's binary_logloss: 0.411229\tvalid_0's l1: 0.256532\n",
      "[9]\tvalid_0's auc: 0.702871\tvalid_0's binary_logloss: 0.411079\tvalid_0's l1: 0.254693\n",
      "Early stopping, best iteration is:\n",
      "[4]\tvalid_0's auc: 0.704271\tvalid_0's binary_logloss: 0.416273\tvalid_0's l1: 0.265065\n"
     ]
    },
    {
     "name": "stderr",
     "output_type": "stream",
     "text": [
      "C:\\Users\\kaviy\\anaconda3\\lib\\site-packages\\sklearn\\utils\\validation.py:73: DataConversionWarning: A column-vector y was passed when a 1d array was expected. Please change the shape of y to (n_samples, ), for example using ravel().\n",
      "  return f(**kwargs)\n"
     ]
    },
    {
     "name": "stdout",
     "output_type": "stream",
     "text": [
      "[1]\tvalid_0's auc: 0.675029\tvalid_0's binary_logloss: 0.43454\tvalid_0's l1: 0.273768\n",
      "Training until validation scores don't improve for 5 rounds\n",
      "[2]\tvalid_0's auc: 0.69958\tvalid_0's binary_logloss: 0.425493\tvalid_0's l1: 0.270983\n",
      "[3]\tvalid_0's auc: 0.697943\tvalid_0's binary_logloss: 0.420518\tvalid_0's l1: 0.267796\n",
      "[4]\tvalid_0's auc: 0.698202\tvalid_0's binary_logloss: 0.417189\tvalid_0's l1: 0.265636\n",
      "[5]\tvalid_0's auc: 0.700562\tvalid_0's binary_logloss: 0.414601\tvalid_0's l1: 0.262652\n",
      "[6]\tvalid_0's auc: 0.700921\tvalid_0's binary_logloss: 0.413347\tvalid_0's l1: 0.261822\n",
      "[7]\tvalid_0's auc: 0.702282\tvalid_0's binary_logloss: 0.411972\tvalid_0's l1: 0.259987\n",
      "[8]\tvalid_0's auc: 0.701819\tvalid_0's binary_logloss: 0.411542\tvalid_0's l1: 0.256652\n",
      "[9]\tvalid_0's auc: 0.699172\tvalid_0's binary_logloss: 0.41253\tvalid_0's l1: 0.256883\n",
      "[10]\tvalid_0's auc: 0.699639\tvalid_0's binary_logloss: 0.412089\tvalid_0's l1: 0.254735\n",
      "[11]\tvalid_0's auc: 0.699447\tvalid_0's binary_logloss: 0.411998\tvalid_0's l1: 0.25452\n",
      "[12]\tvalid_0's auc: 0.699363\tvalid_0's binary_logloss: 0.411964\tvalid_0's l1: 0.25359\n",
      "Early stopping, best iteration is:\n",
      "[7]\tvalid_0's auc: 0.702282\tvalid_0's binary_logloss: 0.411972\tvalid_0's l1: 0.259987\n"
     ]
    },
    {
     "name": "stderr",
     "output_type": "stream",
     "text": [
      "C:\\Users\\kaviy\\anaconda3\\lib\\site-packages\\sklearn\\utils\\validation.py:73: DataConversionWarning: A column-vector y was passed when a 1d array was expected. Please change the shape of y to (n_samples, ), for example using ravel().\n",
      "  return f(**kwargs)\n"
     ]
    },
    {
     "name": "stdout",
     "output_type": "stream",
     "text": [
      "[1]\tvalid_0's auc: 0.694609\tvalid_0's binary_logloss: 0.433955\tvalid_0's l1: 0.27574\n",
      "Training until validation scores don't improve for 5 rounds\n",
      "[2]\tvalid_0's auc: 0.699125\tvalid_0's binary_logloss: 0.425977\tvalid_0's l1: 0.271405\n",
      "[3]\tvalid_0's auc: 0.703437\tvalid_0's binary_logloss: 0.41982\tvalid_0's l1: 0.267709\n",
      "[4]\tvalid_0's auc: 0.702817\tvalid_0's binary_logloss: 0.416423\tvalid_0's l1: 0.265419\n",
      "[5]\tvalid_0's auc: 0.702984\tvalid_0's binary_logloss: 0.414008\tvalid_0's l1: 0.262453\n",
      "[6]\tvalid_0's auc: 0.703278\tvalid_0's binary_logloss: 0.412553\tvalid_0's l1: 0.259944\n",
      "[7]\tvalid_0's auc: 0.704104\tvalid_0's binary_logloss: 0.41118\tvalid_0's l1: 0.258425\n",
      "[8]\tvalid_0's auc: 0.703637\tvalid_0's binary_logloss: 0.410502\tvalid_0's l1: 0.256298\n",
      "[9]\tvalid_0's auc: 0.70421\tvalid_0's binary_logloss: 0.410008\tvalid_0's l1: 0.255531\n",
      "[10]\tvalid_0's auc: 0.703805\tvalid_0's binary_logloss: 0.409803\tvalid_0's l1: 0.254603\n",
      "[11]\tvalid_0's auc: 0.703076\tvalid_0's binary_logloss: 0.409932\tvalid_0's l1: 0.2523\n",
      "[12]\tvalid_0's auc: 0.702653\tvalid_0's binary_logloss: 0.410021\tvalid_0's l1: 0.251961\n",
      "[13]\tvalid_0's auc: 0.703473\tvalid_0's binary_logloss: 0.410043\tvalid_0's l1: 0.25103\n",
      "[14]\tvalid_0's auc: 0.702138\tvalid_0's binary_logloss: 0.410508\tvalid_0's l1: 0.25102\n",
      "Early stopping, best iteration is:\n",
      "[9]\tvalid_0's auc: 0.70421\tvalid_0's binary_logloss: 0.410008\tvalid_0's l1: 0.255531\n"
     ]
    },
    {
     "name": "stderr",
     "output_type": "stream",
     "text": [
      "C:\\Users\\kaviy\\anaconda3\\lib\\site-packages\\sklearn\\utils\\validation.py:73: DataConversionWarning: A column-vector y was passed when a 1d array was expected. Please change the shape of y to (n_samples, ), for example using ravel().\n",
      "  return f(**kwargs)\n"
     ]
    },
    {
     "name": "stdout",
     "output_type": "stream",
     "text": [
      "[1]\tvalid_0's auc: 0.699268\tvalid_0's binary_logloss: 0.433918\tvalid_0's l1: 0.275896\n",
      "Training until validation scores don't improve for 5 rounds\n",
      "[2]\tvalid_0's auc: 0.695418\tvalid_0's binary_logloss: 0.426336\tvalid_0's l1: 0.272018\n",
      "[3]\tvalid_0's auc: 0.695214\tvalid_0's binary_logloss: 0.421208\tvalid_0's l1: 0.268001\n",
      "[4]\tvalid_0's auc: 0.698544\tvalid_0's binary_logloss: 0.417415\tvalid_0's l1: 0.265307\n",
      "[5]\tvalid_0's auc: 0.699937\tvalid_0's binary_logloss: 0.414751\tvalid_0's l1: 0.262783\n",
      "[6]\tvalid_0's auc: 0.700617\tvalid_0's binary_logloss: 0.413164\tvalid_0's l1: 0.261197\n",
      "[7]\tvalid_0's auc: 0.701234\tvalid_0's binary_logloss: 0.412232\tvalid_0's l1: 0.25949\n",
      "[8]\tvalid_0's auc: 0.700779\tvalid_0's binary_logloss: 0.411696\tvalid_0's l1: 0.257534\n",
      "[9]\tvalid_0's auc: 0.698888\tvalid_0's binary_logloss: 0.411672\tvalid_0's l1: 0.25556\n",
      "[10]\tvalid_0's auc: 0.698933\tvalid_0's binary_logloss: 0.411367\tvalid_0's l1: 0.254668\n",
      "[11]\tvalid_0's auc: 0.699205\tvalid_0's binary_logloss: 0.411366\tvalid_0's l1: 0.253548\n",
      "[12]\tvalid_0's auc: 0.699413\tvalid_0's binary_logloss: 0.411089\tvalid_0's l1: 0.252667\n",
      "Early stopping, best iteration is:\n",
      "[7]\tvalid_0's auc: 0.701234\tvalid_0's binary_logloss: 0.412232\tvalid_0's l1: 0.25949\n"
     ]
    },
    {
     "name": "stderr",
     "output_type": "stream",
     "text": [
      "C:\\Users\\kaviy\\anaconda3\\lib\\site-packages\\sklearn\\utils\\validation.py:73: DataConversionWarning: A column-vector y was passed when a 1d array was expected. Please change the shape of y to (n_samples, ), for example using ravel().\n",
      "  return f(**kwargs)\n"
     ]
    },
    {
     "name": "stdout",
     "output_type": "stream",
     "text": [
      "[1]\tvalid_0's auc: 0.630879\tvalid_0's binary_logloss: 0.436464\tvalid_0's l1: 0.273634\n",
      "Training until validation scores don't improve for 5 rounds\n",
      "[2]\tvalid_0's auc: 0.687985\tvalid_0's binary_logloss: 0.427793\tvalid_0's l1: 0.270531\n",
      "[3]\tvalid_0's auc: 0.696597\tvalid_0's binary_logloss: 0.421687\tvalid_0's l1: 0.270833\n",
      "[4]\tvalid_0's auc: 0.69771\tvalid_0's binary_logloss: 0.418364\tvalid_0's l1: 0.268622\n",
      "[5]\tvalid_0's auc: 0.697072\tvalid_0's binary_logloss: 0.41613\tvalid_0's l1: 0.265542\n",
      "[6]\tvalid_0's auc: 0.698115\tvalid_0's binary_logloss: 0.414135\tvalid_0's l1: 0.262999\n",
      "[7]\tvalid_0's auc: 0.69888\tvalid_0's binary_logloss: 0.412812\tvalid_0's l1: 0.260447\n",
      "[8]\tvalid_0's auc: 0.699233\tvalid_0's binary_logloss: 0.411957\tvalid_0's l1: 0.259061\n",
      "[9]\tvalid_0's auc: 0.698849\tvalid_0's binary_logloss: 0.411833\tvalid_0's l1: 0.258488\n",
      "[10]\tvalid_0's auc: 0.699631\tvalid_0's binary_logloss: 0.411805\tvalid_0's l1: 0.258297\n",
      "[11]\tvalid_0's auc: 0.699227\tvalid_0's binary_logloss: 0.411929\tvalid_0's l1: 0.257445\n",
      "[12]\tvalid_0's auc: 0.69945\tvalid_0's binary_logloss: 0.411697\tvalid_0's l1: 0.25721\n",
      "[13]\tvalid_0's auc: 0.695642\tvalid_0's binary_logloss: 0.413205\tvalid_0's l1: 0.253145\n",
      "[14]\tvalid_0's auc: 0.695389\tvalid_0's binary_logloss: 0.413444\tvalid_0's l1: 0.252671\n",
      "[15]\tvalid_0's auc: 0.694617\tvalid_0's binary_logloss: 0.413951\tvalid_0's l1: 0.252729\n",
      "Early stopping, best iteration is:\n",
      "[10]\tvalid_0's auc: 0.699631\tvalid_0's binary_logloss: 0.411805\tvalid_0's l1: 0.258297\n"
     ]
    },
    {
     "name": "stderr",
     "output_type": "stream",
     "text": [
      "C:\\Users\\kaviy\\anaconda3\\lib\\site-packages\\sklearn\\utils\\validation.py:73: DataConversionWarning: A column-vector y was passed when a 1d array was expected. Please change the shape of y to (n_samples, ), for example using ravel().\n",
      "  return f(**kwargs)\n"
     ]
    },
    {
     "name": "stdout",
     "output_type": "stream",
     "text": [
      "[1]\tvalid_0's auc: 0.694931\tvalid_0's binary_logloss: 0.433391\tvalid_0's l1: 0.275022\n",
      "Training until validation scores don't improve for 5 rounds\n",
      "[2]\tvalid_0's auc: 0.701633\tvalid_0's binary_logloss: 0.425174\tvalid_0's l1: 0.271422\n",
      "[3]\tvalid_0's auc: 0.701895\tvalid_0's binary_logloss: 0.420033\tvalid_0's l1: 0.267976\n",
      "[4]\tvalid_0's auc: 0.704271\tvalid_0's binary_logloss: 0.416273\tvalid_0's l1: 0.265065\n",
      "[5]\tvalid_0's auc: 0.70319\tvalid_0's binary_logloss: 0.414096\tvalid_0's l1: 0.262546\n",
      "[6]\tvalid_0's auc: 0.703007\tvalid_0's binary_logloss: 0.412609\tvalid_0's l1: 0.260035\n",
      "[7]\tvalid_0's auc: 0.703727\tvalid_0's binary_logloss: 0.411507\tvalid_0's l1: 0.258684\n",
      "[8]\tvalid_0's auc: 0.703725\tvalid_0's binary_logloss: 0.411229\tvalid_0's l1: 0.256532\n",
      "[9]\tvalid_0's auc: 0.702871\tvalid_0's binary_logloss: 0.411079\tvalid_0's l1: 0.254693\n",
      "Early stopping, best iteration is:\n",
      "[4]\tvalid_0's auc: 0.704271\tvalid_0's binary_logloss: 0.416273\tvalid_0's l1: 0.265065\n"
     ]
    },
    {
     "name": "stderr",
     "output_type": "stream",
     "text": [
      "C:\\Users\\kaviy\\anaconda3\\lib\\site-packages\\sklearn\\utils\\validation.py:73: DataConversionWarning: A column-vector y was passed when a 1d array was expected. Please change the shape of y to (n_samples, ), for example using ravel().\n",
      "  return f(**kwargs)\n"
     ]
    },
    {
     "name": "stdout",
     "output_type": "stream",
     "text": [
      "[1]\tvalid_0's auc: 0.675029\tvalid_0's binary_logloss: 0.43454\tvalid_0's l1: 0.273768\n",
      "Training until validation scores don't improve for 5 rounds\n",
      "[2]\tvalid_0's auc: 0.69958\tvalid_0's binary_logloss: 0.425493\tvalid_0's l1: 0.270983\n",
      "[3]\tvalid_0's auc: 0.697943\tvalid_0's binary_logloss: 0.420518\tvalid_0's l1: 0.267796\n",
      "[4]\tvalid_0's auc: 0.698202\tvalid_0's binary_logloss: 0.417189\tvalid_0's l1: 0.265636\n",
      "[5]\tvalid_0's auc: 0.700562\tvalid_0's binary_logloss: 0.414601\tvalid_0's l1: 0.262652\n",
      "[6]\tvalid_0's auc: 0.700921\tvalid_0's binary_logloss: 0.413347\tvalid_0's l1: 0.261822\n",
      "[7]\tvalid_0's auc: 0.702282\tvalid_0's binary_logloss: 0.411972\tvalid_0's l1: 0.259987\n",
      "[8]\tvalid_0's auc: 0.701819\tvalid_0's binary_logloss: 0.411542\tvalid_0's l1: 0.256652\n",
      "[9]\tvalid_0's auc: 0.699172\tvalid_0's binary_logloss: 0.41253\tvalid_0's l1: 0.256883\n",
      "[10]\tvalid_0's auc: 0.699639\tvalid_0's binary_logloss: 0.412089\tvalid_0's l1: 0.254735\n",
      "[11]\tvalid_0's auc: 0.699447\tvalid_0's binary_logloss: 0.411998\tvalid_0's l1: 0.25452\n",
      "[12]\tvalid_0's auc: 0.699363\tvalid_0's binary_logloss: 0.411964\tvalid_0's l1: 0.25359\n",
      "Early stopping, best iteration is:\n",
      "[7]\tvalid_0's auc: 0.702282\tvalid_0's binary_logloss: 0.411972\tvalid_0's l1: 0.259987\n"
     ]
    },
    {
     "name": "stderr",
     "output_type": "stream",
     "text": [
      "C:\\Users\\kaviy\\anaconda3\\lib\\site-packages\\sklearn\\utils\\validation.py:73: DataConversionWarning: A column-vector y was passed when a 1d array was expected. Please change the shape of y to (n_samples, ), for example using ravel().\n",
      "  return f(**kwargs)\n"
     ]
    },
    {
     "name": "stdout",
     "output_type": "stream",
     "text": [
      "[1]\tvalid_0's auc: 0.694609\tvalid_0's binary_logloss: 0.433955\tvalid_0's l1: 0.27574\n",
      "Training until validation scores don't improve for 5 rounds\n",
      "[2]\tvalid_0's auc: 0.699125\tvalid_0's binary_logloss: 0.425977\tvalid_0's l1: 0.271405\n",
      "[3]\tvalid_0's auc: 0.703437\tvalid_0's binary_logloss: 0.41982\tvalid_0's l1: 0.267709\n",
      "[4]\tvalid_0's auc: 0.702817\tvalid_0's binary_logloss: 0.416423\tvalid_0's l1: 0.265419\n",
      "[5]\tvalid_0's auc: 0.702984\tvalid_0's binary_logloss: 0.414008\tvalid_0's l1: 0.262453\n",
      "[6]\tvalid_0's auc: 0.703278\tvalid_0's binary_logloss: 0.412553\tvalid_0's l1: 0.259944\n",
      "[7]\tvalid_0's auc: 0.704104\tvalid_0's binary_logloss: 0.41118\tvalid_0's l1: 0.258425\n",
      "[8]\tvalid_0's auc: 0.703637\tvalid_0's binary_logloss: 0.410502\tvalid_0's l1: 0.256298\n",
      "[9]\tvalid_0's auc: 0.70421\tvalid_0's binary_logloss: 0.410008\tvalid_0's l1: 0.255531\n",
      "[10]\tvalid_0's auc: 0.703805\tvalid_0's binary_logloss: 0.409803\tvalid_0's l1: 0.254603\n",
      "[11]\tvalid_0's auc: 0.703076\tvalid_0's binary_logloss: 0.409932\tvalid_0's l1: 0.2523\n",
      "[12]\tvalid_0's auc: 0.702653\tvalid_0's binary_logloss: 0.410021\tvalid_0's l1: 0.251961\n",
      "[13]\tvalid_0's auc: 0.703473\tvalid_0's binary_logloss: 0.410043\tvalid_0's l1: 0.25103\n",
      "[14]\tvalid_0's auc: 0.702138\tvalid_0's binary_logloss: 0.410508\tvalid_0's l1: 0.25102\n",
      "Early stopping, best iteration is:\n",
      "[9]\tvalid_0's auc: 0.70421\tvalid_0's binary_logloss: 0.410008\tvalid_0's l1: 0.255531\n"
     ]
    },
    {
     "name": "stderr",
     "output_type": "stream",
     "text": [
      "C:\\Users\\kaviy\\anaconda3\\lib\\site-packages\\sklearn\\utils\\validation.py:73: DataConversionWarning: A column-vector y was passed when a 1d array was expected. Please change the shape of y to (n_samples, ), for example using ravel().\n",
      "  return f(**kwargs)\n"
     ]
    },
    {
     "name": "stdout",
     "output_type": "stream",
     "text": [
      "[1]\tvalid_0's auc: 0.699268\tvalid_0's binary_logloss: 0.433918\tvalid_0's l1: 0.275896\n",
      "Training until validation scores don't improve for 5 rounds\n",
      "[2]\tvalid_0's auc: 0.695418\tvalid_0's binary_logloss: 0.426336\tvalid_0's l1: 0.272018\n",
      "[3]\tvalid_0's auc: 0.695214\tvalid_0's binary_logloss: 0.421208\tvalid_0's l1: 0.268001\n",
      "[4]\tvalid_0's auc: 0.698544\tvalid_0's binary_logloss: 0.417415\tvalid_0's l1: 0.265307\n",
      "[5]\tvalid_0's auc: 0.699937\tvalid_0's binary_logloss: 0.414751\tvalid_0's l1: 0.262783\n",
      "[6]\tvalid_0's auc: 0.700617\tvalid_0's binary_logloss: 0.413164\tvalid_0's l1: 0.261197\n",
      "[7]\tvalid_0's auc: 0.701234\tvalid_0's binary_logloss: 0.412232\tvalid_0's l1: 0.25949\n",
      "[8]\tvalid_0's auc: 0.700779\tvalid_0's binary_logloss: 0.411696\tvalid_0's l1: 0.257534\n",
      "[9]\tvalid_0's auc: 0.698888\tvalid_0's binary_logloss: 0.411672\tvalid_0's l1: 0.25556\n",
      "[10]\tvalid_0's auc: 0.698933\tvalid_0's binary_logloss: 0.411367\tvalid_0's l1: 0.254668\n",
      "[11]\tvalid_0's auc: 0.699205\tvalid_0's binary_logloss: 0.411366\tvalid_0's l1: 0.253548\n",
      "[12]\tvalid_0's auc: 0.699413\tvalid_0's binary_logloss: 0.411089\tvalid_0's l1: 0.252667\n",
      "Early stopping, best iteration is:\n",
      "[7]\tvalid_0's auc: 0.701234\tvalid_0's binary_logloss: 0.412232\tvalid_0's l1: 0.25949\n"
     ]
    },
    {
     "name": "stderr",
     "output_type": "stream",
     "text": [
      "C:\\Users\\kaviy\\anaconda3\\lib\\site-packages\\sklearn\\utils\\validation.py:73: DataConversionWarning: A column-vector y was passed when a 1d array was expected. Please change the shape of y to (n_samples, ), for example using ravel().\n",
      "  return f(**kwargs)\n"
     ]
    },
    {
     "name": "stdout",
     "output_type": "stream",
     "text": [
      "[1]\tvalid_0's auc: 0.630879\tvalid_0's binary_logloss: 0.436464\tvalid_0's l1: 0.273634\n",
      "Training until validation scores don't improve for 5 rounds\n",
      "[2]\tvalid_0's auc: 0.687985\tvalid_0's binary_logloss: 0.427793\tvalid_0's l1: 0.270531\n",
      "[3]\tvalid_0's auc: 0.696597\tvalid_0's binary_logloss: 0.421687\tvalid_0's l1: 0.270833\n",
      "[4]\tvalid_0's auc: 0.69771\tvalid_0's binary_logloss: 0.418364\tvalid_0's l1: 0.268622\n",
      "[5]\tvalid_0's auc: 0.697072\tvalid_0's binary_logloss: 0.41613\tvalid_0's l1: 0.265542\n",
      "[6]\tvalid_0's auc: 0.698115\tvalid_0's binary_logloss: 0.414135\tvalid_0's l1: 0.262999\n",
      "[7]\tvalid_0's auc: 0.69888\tvalid_0's binary_logloss: 0.412812\tvalid_0's l1: 0.260447\n",
      "[8]\tvalid_0's auc: 0.699233\tvalid_0's binary_logloss: 0.411957\tvalid_0's l1: 0.259061\n",
      "[9]\tvalid_0's auc: 0.698849\tvalid_0's binary_logloss: 0.411833\tvalid_0's l1: 0.258488\n",
      "[10]\tvalid_0's auc: 0.699631\tvalid_0's binary_logloss: 0.411805\tvalid_0's l1: 0.258297\n",
      "[11]\tvalid_0's auc: 0.699227\tvalid_0's binary_logloss: 0.411929\tvalid_0's l1: 0.257445\n",
      "[12]\tvalid_0's auc: 0.69945\tvalid_0's binary_logloss: 0.411697\tvalid_0's l1: 0.25721\n",
      "[13]\tvalid_0's auc: 0.695642\tvalid_0's binary_logloss: 0.413205\tvalid_0's l1: 0.253145\n",
      "[14]\tvalid_0's auc: 0.695389\tvalid_0's binary_logloss: 0.413444\tvalid_0's l1: 0.252671\n",
      "[15]\tvalid_0's auc: 0.694617\tvalid_0's binary_logloss: 0.413951\tvalid_0's l1: 0.252729\n",
      "Early stopping, best iteration is:\n",
      "[10]\tvalid_0's auc: 0.699631\tvalid_0's binary_logloss: 0.411805\tvalid_0's l1: 0.258297\n"
     ]
    },
    {
     "name": "stderr",
     "output_type": "stream",
     "text": [
      "C:\\Users\\kaviy\\anaconda3\\lib\\site-packages\\sklearn\\utils\\validation.py:73: DataConversionWarning: A column-vector y was passed when a 1d array was expected. Please change the shape of y to (n_samples, ), for example using ravel().\n",
      "  return f(**kwargs)\n"
     ]
    },
    {
     "name": "stdout",
     "output_type": "stream",
     "text": [
      "[1]\tvalid_0's auc: 0.696644\tvalid_0's binary_logloss: 0.440032\tvalid_0's l1: 0.277649\n",
      "Training until validation scores don't improve for 5 rounds\n",
      "[2]\tvalid_0's auc: 0.696498\tvalid_0's binary_logloss: 0.434399\tvalid_0's l1: 0.275035\n",
      "[3]\tvalid_0's auc: 0.698741\tvalid_0's binary_logloss: 0.429945\tvalid_0's l1: 0.272802\n",
      "[4]\tvalid_0's auc: 0.698591\tvalid_0's binary_logloss: 0.426616\tvalid_0's l1: 0.270855\n",
      "[5]\tvalid_0's auc: 0.697652\tvalid_0's binary_logloss: 0.423728\tvalid_0's l1: 0.269035\n",
      "[6]\tvalid_0's auc: 0.699042\tvalid_0's binary_logloss: 0.421413\tvalid_0's l1: 0.267497\n",
      "[7]\tvalid_0's auc: 0.700133\tvalid_0's binary_logloss: 0.419244\tvalid_0's l1: 0.266049\n",
      "[8]\tvalid_0's auc: 0.701313\tvalid_0's binary_logloss: 0.417574\tvalid_0's l1: 0.264761\n",
      "[9]\tvalid_0's auc: 0.700343\tvalid_0's binary_logloss: 0.416295\tvalid_0's l1: 0.263299\n",
      "[10]\tvalid_0's auc: 0.699694\tvalid_0's binary_logloss: 0.415086\tvalid_0's l1: 0.262119\n",
      "[11]\tvalid_0's auc: 0.698894\tvalid_0's binary_logloss: 0.41452\tvalid_0's l1: 0.26116\n",
      "[12]\tvalid_0's auc: 0.699148\tvalid_0's binary_logloss: 0.413618\tvalid_0's l1: 0.260101\n",
      "[13]\tvalid_0's auc: 0.700834\tvalid_0's binary_logloss: 0.412823\tvalid_0's l1: 0.259507\n",
      "Early stopping, best iteration is:\n",
      "[8]\tvalid_0's auc: 0.701313\tvalid_0's binary_logloss: 0.417574\tvalid_0's l1: 0.264761\n"
     ]
    },
    {
     "data": {
      "text/plain": [
       "GridSearchCV(estimator=LGBMClassifier(learning_rate=0.125, metric='l1',\n",
       "                                      n_estimators=20, num_leaves=38),\n",
       "             param_grid={'learning_rate': [0.1, 0.125, 0.15, 0.175, 0.2],\n",
       "                         'n_estimators': [24, 26, 28, 30, 32, 34, 36, 38]})"
      ]
     },
     "execution_count": 88,
     "metadata": {},
     "output_type": "execute_result"
    }
   ],
   "source": [
    "import lightgbm as lgb\n",
    "from sklearn.model_selection import GridSearchCV\n",
    "\n",
    "\n",
    "\n",
    "estimator = lgb.LGBMClassifier(learning_rate = 0.125, metric = 'l1', \n",
    "                        n_estimators = 20, num_leaves = 38)\n",
    "\n",
    "\n",
    "param_grid = {\n",
    "    'n_estimators': [x for x in range(24,40,2)],\n",
    "    'learning_rate': [0.10, 0.125, 0.15, 0.175, 0.2]}\n",
    "gridsearch = GridSearchCV(estimator, param_grid)\n",
    "\n",
    "gridsearch.fit(train_x, train_y,\n",
    "        eval_set = [(test_x, test_y)],\n",
    "        eval_metric = ['auc', 'binary_logloss'],\n",
    "        early_stopping_rounds = 5)"
   ]
  },
  {
   "cell_type": "code",
   "execution_count": 89,
   "metadata": {},
   "outputs": [
    {
     "name": "stderr",
     "output_type": "stream",
     "text": [
      "C:\\Users\\kaviy\\anaconda3\\lib\\site-packages\\sklearn\\utils\\validation.py:73: DataConversionWarning: A column-vector y was passed when a 1d array was expected. Please change the shape of y to (n_samples, ), for example using ravel().\n",
      "  return f(**kwargs)\n"
     ]
    },
    {
     "name": "stdout",
     "output_type": "stream",
     "text": [
      "[1]\tvalid_0's auc: 0.696942\tvalid_0's binary_logloss: 0.440131\tvalid_0's l1: 0.277679\n",
      "Training until validation scores don't improve for 5 rounds\n",
      "[2]\tvalid_0's auc: 0.69622\tvalid_0's binary_logloss: 0.434331\tvalid_0's l1: 0.275073\n",
      "[3]\tvalid_0's auc: 0.699531\tvalid_0's binary_logloss: 0.430044\tvalid_0's l1: 0.27311\n",
      "[4]\tvalid_0's auc: 0.702286\tvalid_0's binary_logloss: 0.42648\tvalid_0's l1: 0.271244\n",
      "[5]\tvalid_0's auc: 0.701406\tvalid_0's binary_logloss: 0.423434\tvalid_0's l1: 0.269221\n",
      "[6]\tvalid_0's auc: 0.701707\tvalid_0's binary_logloss: 0.421095\tvalid_0's l1: 0.267633\n",
      "[7]\tvalid_0's auc: 0.702546\tvalid_0's binary_logloss: 0.41916\tvalid_0's l1: 0.266396\n",
      "[8]\tvalid_0's auc: 0.702912\tvalid_0's binary_logloss: 0.417572\tvalid_0's l1: 0.265269\n",
      "[9]\tvalid_0's auc: 0.702611\tvalid_0's binary_logloss: 0.416128\tvalid_0's l1: 0.263888\n",
      "[10]\tvalid_0's auc: 0.702571\tvalid_0's binary_logloss: 0.415137\tvalid_0's l1: 0.26328\n",
      "[11]\tvalid_0's auc: 0.702718\tvalid_0's binary_logloss: 0.41407\tvalid_0's l1: 0.262157\n",
      "[12]\tvalid_0's auc: 0.702657\tvalid_0's binary_logloss: 0.413245\tvalid_0's l1: 0.261219\n",
      "[13]\tvalid_0's auc: 0.703131\tvalid_0's binary_logloss: 0.41254\tvalid_0's l1: 0.260183\n",
      "[14]\tvalid_0's auc: 0.702871\tvalid_0's binary_logloss: 0.412091\tvalid_0's l1: 0.259504\n",
      "[15]\tvalid_0's auc: 0.702704\tvalid_0's binary_logloss: 0.411588\tvalid_0's l1: 0.258515\n",
      "[16]\tvalid_0's auc: 0.702832\tvalid_0's binary_logloss: 0.411355\tvalid_0's l1: 0.257731\n",
      "[17]\tvalid_0's auc: 0.702966\tvalid_0's binary_logloss: 0.411087\tvalid_0's l1: 0.257307\n",
      "[18]\tvalid_0's auc: 0.702393\tvalid_0's binary_logloss: 0.410957\tvalid_0's l1: 0.256439\n",
      "Early stopping, best iteration is:\n",
      "[13]\tvalid_0's auc: 0.703131\tvalid_0's binary_logloss: 0.41254\tvalid_0's l1: 0.260183\n"
     ]
    },
    {
     "data": {
      "text/plain": [
       "LGBMClassifier(metric='l1', n_estimators=20)"
      ]
     },
     "execution_count": 89,
     "metadata": {},
     "output_type": "execute_result"
    }
   ],
   "source": [
    "gbm = lgb.LGBMClassifier(learning_rate = 0.1, metric = 'l1', \n",
    "                        n_estimators = 20)\n",
    "gbm.fit(train_x, train_y,\n",
    "        eval_set=[(test_x, test_y)],\n",
    "        eval_metric=['auc', 'binary_logloss'],\n",
    "early_stopping_rounds=5)"
   ]
  },
  {
   "cell_type": "code",
   "execution_count": 91,
   "metadata": {},
   "outputs": [
    {
     "name": "stdout",
     "output_type": "stream",
     "text": [
      "The accuracy of prediction is: 0.8373\n",
      "The roc_auc_score of prediction is: 0.5097274984770005\n",
      "The null acccuracy is: 0.8352999999999999\n"
     ]
    }
   ],
   "source": [
    "from sklearn.metrics import auc, accuracy_score, roc_auc_score, roc_curve\n",
    "\n",
    "y_pred = gbm.predict(test_x, num_iteration=gbm.best_iteration_)\n",
    "print('The accuracy of prediction is:', accuracy_score(test_y, y_pred))\n",
    "print('The roc_auc_score of prediction is:', roc_auc_score(test_y, y_pred))\n",
    "print('The null acccuracy is:', max(test_y.mean(), 1 - test_y.mean()))"
   ]
  },
  {
   "cell_type": "code",
   "execution_count": 94,
   "metadata": {},
   "outputs": [
    {
     "data": {
      "text/plain": [
       "array([0.09373048, 0.26441797, 0.27513347, ..., 0.16468456, 0.20971033,\n",
       "       0.20633452])"
      ]
     },
     "execution_count": 94,
     "metadata": {},
     "output_type": "execute_result"
    }
   ],
   "source": [
    "y_pred_prob = gbm.predict_proba(test_x)[:, 1]\n",
    "y_pred_prob\n"
   ]
  },
  {
   "cell_type": "code",
   "execution_count": 95,
   "metadata": {},
   "outputs": [
    {
     "data": {
      "image/png": "[encoded data removed]",
      "text/plain": [
       "<Figure size 432x288 with 1 Axes>"
      ]
     },
     "metadata": {
      "needs_background": "light"
     },
     "output_type": "display_data"
    }
   ],
   "source": [
    "%matplotlib inline\n",
    "import matplotlib.pyplot as plt\n",
    "\n",
    "\n",
    "fpr, tpr, thresholds = roc_curve(test_y, y_pred_prob)\n",
    "\n",
    "plt.plot(fpr, tpr)\n",
    "plt.xlim([0.0, 1.0])\n",
    "plt.ylim([0.0, 1.0])\n",
    "plt.rcParams['font.size'] = 12\n",
    "plt.title('ROC curve for credit card defaulting classifier')\n",
    "plt.xlabel('False Positive Rate (1 - Specificity)')\n",
    "plt.grid(True)"
   ]
  },
  {
   "cell_type": "code",
   "execution_count": 97,
   "metadata": {},
   "outputs": [
    {
     "name": "stdout",
     "output_type": "stream",
     "text": [
      "[[8338   15]\n",
      " [1612   35]]\n"
     ]
    }
   ],
   "source": [
    "from sklearn import metrics\n",
    "print(metrics.confusion_matrix(test_y, y_pred))"
   ]
  },
  {
   "cell_type": "code",
   "execution_count": null,
   "metadata": {},
   "outputs": [],
   "source": []
  }
 ],
 "metadata": {
  "kernelspec": {
   "display_name": "Python 3",
   "language": "python",
   "name": "python3"
  },
  "language_info": {
   "codemirror_mode": {
    "name": "ipython",
    "version": 3
   },
   "file_extension": ".py",
   "mimetype": "text/x-python",
   "name": "python",
   "nbconvert_exporter": "python",
   "pygments_lexer": "ipython3",
   "version": "3.8.3"
  }
 },
 "nbformat": 4,
 "nbformat_minor": 4
}
