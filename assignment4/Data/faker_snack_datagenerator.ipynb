{
 "cells": [
  {
   "cell_type": "code",
   "execution_count": 2,
   "metadata": {},
   "outputs": [],
   "source": [
    "import pandas as pd\n",
    "import numpy as np\n",
    "import os\n",
    "import random\n",
    "\n",
    "from faker import Faker"
   ]
  },
  {
   "cell_type": "code",
   "execution_count": 3,
   "metadata": {},
   "outputs": [],
   "source": [
    "fake = Faker()"
   ]
  },
  {
   "cell_type": "markdown",
   "metadata": {},
   "source": [
    "### Creating Synthetic data"
   ]
  },
  {
   "cell_type": "code",
   "execution_count": 71,
   "metadata": {},
   "outputs": [],
   "source": [
    "def faker_snack_rows(num=1, seed=None):\n",
    "    \n",
    "    np.random.seed(seed)\n",
    "    fake.seed_instance(seed)\n",
    "    \n",
    "    #fake.date.between('2015-01-01', '2015-01-05')\n",
    "    time_gen = fake.time_series(start_date=\"-10000d\", end_date=\"now\", precision=3600)\n",
    "    itemid = [1,2,3,4,5,6,7,8,9,10,11,12,13,14,15]\n",
    "    \n",
    "    output= [\n",
    "        {\n",
    "            \n",
    "            \"user_id\" : fake.random_int(min=1, max=100),\n",
    "            \"name\"    : fake.last_name(),\n",
    "            \"email\"   : fake.free_email(),\n",
    "            \"US_state\" : np.random.choice([\"Texas\",\"NY\",\"WA\",\"SF\",\"MA\",\"IL\",\"FL\"]),\n",
    "            \"Gender\"   : np.random.choice([\"M\",\"F\",\"Not Specified\"], p=[0.3,0.6,0.1]),\n",
    "            \"Item_id\"  : random.choice(itemid),\n",
    "            \"Rating\"   : np.random.choice(np.arange(0,6,1), p=[0.05,0.05,0.5,0.30,0.05,0.05]),\n",
    "            \"datetime\" : np.random.choice(next(time_gen))\n",
    "            \n",
    "        }\n",
    "        for x in range(num)\n",
    "    ]\n",
    "    return output"
   ]
  },
  {
   "cell_type": "code",
   "execution_count": 72,
   "metadata": {},
   "outputs": [
    {
     "data": {
      "text/html": [
       "<div>\n",
       "<style scoped>\n",
       "    .dataframe tbody tr th:only-of-type {\n",
       "        vertical-align: middle;\n",
       "    }\n",
       "\n",
       "    .dataframe tbody tr th {\n",
       "        vertical-align: top;\n",
       "    }\n",
       "\n",
       "    .dataframe thead th {\n",
       "        text-align: right;\n",
       "    }\n",
       "</style>\n",
       "<table border=\"1\" class=\"dataframe\">\n",
       "  <thead>\n",
       "    <tr style=\"text-align: right;\">\n",
       "      <th></th>\n",
       "      <th>user_id</th>\n",
       "      <th>name</th>\n",
       "      <th>email</th>\n",
       "      <th>US_state</th>\n",
       "      <th>Gender</th>\n",
       "      <th>Item_id</th>\n",
       "      <th>Rating</th>\n",
       "      <th>datetime</th>\n",
       "    </tr>\n",
       "  </thead>\n",
       "  <tbody>\n",
       "    <tr>\n",
       "      <th>0</th>\n",
       "      <td>50</td>\n",
       "      <td>Chang</td>\n",
       "      <td>jonathandixon@yahoo.com</td>\n",
       "      <td>MA</td>\n",
       "      <td>F</td>\n",
       "      <td>11</td>\n",
       "      <td>3</td>\n",
       "      <td>2821.67</td>\n",
       "    </tr>\n",
       "    <tr>\n",
       "      <th>1</th>\n",
       "      <td>39</td>\n",
       "      <td>Faulkner</td>\n",
       "      <td>patriciarobinson@gmail.com</td>\n",
       "      <td>SF</td>\n",
       "      <td>F</td>\n",
       "      <td>9</td>\n",
       "      <td>3</td>\n",
       "      <td>1993-06-26 14:07:12</td>\n",
       "    </tr>\n",
       "    <tr>\n",
       "      <th>2</th>\n",
       "      <td>13</td>\n",
       "      <td>Montgomery</td>\n",
       "      <td>reneemcgrath@hotmail.com</td>\n",
       "      <td>MA</td>\n",
       "      <td>M</td>\n",
       "      <td>10</td>\n",
       "      <td>1</td>\n",
       "      <td>1993-06-26 15:07:12</td>\n",
       "    </tr>\n",
       "    <tr>\n",
       "      <th>3</th>\n",
       "      <td>40</td>\n",
       "      <td>Garcia</td>\n",
       "      <td>jeffersonmark@yahoo.com</td>\n",
       "      <td>WA</td>\n",
       "      <td>F</td>\n",
       "      <td>13</td>\n",
       "      <td>3</td>\n",
       "      <td>1993-06-26 16:07:12</td>\n",
       "    </tr>\n",
       "    <tr>\n",
       "      <th>4</th>\n",
       "      <td>41</td>\n",
       "      <td>Carr</td>\n",
       "      <td>ylevy@hotmail.com</td>\n",
       "      <td>Texas</td>\n",
       "      <td>F</td>\n",
       "      <td>11</td>\n",
       "      <td>3</td>\n",
       "      <td>1993-06-26 17:07:12</td>\n",
       "    </tr>\n",
       "  </tbody>\n",
       "</table>\n",
       "</div>"
      ],
      "text/plain": [
       "   user_id        name                       email US_state Gender  Item_id  \\\n",
       "0       50       Chang     jonathandixon@yahoo.com       MA      F       11   \n",
       "1       39    Faulkner  patriciarobinson@gmail.com       SF      F        9   \n",
       "2       13  Montgomery    reneemcgrath@hotmail.com       MA      M       10   \n",
       "3       40      Garcia     jeffersonmark@yahoo.com       WA      F       13   \n",
       "4       41        Carr           ylevy@hotmail.com    Texas      F       11   \n",
       "\n",
       "   Rating             datetime  \n",
       "0       3              2821.67  \n",
       "1       3  1993-06-26 14:07:12  \n",
       "2       1  1993-06-26 15:07:12  \n",
       "3       3  1993-06-26 16:07:12  \n",
       "4       3  1993-06-26 17:07:12  "
      ]
     },
     "execution_count": 72,
     "metadata": {},
     "output_type": "execute_result"
    }
   ],
   "source": [
    "df= pd.DataFrame(faker_snack_rows(num=10000, seed=0))\n",
    "df.head(5)"
   ]
  },
  {
   "cell_type": "code",
   "execution_count": 64,
   "metadata": {},
   "outputs": [],
   "source": [
    "df.to_csv (r'C:\\Users\\kaviy\\Desktop\\Assignment4\\Data\\snack_data.csv', index = False, header=True)\n"
   ]
  },
  {
   "cell_type": "code",
   "execution_count": null,
   "metadata": {},
   "outputs": [],
   "source": []
  }
 ],
 "metadata": {
  "kernelspec": {
   "display_name": "Python 3",
   "language": "python",
   "name": "python3"
  },
  "language_info": {
   "codemirror_mode": {
    "name": "ipython",
    "version": 3
   },
   "file_extension": ".py",
   "mimetype": "text/x-python",
   "name": "python",
   "nbconvert_exporter": "python",
   "pygments_lexer": "ipython3",
   "version": "3.8.3"
  }
 },
 "nbformat": 4,
 "nbformat_minor": 4
}
