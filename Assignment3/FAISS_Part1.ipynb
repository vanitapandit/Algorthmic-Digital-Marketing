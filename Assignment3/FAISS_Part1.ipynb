{
 "cells": [
  {
   "cell_type": "code",
   "execution_count": 1,
   "metadata": {},
   "outputs": [
    {
     "name": "stdout",
     "output_type": "stream",
     "text": [
      "Requirement already satisfied: faiss-cpu in c:\\users\\ashwi\\anaconda3\\lib\\site-packages (1.6.4)\n",
      "Note: you may need to restart the kernel to use updated packages.\n"
     ]
    }
   ],
   "source": [
    "pip install faiss-cpu"
   ]
  },
  {
   "cell_type": "code",
   "execution_count": 1,
   "metadata": {},
   "outputs": [],
   "source": [
    "#import faiss\n",
    "import pandas as pd\n",
    "import numpy as np\n",
    "from numpy.linalg import norm\n",
    "import pickle\n",
    "from tqdm import tqdm, tqdm_notebook\n",
    "import os\n",
    "import time\n",
    "import matplotlib.pyplot as plt\n",
    "import matplotlib.image as mpimg\n",
    "from tensorflow.keras.preprocessing import image\n",
    "from tensorflow.keras.applications.resnet50 import ResNet50, preprocess_input"
   ]
  },
  {
   "cell_type": "markdown",
   "metadata": {},
   "source": [
    "# Feature Extraction"
   ]
  },
  {
   "cell_type": "code",
   "execution_count": 2,
   "metadata": {},
   "outputs": [],
   "source": [
    "model = ResNet50(weights='imagenet', include_top=False,\n",
    "                 input_shape=(180, 180, 3))\n",
    "def extract_features(img_path, model):\n",
    "    input_shape = (180, 180, 3)\n",
    "    img = image.load_img(img_path, target_size=(\n",
    "        input_shape[0], input_shape[1]))\n",
    "    img_array = image.img_to_array(img)\n",
    "    expanded_img_array = np.expand_dims(img_array, axis=0)\n",
    "    preprocessed_img = preprocess_input(expanded_img_array)\n",
    "    features = model.predict(preprocessed_img)\n",
    "    flattened_features = features.flatten()\n",
    "    normalized_features = flattened_features / norm(flattened_features)\n",
    "    return normalized_features"
   ]
  },
  {
   "cell_type": "code",
   "execution_count": 3,
   "metadata": {},
   "outputs": [],
   "source": [
    "extensions = ['.jpg', '.JPG', '.jpeg', '.JPEG', '.png', '.PNG']\n",
    "def get_file_list(root_dir):\n",
    "    file_list = []\n",
    "    counter = 1\n",
    "    for root, directories, filenames in os.walk(root_dir):\n",
    "        for filename in filenames:\n",
    "            if any(ext in filename for ext in extensions):\n",
    "                file_list.append(os.path.join(root, filename))\n",
    "                counter += 1\n",
    "    return file_list"
   ]
  },
  {
   "cell_type": "code",
   "execution_count": 4,
   "metadata": {},
   "outputs": [
    {
     "name": "stdout",
     "output_type": "stream",
     "text": [
      "['./TestImage\\\\0_0.jpg', './TestImage\\\\101_0.jpg', './TestImage\\\\102_0.jpg', './TestImage\\\\1046233_0.jpg', './TestImage\\\\104_0.jpg', './TestImage\\\\105_0.jpg', './TestImage\\\\106_0.jpg', './TestImage\\\\1076297_0.jpg', './TestImage\\\\1082183_0.jpg', './TestImage\\\\1088984_0.jpg', './TestImage\\\\108_0.jpg', './TestImage\\\\109_0.jpg', './TestImage\\\\1111645_0.jpg', './TestImage\\\\111_0.jpg', './TestImage\\\\1129805_0.jpg', './TestImage\\\\112_0.jpg', './TestImage\\\\112_1.jpg', './TestImage\\\\114_0.jpg', './TestImage\\\\114_1.jpg', './TestImage\\\\114_2.jpg', './TestImage\\\\116_0.jpg', './TestImage\\\\1170894_0.jpg', './TestImage\\\\1170894_1.jpg', './TestImage\\\\118_0.jpg', './TestImage\\\\119_0.jpg', './TestImage\\\\11_0.jpg', './TestImage\\\\120_0.jpg', './TestImage\\\\120_1.jpg', './TestImage\\\\120_2.jpg', './TestImage\\\\120_3.jpg', './TestImage\\\\1211240_0.jpg', './TestImage\\\\1211240_1.jpg', './TestImage\\\\121_0.jpg', './TestImage\\\\122_0.jpg', './TestImage\\\\122_1.jpg', './TestImage\\\\122_2.jpg', './TestImage\\\\122_3.jpg', './TestImage\\\\1238122_0.jpg', './TestImage\\\\1238122_1.jpg', './TestImage\\\\123_0.jpg', './TestImage\\\\124_0.jpg', './TestImage\\\\125_0.jpg', './TestImage\\\\125_1.jpg', './TestImage\\\\125_2.jpg', './TestImage\\\\12_0.jpg', './TestImage\\\\130374_0.jpg', './TestImage\\\\130374_1.jpg', './TestImage\\\\130374_2.jpg', './TestImage\\\\130374_3.jpg', './TestImage\\\\1306638_0.jpg', './TestImage\\\\1306638_1.jpg', './TestImage\\\\1323502_0.jpg', './TestImage\\\\1323502_1.jpg', './TestImage\\\\1323502_2.jpg', './TestImage\\\\1323502_3.jpg', './TestImage\\\\1360443_0.jpg', './TestImage\\\\1360443_1.jpg', './TestImage\\\\1360443_2.jpg', './TestImage\\\\1360443_3.jpg', './TestImage\\\\1370619_0.jpg', './TestImage\\\\1396752_0.jpg', './TestImage\\\\1396752_1.jpg', './TestImage\\\\13_0.jpg', './TestImage\\\\13_1.jpg', './TestImage\\\\13_2.jpg', './TestImage\\\\13_3.jpg', './TestImage\\\\1416105_0.jpg', './TestImage\\\\1417301_0.jpg', './TestImage\\\\1417301_1.jpg', './TestImage\\\\1418639_0.jpg', './TestImage\\\\1418639_1.jpg', './TestImage\\\\1418639_2.jpg', './TestImage\\\\1420572_0.jpg', './TestImage\\\\1422091_0.jpg', './TestImage\\\\1456671_0.jpg', './TestImage\\\\1473075_0.jpg', './TestImage\\\\1473075_1.jpg', './TestImage\\\\1478575_0.jpg', './TestImage\\\\1527720_0.jpg', './TestImage\\\\1527720_1.jpg', './TestImage\\\\1527720_2.jpg', './TestImage\\\\1576123_0.jpg', './TestImage\\\\1576123_1.jpg', './TestImage\\\\1576123_2.jpg', './TestImage\\\\1579564_0.jpg', './TestImage\\\\15_0.jpg', './TestImage\\\\1613848_0.jpg', './TestImage\\\\161551_0.jpg', './TestImage\\\\1625168_0.jpg', './TestImage\\\\1625168_1.jpg', './TestImage\\\\1679426_0.jpg', './TestImage\\\\1679426_1.jpg', './TestImage\\\\1692871_0.jpg', './TestImage\\\\1693803_0.jpg', './TestImage\\\\16_0.jpg', './TestImage\\\\1707110_0.jpg', './TestImage\\\\1707110_1.jpg', './TestImage\\\\1707110_2.jpg', './TestImage\\\\17126_3.jpg', './TestImage\\\\1794510_0.jpg', './TestImage\\\\17_0.jpg', './TestImage\\\\1864536_0.jpg', './TestImage\\\\18_0.jpg', './TestImage\\\\1926078_0.jpg', './TestImage\\\\1926144_0.jpg', './TestImage\\\\1926144_1.jpg', './TestImage\\\\194493_0.jpg', './TestImage\\\\194493_1.jpg', './TestImage\\\\1951631_0.jpg', './TestImage\\\\199060_0.jpg', './TestImage\\\\19_0.jpg', './TestImage\\\\19_1.jpg', './TestImage\\\\1_0.jpg', './TestImage\\\\2008369_0.jpg', './TestImage\\\\2008369_1.jpg', './TestImage\\\\2070927_0.jpg', './TestImage\\\\20_0.jpg', './TestImage\\\\2110425_0.jpg', './TestImage\\\\2165012_0.jpg', './TestImage\\\\2165012_1.jpg', './TestImage\\\\217204_0.jpg', './TestImage\\\\2219063_0.jpg', './TestImage\\\\2219063_1.jpg', './TestImage\\\\2219063_2.jpg', './TestImage\\\\2219063_3.jpg', './TestImage\\\\2249413_0.jpg', './TestImage\\\\2253833_0.jpg', './TestImage\\\\2253833_1.jpg', './TestImage\\\\2253833_2.jpg', './TestImage\\\\2253833_3.jpg', './TestImage\\\\2261625_0.jpg', './TestImage\\\\2271854_0.jpg', './TestImage\\\\2271854_1.jpg', './TestImage\\\\2283033_0.jpg', './TestImage\\\\2283033_1.jpg', './TestImage\\\\2286552_0.jpg', './TestImage\\\\2286552_1.jpg', './TestImage\\\\2286552_2.jpg', './TestImage\\\\2286552_3.jpg', './TestImage\\\\2292197_0.jpg', './TestImage\\\\2292197_1.jpg', './TestImage\\\\2292197_2.jpg', './TestImage\\\\2292197_3.jpg', './TestImage\\\\22_0.jpg', './TestImage\\\\230100_0.jpg', './TestImage\\\\2348333_0.jpg', './TestImage\\\\238420_0.jpg', './TestImage\\\\238697_0.jpg', './TestImage\\\\238697_1.jpg', './TestImage\\\\238697_2.jpg', './TestImage\\\\2393473_0.jpg', './TestImage\\\\2396442_0.jpg', './TestImage\\\\2445924_0.jpg', './TestImage\\\\2450505_0.jpg', './TestImage\\\\2503614_0.jpg', './TestImage\\\\2524410_0.jpg', './TestImage\\\\2524410_1.jpg', './TestImage\\\\2527501_0.jpg', './TestImage\\\\2539075_0.jpg', './TestImage\\\\2565742_0.jpg', './TestImage\\\\2565742_1.jpg', './TestImage\\\\2565742_2.jpg', './TestImage\\\\25_0.jpg', './TestImage\\\\25_1.jpg', './TestImage\\\\25_2.jpg', './TestImage\\\\25_3.jpg', './TestImage\\\\2601997_0.jpg', './TestImage\\\\2614187_0.jpg', './TestImage\\\\2614187_1.jpg', './TestImage\\\\2614187_2.jpg', './TestImage\\\\261890_0.jpg', './TestImage\\\\261890_1.jpg', './TestImage\\\\263977_0.jpg', './TestImage\\\\263977_1.jpg', './TestImage\\\\263977_2.jpg', './TestImage\\\\2641262_0.jpg', './TestImage\\\\2641262_1.jpg', './TestImage\\\\26_0.jpg', './TestImage\\\\26_1.jpg', './TestImage\\\\26_2.jpg', './TestImage\\\\26_3.jpg', './TestImage\\\\2719924_0.jpg', './TestImage\\\\2721276_0.jpg', './TestImage\\\\2728604_0.jpg', './TestImage\\\\2755487_0.jpg', './TestImage\\\\2771913_0.jpg', './TestImage\\\\2771913_1.jpg', './TestImage\\\\2774373_0.jpg', './TestImage\\\\2775357_0.jpg', './TestImage\\\\2775357_1.jpg', './TestImage\\\\2775357_2.jpg', './TestImage\\\\2775357_3.jpg', './TestImage\\\\2780180_0.jpg', './TestImage\\\\2780180_1.jpg', './TestImage\\\\2780180_2.jpg', './TestImage\\\\2780180_3.jpg', './TestImage\\\\2795694_0.jpg', './TestImage\\\\2797132_0.jpg', './TestImage\\\\2797132_1.jpg', './TestImage\\\\2848048_0.jpg', './TestImage\\\\2853133_0.jpg', './TestImage\\\\2857595_0.jpg', './TestImage\\\\2894006_0.jpg', './TestImage\\\\28_0.jpg', './TestImage\\\\2904649_0.jpg', './TestImage\\\\2_0.jpg', './TestImage\\\\3001626_0.jpg', './TestImage\\\\3007801_0.jpg', './TestImage\\\\3007801_1.jpg', './TestImage\\\\3017986_0.jpg', './TestImage\\\\3017986_1.jpg', './TestImage\\\\3061333_0.jpg', './TestImage\\\\3061333_1.jpg', './TestImage\\\\3061333_2.jpg', './TestImage\\\\3080655_0.jpg', './TestImage\\\\30_0.jpg', './TestImage\\\\3123386_0.jpg', './TestImage\\\\3154838_0.jpg', './TestImage\\\\3169236_0.jpg', './TestImage\\\\3169236_1.jpg', './TestImage\\\\3174536_0.jpg', './TestImage\\\\3174536_1.jpg', './TestImage\\\\31_0.jpg', './TestImage\\\\3235516_0.jpg', './TestImage\\\\3240637_0.jpg', './TestImage\\\\3240637_1.jpg', './TestImage\\\\3243359_0.jpg', './TestImage\\\\3243359_1.jpg', './TestImage\\\\3243359_2.jpg', './TestImage\\\\3243359_3.jpg', './TestImage\\\\3315255_0.jpg', './TestImage\\\\3315255_1.jpg', './TestImage\\\\3315255_2.jpg', './TestImage\\\\3315255_3.jpg', './TestImage\\\\3323925_0.jpg', './TestImage\\\\3323925_1.jpg', './TestImage\\\\3391830_0.jpg', './TestImage\\\\3391830_1.jpg', './TestImage\\\\3391830_2.jpg', './TestImage\\\\3391830_3.jpg', './TestImage\\\\33_0.jpg', './TestImage\\\\33_1.jpg', './TestImage\\\\3432903_0.jpg', './TestImage\\\\3432903_1.jpg', './TestImage\\\\3432903_2.jpg', './TestImage\\\\3445765_0.jpg', './TestImage\\\\34_0.jpg', './TestImage\\\\3518216_0.jpg', './TestImage\\\\3518216_1.jpg', './TestImage\\\\3518216_2.jpg', './TestImage\\\\35231_0.jpg', './TestImage\\\\35231_1.jpg', './TestImage\\\\3548744_0.jpg', './TestImage\\\\3560786_0.jpg', './TestImage\\\\3588850_0.jpg', './TestImage\\\\3592570_0.jpg', './TestImage\\\\3592570_1.jpg', './TestImage\\\\35_0.jpg', './TestImage\\\\36_0.jpg', './TestImage\\\\3702548_0.jpg', './TestImage\\\\3728824_0.jpg', './TestImage\\\\3761227_0.jpg', './TestImage\\\\3761227_1.jpg', './TestImage\\\\3766409_0.jpg', './TestImage\\\\3766409_1.jpg', './TestImage\\\\3766409_2.jpg', './TestImage\\\\3779080_0.jpg', './TestImage\\\\3779080_1.jpg', './TestImage\\\\3779080_2.jpg', './TestImage\\\\3785080_0.jpg', './TestImage\\\\37_0.jpg', './TestImage\\\\3809087_0.jpg', './TestImage\\\\3820267_0.jpg', './TestImage\\\\3825793_0.jpg', './TestImage\\\\3834622_0.jpg', './TestImage\\\\3894379_0.jpg', './TestImage\\\\3894379_1.jpg', './TestImage\\\\3894379_2.jpg', './TestImage\\\\38_0.jpg', './TestImage\\\\3929938_0.jpg', './TestImage\\\\3929938_1.jpg', './TestImage\\\\3945315_0.jpg', './TestImage\\\\3950161_0.jpg', './TestImage\\\\395560_0.jpg', './TestImage\\\\3996265_0.jpg', './TestImage\\\\3996629_0.jpg', './TestImage\\\\39_0.jpg', './TestImage\\\\39_1.jpg', './TestImage\\\\3_0.jpg', './TestImage\\\\4022765_0.jpg', './TestImage\\\\4022765_1.jpg', './TestImage\\\\4024812_0.jpg', './TestImage\\\\402546_0.jpg', './TestImage\\\\4037153_0.jpg', './TestImage\\\\4053068_0.jpg', './TestImage\\\\4063433_0.jpg', './TestImage\\\\4063433_1.jpg', './TestImage\\\\4063433_2.jpg', './TestImage\\\\40_0.jpg', './TestImage\\\\4146518_0.jpg', './TestImage\\\\4146518_1.jpg', './TestImage\\\\4146518_2.jpg', './TestImage\\\\417077_0.jpg', './TestImage\\\\417077_1.jpg', './TestImage\\\\417077_2.jpg', './TestImage\\\\41_0.jpg', './TestImage\\\\4207789_0.jpg', './TestImage\\\\4207944_0.jpg', './TestImage\\\\4209522_0.jpg', './TestImage\\\\4221663_0.jpg', './TestImage\\\\4221663_1.jpg', './TestImage\\\\4221663_2.jpg', './TestImage\\\\4221663_3.jpg', './TestImage\\\\4285581_0.jpg', './TestImage\\\\42_0.jpg', './TestImage\\\\42_1.jpg', './TestImage\\\\436356_0.jpg', './TestImage\\\\4386407_0.jpg', './TestImage\\\\4386407_1.jpg', './TestImage\\\\4386407_2.jpg', './TestImage\\\\4386407_3.jpg', './TestImage\\\\4391117_0.jpg', './TestImage\\\\4397251_0.jpg', './TestImage\\\\4397251_1.jpg', './TestImage\\\\43_0.jpg', './TestImage\\\\43_1.jpg', './TestImage\\\\43_2.jpg', './TestImage\\\\4411723_0.jpg', './TestImage\\\\4411723_1.jpg', './TestImage\\\\4412540_0.jpg', './TestImage\\\\4418633_0.jpg', './TestImage\\\\4489130_0.jpg', './TestImage\\\\44_0.jpg', './TestImage\\\\451241_0.jpg', './TestImage\\\\451241_1.jpg', './TestImage\\\\451241_2.jpg', './TestImage\\\\4530827_0.jpg', './TestImage\\\\45_0.jpg', './TestImage\\\\4636037_0.jpg', './TestImage\\\\46_0.jpg', './TestImage\\\\4719256_0.jpg', './TestImage\\\\4719256_1.jpg', './TestImage\\\\4768716_0.jpg', './TestImage\\\\47_0.jpg', './TestImage\\\\48_0.jpg', './TestImage\\\\4905153_0.jpg', './TestImage\\\\4905153_1.jpg', './TestImage\\\\4905153_2.jpg', './TestImage\\\\4905153_3.jpg', './TestImage\\\\4936800_0.jpg', './TestImage\\\\4936800_1.jpg', './TestImage\\\\4936800_2.jpg', './TestImage\\\\4936800_3.jpg', './TestImage\\\\4985872_0.jpg', './TestImage\\\\4_0.jpg', './TestImage\\\\5023985_0.jpg', './TestImage\\\\5023985_1.jpg', './TestImage\\\\5023985_2.jpg', './TestImage\\\\5048970_0.jpg', './TestImage\\\\5048970_1.jpg', './TestImage\\\\5057350_0.jpg', './TestImage\\\\5057350_1.jpg', './TestImage\\\\5057350_2.jpg', './TestImage\\\\506662_0.jpg', './TestImage\\\\506662_1.jpg', './TestImage\\\\506662_2.jpg', './TestImage\\\\506662_3.jpg', './TestImage\\\\5076193_0.jpg', './TestImage\\\\50_0.jpg', './TestImage\\\\5101613_0.jpg', './TestImage\\\\510802_0.jpg', './TestImage\\\\5127422_0.jpg', './TestImage\\\\5165978_0.jpg', './TestImage\\\\51_0.jpg', './TestImage\\\\5219922_0.jpg', './TestImage\\\\5219922_1.jpg', './TestImage\\\\5219922_2.jpg', './TestImage\\\\5219922_3.jpg', './TestImage\\\\5237851_0.jpg', './TestImage\\\\5240612_0.jpg', './TestImage\\\\5276268_0.jpg', './TestImage\\\\5277036_0.jpg', './TestImage\\\\5299557_0.jpg', './TestImage\\\\5299557_1.jpg', './TestImage\\\\5299557_2.jpg', './TestImage\\\\52_0.jpg', './TestImage\\\\5305904_0.jpg', './TestImage\\\\5326936_0.jpg', './TestImage\\\\5326936_1.jpg', './TestImage\\\\5326936_2.jpg', './TestImage\\\\5326936_3.jpg', './TestImage\\\\5399576_0.jpg', './TestImage\\\\53_0.jpg', './TestImage\\\\5430819_0.jpg', './TestImage\\\\5430819_1.jpg', './TestImage\\\\5430819_2.jpg', './TestImage\\\\5451882_0.jpg', './TestImage\\\\5451882_1.jpg', './TestImage\\\\5456115_0.jpg', './TestImage\\\\5456115_1.jpg', './TestImage\\\\5456115_2.jpg', './TestImage\\\\5456115_3.jpg', './TestImage\\\\5494334_0.jpg', './TestImage\\\\5494334_1.jpg', './TestImage\\\\54_0.jpg', './TestImage\\\\5531218_0.jpg', './TestImage\\\\553331_0.jpg', './TestImage\\\\5533514_0.jpg', './TestImage\\\\5571423_0.jpg', './TestImage\\\\5583834_0.jpg', './TestImage\\\\5586792_0.jpg', './TestImage\\\\55_0.jpg', './TestImage\\\\5605151_0.jpg', './TestImage\\\\5630226_0.jpg', './TestImage\\\\5630226_1.jpg', './TestImage\\\\5630226_2.jpg', './TestImage\\\\5641105_0.jpg', './TestImage\\\\5641105_1.jpg', './TestImage\\\\5641105_2.jpg', './TestImage\\\\5641105_3.jpg', './TestImage\\\\5651469_0.jpg', './TestImage\\\\5651469_1.jpg', './TestImage\\\\5669633_0.jpg', './TestImage\\\\567729_0.jpg', './TestImage\\\\5692853_0.jpg', './TestImage\\\\56_0.jpg', './TestImage\\\\5749819_0.jpg', './TestImage\\\\5755533_0.jpg', './TestImage\\\\5755533_1.jpg', './TestImage\\\\5755533_2.jpg', './TestImage\\\\5765859_0.jpg', './TestImage\\\\5765859_1.jpg', './TestImage\\\\5794695_0.jpg', './TestImage\\\\5794695_1.jpg', './TestImage\\\\5794695_2.jpg', './TestImage\\\\57_0.jpg', './TestImage\\\\57_1.jpg', './TestImage\\\\57_2.jpg', './TestImage\\\\5805839_0.jpg', './TestImage\\\\5805839_1.jpg', './TestImage\\\\5805839_2.jpg', './TestImage\\\\5871960_0.jpg', './TestImage\\\\5879123_0.jpg', './TestImage\\\\5880137_0.jpg', './TestImage\\\\5880137_1.jpg', './TestImage\\\\5880137_2.jpg', './TestImage\\\\5897501_0.jpg', './TestImage\\\\58_0.jpg', './TestImage\\\\5939231_0.jpg', './TestImage\\\\5939231_1.jpg', './TestImage\\\\5939231_2.jpg', './TestImage\\\\5962041_0.jpg', './TestImage\\\\598876_0.jpg', './TestImage\\\\598876_1.jpg', './TestImage\\\\598876_2.jpg', './TestImage\\\\59_0.jpg', './TestImage\\\\5_0.jpg', './TestImage\\\\6007737_0.jpg', './TestImage\\\\6019869_0.jpg', './TestImage\\\\6048512_0.jpg', './TestImage\\\\6080959_0.jpg', './TestImage\\\\6080959_1.jpg', './TestImage\\\\6080959_2.jpg', './TestImage\\\\6080959_3.jpg', './TestImage\\\\60_0.jpg', './TestImage\\\\6112991_0.jpg', './TestImage\\\\6143573_0.jpg', './TestImage\\\\6143573_1.jpg', './TestImage\\\\6147917_0.jpg', './TestImage\\\\6159559_0.jpg', './TestImage\\\\6159559_1.jpg', './TestImage\\\\619948_0.jpg', './TestImage\\\\619948_1.jpg', './TestImage\\\\61_0.jpg', './TestImage\\\\6203447_0.jpg', './TestImage\\\\6203447_1.jpg', './TestImage\\\\6249716_0.jpg', './TestImage\\\\6266112_0.jpg', './TestImage\\\\6266970_0.jpg', './TestImage\\\\6298920_0.jpg', './TestImage\\\\6298920_1.jpg', './TestImage\\\\62_0.jpg', './TestImage\\\\62_1.jpg', './TestImage\\\\6357292_0.jpg', './TestImage\\\\6357292_1.jpg', './TestImage\\\\6357292_2.jpg', './TestImage\\\\6359436_0.jpg', './TestImage\\\\6359436_1.jpg', './TestImage\\\\6359436_2.jpg', './TestImage\\\\63_0.jpg', './TestImage\\\\6416356_0.jpg', './TestImage\\\\6438372_0.jpg', './TestImage\\\\6438372_1.jpg', './TestImage\\\\6460827_0.jpg', './TestImage\\\\6483073_0.jpg', './TestImage\\\\64_0.jpg', './TestImage\\\\64_1.jpg', './TestImage\\\\64_2.jpg', './TestImage\\\\6505789_0.jpg', './TestImage\\\\6532298_0.jpg', './TestImage\\\\6532298_1.jpg', './TestImage\\\\6532298_2.jpg', './TestImage\\\\6532298_3.jpg', './TestImage\\\\6581096_0.jpg', './TestImage\\\\6581096_1.jpg', './TestImage\\\\6621993_0.jpg', './TestImage\\\\6621993_1.jpg', './TestImage\\\\6622602_0.jpg', './TestImage\\\\664385_0.jpg', './TestImage\\\\664385_1.jpg', './TestImage\\\\664385_2.jpg', './TestImage\\\\6652881_0.jpg', './TestImage\\\\6676540_0.jpg', './TestImage\\\\66_0.jpg', './TestImage\\\\6700634_0.jpg', './TestImage\\\\674194_0.jpg', './TestImage\\\\674194_1.jpg', './TestImage\\\\684408_0.jpg', './TestImage\\\\684408_1.jpg', './TestImage\\\\684408_2.jpg', './TestImage\\\\698940_0.jpg', './TestImage\\\\698940_1.jpg', './TestImage\\\\69_0.jpg', './TestImage\\\\6_0.jpg', './TestImage\\\\70_0.jpg', './TestImage\\\\71_0.jpg', './TestImage\\\\72_0.jpg', './TestImage\\\\734879_0.jpg', './TestImage\\\\734879_1.jpg', './TestImage\\\\739325_0.jpg', './TestImage\\\\739325_1.jpg', './TestImage\\\\73_0.jpg', './TestImage\\\\73_1.jpg', './TestImage\\\\73_2.jpg', './TestImage\\\\73_3.jpg', './TestImage\\\\74_0.jpg', './TestImage\\\\75_0.jpg', './TestImage\\\\766234_0.jpg', './TestImage\\\\76_0.jpg', './TestImage\\\\76_1.jpg', './TestImage\\\\77_0.jpg', './TestImage\\\\79_0.jpg', './TestImage\\\\7_0.jpg', './TestImage\\\\80_0.jpg', './TestImage\\\\81_0.jpg', './TestImage\\\\821201_0.jpg', './TestImage\\\\83_0.jpg', './TestImage\\\\84_0.jpg', './TestImage\\\\868312_0.jpg', './TestImage\\\\87_0.jpg', './TestImage\\\\88_0.jpg', './TestImage\\\\89_0.jpg', './TestImage\\\\8_0.jpg', './TestImage\\\\90_0.jpg', './TestImage\\\\917036_0.jpg', './TestImage\\\\917099_0.jpg', './TestImage\\\\91_0.jpg', './TestImage\\\\92_0.jpg', './TestImage\\\\948745_0.jpg', './TestImage\\\\948745_1.jpg', './TestImage\\\\948745_2.jpg', './TestImage\\\\958266_0.jpg', './TestImage\\\\95_0.jpg', './TestImage\\\\97_0.jpg', './TestImage\\\\97_1.jpg', './TestImage\\\\98_0.jpg', './TestImage\\\\98_1.jpg', './TestImage\\\\98_2.jpg', './TestImage\\\\98_3.jpg', './TestImage\\\\99_0.jpg', './TestImage\\\\9_0.jpg']\n"
     ]
    }
   ],
   "source": [
    "root_dir = './'\n",
    "filenames = sorted(get_file_list(root_dir))\n",
    "print(filenames)"
   ]
  },
  {
   "cell_type": "code",
   "execution_count": 5,
   "metadata": {},
   "outputs": [
    {
     "name": "stderr",
     "output_type": "stream",
     "text": [
      "<ipython-input-5-21d73bc1ed80>:2: TqdmDeprecationWarning: This function will be removed in tqdm==5.0.0\n",
      "Please use `tqdm.notebook.tqdm` instead of `tqdm.tqdm_notebook`\n",
      "  for i in tqdm_notebook(range(len(filenames))):\n"
     ]
    },
    {
     "data": {
      "application/vnd.jupyter.widget-view+json": {
       "model_id": "79c065ef42994238b73830ea4a216069",
       "version_major": 2,
       "version_minor": 0
      },
      "text/plain": [
       "HBox(children=(FloatProgress(value=0.0, max=571.0), HTML(value='')))"
      ]
     },
     "metadata": {},
     "output_type": "display_data"
    },
    {
     "name": "stdout",
     "output_type": "stream",
     "text": [
      "\n"
     ]
    }
   ],
   "source": [
    "feature_list = []\n",
    "for i in tqdm_notebook(range(len(filenames))):\n",
    "    feature_list.append(extract_features(filenames[i], model))"
   ]
  },
  {
   "cell_type": "code",
   "execution_count": 7,
   "metadata": {},
   "outputs": [
    {
     "data": {
      "text/plain": [
       "array([[0.        , 0.        , 0.        , ..., 0.        , 0.        ,\n",
       "        0.        ],\n",
       "       [0.        , 0.        , 0.        , ..., 0.        , 0.        ,\n",
       "        0.00997023],\n",
       "       [0.        , 0.        , 0.        , ..., 0.        , 0.        ,\n",
       "        0.        ],\n",
       "       ...,\n",
       "       [0.        , 0.        , 0.        , ..., 0.        , 0.        ,\n",
       "        0.00627093],\n",
       "       [0.        , 0.        , 0.        , ..., 0.        , 0.        ,\n",
       "        0.        ],\n",
       "       [0.        , 0.        , 0.        , ..., 0.        , 0.        ,\n",
       "        0.        ]], dtype=float32)"
      ]
     },
     "execution_count": 7,
     "metadata": {},
     "output_type": "execute_result"
    }
   ],
   "source": [
    "feature_list"
   ]
  },
  {
   "cell_type": "code",
   "execution_count": 8,
   "metadata": {},
   "outputs": [],
   "source": [
    "feature_list=np.array(feature_list)"
   ]
  },
  {
   "cell_type": "code",
   "execution_count": 9,
   "metadata": {},
   "outputs": [
    {
     "data": {
      "text/plain": [
       "numpy.ndarray"
      ]
     },
     "execution_count": 9,
     "metadata": {},
     "output_type": "execute_result"
    }
   ],
   "source": [
    "type(feature_list)"
   ]
  },
  {
   "cell_type": "code",
   "execution_count": 10,
   "metadata": {},
   "outputs": [
    {
     "data": {
      "text/plain": [
       "(571, 73728)"
      ]
     },
     "execution_count": 10,
     "metadata": {},
     "output_type": "execute_result"
    }
   ],
   "source": [
    "feature_list.shape"
   ]
  },
  {
   "cell_type": "code",
   "execution_count": 11,
   "metadata": {},
   "outputs": [],
   "source": [
    "from numpy import asarray\n",
    "from numpy import save\n",
    "# save to npy file\n",
    "save('feature_list.npy', feature_list)"
   ]
  },
  {
   "cell_type": "markdown",
   "metadata": {},
   "source": [
    "## Required for part2"
   ]
  },
  {
   "cell_type": "code",
   "execution_count": 12,
   "metadata": {},
   "outputs": [
    {
     "name": "stdout",
     "output_type": "stream",
     "text": [
      "571\n"
     ]
    }
   ],
   "source": [
    "#\n",
    "n=len(filenames)\n",
    "print(n)"
   ]
  },
  {
   "cell_type": "code",
   "execution_count": 13,
   "metadata": {},
   "outputs": [],
   "source": [
    "#upload this to gdrive\n",
    "pickle.dump(filenames, open('filenames-caltech101.pickle','wb'))"
   ]
  },
  {
   "cell_type": "code",
   "execution_count": null,
   "metadata": {},
   "outputs": [],
   "source": []
  }
 ],
 "metadata": {
  "kernelspec": {
   "display_name": "Python 3",
   "language": "python",
   "name": "python3"
  },
  "language_info": {
   "codemirror_mode": {
    "name": "ipython",
    "version": 3
   },
   "file_extension": ".py",
   "mimetype": "text/x-python",
   "name": "python",
   "nbconvert_exporter": "python",
   "pygments_lexer": "ipython3",
   "version": "3.8.3"
  }
 },
 "nbformat": 4,
 "nbformat_minor": 4
}
